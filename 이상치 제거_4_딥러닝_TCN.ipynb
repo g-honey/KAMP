{
 "cells": [
  {
   "cell_type": "code",
   "execution_count": 1,
   "id": "34ee757b",
   "metadata": {},
   "outputs": [],
   "source": [
    "import numpy as np \n",
    "import pandas as pd\n",
    "# 시각화 package\n",
    "import matplotlib.pyplot as plt\n",
    "import seaborn as sns\n",
    "import graphviz\n",
    "from sklearn.tree import export_graphviz\n",
    "\n",
    "import matplotlib.font_manager as font_manager\n",
    "from matplotlib import rc\n",
    "   \n",
    "# 한글폰트작업\n",
    "# window의 폰트 위치 -> C:/Windows/Fonts/NGULIM.TTF\n",
    "font_name = font_manager.FontProperties(fname=\"C:/Windows/Fonts/NGULIM.TTF\").get_name()\n",
    "rc('font', family=font_name)\n",
    "plt.rcParams['axes.unicode_minus'] = False"
   ]
  },
  {
   "cell_type": "markdown",
   "id": "3913fcfd",
   "metadata": {},
   "source": [
    "# <font color = 4247D6> Data Set"
   ]
  },
  {
   "cell_type": "code",
   "execution_count": 2,
   "id": "19525fd7",
   "metadata": {},
   "outputs": [
    {
     "data": {
      "text/html": [
       "<div>\n",
       "<style scoped>\n",
       "    .dataframe tbody tr th:only-of-type {\n",
       "        vertical-align: middle;\n",
       "    }\n",
       "\n",
       "    .dataframe tbody tr th {\n",
       "        vertical-align: top;\n",
       "    }\n",
       "\n",
       "    .dataframe thead th {\n",
       "        text-align: right;\n",
       "    }\n",
       "</style>\n",
       "<table border=\"1\" class=\"dataframe\">\n",
       "  <thead>\n",
       "    <tr style=\"text-align: right;\">\n",
       "      <th></th>\n",
       "      <th>STD_DT</th>\n",
       "      <th>MELT_TEMP</th>\n",
       "      <th>MOTORSPEED</th>\n",
       "      <th>MELT_WEIGHT</th>\n",
       "      <th>TAG</th>\n",
       "    </tr>\n",
       "  </thead>\n",
       "  <tbody>\n",
       "    <tr>\n",
       "      <th>0</th>\n",
       "      <td>2020-03-04 0:00</td>\n",
       "      <td>489</td>\n",
       "      <td>116</td>\n",
       "      <td>631</td>\n",
       "      <td>OK</td>\n",
       "    </tr>\n",
       "    <tr>\n",
       "      <th>1</th>\n",
       "      <td>2020-03-04 0:00</td>\n",
       "      <td>433</td>\n",
       "      <td>78</td>\n",
       "      <td>609</td>\n",
       "      <td>OK</td>\n",
       "    </tr>\n",
       "    <tr>\n",
       "      <th>2</th>\n",
       "      <td>2020-03-04 0:00</td>\n",
       "      <td>464</td>\n",
       "      <td>154</td>\n",
       "      <td>608</td>\n",
       "      <td>OK</td>\n",
       "    </tr>\n",
       "    <tr>\n",
       "      <th>3</th>\n",
       "      <td>2020-03-04 0:00</td>\n",
       "      <td>379</td>\n",
       "      <td>212</td>\n",
       "      <td>606</td>\n",
       "      <td>OK</td>\n",
       "    </tr>\n",
       "    <tr>\n",
       "      <th>4</th>\n",
       "      <td>2020-03-04 0:00</td>\n",
       "      <td>798</td>\n",
       "      <td>1736</td>\n",
       "      <td>604</td>\n",
       "      <td>OK</td>\n",
       "    </tr>\n",
       "    <tr>\n",
       "      <th>...</th>\n",
       "      <td>...</td>\n",
       "      <td>...</td>\n",
       "      <td>...</td>\n",
       "      <td>...</td>\n",
       "      <td>...</td>\n",
       "    </tr>\n",
       "    <tr>\n",
       "      <th>835195</th>\n",
       "      <td>2020-04-30 23:59</td>\n",
       "      <td>755</td>\n",
       "      <td>1743</td>\n",
       "      <td>318</td>\n",
       "      <td>OK</td>\n",
       "    </tr>\n",
       "    <tr>\n",
       "      <th>835196</th>\n",
       "      <td>2020-04-30 23:59</td>\n",
       "      <td>385</td>\n",
       "      <td>206</td>\n",
       "      <td>317</td>\n",
       "      <td>OK</td>\n",
       "    </tr>\n",
       "    <tr>\n",
       "      <th>835197</th>\n",
       "      <td>2020-04-30 23:59</td>\n",
       "      <td>465</td>\n",
       "      <td>148</td>\n",
       "      <td>316</td>\n",
       "      <td>OK</td>\n",
       "    </tr>\n",
       "    <tr>\n",
       "      <th>835198</th>\n",
       "      <td>2020-04-30 23:59</td>\n",
       "      <td>467</td>\n",
       "      <td>0</td>\n",
       "      <td>314</td>\n",
       "      <td>OK</td>\n",
       "    </tr>\n",
       "    <tr>\n",
       "      <th>835199</th>\n",
       "      <td>2020-04-30 23:59</td>\n",
       "      <td>453</td>\n",
       "      <td>125</td>\n",
       "      <td>312</td>\n",
       "      <td>OK</td>\n",
       "    </tr>\n",
       "  </tbody>\n",
       "</table>\n",
       "<p>835200 rows × 5 columns</p>\n",
       "</div>"
      ],
      "text/plain": [
       "                  STD_DT  MELT_TEMP  MOTORSPEED  MELT_WEIGHT TAG\n",
       "0        2020-03-04 0:00        489         116          631  OK\n",
       "1        2020-03-04 0:00        433          78          609  OK\n",
       "2        2020-03-04 0:00        464         154          608  OK\n",
       "3        2020-03-04 0:00        379         212          606  OK\n",
       "4        2020-03-04 0:00        798        1736          604  OK\n",
       "...                  ...        ...         ...          ...  ..\n",
       "835195  2020-04-30 23:59        755        1743          318  OK\n",
       "835196  2020-04-30 23:59        385         206          317  OK\n",
       "835197  2020-04-30 23:59        465         148          316  OK\n",
       "835198  2020-04-30 23:59        467           0          314  OK\n",
       "835199  2020-04-30 23:59        453         125          312  OK\n",
       "\n",
       "[835200 rows x 5 columns]"
      ]
     },
     "execution_count": 2,
     "metadata": {},
     "output_type": "execute_result"
    }
   ],
   "source": [
    "df = pd.read_csv('이상치_제거_.csv')\n",
    "df"
   ]
  },
  {
   "cell_type": "code",
   "execution_count": 3,
   "id": "4702ae7d",
   "metadata": {},
   "outputs": [
    {
     "data": {
      "text/html": [
       "<div>\n",
       "<style scoped>\n",
       "    .dataframe tbody tr th:only-of-type {\n",
       "        vertical-align: middle;\n",
       "    }\n",
       "\n",
       "    .dataframe tbody tr th {\n",
       "        vertical-align: top;\n",
       "    }\n",
       "\n",
       "    .dataframe thead th {\n",
       "        text-align: right;\n",
       "    }\n",
       "</style>\n",
       "<table border=\"1\" class=\"dataframe\">\n",
       "  <thead>\n",
       "    <tr style=\"text-align: right;\">\n",
       "      <th></th>\n",
       "      <th>STD_DT</th>\n",
       "      <th>MELT_TEMP</th>\n",
       "      <th>MOTORSPEED</th>\n",
       "      <th>MELT_WEIGHT</th>\n",
       "      <th>TAG</th>\n",
       "    </tr>\n",
       "  </thead>\n",
       "  <tbody>\n",
       "    <tr>\n",
       "      <th>0</th>\n",
       "      <td>2020-03-04 0:00</td>\n",
       "      <td>489</td>\n",
       "      <td>116</td>\n",
       "      <td>631</td>\n",
       "      <td>1</td>\n",
       "    </tr>\n",
       "    <tr>\n",
       "      <th>1</th>\n",
       "      <td>2020-03-04 0:00</td>\n",
       "      <td>433</td>\n",
       "      <td>78</td>\n",
       "      <td>609</td>\n",
       "      <td>1</td>\n",
       "    </tr>\n",
       "    <tr>\n",
       "      <th>2</th>\n",
       "      <td>2020-03-04 0:00</td>\n",
       "      <td>464</td>\n",
       "      <td>154</td>\n",
       "      <td>608</td>\n",
       "      <td>1</td>\n",
       "    </tr>\n",
       "    <tr>\n",
       "      <th>3</th>\n",
       "      <td>2020-03-04 0:00</td>\n",
       "      <td>379</td>\n",
       "      <td>212</td>\n",
       "      <td>606</td>\n",
       "      <td>1</td>\n",
       "    </tr>\n",
       "    <tr>\n",
       "      <th>4</th>\n",
       "      <td>2020-03-04 0:00</td>\n",
       "      <td>798</td>\n",
       "      <td>1736</td>\n",
       "      <td>604</td>\n",
       "      <td>1</td>\n",
       "    </tr>\n",
       "    <tr>\n",
       "      <th>...</th>\n",
       "      <td>...</td>\n",
       "      <td>...</td>\n",
       "      <td>...</td>\n",
       "      <td>...</td>\n",
       "      <td>...</td>\n",
       "    </tr>\n",
       "    <tr>\n",
       "      <th>835195</th>\n",
       "      <td>2020-04-30 23:59</td>\n",
       "      <td>755</td>\n",
       "      <td>1743</td>\n",
       "      <td>318</td>\n",
       "      <td>1</td>\n",
       "    </tr>\n",
       "    <tr>\n",
       "      <th>835196</th>\n",
       "      <td>2020-04-30 23:59</td>\n",
       "      <td>385</td>\n",
       "      <td>206</td>\n",
       "      <td>317</td>\n",
       "      <td>1</td>\n",
       "    </tr>\n",
       "    <tr>\n",
       "      <th>835197</th>\n",
       "      <td>2020-04-30 23:59</td>\n",
       "      <td>465</td>\n",
       "      <td>148</td>\n",
       "      <td>316</td>\n",
       "      <td>1</td>\n",
       "    </tr>\n",
       "    <tr>\n",
       "      <th>835198</th>\n",
       "      <td>2020-04-30 23:59</td>\n",
       "      <td>467</td>\n",
       "      <td>0</td>\n",
       "      <td>314</td>\n",
       "      <td>1</td>\n",
       "    </tr>\n",
       "    <tr>\n",
       "      <th>835199</th>\n",
       "      <td>2020-04-30 23:59</td>\n",
       "      <td>453</td>\n",
       "      <td>125</td>\n",
       "      <td>312</td>\n",
       "      <td>1</td>\n",
       "    </tr>\n",
       "  </tbody>\n",
       "</table>\n",
       "<p>835200 rows × 5 columns</p>\n",
       "</div>"
      ],
      "text/plain": [
       "                  STD_DT  MELT_TEMP  MOTORSPEED  MELT_WEIGHT  TAG\n",
       "0        2020-03-04 0:00        489         116          631    1\n",
       "1        2020-03-04 0:00        433          78          609    1\n",
       "2        2020-03-04 0:00        464         154          608    1\n",
       "3        2020-03-04 0:00        379         212          606    1\n",
       "4        2020-03-04 0:00        798        1736          604    1\n",
       "...                  ...        ...         ...          ...  ...\n",
       "835195  2020-04-30 23:59        755        1743          318    1\n",
       "835196  2020-04-30 23:59        385         206          317    1\n",
       "835197  2020-04-30 23:59        465         148          316    1\n",
       "835198  2020-04-30 23:59        467           0          314    1\n",
       "835199  2020-04-30 23:59        453         125          312    1\n",
       "\n",
       "[835200 rows x 5 columns]"
      ]
     },
     "execution_count": 3,
     "metadata": {},
     "output_type": "execute_result"
    }
   ],
   "source": [
    "df.replace({'TAG': {'OK': 1, 'NG': 0}}, inplace=True)\n",
    "df"
   ]
  },
  {
   "cell_type": "code",
   "execution_count": 4,
   "id": "302b9ac9",
   "metadata": {},
   "outputs": [],
   "source": [
    "from datetime import datetime\n",
    "from sklearn import preprocessing\n",
    "from sklearn.model_selection import train_test_split\n",
    "from sklearn.metrics import *\n",
    "from imblearn.over_sampling import SMOTE"
   ]
  },
  {
   "cell_type": "code",
   "execution_count": 5,
   "id": "cff542a7",
   "metadata": {},
   "outputs": [],
   "source": [
    "from keras.models import Sequential\n",
    "from keras.layers import Dense, LSTM\n",
    "from tcn import TCN, tcn_full_summary\n",
    "from keras.layers import Dropout\n",
    "from keras.preprocessing import sequence\n",
    "from keras.utils import np_utils\n",
    "from keras.callbacks import EarlyStopping, ModelCheckpoint"
   ]
  },
  {
   "cell_type": "code",
   "execution_count": 6,
   "id": "fbdde739",
   "metadata": {},
   "outputs": [],
   "source": [
    "df['STD_DT'] = df['STD_DT'].apply(lambda x: pd.to_datetime(str(x), format = '%Y-%m-%d %H:%M:%S'))"
   ]
  },
  {
   "cell_type": "code",
   "execution_count": 7,
   "id": "bb181523",
   "metadata": {},
   "outputs": [
    {
     "data": {
      "text/html": [
       "<div>\n",
       "<style scoped>\n",
       "    .dataframe tbody tr th:only-of-type {\n",
       "        vertical-align: middle;\n",
       "    }\n",
       "\n",
       "    .dataframe tbody tr th {\n",
       "        vertical-align: top;\n",
       "    }\n",
       "\n",
       "    .dataframe thead th {\n",
       "        text-align: right;\n",
       "    }\n",
       "</style>\n",
       "<table border=\"1\" class=\"dataframe\">\n",
       "  <thead>\n",
       "    <tr style=\"text-align: right;\">\n",
       "      <th></th>\n",
       "      <th>MELT_TEMP</th>\n",
       "      <th>MOTORSPEED</th>\n",
       "      <th>MELT_WEIGHT</th>\n",
       "      <th>TAG</th>\n",
       "    </tr>\n",
       "    <tr>\n",
       "      <th>STD_DT</th>\n",
       "      <th></th>\n",
       "      <th></th>\n",
       "      <th></th>\n",
       "      <th></th>\n",
       "    </tr>\n",
       "  </thead>\n",
       "  <tbody>\n",
       "    <tr>\n",
       "      <th>2020-03-04 00:00:00</th>\n",
       "      <td>489</td>\n",
       "      <td>116</td>\n",
       "      <td>631</td>\n",
       "      <td>1</td>\n",
       "    </tr>\n",
       "    <tr>\n",
       "      <th>2020-03-04 00:00:00</th>\n",
       "      <td>433</td>\n",
       "      <td>78</td>\n",
       "      <td>609</td>\n",
       "      <td>1</td>\n",
       "    </tr>\n",
       "    <tr>\n",
       "      <th>2020-03-04 00:00:00</th>\n",
       "      <td>464</td>\n",
       "      <td>154</td>\n",
       "      <td>608</td>\n",
       "      <td>1</td>\n",
       "    </tr>\n",
       "    <tr>\n",
       "      <th>2020-03-04 00:00:00</th>\n",
       "      <td>379</td>\n",
       "      <td>212</td>\n",
       "      <td>606</td>\n",
       "      <td>1</td>\n",
       "    </tr>\n",
       "    <tr>\n",
       "      <th>2020-03-04 00:00:00</th>\n",
       "      <td>798</td>\n",
       "      <td>1736</td>\n",
       "      <td>604</td>\n",
       "      <td>1</td>\n",
       "    </tr>\n",
       "    <tr>\n",
       "      <th>...</th>\n",
       "      <td>...</td>\n",
       "      <td>...</td>\n",
       "      <td>...</td>\n",
       "      <td>...</td>\n",
       "    </tr>\n",
       "    <tr>\n",
       "      <th>2020-04-30 23:59:00</th>\n",
       "      <td>755</td>\n",
       "      <td>1743</td>\n",
       "      <td>318</td>\n",
       "      <td>1</td>\n",
       "    </tr>\n",
       "    <tr>\n",
       "      <th>2020-04-30 23:59:00</th>\n",
       "      <td>385</td>\n",
       "      <td>206</td>\n",
       "      <td>317</td>\n",
       "      <td>1</td>\n",
       "    </tr>\n",
       "    <tr>\n",
       "      <th>2020-04-30 23:59:00</th>\n",
       "      <td>465</td>\n",
       "      <td>148</td>\n",
       "      <td>316</td>\n",
       "      <td>1</td>\n",
       "    </tr>\n",
       "    <tr>\n",
       "      <th>2020-04-30 23:59:00</th>\n",
       "      <td>467</td>\n",
       "      <td>0</td>\n",
       "      <td>314</td>\n",
       "      <td>1</td>\n",
       "    </tr>\n",
       "    <tr>\n",
       "      <th>2020-04-30 23:59:00</th>\n",
       "      <td>453</td>\n",
       "      <td>125</td>\n",
       "      <td>312</td>\n",
       "      <td>1</td>\n",
       "    </tr>\n",
       "  </tbody>\n",
       "</table>\n",
       "<p>835200 rows × 4 columns</p>\n",
       "</div>"
      ],
      "text/plain": [
       "                     MELT_TEMP  MOTORSPEED  MELT_WEIGHT  TAG\n",
       "STD_DT                                                      \n",
       "2020-03-04 00:00:00        489         116          631    1\n",
       "2020-03-04 00:00:00        433          78          609    1\n",
       "2020-03-04 00:00:00        464         154          608    1\n",
       "2020-03-04 00:00:00        379         212          606    1\n",
       "2020-03-04 00:00:00        798        1736          604    1\n",
       "...                        ...         ...          ...  ...\n",
       "2020-04-30 23:59:00        755        1743          318    1\n",
       "2020-04-30 23:59:00        385         206          317    1\n",
       "2020-04-30 23:59:00        465         148          316    1\n",
       "2020-04-30 23:59:00        467           0          314    1\n",
       "2020-04-30 23:59:00        453         125          312    1\n",
       "\n",
       "[835200 rows x 4 columns]"
      ]
     },
     "execution_count": 7,
     "metadata": {},
     "output_type": "execute_result"
    }
   ],
   "source": [
    "df = df.set_index(['STD_DT'])\n",
    "df"
   ]
  },
  {
   "cell_type": "code",
   "execution_count": 8,
   "id": "7fad853a",
   "metadata": {},
   "outputs": [
    {
     "data": {
      "text/html": [
       "<div>\n",
       "<style scoped>\n",
       "    .dataframe tbody tr th:only-of-type {\n",
       "        vertical-align: middle;\n",
       "    }\n",
       "\n",
       "    .dataframe tbody tr th {\n",
       "        vertical-align: top;\n",
       "    }\n",
       "\n",
       "    .dataframe thead th {\n",
       "        text-align: right;\n",
       "    }\n",
       "</style>\n",
       "<table border=\"1\" class=\"dataframe\">\n",
       "  <thead>\n",
       "    <tr style=\"text-align: right;\">\n",
       "      <th></th>\n",
       "      <th>MELT_TEMP</th>\n",
       "      <th>MOTORSPEED</th>\n",
       "      <th>MELT_WEIGHT</th>\n",
       "      <th>TAG</th>\n",
       "    </tr>\n",
       "    <tr>\n",
       "      <th>STD_DT</th>\n",
       "      <th></th>\n",
       "      <th></th>\n",
       "      <th></th>\n",
       "      <th></th>\n",
       "    </tr>\n",
       "  </thead>\n",
       "  <tbody>\n",
       "    <tr>\n",
       "      <th>2020-03-04 00:00:00</th>\n",
       "      <td>489</td>\n",
       "      <td>116</td>\n",
       "      <td>631</td>\n",
       "      <td>1</td>\n",
       "    </tr>\n",
       "    <tr>\n",
       "      <th>2020-03-04 00:00:00</th>\n",
       "      <td>433</td>\n",
       "      <td>78</td>\n",
       "      <td>609</td>\n",
       "      <td>1</td>\n",
       "    </tr>\n",
       "    <tr>\n",
       "      <th>2020-03-04 00:00:00</th>\n",
       "      <td>464</td>\n",
       "      <td>154</td>\n",
       "      <td>608</td>\n",
       "      <td>1</td>\n",
       "    </tr>\n",
       "    <tr>\n",
       "      <th>2020-03-04 00:00:00</th>\n",
       "      <td>379</td>\n",
       "      <td>212</td>\n",
       "      <td>606</td>\n",
       "      <td>1</td>\n",
       "    </tr>\n",
       "    <tr>\n",
       "      <th>2020-03-04 00:00:00</th>\n",
       "      <td>798</td>\n",
       "      <td>1736</td>\n",
       "      <td>604</td>\n",
       "      <td>1</td>\n",
       "    </tr>\n",
       "    <tr>\n",
       "      <th>...</th>\n",
       "      <td>...</td>\n",
       "      <td>...</td>\n",
       "      <td>...</td>\n",
       "      <td>...</td>\n",
       "    </tr>\n",
       "    <tr>\n",
       "      <th>2020-04-30 23:59:00</th>\n",
       "      <td>755</td>\n",
       "      <td>1743</td>\n",
       "      <td>318</td>\n",
       "      <td>1</td>\n",
       "    </tr>\n",
       "    <tr>\n",
       "      <th>2020-04-30 23:59:00</th>\n",
       "      <td>385</td>\n",
       "      <td>206</td>\n",
       "      <td>317</td>\n",
       "      <td>1</td>\n",
       "    </tr>\n",
       "    <tr>\n",
       "      <th>2020-04-30 23:59:00</th>\n",
       "      <td>465</td>\n",
       "      <td>148</td>\n",
       "      <td>316</td>\n",
       "      <td>1</td>\n",
       "    </tr>\n",
       "    <tr>\n",
       "      <th>2020-04-30 23:59:00</th>\n",
       "      <td>467</td>\n",
       "      <td>0</td>\n",
       "      <td>314</td>\n",
       "      <td>1</td>\n",
       "    </tr>\n",
       "    <tr>\n",
       "      <th>2020-04-30 23:59:00</th>\n",
       "      <td>453</td>\n",
       "      <td>125</td>\n",
       "      <td>312</td>\n",
       "      <td>1</td>\n",
       "    </tr>\n",
       "  </tbody>\n",
       "</table>\n",
       "<p>835200 rows × 4 columns</p>\n",
       "</div>"
      ],
      "text/plain": [
       "                     MELT_TEMP  MOTORSPEED  MELT_WEIGHT  TAG\n",
       "STD_DT                                                      \n",
       "2020-03-04 00:00:00        489         116          631    1\n",
       "2020-03-04 00:00:00        433          78          609    1\n",
       "2020-03-04 00:00:00        464         154          608    1\n",
       "2020-03-04 00:00:00        379         212          606    1\n",
       "2020-03-04 00:00:00        798        1736          604    1\n",
       "...                        ...         ...          ...  ...\n",
       "2020-04-30 23:59:00        755        1743          318    1\n",
       "2020-04-30 23:59:00        385         206          317    1\n",
       "2020-04-30 23:59:00        465         148          316    1\n",
       "2020-04-30 23:59:00        467           0          314    1\n",
       "2020-04-30 23:59:00        453         125          312    1\n",
       "\n",
       "[835200 rows x 4 columns]"
      ]
     },
     "execution_count": 8,
     "metadata": {},
     "output_type": "execute_result"
    }
   ],
   "source": [
    "# df.replace({'TAG': {'OK': 1, 'NG': 0}}, inplace=True)\n",
    "df1 = df[['MELT_TEMP', 'MOTORSPEED', 'MELT_WEIGHT', 'TAG']]\n",
    "df1"
   ]
  },
  {
   "cell_type": "code",
   "execution_count": 54,
   "id": "f426ea0e",
   "metadata": {},
   "outputs": [
    {
     "name": "stdout",
     "output_type": "stream",
     "text": [
      "(584640, 4)\n",
      "(250560, 4)\n"
     ]
    }
   ],
   "source": [
    "split_date = int(df1.shape[0]*0.7)\n",
    "train = df1[:split_date]\n",
    "test = df1[split_date:]\n",
    "print(train.shape)\n",
    "print(test.shape)"
   ]
  },
  {
   "cell_type": "code",
   "execution_count": 55,
   "id": "ec8c4a2c",
   "metadata": {},
   "outputs": [],
   "source": [
    "scaler = preprocessing.MinMaxScaler()\n",
    "\n",
    "train_sc = scaler.fit_transform(train)\n",
    "test_sc = scaler.transform(test)\n",
    "\n",
    "x_train_values = train_sc[:, :-1]\n",
    "y_train_values = train_sc[:,-1]"
   ]
  },
  {
   "cell_type": "code",
   "execution_count": 56,
   "id": "6404350f",
   "metadata": {},
   "outputs": [
    {
     "name": "stdout",
     "output_type": "stream",
     "text": [
      "SMOTE 적용 전 학습용 피처/레이블 데이터 세트 (584640, 3) (584640,)\n",
      "SMOTE 적용 후 학습용 피처/레이블 데이터 세트 (821032, 3) (821032,)\n",
      "SMOTE 적용 후 레이블 값 분포: \n",
      " 1.0    410516\n",
      "0.0    410516\n",
      "dtype: int64\n"
     ]
    }
   ],
   "source": [
    "smote = SMOTE(random_state = 0)\n",
    "\n",
    "X_train_over, y_train_over = smote.fit_resample(x_train_values, y_train_values)\n",
    "print('SMOTE 적용 전 학습용 피처/레이블 데이터 세트', x_train_values.shape, y_train_values.shape)\n",
    "print('SMOTE 적용 후 학습용 피처/레이블 데이터 세트', X_train_over.shape, y_train_over.shape)\n",
    "print('SMOTE 적용 후 레이블 값 분포: \\n', pd.Series(y_train_over).value_counts())"
   ]
  },
  {
   "cell_type": "code",
   "execution_count": 57,
   "id": "f0bef479",
   "metadata": {},
   "outputs": [],
   "source": [
    "def make_dataset(data, label, window_size):\n",
    "    feature_list = []\n",
    "    label_list = []\n",
    "    for i in range(len(data) - window_size):\n",
    "        feature_list.append(np.array(data.iloc[i:i+window_size]))\n",
    "        label_list.append(np.array(label.iloc[i+window_size]))\n",
    "    return np.array(feature_list), np.array(label_list)"
   ]
  },
  {
   "cell_type": "code",
   "execution_count": 58,
   "id": "1691e3a0",
   "metadata": {},
   "outputs": [],
   "source": [
    "X_train_over = pd.DataFrame(X_train_over, columns = ['MELT_TEMP', 'MOTORSPEED', 'MELT_WEIGHT'])\n",
    "y_train_over = pd.DataFrame(y_train_over, columns = ['TAG'])"
   ]
  },
  {
   "cell_type": "code",
   "execution_count": 59,
   "id": "7dbf71ab",
   "metadata": {},
   "outputs": [],
   "source": [
    "#train dataset\n",
    "train_feature, train_label = make_dataset(X_train_over, y_train_over, 10)"
   ]
  },
  {
   "cell_type": "code",
   "execution_count": 60,
   "id": "f9347425",
   "metadata": {},
   "outputs": [],
   "source": [
    "test_sc = pd.DataFrame(test_sc, columns = ['MELT_TEMP', 'MOTORSPEED', 'MELT_WEIGHT','TAG'])"
   ]
  },
  {
   "cell_type": "code",
   "execution_count": 61,
   "id": "becd58c4",
   "metadata": {},
   "outputs": [],
   "source": [
    "feature_cols = ['MELT_TEMP', 'MOTORSPEED', 'MELT_WEIGHT']\n",
    "label_cols = ['TAG']"
   ]
  },
  {
   "cell_type": "code",
   "execution_count": 62,
   "id": "72a3adb0",
   "metadata": {},
   "outputs": [
    {
     "data": {
      "text/plain": [
       "((250550, 10, 3), (250550, 1))"
      ]
     },
     "execution_count": 62,
     "metadata": {},
     "output_type": "execute_result"
    }
   ],
   "source": [
    "test_feature = test_sc[feature_cols]\n",
    "test_label = test_sc[label_cols]\n",
    "\n",
    "# test dataset (실제 예측 해볼 데이터)\n",
    "test_feature, test_label = make_dataset(test_feature, test_label, 10)\n",
    "test_feature.shape, test_label.shape"
   ]
  },
  {
   "cell_type": "code",
   "execution_count": 63,
   "id": "ffc4c8e2",
   "metadata": {},
   "outputs": [
    {
     "data": {
      "text/plain": [
       "((574715, 10, 3), (246307, 10, 3))"
      ]
     },
     "execution_count": 63,
     "metadata": {},
     "output_type": "execute_result"
    }
   ],
   "source": [
    "x_train, x_valid, y_train, y_valid = train_test_split(train_feature, train_label, test_size = 0.3, random_state=1)\n",
    "x_train.shape, x_valid.shape"
   ]
  },
  {
   "cell_type": "code",
   "execution_count": 64,
   "id": "0c645442",
   "metadata": {},
   "outputs": [],
   "source": [
    "import os\n",
    "path = \"C:/Users/islab/Desktop/jihyeon/전자제조시스템\"\n",
    "os.chdir(path)"
   ]
  },
  {
   "cell_type": "code",
   "execution_count": 65,
   "id": "4eaaaab2",
   "metadata": {},
   "outputs": [],
   "source": [
    "model_path = path"
   ]
  },
  {
   "cell_type": "code",
   "execution_count": 66,
   "id": "991ecd4a",
   "metadata": {},
   "outputs": [],
   "source": [
    "model = Sequential()\n",
    "model.add(LSTM(50, \n",
    "               input_shape = (train_feature.shape[1], train_feature.shape[2]), activation = 'tanh', return_sequences = True))\n",
    "model.add(Dropout(0.3))\n",
    "model.add(LSTM(50, return_sequences = True))\n",
    "model.add(Dropout(0.3))\n",
    "model.add(TCN(50, return_sequences = False))\n",
    "model.add(Dense(1, activation = 'sigmoid'))"
   ]
  },
  {
   "cell_type": "code",
   "execution_count": 67,
   "id": "08f29221",
   "metadata": {},
   "outputs": [],
   "source": [
    "model.compile(loss = 'binary_crossentropy', optimizer = 'adam', metrics = ['accuracy'])\n",
    "early_stop = EarlyStopping(monitor = 'val_loss', patience = 5)\n",
    "filename = os.path.join(model_path, 'tmp_checkpoint.h5')\n",
    "checkpoint = ModelCheckpoint(filename, monitor = 'val_loss', verbose = 1, save_best_only = True, mode = 'auto')"
   ]
  },
  {
   "cell_type": "code",
   "execution_count": 68,
   "id": "5e4816bf",
   "metadata": {
    "scrolled": false
   },
   "outputs": [
    {
     "name": "stdout",
     "output_type": "stream",
     "text": [
      "Epoch 1/200\n",
      "28735/28736 [============================>.] - ETA: 0s - loss: 0.3436 - accuracy: 0.8097\n",
      "Epoch 1: val_loss improved from inf to 0.33637, saving model to C:/Users/islab/Desktop/jihyeon/전자제조시스템\\tmp_checkpoint.h5\n",
      "28736/28736 [==============================] - 1715s 60ms/step - loss: 0.3436 - accuracy: 0.8097 - val_loss: 0.3364 - val_accuracy: 0.8135\n",
      "Epoch 2/200\n",
      "28735/28736 [============================>.] - ETA: 0s - loss: 0.3380 - accuracy: 0.8136\n",
      "Epoch 2: val_loss improved from 0.33637 to 0.33593, saving model to C:/Users/islab/Desktop/jihyeon/전자제조시스템\\tmp_checkpoint.h5\n",
      "28736/28736 [==============================] - 1702s 59ms/step - loss: 0.3380 - accuracy: 0.8136 - val_loss: 0.3359 - val_accuracy: 0.8164\n",
      "Epoch 3/200\n",
      "28735/28736 [============================>.] - ETA: 0s - loss: 0.3377 - accuracy: 0.8140\n",
      "Epoch 3: val_loss improved from 0.33593 to 0.33430, saving model to C:/Users/islab/Desktop/jihyeon/전자제조시스템\\tmp_checkpoint.h5\n",
      "28736/28736 [==============================] - 1711s 60ms/step - loss: 0.3377 - accuracy: 0.8140 - val_loss: 0.3343 - val_accuracy: 0.8157\n",
      "Epoch 4/200\n",
      "28735/28736 [============================>.] - ETA: 0s - loss: 0.3368 - accuracy: 0.8146\n",
      "Epoch 4: val_loss improved from 0.33430 to 0.33430, saving model to C:/Users/islab/Desktop/jihyeon/전자제조시스템\\tmp_checkpoint.h5\n",
      "28736/28736 [==============================] - 1732s 60ms/step - loss: 0.3368 - accuracy: 0.8146 - val_loss: 0.3343 - val_accuracy: 0.8167\n",
      "Epoch 5/200\n",
      "28735/28736 [============================>.] - ETA: 0s - loss: 0.3366 - accuracy: 0.8148\n",
      "Epoch 5: val_loss did not improve from 0.33430\n",
      "28736/28736 [==============================] - 1737s 60ms/step - loss: 0.3366 - accuracy: 0.8148 - val_loss: 0.3353 - val_accuracy: 0.8168\n",
      "Epoch 6/200\n",
      "28735/28736 [============================>.] - ETA: 0s - loss: 0.3363 - accuracy: 0.8151\n",
      "Epoch 6: val_loss improved from 0.33430 to 0.33408, saving model to C:/Users/islab/Desktop/jihyeon/전자제조시스템\\tmp_checkpoint.h5\n",
      "28736/28736 [==============================] - 1749s 61ms/step - loss: 0.3363 - accuracy: 0.8150 - val_loss: 0.3341 - val_accuracy: 0.8161\n",
      "Epoch 7/200\n",
      "28736/28736 [==============================] - ETA: 0s - loss: 0.3362 - accuracy: 0.8153\n",
      "Epoch 7: val_loss did not improve from 0.33408\n",
      "28736/28736 [==============================] - 1553s 54ms/step - loss: 0.3362 - accuracy: 0.8153 - val_loss: 0.3368 - val_accuracy: 0.8139\n",
      "Epoch 8/200\n",
      "28735/28736 [============================>.] - ETA: 0s - loss: 0.3361 - accuracy: 0.8153\n",
      "Epoch 8: val_loss did not improve from 0.33408\n",
      "28736/28736 [==============================] - 1489s 52ms/step - loss: 0.3361 - accuracy: 0.8153 - val_loss: 0.3361 - val_accuracy: 0.8139\n",
      "Epoch 9/200\n",
      "28736/28736 [==============================] - ETA: 0s - loss: 0.3357 - accuracy: 0.8152\n",
      "Epoch 9: val_loss improved from 0.33408 to 0.33371, saving model to C:/Users/islab/Desktop/jihyeon/전자제조시스템\\tmp_checkpoint.h5\n",
      "28736/28736 [==============================] - 1515s 53ms/step - loss: 0.3357 - accuracy: 0.8152 - val_loss: 0.3337 - val_accuracy: 0.8171\n",
      "Epoch 10/200\n",
      "28735/28736 [============================>.] - ETA: 0s - loss: 0.3358 - accuracy: 0.8157\n",
      "Epoch 10: val_loss did not improve from 0.33371\n",
      "28736/28736 [==============================] - 1498s 52ms/step - loss: 0.3358 - accuracy: 0.8157 - val_loss: 0.3344 - val_accuracy: 0.8163\n",
      "Epoch 11/200\n",
      "28735/28736 [============================>.] - ETA: 0s - loss: 0.3361 - accuracy: 0.8155\n",
      "Epoch 11: val_loss did not improve from 0.33371\n",
      "28736/28736 [==============================] - 1501s 52ms/step - loss: 0.3361 - accuracy: 0.8155 - val_loss: 0.3351 - val_accuracy: 0.8160\n",
      "Epoch 12/200\n",
      "28736/28736 [==============================] - ETA: 0s - loss: 0.3357 - accuracy: 0.8155\n",
      "Epoch 12: val_loss improved from 0.33371 to 0.33361, saving model to C:/Users/islab/Desktop/jihyeon/전자제조시스템\\tmp_checkpoint.h5\n",
      "28736/28736 [==============================] - 1510s 53ms/step - loss: 0.3357 - accuracy: 0.8155 - val_loss: 0.3336 - val_accuracy: 0.8165\n",
      "Epoch 13/200\n",
      "28735/28736 [============================>.] - ETA: 0s - loss: 0.3359 - accuracy: 0.8153\n",
      "Epoch 13: val_loss improved from 0.33361 to 0.33353, saving model to C:/Users/islab/Desktop/jihyeon/전자제조시스템\\tmp_checkpoint.h5\n",
      "28736/28736 [==============================] - 1503s 52ms/step - loss: 0.3359 - accuracy: 0.8154 - val_loss: 0.3335 - val_accuracy: 0.8167\n",
      "Epoch 14/200\n",
      "28735/28736 [============================>.] - ETA: 0s - loss: 0.3357 - accuracy: 0.8156\n",
      "Epoch 14: val_loss did not improve from 0.33353\n",
      "28736/28736 [==============================] - 1500s 52ms/step - loss: 0.3357 - accuracy: 0.8156 - val_loss: 0.3339 - val_accuracy: 0.8161\n",
      "Epoch 15/200\n",
      "28735/28736 [============================>.] - ETA: 0s - loss: 0.3356 - accuracy: 0.8156\n",
      "Epoch 15: val_loss did not improve from 0.33353\n",
      "28736/28736 [==============================] - 1504s 52ms/step - loss: 0.3356 - accuracy: 0.8156 - val_loss: 0.3384 - val_accuracy: 0.8140\n",
      "Epoch 16/200\n",
      "28736/28736 [==============================] - ETA: 0s - loss: 0.3354 - accuracy: 0.8160\n",
      "Epoch 16: val_loss did not improve from 0.33353\n",
      "28736/28736 [==============================] - 1505s 52ms/step - loss: 0.3354 - accuracy: 0.8160 - val_loss: 0.3341 - val_accuracy: 0.8166\n",
      "Epoch 17/200\n",
      "28736/28736 [==============================] - ETA: 0s - loss: 0.3358 - accuracy: 0.8155\n",
      "Epoch 17: val_loss did not improve from 0.33353\n",
      "28736/28736 [==============================] - 1506s 52ms/step - loss: 0.3358 - accuracy: 0.8155 - val_loss: 0.3353 - val_accuracy: 0.8163\n",
      "Epoch 18/200\n",
      "28736/28736 [==============================] - ETA: 0s - loss: 0.3355 - accuracy: 0.8158\n",
      "Epoch 18: val_loss did not improve from 0.33353\n",
      "28736/28736 [==============================] - 1511s 53ms/step - loss: 0.3355 - accuracy: 0.8158 - val_loss: 0.3337 - val_accuracy: 0.8178\n"
     ]
    }
   ],
   "source": [
    "history = model.fit(x_train, y_train, epochs = 200, batch_size = 20, validation_data = (x_valid, y_valid), callbacks = [early_stop, checkpoint])"
   ]
  },
  {
   "cell_type": "code",
   "execution_count": 69,
   "id": "da48da41",
   "metadata": {},
   "outputs": [
    {
     "name": "stdout",
     "output_type": "stream",
     "text": [
      "7830/7830 [==============================] - 100s 13ms/step\n"
     ]
    }
   ],
   "source": [
    "pred = model.predict(test_feature)"
   ]
  },
  {
   "cell_type": "code",
   "execution_count": 70,
   "id": "0ade0f32",
   "metadata": {},
   "outputs": [
    {
     "data": {
      "image/png": "[encoded data removed]",
      "text/plain": [
       "<Figure size 432x288 with 1 Axes>"
      ]
     },
     "metadata": {
      "needs_background": "light"
     },
     "output_type": "display_data"
    }
   ],
   "source": [
    "plt.plot(history.history[\"loss\"],label=\"train\")\n",
    "plt.plot(history.history[\"val_loss\"],label=\"validation\")\n",
    "plt.legend()\n",
    "plt.show()"
   ]
  },
  {
   "cell_type": "code",
   "execution_count": 71,
   "id": "1bfe36ac",
   "metadata": {},
   "outputs": [],
   "source": [
    "pred_df = pd.DataFrame(pred, columns=['TAG'])\n",
    "\n",
    "pred_df['TAG'] = pred_df['TAG'].apply(lambda x: 1 if x>=0.5 else 0)"
   ]
  },
  {
   "cell_type": "code",
   "execution_count": 72,
   "id": "fd832243",
   "metadata": {},
   "outputs": [
    {
     "name": "stdout",
     "output_type": "stream",
     "text": [
      "[[  2164    776]\n",
      " [ 69547 178063]]\n"
     ]
    }
   ],
   "source": [
    "confusion = confusion_matrix(test_label, pred_df)\n",
    "print(confusion)"
   ]
  },
  {
   "cell_type": "code",
   "execution_count": 73,
   "id": "11ea85f4",
   "metadata": {},
   "outputs": [
    {
     "data": {
      "image/png": "[encoded data removed]",
      "text/plain": [
       "<Figure size 432x288 with 2 Axes>"
      ]
     },
     "metadata": {
      "needs_background": "light"
     },
     "output_type": "display_data"
    }
   ],
   "source": [
    "plot = sns.heatmap(confusion ,square=True, annot=True, fmt='d', cmap='terrain')\n",
    "class_lables=['0','1','2','3']\n",
    "plt.title(\"confusrion\", size = 12)\n",
    "plot.set_xlabel('예측 y값')\n",
    "plot.set_ylabel('실제 y값')\n",
    "# plt.savefig('80% 사후확률_min_{}_수정.png'.format(j), dpi=300, transparent=True, bbox_inches=\"tight\")\n",
    "plt.show()"
   ]
  },
  {
   "cell_type": "code",
   "execution_count": 74,
   "id": "0220f2ba",
   "metadata": {},
   "outputs": [
    {
     "name": "stdout",
     "output_type": "stream",
     "text": [
      "precision : 0.99566\n",
      "recall : 0.71913\n",
      "f1-score : 0.83510\n",
      "accuracy : 0.71933\n"
     ]
    }
   ],
   "source": [
    "p = precision_score(test_label, pred_df)\n",
    "print('precision : %0.5f' %p)\n",
    "r = recall_score(test_label, pred_df)\n",
    "print('recall : %0.5f' %r)\n",
    "f1 = f1_score(test_label, pred_df)\n",
    "print('f1-score : %0.5f' %f1)\n",
    "acc = accuracy_score(test_label, pred_df)\n",
    "print('accuracy : %0.5f' %acc)"
   ]
  },
  {
   "cell_type": "code",
   "execution_count": null,
   "id": "01ca4aba",
   "metadata": {},
   "outputs": [],
   "source": []
  }
 ],
 "metadata": {
  "kernelspec": {
   "display_name": "Python 3 (ipykernel)",
   "language": "python",
   "name": "python3"
  },
  "language_info": {
   "codemirror_mode": {
    "name": "ipython",
    "version": 3
   },
   "file_extension": ".py",
   "mimetype": "text/x-python",
   "name": "python",
   "nbconvert_exporter": "python",
   "pygments_lexer": "ipython3",
   "version": "3.9.12"
  }
 },
 "nbformat": 4,
 "nbformat_minor": 5
}
