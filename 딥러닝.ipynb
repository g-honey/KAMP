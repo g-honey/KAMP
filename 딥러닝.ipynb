{
 "cells": [
  {
   "cell_type": "code",
   "execution_count": 159,
   "id": "3031d714",
   "metadata": {},
   "outputs": [],
   "source": [
    "import numpy as np \n",
    "import pandas as pd\n",
    "# 시각화 package\n",
    "import matplotlib.pyplot as plt\n",
    "import seaborn as sns\n",
    "import graphviz\n",
    "\n",
    "import matplotlib.font_manager as font_manager\n",
    "from matplotlib import rc\n",
    "   \n",
    "# 한글폰트작업\n",
    "# window의 폰트 위치 -> C:/Windows/Fonts/NGULIM.TTF\n",
    "font_name = font_manager.FontProperties(fname=\"C:/Windows/Fonts/NGULIM.TTF\").get_name()\n",
    "rc('font', family=font_name)\n",
    "plt.rcParams['axes.unicode_minus'] = False\n",
    "\n",
    "# from labeling_function import labeling"
   ]
  },
  {
   "cell_type": "markdown",
   "id": "3610bf62",
   "metadata": {},
   "source": [
    "# <font color = 4247D6> Data Set"
   ]
  },
  {
   "cell_type": "code",
   "execution_count": 160,
   "id": "8134a71b",
   "metadata": {},
   "outputs": [
    {
     "data": {
      "text/html": [
       "<div>\n",
       "<style scoped>\n",
       "    .dataframe tbody tr th:only-of-type {\n",
       "        vertical-align: middle;\n",
       "    }\n",
       "\n",
       "    .dataframe tbody tr th {\n",
       "        vertical-align: top;\n",
       "    }\n",
       "\n",
       "    .dataframe thead th {\n",
       "        text-align: right;\n",
       "    }\n",
       "</style>\n",
       "<table border=\"1\" class=\"dataframe\">\n",
       "  <thead>\n",
       "    <tr style=\"text-align: right;\">\n",
       "      <th></th>\n",
       "      <th>STD_DT</th>\n",
       "      <th>NUM</th>\n",
       "      <th>MELT_TEMP</th>\n",
       "      <th>MOTORSPEED</th>\n",
       "      <th>MELT_WEIGHT</th>\n",
       "      <th>INSP</th>\n",
       "      <th>TAG</th>\n",
       "    </tr>\n",
       "  </thead>\n",
       "  <tbody>\n",
       "    <tr>\n",
       "      <th>0</th>\n",
       "      <td>2020-03-04 0:00</td>\n",
       "      <td>0</td>\n",
       "      <td>489</td>\n",
       "      <td>116</td>\n",
       "      <td>631</td>\n",
       "      <td>3.19</td>\n",
       "      <td>OK</td>\n",
       "    </tr>\n",
       "    <tr>\n",
       "      <th>1</th>\n",
       "      <td>2020-03-04 0:00</td>\n",
       "      <td>1</td>\n",
       "      <td>433</td>\n",
       "      <td>78</td>\n",
       "      <td>609</td>\n",
       "      <td>3.19</td>\n",
       "      <td>OK</td>\n",
       "    </tr>\n",
       "    <tr>\n",
       "      <th>2</th>\n",
       "      <td>2020-03-04 0:00</td>\n",
       "      <td>2</td>\n",
       "      <td>464</td>\n",
       "      <td>154</td>\n",
       "      <td>608</td>\n",
       "      <td>3.19</td>\n",
       "      <td>OK</td>\n",
       "    </tr>\n",
       "    <tr>\n",
       "      <th>3</th>\n",
       "      <td>2020-03-04 0:00</td>\n",
       "      <td>3</td>\n",
       "      <td>379</td>\n",
       "      <td>212</td>\n",
       "      <td>606</td>\n",
       "      <td>3.19</td>\n",
       "      <td>OK</td>\n",
       "    </tr>\n",
       "    <tr>\n",
       "      <th>4</th>\n",
       "      <td>2020-03-04 0:00</td>\n",
       "      <td>4</td>\n",
       "      <td>798</td>\n",
       "      <td>1736</td>\n",
       "      <td>604</td>\n",
       "      <td>3.21</td>\n",
       "      <td>OK</td>\n",
       "    </tr>\n",
       "    <tr>\n",
       "      <th>...</th>\n",
       "      <td>...</td>\n",
       "      <td>...</td>\n",
       "      <td>...</td>\n",
       "      <td>...</td>\n",
       "      <td>...</td>\n",
       "      <td>...</td>\n",
       "      <td>...</td>\n",
       "    </tr>\n",
       "    <tr>\n",
       "      <th>835195</th>\n",
       "      <td>2020-04-30 23:59</td>\n",
       "      <td>835195</td>\n",
       "      <td>755</td>\n",
       "      <td>1743</td>\n",
       "      <td>318</td>\n",
       "      <td>3.21</td>\n",
       "      <td>OK</td>\n",
       "    </tr>\n",
       "    <tr>\n",
       "      <th>835196</th>\n",
       "      <td>2020-04-30 23:59</td>\n",
       "      <td>835196</td>\n",
       "      <td>385</td>\n",
       "      <td>206</td>\n",
       "      <td>317</td>\n",
       "      <td>3.19</td>\n",
       "      <td>OK</td>\n",
       "    </tr>\n",
       "    <tr>\n",
       "      <th>835197</th>\n",
       "      <td>2020-04-30 23:59</td>\n",
       "      <td>835197</td>\n",
       "      <td>465</td>\n",
       "      <td>148</td>\n",
       "      <td>316</td>\n",
       "      <td>3.20</td>\n",
       "      <td>OK</td>\n",
       "    </tr>\n",
       "    <tr>\n",
       "      <th>835198</th>\n",
       "      <td>2020-04-30 23:59</td>\n",
       "      <td>835198</td>\n",
       "      <td>467</td>\n",
       "      <td>0</td>\n",
       "      <td>314</td>\n",
       "      <td>3.19</td>\n",
       "      <td>OK</td>\n",
       "    </tr>\n",
       "    <tr>\n",
       "      <th>835199</th>\n",
       "      <td>2020-04-30 23:59</td>\n",
       "      <td>835199</td>\n",
       "      <td>453</td>\n",
       "      <td>125</td>\n",
       "      <td>312</td>\n",
       "      <td>3.20</td>\n",
       "      <td>OK</td>\n",
       "    </tr>\n",
       "  </tbody>\n",
       "</table>\n",
       "<p>835200 rows × 7 columns</p>\n",
       "</div>"
      ],
      "text/plain": [
       "                  STD_DT     NUM  MELT_TEMP  MOTORSPEED  MELT_WEIGHT  INSP TAG\n",
       "0        2020-03-04 0:00       0        489         116          631  3.19  OK\n",
       "1        2020-03-04 0:00       1        433          78          609  3.19  OK\n",
       "2        2020-03-04 0:00       2        464         154          608  3.19  OK\n",
       "3        2020-03-04 0:00       3        379         212          606  3.19  OK\n",
       "4        2020-03-04 0:00       4        798        1736          604  3.21  OK\n",
       "...                  ...     ...        ...         ...          ...   ...  ..\n",
       "835195  2020-04-30 23:59  835195        755        1743          318  3.21  OK\n",
       "835196  2020-04-30 23:59  835196        385         206          317  3.19  OK\n",
       "835197  2020-04-30 23:59  835197        465         148          316  3.20  OK\n",
       "835198  2020-04-30 23:59  835198        467           0          314  3.19  OK\n",
       "835199  2020-04-30 23:59  835199        453         125          312  3.20  OK\n",
       "\n",
       "[835200 rows x 7 columns]"
      ]
     },
     "execution_count": 160,
     "metadata": {},
     "output_type": "execute_result"
    }
   ],
   "source": [
    "dataset = pd.read_csv(\"경진대회용 용해탱크 데이터셋.csv\")\n",
    "dataset"
   ]
  },
  {
   "cell_type": "code",
   "execution_count": 161,
   "id": "cab26ab5",
   "metadata": {},
   "outputs": [
    {
     "data": {
      "text/html": [
       "<div>\n",
       "<style scoped>\n",
       "    .dataframe tbody tr th:only-of-type {\n",
       "        vertical-align: middle;\n",
       "    }\n",
       "\n",
       "    .dataframe tbody tr th {\n",
       "        vertical-align: top;\n",
       "    }\n",
       "\n",
       "    .dataframe thead th {\n",
       "        text-align: right;\n",
       "    }\n",
       "</style>\n",
       "<table border=\"1\" class=\"dataframe\">\n",
       "  <thead>\n",
       "    <tr style=\"text-align: right;\">\n",
       "      <th></th>\n",
       "      <th>MELT_TEMP</th>\n",
       "      <th>MOTORSPEED</th>\n",
       "      <th>MELT_WEIGHT</th>\n",
       "      <th>INSP</th>\n",
       "      <th>TAG</th>\n",
       "    </tr>\n",
       "  </thead>\n",
       "  <tbody>\n",
       "    <tr>\n",
       "      <th>0</th>\n",
       "      <td>489</td>\n",
       "      <td>116</td>\n",
       "      <td>631</td>\n",
       "      <td>3.19</td>\n",
       "      <td>OK</td>\n",
       "    </tr>\n",
       "    <tr>\n",
       "      <th>1</th>\n",
       "      <td>433</td>\n",
       "      <td>78</td>\n",
       "      <td>609</td>\n",
       "      <td>3.19</td>\n",
       "      <td>OK</td>\n",
       "    </tr>\n",
       "    <tr>\n",
       "      <th>2</th>\n",
       "      <td>464</td>\n",
       "      <td>154</td>\n",
       "      <td>608</td>\n",
       "      <td>3.19</td>\n",
       "      <td>OK</td>\n",
       "    </tr>\n",
       "    <tr>\n",
       "      <th>3</th>\n",
       "      <td>379</td>\n",
       "      <td>212</td>\n",
       "      <td>606</td>\n",
       "      <td>3.19</td>\n",
       "      <td>OK</td>\n",
       "    </tr>\n",
       "    <tr>\n",
       "      <th>4</th>\n",
       "      <td>798</td>\n",
       "      <td>1736</td>\n",
       "      <td>604</td>\n",
       "      <td>3.21</td>\n",
       "      <td>OK</td>\n",
       "    </tr>\n",
       "    <tr>\n",
       "      <th>...</th>\n",
       "      <td>...</td>\n",
       "      <td>...</td>\n",
       "      <td>...</td>\n",
       "      <td>...</td>\n",
       "      <td>...</td>\n",
       "    </tr>\n",
       "    <tr>\n",
       "      <th>835195</th>\n",
       "      <td>755</td>\n",
       "      <td>1743</td>\n",
       "      <td>318</td>\n",
       "      <td>3.21</td>\n",
       "      <td>OK</td>\n",
       "    </tr>\n",
       "    <tr>\n",
       "      <th>835196</th>\n",
       "      <td>385</td>\n",
       "      <td>206</td>\n",
       "      <td>317</td>\n",
       "      <td>3.19</td>\n",
       "      <td>OK</td>\n",
       "    </tr>\n",
       "    <tr>\n",
       "      <th>835197</th>\n",
       "      <td>465</td>\n",
       "      <td>148</td>\n",
       "      <td>316</td>\n",
       "      <td>3.20</td>\n",
       "      <td>OK</td>\n",
       "    </tr>\n",
       "    <tr>\n",
       "      <th>835198</th>\n",
       "      <td>467</td>\n",
       "      <td>0</td>\n",
       "      <td>314</td>\n",
       "      <td>3.19</td>\n",
       "      <td>OK</td>\n",
       "    </tr>\n",
       "    <tr>\n",
       "      <th>835199</th>\n",
       "      <td>453</td>\n",
       "      <td>125</td>\n",
       "      <td>312</td>\n",
       "      <td>3.20</td>\n",
       "      <td>OK</td>\n",
       "    </tr>\n",
       "  </tbody>\n",
       "</table>\n",
       "<p>835200 rows × 5 columns</p>\n",
       "</div>"
      ],
      "text/plain": [
       "        MELT_TEMP  MOTORSPEED  MELT_WEIGHT  INSP TAG\n",
       "0             489         116          631  3.19  OK\n",
       "1             433          78          609  3.19  OK\n",
       "2             464         154          608  3.19  OK\n",
       "3             379         212          606  3.19  OK\n",
       "4             798        1736          604  3.21  OK\n",
       "...           ...         ...          ...   ...  ..\n",
       "835195        755        1743          318  3.21  OK\n",
       "835196        385         206          317  3.19  OK\n",
       "835197        465         148          316  3.20  OK\n",
       "835198        467           0          314  3.19  OK\n",
       "835199        453         125          312  3.20  OK\n",
       "\n",
       "[835200 rows x 5 columns]"
      ]
     },
     "execution_count": 161,
     "metadata": {},
     "output_type": "execute_result"
    }
   ],
   "source": [
    "df = dataset.drop(['STD_DT', 'NUM'],axis=1)\n",
    "df"
   ]
  },
  {
   "cell_type": "code",
   "execution_count": 162,
   "id": "7ab36ff3",
   "metadata": {},
   "outputs": [
    {
     "data": {
      "text/html": [
       "<div>\n",
       "<style scoped>\n",
       "    .dataframe tbody tr th:only-of-type {\n",
       "        vertical-align: middle;\n",
       "    }\n",
       "\n",
       "    .dataframe tbody tr th {\n",
       "        vertical-align: top;\n",
       "    }\n",
       "\n",
       "    .dataframe thead th {\n",
       "        text-align: right;\n",
       "    }\n",
       "</style>\n",
       "<table border=\"1\" class=\"dataframe\">\n",
       "  <thead>\n",
       "    <tr style=\"text-align: right;\">\n",
       "      <th></th>\n",
       "      <th>MELT_TEMP</th>\n",
       "      <th>MOTORSPEED</th>\n",
       "      <th>MELT_WEIGHT</th>\n",
       "      <th>INSP</th>\n",
       "      <th>TAG</th>\n",
       "    </tr>\n",
       "  </thead>\n",
       "  <tbody>\n",
       "    <tr>\n",
       "      <th>0</th>\n",
       "      <td>489</td>\n",
       "      <td>116</td>\n",
       "      <td>631</td>\n",
       "      <td>3.19</td>\n",
       "      <td>1</td>\n",
       "    </tr>\n",
       "    <tr>\n",
       "      <th>1</th>\n",
       "      <td>433</td>\n",
       "      <td>78</td>\n",
       "      <td>609</td>\n",
       "      <td>3.19</td>\n",
       "      <td>1</td>\n",
       "    </tr>\n",
       "    <tr>\n",
       "      <th>2</th>\n",
       "      <td>464</td>\n",
       "      <td>154</td>\n",
       "      <td>608</td>\n",
       "      <td>3.19</td>\n",
       "      <td>1</td>\n",
       "    </tr>\n",
       "    <tr>\n",
       "      <th>3</th>\n",
       "      <td>379</td>\n",
       "      <td>212</td>\n",
       "      <td>606</td>\n",
       "      <td>3.19</td>\n",
       "      <td>1</td>\n",
       "    </tr>\n",
       "    <tr>\n",
       "      <th>4</th>\n",
       "      <td>798</td>\n",
       "      <td>1736</td>\n",
       "      <td>604</td>\n",
       "      <td>3.21</td>\n",
       "      <td>1</td>\n",
       "    </tr>\n",
       "    <tr>\n",
       "      <th>...</th>\n",
       "      <td>...</td>\n",
       "      <td>...</td>\n",
       "      <td>...</td>\n",
       "      <td>...</td>\n",
       "      <td>...</td>\n",
       "    </tr>\n",
       "    <tr>\n",
       "      <th>835195</th>\n",
       "      <td>755</td>\n",
       "      <td>1743</td>\n",
       "      <td>318</td>\n",
       "      <td>3.21</td>\n",
       "      <td>1</td>\n",
       "    </tr>\n",
       "    <tr>\n",
       "      <th>835196</th>\n",
       "      <td>385</td>\n",
       "      <td>206</td>\n",
       "      <td>317</td>\n",
       "      <td>3.19</td>\n",
       "      <td>1</td>\n",
       "    </tr>\n",
       "    <tr>\n",
       "      <th>835197</th>\n",
       "      <td>465</td>\n",
       "      <td>148</td>\n",
       "      <td>316</td>\n",
       "      <td>3.20</td>\n",
       "      <td>1</td>\n",
       "    </tr>\n",
       "    <tr>\n",
       "      <th>835198</th>\n",
       "      <td>467</td>\n",
       "      <td>0</td>\n",
       "      <td>314</td>\n",
       "      <td>3.19</td>\n",
       "      <td>1</td>\n",
       "    </tr>\n",
       "    <tr>\n",
       "      <th>835199</th>\n",
       "      <td>453</td>\n",
       "      <td>125</td>\n",
       "      <td>312</td>\n",
       "      <td>3.20</td>\n",
       "      <td>1</td>\n",
       "    </tr>\n",
       "  </tbody>\n",
       "</table>\n",
       "<p>835200 rows × 5 columns</p>\n",
       "</div>"
      ],
      "text/plain": [
       "        MELT_TEMP  MOTORSPEED  MELT_WEIGHT  INSP  TAG\n",
       "0             489         116          631  3.19    1\n",
       "1             433          78          609  3.19    1\n",
       "2             464         154          608  3.19    1\n",
       "3             379         212          606  3.19    1\n",
       "4             798        1736          604  3.21    1\n",
       "...           ...         ...          ...   ...  ...\n",
       "835195        755        1743          318  3.21    1\n",
       "835196        385         206          317  3.19    1\n",
       "835197        465         148          316  3.20    1\n",
       "835198        467           0          314  3.19    1\n",
       "835199        453         125          312  3.20    1\n",
       "\n",
       "[835200 rows x 5 columns]"
      ]
     },
     "execution_count": 162,
     "metadata": {},
     "output_type": "execute_result"
    }
   ],
   "source": [
    "df.replace({'TAG': {'OK': 1, 'NG': 0}}, inplace=True)\n",
    "df"
   ]
  },
  {
   "cell_type": "markdown",
   "id": "8ca015e9",
   "metadata": {},
   "source": [
    "# <font color = 5904DB> 분석 예측"
   ]
  },
  {
   "cell_type": "markdown",
   "id": "186c8982",
   "metadata": {},
   "source": [
    "# <font color = E80C77> MOTORSPEED 제외"
   ]
  },
  {
   "cell_type": "code",
   "execution_count": 53,
   "id": "f020468a",
   "metadata": {},
   "outputs": [
    {
     "data": {
      "text/html": [
       "<div>\n",
       "<style scoped>\n",
       "    .dataframe tbody tr th:only-of-type {\n",
       "        vertical-align: middle;\n",
       "    }\n",
       "\n",
       "    .dataframe tbody tr th {\n",
       "        vertical-align: top;\n",
       "    }\n",
       "\n",
       "    .dataframe thead th {\n",
       "        text-align: right;\n",
       "    }\n",
       "</style>\n",
       "<table border=\"1\" class=\"dataframe\">\n",
       "  <thead>\n",
       "    <tr style=\"text-align: right;\">\n",
       "      <th></th>\n",
       "      <th>MELT_TEMP</th>\n",
       "      <th>MELT_WEIGHT</th>\n",
       "      <th>INSP</th>\n",
       "      <th>TAG</th>\n",
       "    </tr>\n",
       "  </thead>\n",
       "  <tbody>\n",
       "    <tr>\n",
       "      <th>0</th>\n",
       "      <td>489</td>\n",
       "      <td>631</td>\n",
       "      <td>3.19</td>\n",
       "      <td>1</td>\n",
       "    </tr>\n",
       "    <tr>\n",
       "      <th>1</th>\n",
       "      <td>433</td>\n",
       "      <td>609</td>\n",
       "      <td>3.19</td>\n",
       "      <td>1</td>\n",
       "    </tr>\n",
       "    <tr>\n",
       "      <th>2</th>\n",
       "      <td>464</td>\n",
       "      <td>608</td>\n",
       "      <td>3.19</td>\n",
       "      <td>1</td>\n",
       "    </tr>\n",
       "    <tr>\n",
       "      <th>3</th>\n",
       "      <td>379</td>\n",
       "      <td>606</td>\n",
       "      <td>3.19</td>\n",
       "      <td>1</td>\n",
       "    </tr>\n",
       "    <tr>\n",
       "      <th>4</th>\n",
       "      <td>798</td>\n",
       "      <td>604</td>\n",
       "      <td>3.21</td>\n",
       "      <td>1</td>\n",
       "    </tr>\n",
       "    <tr>\n",
       "      <th>...</th>\n",
       "      <td>...</td>\n",
       "      <td>...</td>\n",
       "      <td>...</td>\n",
       "      <td>...</td>\n",
       "    </tr>\n",
       "    <tr>\n",
       "      <th>835195</th>\n",
       "      <td>755</td>\n",
       "      <td>318</td>\n",
       "      <td>3.21</td>\n",
       "      <td>1</td>\n",
       "    </tr>\n",
       "    <tr>\n",
       "      <th>835196</th>\n",
       "      <td>385</td>\n",
       "      <td>317</td>\n",
       "      <td>3.19</td>\n",
       "      <td>1</td>\n",
       "    </tr>\n",
       "    <tr>\n",
       "      <th>835197</th>\n",
       "      <td>465</td>\n",
       "      <td>316</td>\n",
       "      <td>3.20</td>\n",
       "      <td>1</td>\n",
       "    </tr>\n",
       "    <tr>\n",
       "      <th>835198</th>\n",
       "      <td>467</td>\n",
       "      <td>314</td>\n",
       "      <td>3.19</td>\n",
       "      <td>1</td>\n",
       "    </tr>\n",
       "    <tr>\n",
       "      <th>835199</th>\n",
       "      <td>453</td>\n",
       "      <td>312</td>\n",
       "      <td>3.20</td>\n",
       "      <td>1</td>\n",
       "    </tr>\n",
       "  </tbody>\n",
       "</table>\n",
       "<p>835200 rows × 4 columns</p>\n",
       "</div>"
      ],
      "text/plain": [
       "        MELT_TEMP  MELT_WEIGHT  INSP  TAG\n",
       "0             489          631  3.19    1\n",
       "1             433          609  3.19    1\n",
       "2             464          608  3.19    1\n",
       "3             379          606  3.19    1\n",
       "4             798          604  3.21    1\n",
       "...           ...          ...   ...  ...\n",
       "835195        755          318  3.21    1\n",
       "835196        385          317  3.19    1\n",
       "835197        465          316  3.20    1\n",
       "835198        467          314  3.19    1\n",
       "835199        453          312  3.20    1\n",
       "\n",
       "[835200 rows x 4 columns]"
      ]
     },
     "execution_count": 53,
     "metadata": {},
     "output_type": "execute_result"
    }
   ],
   "source": [
    "df_2 = df.drop('MOTORSPEED', axis=1)\n",
    "df_2"
   ]
  },
  {
   "cell_type": "code",
   "execution_count": 54,
   "id": "0cfc9715",
   "metadata": {},
   "outputs": [],
   "source": [
    "from sklearn.model_selection import train_test_split\n",
    "\n",
    "X = df_2.drop('TAG',axis=1)  \n",
    "Y = df_2[['TAG']]\n",
    "\n",
    "X_train, X_test, y_train, y_test = train_test_split(X, Y, test_size=0.25, random_state=1)"
   ]
  },
  {
   "cell_type": "code",
   "execution_count": 55,
   "id": "85dc93f8",
   "metadata": {},
   "outputs": [
    {
     "name": "stderr",
     "output_type": "stream",
     "text": [
      "C:\\Users\\islab\\AppData\\Local\\Temp\\ipykernel_6500\\406220393.py:3: DataConversionWarning: A column-vector y was passed when a 1d array was expected. Please change the shape of y to (n_samples,), for example using ravel().\n",
      "  rf_clf.fit(X_train, y_train)\n"
     ]
    },
    {
     "name": "stdout",
     "output_type": "stream",
     "text": [
      "랜덤 포레스트 예측 정확도: 0.78943\n"
     ]
    },
    {
     "data": {
      "image/png": "[encoded data removed]",
      "text/plain": [
       "<Figure size 432x288 with 2 Axes>"
      ]
     },
     "metadata": {
      "needs_background": "light"
     },
     "output_type": "display_data"
    }
   ],
   "source": [
    "rf_clf = RandomForestClassifier(n_estimators=150, oob_score=True, \n",
    "                                criterion='entropy', min_samples_leaf=15, random_state=1, n_jobs=-1)\n",
    "rf_clf.fit(X_train, y_train)\n",
    "pred = rf_clf.predict(X_test)\n",
    "accuracy = accuracy_score(y_test, pred)\n",
    "print('랜덤 포레스트 예측 정확도: {:.5f}'.format(accuracy))\n",
    "\n",
    "confusion_dt = confusion_matrix(y_test, pred)\n",
    "plot = sns.heatmap(confusion_dt ,square=True, annot=True, fmt='d', cmap='terrain')\n",
    "class_lables=['0','1','2','3']\n",
    "# plt.title(\"80% 사후확률, min_sample={}\".format(j), size = 12)\n",
    "plot.set_xlabel('예측 y값')\n",
    "plot.set_ylabel('실제 y값')\n",
    "# plt.savefig('80% 사후확률_min_{}_수정.png'.format(j), dpi=300, transparent=True, bbox_inches=\"tight\")\n",
    "plt.show()"
   ]
  },
  {
   "cell_type": "code",
   "execution_count": 56,
   "id": "b4b2d324",
   "metadata": {},
   "outputs": [
    {
     "data": {
      "text/plain": [
       "<AxesSubplot:>"
      ]
     },
     "execution_count": 56,
     "metadata": {},
     "output_type": "execute_result"
    },
    {
     "data": {
      "image/png": "[encoded data removed]",
      "text/plain": [
       "<Figure size 432x288 with 1 Axes>"
      ]
     },
     "metadata": {
      "needs_background": "light"
     },
     "output_type": "display_data"
    }
   ],
   "source": [
    "rfr = pd.Series(rf_clf.feature_importances_, index=X.columns)\n",
    "rfr.nlargest(10).plot(kind='barh')\n",
    "# plt.savefig('./rffeature.jpg', bbox_inches=\"tight\")"
   ]
  },
  {
   "cell_type": "markdown",
   "id": "943a0b25",
   "metadata": {},
   "source": [
    "# <font color = E80C77> INSP 제외"
   ]
  },
  {
   "cell_type": "code",
   "execution_count": 119,
   "id": "effdc5fd",
   "metadata": {},
   "outputs": [
    {
     "data": {
      "text/html": [
       "<div>\n",
       "<style scoped>\n",
       "    .dataframe tbody tr th:only-of-type {\n",
       "        vertical-align: middle;\n",
       "    }\n",
       "\n",
       "    .dataframe tbody tr th {\n",
       "        vertical-align: top;\n",
       "    }\n",
       "\n",
       "    .dataframe thead th {\n",
       "        text-align: right;\n",
       "    }\n",
       "</style>\n",
       "<table border=\"1\" class=\"dataframe\">\n",
       "  <thead>\n",
       "    <tr style=\"text-align: right;\">\n",
       "      <th></th>\n",
       "      <th>MELT_TEMP</th>\n",
       "      <th>MOTORSPEED</th>\n",
       "      <th>MELT_WEIGHT</th>\n",
       "      <th>TAG</th>\n",
       "    </tr>\n",
       "  </thead>\n",
       "  <tbody>\n",
       "    <tr>\n",
       "      <th>0</th>\n",
       "      <td>489</td>\n",
       "      <td>116</td>\n",
       "      <td>631</td>\n",
       "      <td>1</td>\n",
       "    </tr>\n",
       "    <tr>\n",
       "      <th>1</th>\n",
       "      <td>433</td>\n",
       "      <td>78</td>\n",
       "      <td>609</td>\n",
       "      <td>1</td>\n",
       "    </tr>\n",
       "    <tr>\n",
       "      <th>2</th>\n",
       "      <td>464</td>\n",
       "      <td>154</td>\n",
       "      <td>608</td>\n",
       "      <td>1</td>\n",
       "    </tr>\n",
       "    <tr>\n",
       "      <th>3</th>\n",
       "      <td>379</td>\n",
       "      <td>212</td>\n",
       "      <td>606</td>\n",
       "      <td>1</td>\n",
       "    </tr>\n",
       "    <tr>\n",
       "      <th>4</th>\n",
       "      <td>798</td>\n",
       "      <td>1736</td>\n",
       "      <td>604</td>\n",
       "      <td>1</td>\n",
       "    </tr>\n",
       "    <tr>\n",
       "      <th>...</th>\n",
       "      <td>...</td>\n",
       "      <td>...</td>\n",
       "      <td>...</td>\n",
       "      <td>...</td>\n",
       "    </tr>\n",
       "    <tr>\n",
       "      <th>835195</th>\n",
       "      <td>755</td>\n",
       "      <td>1743</td>\n",
       "      <td>318</td>\n",
       "      <td>1</td>\n",
       "    </tr>\n",
       "    <tr>\n",
       "      <th>835196</th>\n",
       "      <td>385</td>\n",
       "      <td>206</td>\n",
       "      <td>317</td>\n",
       "      <td>1</td>\n",
       "    </tr>\n",
       "    <tr>\n",
       "      <th>835197</th>\n",
       "      <td>465</td>\n",
       "      <td>148</td>\n",
       "      <td>316</td>\n",
       "      <td>1</td>\n",
       "    </tr>\n",
       "    <tr>\n",
       "      <th>835198</th>\n",
       "      <td>467</td>\n",
       "      <td>0</td>\n",
       "      <td>314</td>\n",
       "      <td>1</td>\n",
       "    </tr>\n",
       "    <tr>\n",
       "      <th>835199</th>\n",
       "      <td>453</td>\n",
       "      <td>125</td>\n",
       "      <td>312</td>\n",
       "      <td>1</td>\n",
       "    </tr>\n",
       "  </tbody>\n",
       "</table>\n",
       "<p>835200 rows × 4 columns</p>\n",
       "</div>"
      ],
      "text/plain": [
       "        MELT_TEMP  MOTORSPEED  MELT_WEIGHT  TAG\n",
       "0             489         116          631    1\n",
       "1             433          78          609    1\n",
       "2             464         154          608    1\n",
       "3             379         212          606    1\n",
       "4             798        1736          604    1\n",
       "...           ...         ...          ...  ...\n",
       "835195        755        1743          318    1\n",
       "835196        385         206          317    1\n",
       "835197        465         148          316    1\n",
       "835198        467           0          314    1\n",
       "835199        453         125          312    1\n",
       "\n",
       "[835200 rows x 4 columns]"
      ]
     },
     "execution_count": 119,
     "metadata": {},
     "output_type": "execute_result"
    }
   ],
   "source": [
    "df_3 = df.drop('INSP', axis=1)\n",
    "df_3"
   ]
  },
  {
   "cell_type": "code",
   "execution_count": 120,
   "id": "9ed18aa0",
   "metadata": {},
   "outputs": [],
   "source": [
    "from sklearn.model_selection import train_test_split\n",
    "\n",
    "X = df_3.drop('TAG',axis=1)  \n",
    "Y = df_3[['TAG']]\n",
    "\n",
    "X_train, X_test, y_train, y_test = train_test_split(X, Y, test_size=0.25, random_state=1)"
   ]
  },
  {
   "cell_type": "code",
   "execution_count": 121,
   "id": "a3a2fce7",
   "metadata": {},
   "outputs": [
    {
     "name": "stderr",
     "output_type": "stream",
     "text": [
      "C:\\Users\\islab\\AppData\\Local\\Temp\\ipykernel_6500\\406220393.py:3: DataConversionWarning: A column-vector y was passed when a 1d array was expected. Please change the shape of y to (n_samples,), for example using ravel().\n",
      "  rf_clf.fit(X_train, y_train)\n"
     ]
    },
    {
     "name": "stdout",
     "output_type": "stream",
     "text": [
      "랜덤 포레스트 예측 정확도: 0.79153\n"
     ]
    },
    {
     "data": {
      "image/png": "[encoded data removed]",
      "text/plain": [
       "<Figure size 432x288 with 2 Axes>"
      ]
     },
     "metadata": {
      "needs_background": "light"
     },
     "output_type": "display_data"
    }
   ],
   "source": [
    "rf_clf = RandomForestClassifier(n_estimators=150, oob_score=True, \n",
    "                                criterion='entropy', min_samples_leaf=15, random_state=1, n_jobs=-1)\n",
    "rf_clf.fit(X_train, y_train)\n",
    "pred = rf_clf.predict(X_test)\n",
    "accuracy = accuracy_score(y_test, pred)\n",
    "print('랜덤 포레스트 예측 정확도: {:.5f}'.format(accuracy))\n",
    "\n",
    "confusion_dt = confusion_matrix(y_test, pred)\n",
    "plot = sns.heatmap(confusion_dt ,square=True, annot=True, fmt='d', cmap='terrain')\n",
    "class_lables=['0','1','2','3']\n",
    "# plt.title(\"80% 사후확률, min_sample={}\".format(j), size = 12)\n",
    "plot.set_xlabel('예측 y값')\n",
    "plot.set_ylabel('실제 y값')\n",
    "# plt.savefig('80% 사후확률_min_{}_수정.png'.format(j), dpi=300, transparent=True, bbox_inches=\"tight\")\n",
    "plt.show()"
   ]
  },
  {
   "cell_type": "code",
   "execution_count": 2,
   "id": "5bbf8089",
   "metadata": {},
   "outputs": [],
   "source": [
    "import math\n",
    "import sklearn\n",
    "import sklearn.preprocessing\n",
    "import datetime\n",
    "import tensorflow as tf"
   ]
  },
  {
   "cell_type": "code",
   "execution_count": 164,
   "id": "f504a05f",
   "metadata": {},
   "outputs": [
    {
     "data": {
      "text/html": [
       "<div>\n",
       "<style scoped>\n",
       "    .dataframe tbody tr th:only-of-type {\n",
       "        vertical-align: middle;\n",
       "    }\n",
       "\n",
       "    .dataframe tbody tr th {\n",
       "        vertical-align: top;\n",
       "    }\n",
       "\n",
       "    .dataframe thead th {\n",
       "        text-align: right;\n",
       "    }\n",
       "</style>\n",
       "<table border=\"1\" class=\"dataframe\">\n",
       "  <thead>\n",
       "    <tr style=\"text-align: right;\">\n",
       "      <th></th>\n",
       "      <th>STD_DT</th>\n",
       "      <th>NUM</th>\n",
       "      <th>MELT_TEMP</th>\n",
       "      <th>MOTORSPEED</th>\n",
       "      <th>MELT_WEIGHT</th>\n",
       "      <th>INSP</th>\n",
       "      <th>TAG</th>\n",
       "    </tr>\n",
       "  </thead>\n",
       "  <tbody>\n",
       "    <tr>\n",
       "      <th>0</th>\n",
       "      <td>2020-03-04 0:00</td>\n",
       "      <td>0</td>\n",
       "      <td>489</td>\n",
       "      <td>116</td>\n",
       "      <td>631</td>\n",
       "      <td>3.19</td>\n",
       "      <td>OK</td>\n",
       "    </tr>\n",
       "    <tr>\n",
       "      <th>1</th>\n",
       "      <td>2020-03-04 0:00</td>\n",
       "      <td>1</td>\n",
       "      <td>433</td>\n",
       "      <td>78</td>\n",
       "      <td>609</td>\n",
       "      <td>3.19</td>\n",
       "      <td>OK</td>\n",
       "    </tr>\n",
       "    <tr>\n",
       "      <th>2</th>\n",
       "      <td>2020-03-04 0:00</td>\n",
       "      <td>2</td>\n",
       "      <td>464</td>\n",
       "      <td>154</td>\n",
       "      <td>608</td>\n",
       "      <td>3.19</td>\n",
       "      <td>OK</td>\n",
       "    </tr>\n",
       "    <tr>\n",
       "      <th>3</th>\n",
       "      <td>2020-03-04 0:00</td>\n",
       "      <td>3</td>\n",
       "      <td>379</td>\n",
       "      <td>212</td>\n",
       "      <td>606</td>\n",
       "      <td>3.19</td>\n",
       "      <td>OK</td>\n",
       "    </tr>\n",
       "    <tr>\n",
       "      <th>4</th>\n",
       "      <td>2020-03-04 0:00</td>\n",
       "      <td>4</td>\n",
       "      <td>798</td>\n",
       "      <td>1736</td>\n",
       "      <td>604</td>\n",
       "      <td>3.21</td>\n",
       "      <td>OK</td>\n",
       "    </tr>\n",
       "    <tr>\n",
       "      <th>...</th>\n",
       "      <td>...</td>\n",
       "      <td>...</td>\n",
       "      <td>...</td>\n",
       "      <td>...</td>\n",
       "      <td>...</td>\n",
       "      <td>...</td>\n",
       "      <td>...</td>\n",
       "    </tr>\n",
       "    <tr>\n",
       "      <th>835195</th>\n",
       "      <td>2020-04-30 23:59</td>\n",
       "      <td>835195</td>\n",
       "      <td>755</td>\n",
       "      <td>1743</td>\n",
       "      <td>318</td>\n",
       "      <td>3.21</td>\n",
       "      <td>OK</td>\n",
       "    </tr>\n",
       "    <tr>\n",
       "      <th>835196</th>\n",
       "      <td>2020-04-30 23:59</td>\n",
       "      <td>835196</td>\n",
       "      <td>385</td>\n",
       "      <td>206</td>\n",
       "      <td>317</td>\n",
       "      <td>3.19</td>\n",
       "      <td>OK</td>\n",
       "    </tr>\n",
       "    <tr>\n",
       "      <th>835197</th>\n",
       "      <td>2020-04-30 23:59</td>\n",
       "      <td>835197</td>\n",
       "      <td>465</td>\n",
       "      <td>148</td>\n",
       "      <td>316</td>\n",
       "      <td>3.20</td>\n",
       "      <td>OK</td>\n",
       "    </tr>\n",
       "    <tr>\n",
       "      <th>835198</th>\n",
       "      <td>2020-04-30 23:59</td>\n",
       "      <td>835198</td>\n",
       "      <td>467</td>\n",
       "      <td>0</td>\n",
       "      <td>314</td>\n",
       "      <td>3.19</td>\n",
       "      <td>OK</td>\n",
       "    </tr>\n",
       "    <tr>\n",
       "      <th>835199</th>\n",
       "      <td>2020-04-30 23:59</td>\n",
       "      <td>835199</td>\n",
       "      <td>453</td>\n",
       "      <td>125</td>\n",
       "      <td>312</td>\n",
       "      <td>3.20</td>\n",
       "      <td>OK</td>\n",
       "    </tr>\n",
       "  </tbody>\n",
       "</table>\n",
       "<p>835200 rows × 7 columns</p>\n",
       "</div>"
      ],
      "text/plain": [
       "                  STD_DT     NUM  MELT_TEMP  MOTORSPEED  MELT_WEIGHT  INSP TAG\n",
       "0        2020-03-04 0:00       0        489         116          631  3.19  OK\n",
       "1        2020-03-04 0:00       1        433          78          609  3.19  OK\n",
       "2        2020-03-04 0:00       2        464         154          608  3.19  OK\n",
       "3        2020-03-04 0:00       3        379         212          606  3.19  OK\n",
       "4        2020-03-04 0:00       4        798        1736          604  3.21  OK\n",
       "...                  ...     ...        ...         ...          ...   ...  ..\n",
       "835195  2020-04-30 23:59  835195        755        1743          318  3.21  OK\n",
       "835196  2020-04-30 23:59  835196        385         206          317  3.19  OK\n",
       "835197  2020-04-30 23:59  835197        465         148          316  3.20  OK\n",
       "835198  2020-04-30 23:59  835198        467           0          314  3.19  OK\n",
       "835199  2020-04-30 23:59  835199        453         125          312  3.20  OK\n",
       "\n",
       "[835200 rows x 7 columns]"
      ]
     },
     "execution_count": 164,
     "metadata": {},
     "output_type": "execute_result"
    }
   ],
   "source": [
    "dataset_1 = dataset.copy()\n",
    "dataset_1"
   ]
  },
  {
   "cell_type": "code",
   "execution_count": 165,
   "id": "a2d6e20a",
   "metadata": {},
   "outputs": [
    {
     "data": {
      "text/html": [
       "<div>\n",
       "<style scoped>\n",
       "    .dataframe tbody tr th:only-of-type {\n",
       "        vertical-align: middle;\n",
       "    }\n",
       "\n",
       "    .dataframe tbody tr th {\n",
       "        vertical-align: top;\n",
       "    }\n",
       "\n",
       "    .dataframe thead th {\n",
       "        text-align: right;\n",
       "    }\n",
       "</style>\n",
       "<table border=\"1\" class=\"dataframe\">\n",
       "  <thead>\n",
       "    <tr style=\"text-align: right;\">\n",
       "      <th></th>\n",
       "      <th>STD_DT</th>\n",
       "      <th>NUM</th>\n",
       "      <th>MELT_TEMP</th>\n",
       "      <th>MOTORSPEED</th>\n",
       "      <th>MELT_WEIGHT</th>\n",
       "      <th>INSP</th>\n",
       "      <th>TAG</th>\n",
       "    </tr>\n",
       "  </thead>\n",
       "  <tbody>\n",
       "    <tr>\n",
       "      <th>0</th>\n",
       "      <td>2020-03-04 00:00:00</td>\n",
       "      <td>0</td>\n",
       "      <td>489</td>\n",
       "      <td>116</td>\n",
       "      <td>631</td>\n",
       "      <td>3.19</td>\n",
       "      <td>OK</td>\n",
       "    </tr>\n",
       "    <tr>\n",
       "      <th>1</th>\n",
       "      <td>2020-03-04 00:00:00</td>\n",
       "      <td>1</td>\n",
       "      <td>433</td>\n",
       "      <td>78</td>\n",
       "      <td>609</td>\n",
       "      <td>3.19</td>\n",
       "      <td>OK</td>\n",
       "    </tr>\n",
       "    <tr>\n",
       "      <th>2</th>\n",
       "      <td>2020-03-04 00:00:00</td>\n",
       "      <td>2</td>\n",
       "      <td>464</td>\n",
       "      <td>154</td>\n",
       "      <td>608</td>\n",
       "      <td>3.19</td>\n",
       "      <td>OK</td>\n",
       "    </tr>\n",
       "    <tr>\n",
       "      <th>3</th>\n",
       "      <td>2020-03-04 00:00:00</td>\n",
       "      <td>3</td>\n",
       "      <td>379</td>\n",
       "      <td>212</td>\n",
       "      <td>606</td>\n",
       "      <td>3.19</td>\n",
       "      <td>OK</td>\n",
       "    </tr>\n",
       "    <tr>\n",
       "      <th>4</th>\n",
       "      <td>2020-03-04 00:00:00</td>\n",
       "      <td>4</td>\n",
       "      <td>798</td>\n",
       "      <td>1736</td>\n",
       "      <td>604</td>\n",
       "      <td>3.21</td>\n",
       "      <td>OK</td>\n",
       "    </tr>\n",
       "    <tr>\n",
       "      <th>...</th>\n",
       "      <td>...</td>\n",
       "      <td>...</td>\n",
       "      <td>...</td>\n",
       "      <td>...</td>\n",
       "      <td>...</td>\n",
       "      <td>...</td>\n",
       "      <td>...</td>\n",
       "    </tr>\n",
       "    <tr>\n",
       "      <th>835195</th>\n",
       "      <td>2020-04-30 23:59:00</td>\n",
       "      <td>835195</td>\n",
       "      <td>755</td>\n",
       "      <td>1743</td>\n",
       "      <td>318</td>\n",
       "      <td>3.21</td>\n",
       "      <td>OK</td>\n",
       "    </tr>\n",
       "    <tr>\n",
       "      <th>835196</th>\n",
       "      <td>2020-04-30 23:59:00</td>\n",
       "      <td>835196</td>\n",
       "      <td>385</td>\n",
       "      <td>206</td>\n",
       "      <td>317</td>\n",
       "      <td>3.19</td>\n",
       "      <td>OK</td>\n",
       "    </tr>\n",
       "    <tr>\n",
       "      <th>835197</th>\n",
       "      <td>2020-04-30 23:59:00</td>\n",
       "      <td>835197</td>\n",
       "      <td>465</td>\n",
       "      <td>148</td>\n",
       "      <td>316</td>\n",
       "      <td>3.20</td>\n",
       "      <td>OK</td>\n",
       "    </tr>\n",
       "    <tr>\n",
       "      <th>835198</th>\n",
       "      <td>2020-04-30 23:59:00</td>\n",
       "      <td>835198</td>\n",
       "      <td>467</td>\n",
       "      <td>0</td>\n",
       "      <td>314</td>\n",
       "      <td>3.19</td>\n",
       "      <td>OK</td>\n",
       "    </tr>\n",
       "    <tr>\n",
       "      <th>835199</th>\n",
       "      <td>2020-04-30 23:59:00</td>\n",
       "      <td>835199</td>\n",
       "      <td>453</td>\n",
       "      <td>125</td>\n",
       "      <td>312</td>\n",
       "      <td>3.20</td>\n",
       "      <td>OK</td>\n",
       "    </tr>\n",
       "  </tbody>\n",
       "</table>\n",
       "<p>835200 rows × 7 columns</p>\n",
       "</div>"
      ],
      "text/plain": [
       "                    STD_DT     NUM  MELT_TEMP  MOTORSPEED  MELT_WEIGHT  INSP  \\\n",
       "0      2020-03-04 00:00:00       0        489         116          631  3.19   \n",
       "1      2020-03-04 00:00:00       1        433          78          609  3.19   \n",
       "2      2020-03-04 00:00:00       2        464         154          608  3.19   \n",
       "3      2020-03-04 00:00:00       3        379         212          606  3.19   \n",
       "4      2020-03-04 00:00:00       4        798        1736          604  3.21   \n",
       "...                    ...     ...        ...         ...          ...   ...   \n",
       "835195 2020-04-30 23:59:00  835195        755        1743          318  3.21   \n",
       "835196 2020-04-30 23:59:00  835196        385         206          317  3.19   \n",
       "835197 2020-04-30 23:59:00  835197        465         148          316  3.20   \n",
       "835198 2020-04-30 23:59:00  835198        467           0          314  3.19   \n",
       "835199 2020-04-30 23:59:00  835199        453         125          312  3.20   \n",
       "\n",
       "       TAG  \n",
       "0       OK  \n",
       "1       OK  \n",
       "2       OK  \n",
       "3       OK  \n",
       "4       OK  \n",
       "...     ..  \n",
       "835195  OK  \n",
       "835196  OK  \n",
       "835197  OK  \n",
       "835198  OK  \n",
       "835199  OK  \n",
       "\n",
       "[835200 rows x 7 columns]"
      ]
     },
     "execution_count": 165,
     "metadata": {},
     "output_type": "execute_result"
    }
   ],
   "source": [
    "dataset_1['STD_DT'] = pd.to_datetime(dataset_1['STD_DT'])\n",
    "dataset_1"
   ]
  },
  {
   "cell_type": "code",
   "execution_count": 73,
   "id": "a7b4a6b6",
   "metadata": {},
   "outputs": [
    {
     "name": "stdout",
     "output_type": "stream",
     "text": [
      "<class 'pandas.core.frame.DataFrame'>\n",
      "RangeIndex: 835200 entries, 0 to 835199\n",
      "Data columns (total 7 columns):\n",
      " #   Column       Non-Null Count   Dtype         \n",
      "---  ------       --------------   -----         \n",
      " 0   STD_DT       835200 non-null  datetime64[ns]\n",
      " 1   NUM          835200 non-null  int64         \n",
      " 2   MELT_TEMP    835200 non-null  int64         \n",
      " 3   MOTORSPEED   835200 non-null  int64         \n",
      " 4   MELT_WEIGHT  835200 non-null  int64         \n",
      " 5   INSP         835200 non-null  float64       \n",
      " 6   TAG          835200 non-null  object        \n",
      "dtypes: datetime64[ns](1), float64(1), int64(4), object(1)\n",
      "memory usage: 44.6+ MB\n"
     ]
    }
   ],
   "source": [
    "dataset_1.info()"
   ]
  },
  {
   "cell_type": "code",
   "execution_count": 136,
   "id": "9344f3e7",
   "metadata": {},
   "outputs": [
    {
     "data": {
      "text/html": [
       "<div>\n",
       "<style scoped>\n",
       "    .dataframe tbody tr th:only-of-type {\n",
       "        vertical-align: middle;\n",
       "    }\n",
       "\n",
       "    .dataframe tbody tr th {\n",
       "        vertical-align: top;\n",
       "    }\n",
       "\n",
       "    .dataframe thead th {\n",
       "        text-align: right;\n",
       "    }\n",
       "</style>\n",
       "<table border=\"1\" class=\"dataframe\">\n",
       "  <thead>\n",
       "    <tr style=\"text-align: right;\">\n",
       "      <th></th>\n",
       "      <th>MELT_TEMP</th>\n",
       "      <th>MOTORSPEED</th>\n",
       "      <th>MELT_WEIGHT</th>\n",
       "      <th>INSP</th>\n",
       "      <th>TAG</th>\n",
       "    </tr>\n",
       "    <tr>\n",
       "      <th>STD_DT</th>\n",
       "      <th></th>\n",
       "      <th></th>\n",
       "      <th></th>\n",
       "      <th></th>\n",
       "      <th></th>\n",
       "    </tr>\n",
       "  </thead>\n",
       "  <tbody>\n",
       "    <tr>\n",
       "      <th>2020-03-04 00:00:00</th>\n",
       "      <td>489</td>\n",
       "      <td>116</td>\n",
       "      <td>631</td>\n",
       "      <td>3.19</td>\n",
       "      <td>1</td>\n",
       "    </tr>\n",
       "    <tr>\n",
       "      <th>2020-03-04 00:00:00</th>\n",
       "      <td>433</td>\n",
       "      <td>78</td>\n",
       "      <td>609</td>\n",
       "      <td>3.19</td>\n",
       "      <td>1</td>\n",
       "    </tr>\n",
       "    <tr>\n",
       "      <th>2020-03-04 00:00:00</th>\n",
       "      <td>464</td>\n",
       "      <td>154</td>\n",
       "      <td>608</td>\n",
       "      <td>3.19</td>\n",
       "      <td>1</td>\n",
       "    </tr>\n",
       "    <tr>\n",
       "      <th>2020-03-04 00:00:00</th>\n",
       "      <td>379</td>\n",
       "      <td>212</td>\n",
       "      <td>606</td>\n",
       "      <td>3.19</td>\n",
       "      <td>1</td>\n",
       "    </tr>\n",
       "    <tr>\n",
       "      <th>2020-03-04 00:00:00</th>\n",
       "      <td>798</td>\n",
       "      <td>1736</td>\n",
       "      <td>604</td>\n",
       "      <td>3.21</td>\n",
       "      <td>1</td>\n",
       "    </tr>\n",
       "    <tr>\n",
       "      <th>...</th>\n",
       "      <td>...</td>\n",
       "      <td>...</td>\n",
       "      <td>...</td>\n",
       "      <td>...</td>\n",
       "      <td>...</td>\n",
       "    </tr>\n",
       "    <tr>\n",
       "      <th>2020-04-30 23:59:00</th>\n",
       "      <td>755</td>\n",
       "      <td>1743</td>\n",
       "      <td>318</td>\n",
       "      <td>3.21</td>\n",
       "      <td>1</td>\n",
       "    </tr>\n",
       "    <tr>\n",
       "      <th>2020-04-30 23:59:00</th>\n",
       "      <td>385</td>\n",
       "      <td>206</td>\n",
       "      <td>317</td>\n",
       "      <td>3.19</td>\n",
       "      <td>1</td>\n",
       "    </tr>\n",
       "    <tr>\n",
       "      <th>2020-04-30 23:59:00</th>\n",
       "      <td>465</td>\n",
       "      <td>148</td>\n",
       "      <td>316</td>\n",
       "      <td>3.20</td>\n",
       "      <td>1</td>\n",
       "    </tr>\n",
       "    <tr>\n",
       "      <th>2020-04-30 23:59:00</th>\n",
       "      <td>467</td>\n",
       "      <td>0</td>\n",
       "      <td>314</td>\n",
       "      <td>3.19</td>\n",
       "      <td>1</td>\n",
       "    </tr>\n",
       "    <tr>\n",
       "      <th>2020-04-30 23:59:00</th>\n",
       "      <td>453</td>\n",
       "      <td>125</td>\n",
       "      <td>312</td>\n",
       "      <td>3.20</td>\n",
       "      <td>1</td>\n",
       "    </tr>\n",
       "  </tbody>\n",
       "</table>\n",
       "<p>835200 rows × 5 columns</p>\n",
       "</div>"
      ],
      "text/plain": [
       "                     MELT_TEMP  MOTORSPEED  MELT_WEIGHT  INSP  TAG\n",
       "STD_DT                                                            \n",
       "2020-03-04 00:00:00        489         116          631  3.19    1\n",
       "2020-03-04 00:00:00        433          78          609  3.19    1\n",
       "2020-03-04 00:00:00        464         154          608  3.19    1\n",
       "2020-03-04 00:00:00        379         212          606  3.19    1\n",
       "2020-03-04 00:00:00        798        1736          604  3.21    1\n",
       "...                        ...         ...          ...   ...  ...\n",
       "2020-04-30 23:59:00        755        1743          318  3.21    1\n",
       "2020-04-30 23:59:00        385         206          317  3.19    1\n",
       "2020-04-30 23:59:00        465         148          316  3.20    1\n",
       "2020-04-30 23:59:00        467           0          314  3.19    1\n",
       "2020-04-30 23:59:00        453         125          312  3.20    1\n",
       "\n",
       "[835200 rows x 5 columns]"
      ]
     },
     "execution_count": 136,
     "metadata": {},
     "output_type": "execute_result"
    }
   ],
   "source": [
    "dataset_1 = dataset_1.set_index(['STD_DT'])\n",
    "dataset_1 = dataset_1.drop('NUM', axis=1)\n",
    "dataset_1.replace({'TAG': {'OK': 1, 'NG': 0}}, inplace=True)\n",
    "dataset_1"
   ]
  },
  {
   "cell_type": "code",
   "execution_count": 155,
   "id": "f13e94d8",
   "metadata": {},
   "outputs": [],
   "source": [
    "from datetime import datetime\n",
    "from sklearn import preprocessing\n",
    "from sklearn.model_selection import train_test_split\n",
    "from sklearn.metrics import *\n",
    "from imblearn.over_sampling import SMOTE\n",
    "\n",
    "from keras.models import Sequential\n",
    "from keras.layers import Dense, LSTM\n",
    "from keras.preprocessing import sequence\n",
    "from keras.utils import np_utils\n",
    "from keras.callbacks import EarlyStopping, ModelCheckpoint"
   ]
  },
  {
   "cell_type": "code",
   "execution_count": 166,
   "id": "21738942",
   "metadata": {},
   "outputs": [
    {
     "data": {
      "text/html": [
       "<div>\n",
       "<style scoped>\n",
       "    .dataframe tbody tr th:only-of-type {\n",
       "        vertical-align: middle;\n",
       "    }\n",
       "\n",
       "    .dataframe tbody tr th {\n",
       "        vertical-align: top;\n",
       "    }\n",
       "\n",
       "    .dataframe thead th {\n",
       "        text-align: right;\n",
       "    }\n",
       "</style>\n",
       "<table border=\"1\" class=\"dataframe\">\n",
       "  <thead>\n",
       "    <tr style=\"text-align: right;\">\n",
       "      <th></th>\n",
       "      <th>STD_DT</th>\n",
       "      <th>NUM</th>\n",
       "      <th>MELT_TEMP</th>\n",
       "      <th>MOTORSPEED</th>\n",
       "      <th>MELT_WEIGHT</th>\n",
       "      <th>INSP</th>\n",
       "      <th>TAG</th>\n",
       "    </tr>\n",
       "  </thead>\n",
       "  <tbody>\n",
       "    <tr>\n",
       "      <th>0</th>\n",
       "      <td>2020-03-04 00:00:00</td>\n",
       "      <td>0</td>\n",
       "      <td>489</td>\n",
       "      <td>116</td>\n",
       "      <td>631</td>\n",
       "      <td>3.19</td>\n",
       "      <td>OK</td>\n",
       "    </tr>\n",
       "    <tr>\n",
       "      <th>1</th>\n",
       "      <td>2020-03-04 00:00:00</td>\n",
       "      <td>1</td>\n",
       "      <td>433</td>\n",
       "      <td>78</td>\n",
       "      <td>609</td>\n",
       "      <td>3.19</td>\n",
       "      <td>OK</td>\n",
       "    </tr>\n",
       "    <tr>\n",
       "      <th>2</th>\n",
       "      <td>2020-03-04 00:00:00</td>\n",
       "      <td>2</td>\n",
       "      <td>464</td>\n",
       "      <td>154</td>\n",
       "      <td>608</td>\n",
       "      <td>3.19</td>\n",
       "      <td>OK</td>\n",
       "    </tr>\n",
       "    <tr>\n",
       "      <th>3</th>\n",
       "      <td>2020-03-04 00:00:00</td>\n",
       "      <td>3</td>\n",
       "      <td>379</td>\n",
       "      <td>212</td>\n",
       "      <td>606</td>\n",
       "      <td>3.19</td>\n",
       "      <td>OK</td>\n",
       "    </tr>\n",
       "    <tr>\n",
       "      <th>4</th>\n",
       "      <td>2020-03-04 00:00:00</td>\n",
       "      <td>4</td>\n",
       "      <td>798</td>\n",
       "      <td>1736</td>\n",
       "      <td>604</td>\n",
       "      <td>3.21</td>\n",
       "      <td>OK</td>\n",
       "    </tr>\n",
       "    <tr>\n",
       "      <th>...</th>\n",
       "      <td>...</td>\n",
       "      <td>...</td>\n",
       "      <td>...</td>\n",
       "      <td>...</td>\n",
       "      <td>...</td>\n",
       "      <td>...</td>\n",
       "      <td>...</td>\n",
       "    </tr>\n",
       "    <tr>\n",
       "      <th>835195</th>\n",
       "      <td>2020-04-30 23:59:00</td>\n",
       "      <td>835195</td>\n",
       "      <td>755</td>\n",
       "      <td>1743</td>\n",
       "      <td>318</td>\n",
       "      <td>3.21</td>\n",
       "      <td>OK</td>\n",
       "    </tr>\n",
       "    <tr>\n",
       "      <th>835196</th>\n",
       "      <td>2020-04-30 23:59:00</td>\n",
       "      <td>835196</td>\n",
       "      <td>385</td>\n",
       "      <td>206</td>\n",
       "      <td>317</td>\n",
       "      <td>3.19</td>\n",
       "      <td>OK</td>\n",
       "    </tr>\n",
       "    <tr>\n",
       "      <th>835197</th>\n",
       "      <td>2020-04-30 23:59:00</td>\n",
       "      <td>835197</td>\n",
       "      <td>465</td>\n",
       "      <td>148</td>\n",
       "      <td>316</td>\n",
       "      <td>3.20</td>\n",
       "      <td>OK</td>\n",
       "    </tr>\n",
       "    <tr>\n",
       "      <th>835198</th>\n",
       "      <td>2020-04-30 23:59:00</td>\n",
       "      <td>835198</td>\n",
       "      <td>467</td>\n",
       "      <td>0</td>\n",
       "      <td>314</td>\n",
       "      <td>3.19</td>\n",
       "      <td>OK</td>\n",
       "    </tr>\n",
       "    <tr>\n",
       "      <th>835199</th>\n",
       "      <td>2020-04-30 23:59:00</td>\n",
       "      <td>835199</td>\n",
       "      <td>453</td>\n",
       "      <td>125</td>\n",
       "      <td>312</td>\n",
       "      <td>3.20</td>\n",
       "      <td>OK</td>\n",
       "    </tr>\n",
       "  </tbody>\n",
       "</table>\n",
       "<p>835200 rows × 7 columns</p>\n",
       "</div>"
      ],
      "text/plain": [
       "                    STD_DT     NUM  MELT_TEMP  MOTORSPEED  MELT_WEIGHT  INSP  \\\n",
       "0      2020-03-04 00:00:00       0        489         116          631  3.19   \n",
       "1      2020-03-04 00:00:00       1        433          78          609  3.19   \n",
       "2      2020-03-04 00:00:00       2        464         154          608  3.19   \n",
       "3      2020-03-04 00:00:00       3        379         212          606  3.19   \n",
       "4      2020-03-04 00:00:00       4        798        1736          604  3.21   \n",
       "...                    ...     ...        ...         ...          ...   ...   \n",
       "835195 2020-04-30 23:59:00  835195        755        1743          318  3.21   \n",
       "835196 2020-04-30 23:59:00  835196        385         206          317  3.19   \n",
       "835197 2020-04-30 23:59:00  835197        465         148          316  3.20   \n",
       "835198 2020-04-30 23:59:00  835198        467           0          314  3.19   \n",
       "835199 2020-04-30 23:59:00  835199        453         125          312  3.20   \n",
       "\n",
       "       TAG  \n",
       "0       OK  \n",
       "1       OK  \n",
       "2       OK  \n",
       "3       OK  \n",
       "4       OK  \n",
       "...     ..  \n",
       "835195  OK  \n",
       "835196  OK  \n",
       "835197  OK  \n",
       "835198  OK  \n",
       "835199  OK  \n",
       "\n",
       "[835200 rows x 7 columns]"
      ]
     },
     "execution_count": 166,
     "metadata": {},
     "output_type": "execute_result"
    }
   ],
   "source": [
    "dataset_1"
   ]
  },
  {
   "cell_type": "code",
   "execution_count": 167,
   "id": "8a58562a",
   "metadata": {},
   "outputs": [],
   "source": [
    "def make_dataset(data, label, window_size):\n",
    "    feature_list = []\n",
    "    label_list = []\n",
    "    for i in range(len(data) - window_size):\n",
    "        feature_list.append(np.array(data.iloc[i:i+window_size]))\n",
    "        label_list.append(np.array(label.iloc[i+window_size]))\n",
    "    return np.array(feature_list), np.array(label_list)"
   ]
  },
  {
   "cell_type": "code",
   "execution_count": 168,
   "id": "39da4fd1",
   "metadata": {},
   "outputs": [],
   "source": [
    "col_name = ['MELT_TEMP', 'MOTORSPEED', 'MELT_WEIGHT', 'INSP', 'TAG']"
   ]
  },
  {
   "cell_type": "code",
   "execution_count": 169,
   "id": "ca963381",
   "metadata": {},
   "outputs": [],
   "source": [
    "encoder = preprocessing.LabelEncoder()\n",
    "dataset_1['TAG'] = encoder.fit_transform(df['TAG'])\n",
    "dataset_1['TAG'] = dataset_1['TAG'].astype('float32')"
   ]
  },
  {
   "cell_type": "code",
   "execution_count": 170,
   "id": "86560527",
   "metadata": {},
   "outputs": [
    {
     "data": {
      "text/html": [
       "<div>\n",
       "<style scoped>\n",
       "    .dataframe tbody tr th:only-of-type {\n",
       "        vertical-align: middle;\n",
       "    }\n",
       "\n",
       "    .dataframe tbody tr th {\n",
       "        vertical-align: top;\n",
       "    }\n",
       "\n",
       "    .dataframe thead th {\n",
       "        text-align: right;\n",
       "    }\n",
       "</style>\n",
       "<table border=\"1\" class=\"dataframe\">\n",
       "  <thead>\n",
       "    <tr style=\"text-align: right;\">\n",
       "      <th></th>\n",
       "      <th>MELT_TEMP</th>\n",
       "      <th>MOTORSPEED</th>\n",
       "      <th>MELT_WEIGHT</th>\n",
       "      <th>INSP</th>\n",
       "      <th>TAG</th>\n",
       "    </tr>\n",
       "  </thead>\n",
       "  <tbody>\n",
       "    <tr>\n",
       "      <th>0</th>\n",
       "      <td>489</td>\n",
       "      <td>116</td>\n",
       "      <td>631</td>\n",
       "      <td>3.19</td>\n",
       "      <td>1.0</td>\n",
       "    </tr>\n",
       "    <tr>\n",
       "      <th>1</th>\n",
       "      <td>433</td>\n",
       "      <td>78</td>\n",
       "      <td>609</td>\n",
       "      <td>3.19</td>\n",
       "      <td>1.0</td>\n",
       "    </tr>\n",
       "    <tr>\n",
       "      <th>2</th>\n",
       "      <td>464</td>\n",
       "      <td>154</td>\n",
       "      <td>608</td>\n",
       "      <td>3.19</td>\n",
       "      <td>1.0</td>\n",
       "    </tr>\n",
       "    <tr>\n",
       "      <th>3</th>\n",
       "      <td>379</td>\n",
       "      <td>212</td>\n",
       "      <td>606</td>\n",
       "      <td>3.19</td>\n",
       "      <td>1.0</td>\n",
       "    </tr>\n",
       "    <tr>\n",
       "      <th>4</th>\n",
       "      <td>798</td>\n",
       "      <td>1736</td>\n",
       "      <td>604</td>\n",
       "      <td>3.21</td>\n",
       "      <td>1.0</td>\n",
       "    </tr>\n",
       "    <tr>\n",
       "      <th>...</th>\n",
       "      <td>...</td>\n",
       "      <td>...</td>\n",
       "      <td>...</td>\n",
       "      <td>...</td>\n",
       "      <td>...</td>\n",
       "    </tr>\n",
       "    <tr>\n",
       "      <th>835195</th>\n",
       "      <td>755</td>\n",
       "      <td>1743</td>\n",
       "      <td>318</td>\n",
       "      <td>3.21</td>\n",
       "      <td>1.0</td>\n",
       "    </tr>\n",
       "    <tr>\n",
       "      <th>835196</th>\n",
       "      <td>385</td>\n",
       "      <td>206</td>\n",
       "      <td>317</td>\n",
       "      <td>3.19</td>\n",
       "      <td>1.0</td>\n",
       "    </tr>\n",
       "    <tr>\n",
       "      <th>835197</th>\n",
       "      <td>465</td>\n",
       "      <td>148</td>\n",
       "      <td>316</td>\n",
       "      <td>3.20</td>\n",
       "      <td>1.0</td>\n",
       "    </tr>\n",
       "    <tr>\n",
       "      <th>835198</th>\n",
       "      <td>467</td>\n",
       "      <td>0</td>\n",
       "      <td>314</td>\n",
       "      <td>3.19</td>\n",
       "      <td>1.0</td>\n",
       "    </tr>\n",
       "    <tr>\n",
       "      <th>835199</th>\n",
       "      <td>453</td>\n",
       "      <td>125</td>\n",
       "      <td>312</td>\n",
       "      <td>3.20</td>\n",
       "      <td>1.0</td>\n",
       "    </tr>\n",
       "  </tbody>\n",
       "</table>\n",
       "<p>835200 rows × 5 columns</p>\n",
       "</div>"
      ],
      "text/plain": [
       "        MELT_TEMP  MOTORSPEED  MELT_WEIGHT  INSP  TAG\n",
       "0             489         116          631  3.19  1.0\n",
       "1             433          78          609  3.19  1.0\n",
       "2             464         154          608  3.19  1.0\n",
       "3             379         212          606  3.19  1.0\n",
       "4             798        1736          604  3.21  1.0\n",
       "...           ...         ...          ...   ...  ...\n",
       "835195        755        1743          318  3.21  1.0\n",
       "835196        385         206          317  3.19  1.0\n",
       "835197        465         148          316  3.20  1.0\n",
       "835198        467           0          314  3.19  1.0\n",
       "835199        453         125          312  3.20  1.0\n",
       "\n",
       "[835200 rows x 5 columns]"
      ]
     },
     "execution_count": 170,
     "metadata": {},
     "output_type": "execute_result"
    }
   ],
   "source": [
    "dataset_2 = dataset_1[['MELT_TEMP', 'MOTORSPEED', 'MELT_WEIGHT', 'INSP', 'TAG']]\n",
    "dataset_2"
   ]
  },
  {
   "cell_type": "code",
   "execution_count": 171,
   "id": "dbb6b2fa",
   "metadata": {},
   "outputs": [],
   "source": [
    "split_date = int(dataset_2.shape[0]*0.7)"
   ]
  },
  {
   "cell_type": "code",
   "execution_count": 172,
   "id": "13b70136",
   "metadata": {},
   "outputs": [],
   "source": [
    "train = dataset_2[:split_date]\n",
    "test = dataset_2[split_date:]"
   ]
  },
  {
   "cell_type": "code",
   "execution_count": 173,
   "id": "970b1af3",
   "metadata": {},
   "outputs": [
    {
     "name": "stdout",
     "output_type": "stream",
     "text": [
      "(584640, 5)\n",
      "(250560, 5)\n"
     ]
    }
   ],
   "source": [
    "print(train.shape)\n",
    "print(test.shape)"
   ]
  },
  {
   "cell_type": "code",
   "execution_count": 174,
   "id": "68ebbb27",
   "metadata": {},
   "outputs": [],
   "source": [
    "scaler = preprocessing.MinMaxScaler()\n",
    "\n",
    "train_sc = scaler.fit_transform(train)\n",
    "test_sc = scaler.transform(test)"
   ]
  },
  {
   "cell_type": "code",
   "execution_count": 175,
   "id": "c135767b",
   "metadata": {},
   "outputs": [],
   "source": [
    "x_train_values = train_sc[:, :-1]\n",
    "y_train_values = train_sc[:,-1]"
   ]
  },
  {
   "cell_type": "code",
   "execution_count": 176,
   "id": "032ec4bb",
   "metadata": {},
   "outputs": [
    {
     "name": "stdout",
     "output_type": "stream",
     "text": [
      "SMOTE 적용 전 학습용 피처/레이블 데이터 세트 (584640, 4) (584640,)\n",
      "SMOTE 적용 후 학습용 피처/레이블 데이터 세트 (821032, 4) (821032,)\n",
      "SMOTE 적용 후 레이블 값 분포: \n",
      " 1.0    410516\n",
      "0.0    410516\n",
      "dtype: int64\n"
     ]
    }
   ],
   "source": [
    "smote = SMOTE(random_state = 1)\n",
    "\n",
    "X_train_over, y_train_over = smote.fit_resample(x_train_values, y_train_values)\n",
    "print('SMOTE 적용 전 학습용 피처/레이블 데이터 세트', x_train_values.shape, y_train_values.shape)\n",
    "print('SMOTE 적용 후 학습용 피처/레이블 데이터 세트', X_train_over.shape, y_train_over.shape)\n",
    "print('SMOTE 적용 후 레이블 값 분포: \\n', pd.Series(y_train_over).value_counts())"
   ]
  },
  {
   "cell_type": "code",
   "execution_count": 177,
   "id": "2d4e25ab",
   "metadata": {},
   "outputs": [
    {
     "data": {
      "text/plain": [
       "821032"
      ]
     },
     "execution_count": 177,
     "metadata": {},
     "output_type": "execute_result"
    }
   ],
   "source": [
    "len(X_train_over)"
   ]
  },
  {
   "cell_type": "code",
   "execution_count": 178,
   "id": "679ff479",
   "metadata": {},
   "outputs": [],
   "source": [
    "X_train_over = pd.DataFrame(X_train_over, columns = ['MELT_TEMP', 'MOTORSPEED', 'MELT_WEIGHT', 'INSP'])\n",
    "y_train_over = pd.DataFrame(y_train_over, columns = ['TAG'])"
   ]
  },
  {
   "cell_type": "code",
   "execution_count": 265,
   "id": "ed797890",
   "metadata": {},
   "outputs": [
    {
     "data": {
      "text/html": [
       "<div>\n",
       "<style scoped>\n",
       "    .dataframe tbody tr th:only-of-type {\n",
       "        vertical-align: middle;\n",
       "    }\n",
       "\n",
       "    .dataframe tbody tr th {\n",
       "        vertical-align: top;\n",
       "    }\n",
       "\n",
       "    .dataframe thead th {\n",
       "        text-align: right;\n",
       "    }\n",
       "</style>\n",
       "<table border=\"1\" class=\"dataframe\">\n",
       "  <thead>\n",
       "    <tr style=\"text-align: right;\">\n",
       "      <th></th>\n",
       "      <th>MELT_TEMP</th>\n",
       "      <th>MOTORSPEED</th>\n",
       "      <th>MELT_WEIGHT</th>\n",
       "      <th>INSP</th>\n",
       "    </tr>\n",
       "  </thead>\n",
       "  <tbody>\n",
       "    <tr>\n",
       "      <th>0</th>\n",
       "      <td>0.345420</td>\n",
       "      <td>0.064302</td>\n",
       "      <td>0.011420</td>\n",
       "      <td>0.333333</td>\n",
       "    </tr>\n",
       "    <tr>\n",
       "      <th>1</th>\n",
       "      <td>0.238550</td>\n",
       "      <td>0.043237</td>\n",
       "      <td>0.011022</td>\n",
       "      <td>0.333333</td>\n",
       "    </tr>\n",
       "    <tr>\n",
       "      <th>2</th>\n",
       "      <td>0.297710</td>\n",
       "      <td>0.085366</td>\n",
       "      <td>0.011004</td>\n",
       "      <td>0.333333</td>\n",
       "    </tr>\n",
       "    <tr>\n",
       "      <th>3</th>\n",
       "      <td>0.135496</td>\n",
       "      <td>0.117517</td>\n",
       "      <td>0.010968</td>\n",
       "      <td>0.333333</td>\n",
       "    </tr>\n",
       "    <tr>\n",
       "      <th>4</th>\n",
       "      <td>0.935115</td>\n",
       "      <td>0.962306</td>\n",
       "      <td>0.010932</td>\n",
       "      <td>0.666667</td>\n",
       "    </tr>\n",
       "    <tr>\n",
       "      <th>...</th>\n",
       "      <td>...</td>\n",
       "      <td>...</td>\n",
       "      <td>...</td>\n",
       "      <td>...</td>\n",
       "    </tr>\n",
       "    <tr>\n",
       "      <th>821027</th>\n",
       "      <td>0.187023</td>\n",
       "      <td>0.114745</td>\n",
       "      <td>0.005110</td>\n",
       "      <td>0.166667</td>\n",
       "    </tr>\n",
       "    <tr>\n",
       "      <th>821028</th>\n",
       "      <td>0.223282</td>\n",
       "      <td>0.122506</td>\n",
       "      <td>0.009400</td>\n",
       "      <td>0.166667</td>\n",
       "    </tr>\n",
       "    <tr>\n",
       "      <th>821029</th>\n",
       "      <td>0.083969</td>\n",
       "      <td>0.109756</td>\n",
       "      <td>0.001495</td>\n",
       "      <td>0.166667</td>\n",
       "    </tr>\n",
       "    <tr>\n",
       "      <th>821030</th>\n",
       "      <td>0.206107</td>\n",
       "      <td>0.120165</td>\n",
       "      <td>0.003398</td>\n",
       "      <td>0.166667</td>\n",
       "    </tr>\n",
       "    <tr>\n",
       "      <th>821031</th>\n",
       "      <td>0.150763</td>\n",
       "      <td>0.112964</td>\n",
       "      <td>0.012077</td>\n",
       "      <td>0.333333</td>\n",
       "    </tr>\n",
       "  </tbody>\n",
       "</table>\n",
       "<p>821032 rows × 4 columns</p>\n",
       "</div>"
      ],
      "text/plain": [
       "        MELT_TEMP  MOTORSPEED  MELT_WEIGHT      INSP\n",
       "0        0.345420    0.064302     0.011420  0.333333\n",
       "1        0.238550    0.043237     0.011022  0.333333\n",
       "2        0.297710    0.085366     0.011004  0.333333\n",
       "3        0.135496    0.117517     0.010968  0.333333\n",
       "4        0.935115    0.962306     0.010932  0.666667\n",
       "...           ...         ...          ...       ...\n",
       "821027   0.187023    0.114745     0.005110  0.166667\n",
       "821028   0.223282    0.122506     0.009400  0.166667\n",
       "821029   0.083969    0.109756     0.001495  0.166667\n",
       "821030   0.206107    0.120165     0.003398  0.166667\n",
       "821031   0.150763    0.112964     0.012077  0.333333\n",
       "\n",
       "[821032 rows x 4 columns]"
      ]
     },
     "execution_count": 265,
     "metadata": {},
     "output_type": "execute_result"
    }
   ],
   "source": [
    "X_train_over"
   ]
  },
  {
   "cell_type": "code",
   "execution_count": 179,
   "id": "56628202",
   "metadata": {},
   "outputs": [],
   "source": [
    "#train dataset\n",
    "train_feature, train_label = make_dataset(X_train_over, y_train_over, 10)"
   ]
  },
  {
   "cell_type": "code",
   "execution_count": 270,
   "id": "22046f55",
   "metadata": {},
   "outputs": [],
   "source": [
    "test_sc = pd.DataFrame(test_sc, columns = ['MELT_TEMP', 'MOTORSPEED', 'MELT_WEIGHT', 'INSP', 'TAG'])"
   ]
  },
  {
   "cell_type": "code",
   "execution_count": 271,
   "id": "4691ce01",
   "metadata": {},
   "outputs": [],
   "source": [
    "feature_cols = ['MELT_TEMP', 'MOTORSPEED', 'MELT_WEIGHT', 'INSP']\n",
    "label_cols = ['TAG']"
   ]
  },
  {
   "cell_type": "code",
   "execution_count": 272,
   "id": "2a3fb6d3",
   "metadata": {},
   "outputs": [
    {
     "data": {
      "text/plain": [
       "((250550, 10, 4), (250550, 1))"
      ]
     },
     "execution_count": 272,
     "metadata": {},
     "output_type": "execute_result"
    }
   ],
   "source": [
    "test_feature = test_sc[feature_cols]\n",
    "test_label = test_sc[label_cols]\n",
    "\n",
    "# test dataset (실제 예측 해볼 데이터)\n",
    "test_feature, test_label = make_dataset(test_feature, test_label, 10)\n",
    "test_feature.shape, test_label.shape"
   ]
  },
  {
   "cell_type": "code",
   "execution_count": 273,
   "id": "3c5855a1",
   "metadata": {},
   "outputs": [
    {
     "data": {
      "text/plain": [
       "((574715, 10, 4), (246307, 10, 4))"
      ]
     },
     "execution_count": 273,
     "metadata": {},
     "output_type": "execute_result"
    }
   ],
   "source": [
    "x_train, x_valid, y_train, y_valid = train_test_split(train_feature, train_label, test_size = 0.3)\n",
    "x_train.shape, x_valid.shape"
   ]
  },
  {
   "cell_type": "code",
   "execution_count": 274,
   "id": "6bd44695",
   "metadata": {},
   "outputs": [],
   "source": [
    "model = Sequential()\n",
    "model.add(LSTM(50, \n",
    "               input_shape = (train_feature.shape[1], train_feature.shape[2]), activation = 'tanh', return_sequences = False))\n",
    "model.add(Dense(1, activation = 'sigmoid'))"
   ]
  },
  {
   "cell_type": "code",
   "execution_count": 272,
   "id": "5ad1376b",
   "metadata": {},
   "outputs": [],
   "source": [
    "path = \"C:/Users/islab/Desktop/jihyeon/전자제조시스템\"\n",
    "os.chdir(path)"
   ]
  },
  {
   "cell_type": "code",
   "execution_count": 273,
   "id": "86b6953d",
   "metadata": {},
   "outputs": [],
   "source": [
    "model_path = path"
   ]
  },
  {
   "cell_type": "code",
   "execution_count": 274,
   "id": "4e2aee37",
   "metadata": {},
   "outputs": [],
   "source": [
    "model.compile(loss = 'binary_crossentropy', optimizer = 'adam', metrics = ['accuracy'])\n",
    "early_stop = EarlyStopping(monitor = 'val_loss', patience = 5)\n",
    "filename = os.path.join(model_path, 'tmp_checkpoint.h5')\n",
    "checkpoint = ModelCheckpoint(filename, monitor = 'val_loss', verbose = 1, save_best_only = True, mode = 'auto')"
   ]
  },
  {
   "cell_type": "code",
   "execution_count": 275,
   "id": "cf161066",
   "metadata": {
    "scrolled": true
   },
   "outputs": [
    {
     "name": "stdout",
     "output_type": "stream",
     "text": [
      "Epoch 1/200\n",
      "57472/57472 [==============================] - ETA: 0s - loss: 0.3498 - accuracy: 0.8049\n",
      "Epoch 1: val_loss improved from inf to 0.34125, saving model to C:/Users/islab/Desktop/jihyeon/전자제조시스템\\tmp_checkpoint.h5\n",
      "57472/57472 [==============================] - 273s 5ms/step - loss: 0.3498 - accuracy: 0.8049 - val_loss: 0.3413 - val_accuracy: 0.8125\n",
      "Epoch 2/200\n",
      "57463/57472 [============================>.] - ETA: 0s - loss: 0.3395 - accuracy: 0.8115\n",
      "Epoch 2: val_loss improved from 0.34125 to 0.33897, saving model to C:/Users/islab/Desktop/jihyeon/전자제조시스템\\tmp_checkpoint.h5\n",
      "57472/57472 [==============================] - 268s 5ms/step - loss: 0.3395 - accuracy: 0.8115 - val_loss: 0.3390 - val_accuracy: 0.8081\n",
      "Epoch 3/200\n",
      "57462/57472 [============================>.] - ETA: 0s - loss: 0.3376 - accuracy: 0.8129\n",
      "Epoch 3: val_loss did not improve from 0.33897\n",
      "57472/57472 [==============================] - 270s 5ms/step - loss: 0.3376 - accuracy: 0.8129 - val_loss: 0.3395 - val_accuracy: 0.8134\n",
      "Epoch 4/200\n",
      "57470/57472 [============================>.] - ETA: 0s - loss: 0.3361 - accuracy: 0.8143\n",
      "Epoch 4: val_loss improved from 0.33897 to 0.33686, saving model to C:/Users/islab/Desktop/jihyeon/전자제조시스템\\tmp_checkpoint.h5\n",
      "57472/57472 [==============================] - 268s 5ms/step - loss: 0.3361 - accuracy: 0.8143 - val_loss: 0.3369 - val_accuracy: 0.8139\n",
      "Epoch 5/200\n",
      "57472/57472 [==============================] - ETA: 0s - loss: 0.3352 - accuracy: 0.8154\n",
      "Epoch 5: val_loss improved from 0.33686 to 0.33553, saving model to C:/Users/islab/Desktop/jihyeon/전자제조시스템\\tmp_checkpoint.h5\n",
      "57472/57472 [==============================] - 266s 5ms/step - loss: 0.3352 - accuracy: 0.8154 - val_loss: 0.3355 - val_accuracy: 0.8142\n",
      "Epoch 6/200\n",
      "57471/57472 [============================>.] - ETA: 0s - loss: 0.3348 - accuracy: 0.8160\n",
      "Epoch 6: val_loss improved from 0.33553 to 0.33484, saving model to C:/Users/islab/Desktop/jihyeon/전자제조시스템\\tmp_checkpoint.h5\n",
      "57472/57472 [==============================] - 266s 5ms/step - loss: 0.3348 - accuracy: 0.8160 - val_loss: 0.3348 - val_accuracy: 0.8167\n",
      "Epoch 7/200\n",
      "57469/57472 [============================>.] - ETA: 0s - loss: 0.3345 - accuracy: 0.8164\n",
      "Epoch 7: val_loss improved from 0.33484 to 0.33450, saving model to C:/Users/islab/Desktop/jihyeon/전자제조시스템\\tmp_checkpoint.h5\n",
      "57472/57472 [==============================] - 264s 5ms/step - loss: 0.3345 - accuracy: 0.8164 - val_loss: 0.3345 - val_accuracy: 0.8167\n",
      "Epoch 8/200\n",
      "57471/57472 [============================>.] - ETA: 0s - loss: 0.3343 - accuracy: 0.8169\n",
      "Epoch 8: val_loss did not improve from 0.33450\n",
      "57472/57472 [==============================] - 266s 5ms/step - loss: 0.3343 - accuracy: 0.8169 - val_loss: 0.3381 - val_accuracy: 0.8152\n",
      "Epoch 9/200\n",
      "57470/57472 [============================>.] - ETA: 0s - loss: 0.3343 - accuracy: 0.8169\n",
      "Epoch 9: val_loss did not improve from 0.33450\n",
      "57472/57472 [==============================] - 264s 5ms/step - loss: 0.3343 - accuracy: 0.8169 - val_loss: 0.3357 - val_accuracy: 0.8160\n",
      "Epoch 10/200\n",
      "57461/57472 [============================>.] - ETA: 0s - loss: 0.3341 - accuracy: 0.8171\n",
      "Epoch 10: val_loss did not improve from 0.33450\n",
      "57472/57472 [==============================] - 264s 5ms/step - loss: 0.3341 - accuracy: 0.8171 - val_loss: 0.3371 - val_accuracy: 0.8116\n",
      "Epoch 11/200\n",
      "57464/57472 [============================>.] - ETA: 0s - loss: 0.3338 - accuracy: 0.8172\n",
      "Epoch 11: val_loss did not improve from 0.33450\n",
      "57472/57472 [==============================] - 264s 5ms/step - loss: 0.3338 - accuracy: 0.8172 - val_loss: 0.3361 - val_accuracy: 0.8160\n",
      "Epoch 12/200\n",
      "57463/57472 [============================>.] - ETA: 0s - loss: 0.3339 - accuracy: 0.8172\n",
      "Epoch 12: val_loss improved from 0.33450 to 0.33430, saving model to C:/Users/islab/Desktop/jihyeon/전자제조시스템\\tmp_checkpoint.h5\n",
      "57472/57472 [==============================] - 263s 5ms/step - loss: 0.3339 - accuracy: 0.8172 - val_loss: 0.3343 - val_accuracy: 0.8172\n",
      "Epoch 13/200\n",
      "57461/57472 [============================>.] - ETA: 0s - loss: 0.3336 - accuracy: 0.8174\n",
      "Epoch 13: val_loss did not improve from 0.33430\n",
      "57472/57472 [==============================] - 263s 5ms/step - loss: 0.3336 - accuracy: 0.8174 - val_loss: 0.3345 - val_accuracy: 0.8143\n",
      "Epoch 14/200\n",
      "57469/57472 [============================>.] - ETA: 0s - loss: 0.3335 - accuracy: 0.8176\n",
      "Epoch 14: val_loss improved from 0.33430 to 0.33407, saving model to C:/Users/islab/Desktop/jihyeon/전자제조시스템\\tmp_checkpoint.h5\n",
      "57472/57472 [==============================] - 263s 5ms/step - loss: 0.3335 - accuracy: 0.8176 - val_loss: 0.3341 - val_accuracy: 0.8170\n",
      "Epoch 15/200\n",
      "57468/57472 [============================>.] - ETA: 0s - loss: 0.3334 - accuracy: 0.8174\n",
      "Epoch 15: val_loss did not improve from 0.33407\n",
      "57472/57472 [==============================] - 264s 5ms/step - loss: 0.3334 - accuracy: 0.8174 - val_loss: 0.3342 - val_accuracy: 0.8168\n",
      "Epoch 16/200\n",
      "57469/57472 [============================>.] - ETA: 0s - loss: 0.3335 - accuracy: 0.8177\n",
      "Epoch 16: val_loss improved from 0.33407 to 0.33364, saving model to C:/Users/islab/Desktop/jihyeon/전자제조시스템\\tmp_checkpoint.h5\n",
      "57472/57472 [==============================] - 263s 5ms/step - loss: 0.3335 - accuracy: 0.8177 - val_loss: 0.3336 - val_accuracy: 0.8178\n",
      "Epoch 17/200\n",
      "57464/57472 [============================>.] - ETA: 0s - loss: 0.3333 - accuracy: 0.8177\n",
      "Epoch 17: val_loss did not improve from 0.33364\n",
      "57472/57472 [==============================] - 263s 5ms/step - loss: 0.3333 - accuracy: 0.8177 - val_loss: 0.3341 - val_accuracy: 0.8169\n",
      "Epoch 18/200\n",
      "57461/57472 [============================>.] - ETA: 0s - loss: 0.3334 - accuracy: 0.8175\n",
      "Epoch 18: val_loss did not improve from 0.33364\n",
      "57472/57472 [==============================] - 262s 5ms/step - loss: 0.3334 - accuracy: 0.8175 - val_loss: 0.3356 - val_accuracy: 0.8169\n",
      "Epoch 19/200\n",
      "57461/57472 [============================>.] - ETA: 0s - loss: 0.3333 - accuracy: 0.8175\n",
      "Epoch 19: val_loss did not improve from 0.33364\n",
      "57472/57472 [==============================] - 264s 5ms/step - loss: 0.3333 - accuracy: 0.8175 - val_loss: 0.3339 - val_accuracy: 0.8177\n",
      "Epoch 20/200\n",
      "57463/57472 [============================>.] - ETA: 0s - loss: 0.3332 - accuracy: 0.8176\n",
      "Epoch 20: val_loss did not improve from 0.33364\n",
      "57472/57472 [==============================] - 264s 5ms/step - loss: 0.3332 - accuracy: 0.8176 - val_loss: 0.3345 - val_accuracy: 0.8171\n",
      "Epoch 21/200\n",
      "57472/57472 [==============================] - ETA: 0s - loss: 0.3330 - accuracy: 0.8175\n",
      "Epoch 21: val_loss did not improve from 0.33364\n",
      "57472/57472 [==============================] - 264s 5ms/step - loss: 0.3330 - accuracy: 0.8175 - val_loss: 0.3345 - val_accuracy: 0.8169\n"
     ]
    }
   ],
   "source": [
    "history = model.fit(x_train, y_train, epochs = 200, batch_size = 10, validation_data = (x_valid, y_valid), callbacks = [early_stop, checkpoint])"
   ]
  },
  {
   "cell_type": "code",
   "execution_count": 276,
   "id": "6a797c30",
   "metadata": {},
   "outputs": [
    {
     "name": "stdout",
     "output_type": "stream",
     "text": [
      "7830/7830 [==============================] - 14s 2ms/step\n"
     ]
    }
   ],
   "source": [
    "model.load_weights(filename)\n",
    "\n",
    "pred = model.predict(test_feature)"
   ]
  },
  {
   "cell_type": "code",
   "execution_count": 277,
   "id": "f4c4eb7b",
   "metadata": {},
   "outputs": [
    {
     "data": {
      "image/png": "[encoded data removed]",
      "text/plain": [
       "<Figure size 432x288 with 1 Axes>"
      ]
     },
     "metadata": {
      "needs_background": "light"
     },
     "output_type": "display_data"
    }
   ],
   "source": [
    "plt.plot(history.history[\"loss\"],label=\"train\")\n",
    "plt.plot(history.history[\"val_loss\"],label=\"validation\")\n",
    "plt.legend()\n",
    "plt.show()"
   ]
  },
  {
   "cell_type": "code",
   "execution_count": 278,
   "id": "3b41cc5b",
   "metadata": {},
   "outputs": [],
   "source": [
    "pred_df = pd.DataFrame(pred, columns=['TAG'])\n",
    "\n",
    "pred_df['TAG'] = pred_df['TAG'].apply(lambda x: 1 if x>=0.5 else 0)"
   ]
  },
  {
   "cell_type": "code",
   "execution_count": 279,
   "id": "7bc6251f",
   "metadata": {},
   "outputs": [
    {
     "data": {
      "text/plain": [
       "1    175636\n",
       "0     74914\n",
       "Name: TAG, dtype: int64"
      ]
     },
     "execution_count": 279,
     "metadata": {},
     "output_type": "execute_result"
    }
   ],
   "source": [
    "pred_df['TAG'].value_counts()"
   ]
  },
  {
   "cell_type": "code",
   "execution_count": 280,
   "id": "891263f0",
   "metadata": {},
   "outputs": [
    {
     "name": "stdout",
     "output_type": "stream",
     "text": [
      "[[  2155    785]\n",
      " [ 72759 174851]]\n"
     ]
    }
   ],
   "source": [
    "confusion = confusion_matrix(test_label, pred_df)\n",
    "print(confusion)"
   ]
  },
  {
   "cell_type": "code",
   "execution_count": 281,
   "id": "363b9402",
   "metadata": {},
   "outputs": [
    {
     "name": "stdout",
     "output_type": "stream",
     "text": [
      "precision : 0.9955\n",
      "recall : 0.7062\n",
      "f1-score : 0.8262\n",
      "accuracy : 0.7065\n"
     ]
    }
   ],
   "source": [
    "p = precision_score(test_label, pred_df)\n",
    "print('precision : %0.4f' %p)\n",
    "r = recall_score(test_label, pred_df)\n",
    "print('recall : %0.4f' %r)\n",
    "f1 = f1_score(test_label, pred_df)\n",
    "print('f1-score : %0.4f' %f1)\n",
    "acc = accuracy_score(test_label, pred_df)\n",
    "print('accuracy : %0.4f' %acc)"
   ]
  },
  {
   "cell_type": "code",
   "execution_count": 496,
   "id": "4e13b380",
   "metadata": {},
   "outputs": [
    {
     "data": {
      "text/html": [
       "<div>\n",
       "<style scoped>\n",
       "    .dataframe tbody tr th:only-of-type {\n",
       "        vertical-align: middle;\n",
       "    }\n",
       "\n",
       "    .dataframe tbody tr th {\n",
       "        vertical-align: top;\n",
       "    }\n",
       "\n",
       "    .dataframe thead th {\n",
       "        text-align: right;\n",
       "    }\n",
       "</style>\n",
       "<table border=\"1\" class=\"dataframe\">\n",
       "  <thead>\n",
       "    <tr style=\"text-align: right;\">\n",
       "      <th></th>\n",
       "      <th>MELT_TEMP</th>\n",
       "      <th>MOTORSPEED</th>\n",
       "      <th>MELT_WEIGHT</th>\n",
       "      <th>INSP</th>\n",
       "      <th>TAG</th>\n",
       "    </tr>\n",
       "    <tr>\n",
       "      <th>STD_DT</th>\n",
       "      <th></th>\n",
       "      <th></th>\n",
       "      <th></th>\n",
       "      <th></th>\n",
       "      <th></th>\n",
       "    </tr>\n",
       "  </thead>\n",
       "  <tbody>\n",
       "    <tr>\n",
       "      <th>2020-03-04 00:00:00</th>\n",
       "      <td>0.345420</td>\n",
       "      <td>0.064302</td>\n",
       "      <td>0.011420</td>\n",
       "      <td>0.333333</td>\n",
       "      <td>1.0</td>\n",
       "    </tr>\n",
       "    <tr>\n",
       "      <th>2020-03-04 00:00:00</th>\n",
       "      <td>0.238550</td>\n",
       "      <td>0.043237</td>\n",
       "      <td>0.011022</td>\n",
       "      <td>0.333333</td>\n",
       "      <td>1.0</td>\n",
       "    </tr>\n",
       "    <tr>\n",
       "      <th>2020-03-04 00:00:00</th>\n",
       "      <td>0.297710</td>\n",
       "      <td>0.085366</td>\n",
       "      <td>0.011004</td>\n",
       "      <td>0.333333</td>\n",
       "      <td>1.0</td>\n",
       "    </tr>\n",
       "    <tr>\n",
       "      <th>2020-03-04 00:00:00</th>\n",
       "      <td>0.135496</td>\n",
       "      <td>0.117517</td>\n",
       "      <td>0.010968</td>\n",
       "      <td>0.333333</td>\n",
       "      <td>1.0</td>\n",
       "    </tr>\n",
       "    <tr>\n",
       "      <th>2020-03-04 00:00:00</th>\n",
       "      <td>0.935115</td>\n",
       "      <td>0.962306</td>\n",
       "      <td>0.010932</td>\n",
       "      <td>0.666667</td>\n",
       "      <td>1.0</td>\n",
       "    </tr>\n",
       "    <tr>\n",
       "      <th>...</th>\n",
       "      <td>...</td>\n",
       "      <td>...</td>\n",
       "      <td>...</td>\n",
       "      <td>...</td>\n",
       "      <td>...</td>\n",
       "    </tr>\n",
       "    <tr>\n",
       "      <th>2020-04-30 23:59:00</th>\n",
       "      <td>0.853053</td>\n",
       "      <td>0.966186</td>\n",
       "      <td>0.005755</td>\n",
       "      <td>0.666667</td>\n",
       "      <td>1.0</td>\n",
       "    </tr>\n",
       "    <tr>\n",
       "      <th>2020-04-30 23:59:00</th>\n",
       "      <td>0.146947</td>\n",
       "      <td>0.114191</td>\n",
       "      <td>0.005737</td>\n",
       "      <td>0.333333</td>\n",
       "      <td>1.0</td>\n",
       "    </tr>\n",
       "    <tr>\n",
       "      <th>2020-04-30 23:59:00</th>\n",
       "      <td>0.299618</td>\n",
       "      <td>0.082040</td>\n",
       "      <td>0.005719</td>\n",
       "      <td>0.500000</td>\n",
       "      <td>1.0</td>\n",
       "    </tr>\n",
       "    <tr>\n",
       "      <th>2020-04-30 23:59:00</th>\n",
       "      <td>0.303435</td>\n",
       "      <td>0.000000</td>\n",
       "      <td>0.005683</td>\n",
       "      <td>0.333333</td>\n",
       "      <td>1.0</td>\n",
       "    </tr>\n",
       "    <tr>\n",
       "      <th>2020-04-30 23:59:00</th>\n",
       "      <td>0.276718</td>\n",
       "      <td>0.069290</td>\n",
       "      <td>0.005647</td>\n",
       "      <td>0.500000</td>\n",
       "      <td>1.0</td>\n",
       "    </tr>\n",
       "  </tbody>\n",
       "</table>\n",
       "<p>835200 rows × 5 columns</p>\n",
       "</div>"
      ],
      "text/plain": [
       "                     MELT_TEMP  MOTORSPEED  MELT_WEIGHT      INSP  TAG\n",
       "STD_DT                                                                \n",
       "2020-03-04 00:00:00   0.345420    0.064302     0.011420  0.333333  1.0\n",
       "2020-03-04 00:00:00   0.238550    0.043237     0.011022  0.333333  1.0\n",
       "2020-03-04 00:00:00   0.297710    0.085366     0.011004  0.333333  1.0\n",
       "2020-03-04 00:00:00   0.135496    0.117517     0.010968  0.333333  1.0\n",
       "2020-03-04 00:00:00   0.935115    0.962306     0.010932  0.666667  1.0\n",
       "...                        ...         ...          ...       ...  ...\n",
       "2020-04-30 23:59:00   0.853053    0.966186     0.005755  0.666667  1.0\n",
       "2020-04-30 23:59:00   0.146947    0.114191     0.005737  0.333333  1.0\n",
       "2020-04-30 23:59:00   0.299618    0.082040     0.005719  0.500000  1.0\n",
       "2020-04-30 23:59:00   0.303435    0.000000     0.005683  0.333333  1.0\n",
       "2020-04-30 23:59:00   0.276718    0.069290     0.005647  0.500000  1.0\n",
       "\n",
       "[835200 rows x 5 columns]"
      ]
     },
     "execution_count": 496,
     "metadata": {},
     "output_type": "execute_result"
    }
   ],
   "source": [
    "dataset_1"
   ]
  },
  {
   "cell_type": "code",
   "execution_count": 489,
   "id": "d5b97ea6",
   "metadata": {},
   "outputs": [
    {
     "data": {
      "text/html": [
       "<div>\n",
       "<style scoped>\n",
       "    .dataframe tbody tr th:only-of-type {\n",
       "        vertical-align: middle;\n",
       "    }\n",
       "\n",
       "    .dataframe tbody tr th {\n",
       "        vertical-align: top;\n",
       "    }\n",
       "\n",
       "    .dataframe thead th {\n",
       "        text-align: right;\n",
       "    }\n",
       "</style>\n",
       "<table border=\"1\" class=\"dataframe\">\n",
       "  <thead>\n",
       "    <tr style=\"text-align: right;\">\n",
       "      <th></th>\n",
       "      <th>MELT_TEMP</th>\n",
       "      <th>MOTORSPEED</th>\n",
       "      <th>MELT_WEIGHT</th>\n",
       "      <th>TAG</th>\n",
       "    </tr>\n",
       "    <tr>\n",
       "      <th>STD_DT</th>\n",
       "      <th></th>\n",
       "      <th></th>\n",
       "      <th></th>\n",
       "      <th></th>\n",
       "    </tr>\n",
       "  </thead>\n",
       "  <tbody>\n",
       "    <tr>\n",
       "      <th>2020-03-04 00:00:00</th>\n",
       "      <td>0.345420</td>\n",
       "      <td>0.064302</td>\n",
       "      <td>0.011420</td>\n",
       "      <td>1.0</td>\n",
       "    </tr>\n",
       "    <tr>\n",
       "      <th>2020-03-04 00:00:00</th>\n",
       "      <td>0.238550</td>\n",
       "      <td>0.043237</td>\n",
       "      <td>0.011022</td>\n",
       "      <td>1.0</td>\n",
       "    </tr>\n",
       "    <tr>\n",
       "      <th>2020-03-04 00:00:00</th>\n",
       "      <td>0.297710</td>\n",
       "      <td>0.085366</td>\n",
       "      <td>0.011004</td>\n",
       "      <td>1.0</td>\n",
       "    </tr>\n",
       "    <tr>\n",
       "      <th>2020-03-04 00:00:00</th>\n",
       "      <td>0.135496</td>\n",
       "      <td>0.117517</td>\n",
       "      <td>0.010968</td>\n",
       "      <td>1.0</td>\n",
       "    </tr>\n",
       "    <tr>\n",
       "      <th>2020-03-04 00:00:00</th>\n",
       "      <td>0.935115</td>\n",
       "      <td>0.962306</td>\n",
       "      <td>0.010932</td>\n",
       "      <td>1.0</td>\n",
       "    </tr>\n",
       "    <tr>\n",
       "      <th>...</th>\n",
       "      <td>...</td>\n",
       "      <td>...</td>\n",
       "      <td>...</td>\n",
       "      <td>...</td>\n",
       "    </tr>\n",
       "    <tr>\n",
       "      <th>2020-04-30 23:59:00</th>\n",
       "      <td>0.853053</td>\n",
       "      <td>0.966186</td>\n",
       "      <td>0.005755</td>\n",
       "      <td>1.0</td>\n",
       "    </tr>\n",
       "    <tr>\n",
       "      <th>2020-04-30 23:59:00</th>\n",
       "      <td>0.146947</td>\n",
       "      <td>0.114191</td>\n",
       "      <td>0.005737</td>\n",
       "      <td>1.0</td>\n",
       "    </tr>\n",
       "    <tr>\n",
       "      <th>2020-04-30 23:59:00</th>\n",
       "      <td>0.299618</td>\n",
       "      <td>0.082040</td>\n",
       "      <td>0.005719</td>\n",
       "      <td>1.0</td>\n",
       "    </tr>\n",
       "    <tr>\n",
       "      <th>2020-04-30 23:59:00</th>\n",
       "      <td>0.303435</td>\n",
       "      <td>0.000000</td>\n",
       "      <td>0.005683</td>\n",
       "      <td>1.0</td>\n",
       "    </tr>\n",
       "    <tr>\n",
       "      <th>2020-04-30 23:59:00</th>\n",
       "      <td>0.276718</td>\n",
       "      <td>0.069290</td>\n",
       "      <td>0.005647</td>\n",
       "      <td>1.0</td>\n",
       "    </tr>\n",
       "  </tbody>\n",
       "</table>\n",
       "<p>835200 rows × 4 columns</p>\n",
       "</div>"
      ],
      "text/plain": [
       "                     MELT_TEMP  MOTORSPEED  MELT_WEIGHT  TAG\n",
       "STD_DT                                                      \n",
       "2020-03-04 00:00:00   0.345420    0.064302     0.011420  1.0\n",
       "2020-03-04 00:00:00   0.238550    0.043237     0.011022  1.0\n",
       "2020-03-04 00:00:00   0.297710    0.085366     0.011004  1.0\n",
       "2020-03-04 00:00:00   0.135496    0.117517     0.010968  1.0\n",
       "2020-03-04 00:00:00   0.935115    0.962306     0.010932  1.0\n",
       "...                        ...         ...          ...  ...\n",
       "2020-04-30 23:59:00   0.853053    0.966186     0.005755  1.0\n",
       "2020-04-30 23:59:00   0.146947    0.114191     0.005737  1.0\n",
       "2020-04-30 23:59:00   0.299618    0.082040     0.005719  1.0\n",
       "2020-04-30 23:59:00   0.303435    0.000000     0.005683  1.0\n",
       "2020-04-30 23:59:00   0.276718    0.069290     0.005647  1.0\n",
       "\n",
       "[835200 rows x 4 columns]"
      ]
     },
     "execution_count": 489,
     "metadata": {},
     "output_type": "execute_result"
    }
   ],
   "source": [
    "dataset_3 = dataset_1.drop('INSP', axis=1)\n",
    "dataset_3"
   ]
  },
  {
   "cell_type": "code",
   "execution_count": 338,
   "id": "c69e0bd7",
   "metadata": {},
   "outputs": [],
   "source": [
    "split_date = int(dataset_3.shape[0]*0.7)"
   ]
  },
  {
   "cell_type": "code",
   "execution_count": 339,
   "id": "635c5881",
   "metadata": {},
   "outputs": [],
   "source": [
    "train = dataset_3[:split_date]\n",
    "test = dataset_3[split_date:]"
   ]
  },
  {
   "cell_type": "code",
   "execution_count": 340,
   "id": "3189e626",
   "metadata": {},
   "outputs": [
    {
     "name": "stdout",
     "output_type": "stream",
     "text": [
      "(584640, 4)\n",
      "(250560, 4)\n"
     ]
    }
   ],
   "source": [
    "print(train.shape)\n",
    "print(test.shape)"
   ]
  },
  {
   "cell_type": "code",
   "execution_count": 341,
   "id": "bf4387b1",
   "metadata": {},
   "outputs": [],
   "source": [
    "scaler = preprocessing.MinMaxScaler()\n",
    "\n",
    "train_sc = scaler.fit_transform(train)\n",
    "test_sc = scaler.transform(test)"
   ]
  },
  {
   "cell_type": "code",
   "execution_count": 342,
   "id": "13c5369b",
   "metadata": {},
   "outputs": [],
   "source": [
    "x_train_values = train_sc[:, :-1]\n",
    "y_train_values = train_sc[:,-1]"
   ]
  },
  {
   "cell_type": "code",
   "execution_count": 343,
   "id": "5b9a1bfc",
   "metadata": {},
   "outputs": [
    {
     "name": "stdout",
     "output_type": "stream",
     "text": [
      "SMOTE 적용 전 학습용 피처/레이블 데이터 세트 (584640, 3) (584640,)\n",
      "SMOTE 적용 후 학습용 피처/레이블 데이터 세트 (821032, 3) (821032,)\n",
      "SMOTE 적용 후 레이블 값 분포: \n",
      " 1.0    410516\n",
      "0.0    410516\n",
      "dtype: int64\n"
     ]
    }
   ],
   "source": [
    "smote = SMOTE(random_state = 1)\n",
    "\n",
    "X_train_over, y_train_over = smote.fit_resample(x_train_values, y_train_values)\n",
    "print('SMOTE 적용 전 학습용 피처/레이블 데이터 세트', x_train_values.shape, y_train_values.shape)\n",
    "print('SMOTE 적용 후 학습용 피처/레이블 데이터 세트', X_train_over.shape, y_train_over.shape)\n",
    "print('SMOTE 적용 후 레이블 값 분포: \\n', pd.Series(y_train_over).value_counts())"
   ]
  },
  {
   "cell_type": "code",
   "execution_count": 344,
   "id": "0e911b1c",
   "metadata": {},
   "outputs": [
    {
     "data": {
      "text/plain": [
       "821032"
      ]
     },
     "execution_count": 344,
     "metadata": {},
     "output_type": "execute_result"
    }
   ],
   "source": [
    "len(X_train_over)"
   ]
  },
  {
   "cell_type": "code",
   "execution_count": 345,
   "id": "120341de",
   "metadata": {},
   "outputs": [],
   "source": [
    "X_train_over = pd.DataFrame(X_train_over, columns = ['MELT_TEMP', 'MOTORSPEED', 'MELT_WEIGHT'])\n",
    "y_train_over = pd.DataFrame(y_train_over, columns = ['TAG'])"
   ]
  },
  {
   "cell_type": "code",
   "execution_count": 346,
   "id": "30e390e8",
   "metadata": {},
   "outputs": [
    {
     "data": {
      "text/html": [
       "<div>\n",
       "<style scoped>\n",
       "    .dataframe tbody tr th:only-of-type {\n",
       "        vertical-align: middle;\n",
       "    }\n",
       "\n",
       "    .dataframe tbody tr th {\n",
       "        vertical-align: top;\n",
       "    }\n",
       "\n",
       "    .dataframe thead th {\n",
       "        text-align: right;\n",
       "    }\n",
       "</style>\n",
       "<table border=\"1\" class=\"dataframe\">\n",
       "  <thead>\n",
       "    <tr style=\"text-align: right;\">\n",
       "      <th></th>\n",
       "      <th>MELT_TEMP</th>\n",
       "      <th>MOTORSPEED</th>\n",
       "      <th>MELT_WEIGHT</th>\n",
       "    </tr>\n",
       "  </thead>\n",
       "  <tbody>\n",
       "    <tr>\n",
       "      <th>0</th>\n",
       "      <td>0.345420</td>\n",
       "      <td>0.064302</td>\n",
       "      <td>0.011420</td>\n",
       "    </tr>\n",
       "    <tr>\n",
       "      <th>1</th>\n",
       "      <td>0.238550</td>\n",
       "      <td>0.043237</td>\n",
       "      <td>0.011022</td>\n",
       "    </tr>\n",
       "    <tr>\n",
       "      <th>2</th>\n",
       "      <td>0.297710</td>\n",
       "      <td>0.085366</td>\n",
       "      <td>0.011004</td>\n",
       "    </tr>\n",
       "    <tr>\n",
       "      <th>3</th>\n",
       "      <td>0.135496</td>\n",
       "      <td>0.117517</td>\n",
       "      <td>0.010968</td>\n",
       "    </tr>\n",
       "    <tr>\n",
       "      <th>4</th>\n",
       "      <td>0.935115</td>\n",
       "      <td>0.962306</td>\n",
       "      <td>0.010932</td>\n",
       "    </tr>\n",
       "    <tr>\n",
       "      <th>...</th>\n",
       "      <td>...</td>\n",
       "      <td>...</td>\n",
       "      <td>...</td>\n",
       "    </tr>\n",
       "    <tr>\n",
       "      <th>821027</th>\n",
       "      <td>0.187023</td>\n",
       "      <td>0.114745</td>\n",
       "      <td>0.004312</td>\n",
       "    </tr>\n",
       "    <tr>\n",
       "      <th>821028</th>\n",
       "      <td>0.223282</td>\n",
       "      <td>0.122336</td>\n",
       "      <td>0.009563</td>\n",
       "    </tr>\n",
       "    <tr>\n",
       "      <th>821029</th>\n",
       "      <td>0.083969</td>\n",
       "      <td>0.109756</td>\n",
       "      <td>0.001495</td>\n",
       "    </tr>\n",
       "    <tr>\n",
       "      <th>821030</th>\n",
       "      <td>0.206107</td>\n",
       "      <td>0.120165</td>\n",
       "      <td>0.003398</td>\n",
       "    </tr>\n",
       "    <tr>\n",
       "      <th>821031</th>\n",
       "      <td>0.150763</td>\n",
       "      <td>0.113082</td>\n",
       "      <td>0.011992</td>\n",
       "    </tr>\n",
       "  </tbody>\n",
       "</table>\n",
       "<p>821032 rows × 3 columns</p>\n",
       "</div>"
      ],
      "text/plain": [
       "        MELT_TEMP  MOTORSPEED  MELT_WEIGHT\n",
       "0        0.345420    0.064302     0.011420\n",
       "1        0.238550    0.043237     0.011022\n",
       "2        0.297710    0.085366     0.011004\n",
       "3        0.135496    0.117517     0.010968\n",
       "4        0.935115    0.962306     0.010932\n",
       "...           ...         ...          ...\n",
       "821027   0.187023    0.114745     0.004312\n",
       "821028   0.223282    0.122336     0.009563\n",
       "821029   0.083969    0.109756     0.001495\n",
       "821030   0.206107    0.120165     0.003398\n",
       "821031   0.150763    0.113082     0.011992\n",
       "\n",
       "[821032 rows x 3 columns]"
      ]
     },
     "execution_count": 346,
     "metadata": {},
     "output_type": "execute_result"
    }
   ],
   "source": [
    "X_train_over"
   ]
  },
  {
   "cell_type": "code",
   "execution_count": 347,
   "id": "6931938f",
   "metadata": {},
   "outputs": [],
   "source": [
    "#train dataset\n",
    "train_feature, train_label = make_dataset(X_train_over, y_train_over, 10)"
   ]
  },
  {
   "cell_type": "code",
   "execution_count": 348,
   "id": "022749f1",
   "metadata": {},
   "outputs": [],
   "source": [
    "test_sc = pd.DataFrame(test_sc, columns = ['MELT_TEMP', 'MOTORSPEED', 'MELT_WEIGHT', 'TAG'])"
   ]
  },
  {
   "cell_type": "code",
   "execution_count": 349,
   "id": "28fdd267",
   "metadata": {},
   "outputs": [],
   "source": [
    "feature_cols = ['MELT_TEMP', 'MOTORSPEED', 'MELT_WEIGHT']\n",
    "label_cols = ['TAG']"
   ]
  },
  {
   "cell_type": "code",
   "execution_count": 350,
   "id": "fe108fbc",
   "metadata": {},
   "outputs": [
    {
     "data": {
      "text/plain": [
       "((250550, 10, 3), (250550, 1))"
      ]
     },
     "execution_count": 350,
     "metadata": {},
     "output_type": "execute_result"
    }
   ],
   "source": [
    "test_feature = test_sc[feature_cols]\n",
    "test_label = test_sc[label_cols]\n",
    "\n",
    "# test dataset (실제 예측 해볼 데이터)\n",
    "test_feature, test_label = make_dataset(test_feature, test_label, 10)\n",
    "test_feature.shape, test_label.shape"
   ]
  },
  {
   "cell_type": "code",
   "execution_count": 351,
   "id": "01e5b63e",
   "metadata": {},
   "outputs": [
    {
     "data": {
      "text/plain": [
       "((574715, 10, 3), (246307, 10, 3))"
      ]
     },
     "execution_count": 351,
     "metadata": {},
     "output_type": "execute_result"
    }
   ],
   "source": [
    "x_train, x_valid, y_train, y_valid = train_test_split(train_feature, train_label, test_size = 0.3)\n",
    "x_train.shape, x_valid.shape"
   ]
  },
  {
   "cell_type": "code",
   "execution_count": 352,
   "id": "1dcdadcb",
   "metadata": {},
   "outputs": [],
   "source": [
    "model = Sequential()\n",
    "model.add(LSTM(50, \n",
    "               input_shape = (train_feature.shape[1], train_feature.shape[2]), activation = 'tanh', return_sequences = False))\n",
    "model.add(Dense(1, activation = 'sigmoid'))"
   ]
  },
  {
   "cell_type": "code",
   "execution_count": 353,
   "id": "c177ac68",
   "metadata": {},
   "outputs": [],
   "source": [
    "path = \"C:/Users/islab/Desktop/jihyeon/전자제조시스템\"\n",
    "os.chdir(path)"
   ]
  },
  {
   "cell_type": "code",
   "execution_count": 354,
   "id": "63026776",
   "metadata": {},
   "outputs": [],
   "source": [
    "model_path = path"
   ]
  },
  {
   "cell_type": "code",
   "execution_count": 355,
   "id": "2afa2fd9",
   "metadata": {},
   "outputs": [],
   "source": [
    "model.compile(loss = 'binary_crossentropy', optimizer = 'adam', metrics = ['accuracy'])\n",
    "early_stop = EarlyStopping(monitor = 'val_loss', patience = 5)\n",
    "filename = os.path.join(model_path, 'tmp_checkpoint.h5')\n",
    "checkpoint = ModelCheckpoint(filename, monitor = 'val_loss', verbose = 1, save_best_only = True, mode = 'auto')"
   ]
  },
  {
   "cell_type": "code",
   "execution_count": 356,
   "id": "6612e6b9",
   "metadata": {
    "scrolled": true
   },
   "outputs": [
    {
     "name": "stdout",
     "output_type": "stream",
     "text": [
      "Epoch 1/200\n",
      "57470/57472 [============================>.] - ETA: 0s - loss: 0.3507 - accuracy: 0.8045\n",
      "Epoch 1: val_loss improved from inf to 0.34041, saving model to C:/Users/islab/Desktop/jihyeon/전자제조시스템\\tmp_checkpoint.h5\n",
      "57472/57472 [==============================] - 290s 5ms/step - loss: 0.3507 - accuracy: 0.8045 - val_loss: 0.3404 - val_accuracy: 0.8132\n",
      "Epoch 2/200\n",
      "57469/57472 [============================>.] - ETA: 0s - loss: 0.3401 - accuracy: 0.8113\n",
      "Epoch 2: val_loss improved from 0.34041 to 0.33914, saving model to C:/Users/islab/Desktop/jihyeon/전자제조시스템\\tmp_checkpoint.h5\n",
      "57472/57472 [==============================] - 288s 5ms/step - loss: 0.3401 - accuracy: 0.8113 - val_loss: 0.3391 - val_accuracy: 0.8080\n",
      "Epoch 3/200\n",
      "57472/57472 [==============================] - ETA: 0s - loss: 0.3381 - accuracy: 0.8124\n",
      "Epoch 3: val_loss improved from 0.33914 to 0.33758, saving model to C:/Users/islab/Desktop/jihyeon/전자제조시스템\\tmp_checkpoint.h5\n",
      "57472/57472 [==============================] - 287s 5ms/step - loss: 0.3381 - accuracy: 0.8124 - val_loss: 0.3376 - val_accuracy: 0.8126\n",
      "Epoch 4/200\n",
      "57466/57472 [============================>.] - ETA: 0s - loss: 0.3371 - accuracy: 0.8133\n",
      "Epoch 4: val_loss improved from 0.33758 to 0.33597, saving model to C:/Users/islab/Desktop/jihyeon/전자제조시스템\\tmp_checkpoint.h5\n",
      "57472/57472 [==============================] - 287s 5ms/step - loss: 0.3371 - accuracy: 0.8133 - val_loss: 0.3360 - val_accuracy: 0.8145\n",
      "Epoch 5/200\n",
      "57467/57472 [============================>.] - ETA: 0s - loss: 0.3357 - accuracy: 0.8150\n",
      "Epoch 5: val_loss did not improve from 0.33597\n",
      "57472/57472 [==============================] - 288s 5ms/step - loss: 0.3357 - accuracy: 0.8150 - val_loss: 0.3363 - val_accuracy: 0.8126\n",
      "Epoch 6/200\n",
      "57468/57472 [============================>.] - ETA: 0s - loss: 0.3352 - accuracy: 0.8152\n",
      "Epoch 6: val_loss improved from 0.33597 to 0.33428, saving model to C:/Users/islab/Desktop/jihyeon/전자제조시스템\\tmp_checkpoint.h5\n",
      "57472/57472 [==============================] - 286s 5ms/step - loss: 0.3352 - accuracy: 0.8152 - val_loss: 0.3343 - val_accuracy: 0.8169\n",
      "Epoch 7/200\n",
      "57472/57472 [==============================] - ETA: 0s - loss: 0.3348 - accuracy: 0.8157\n",
      "Epoch 7: val_loss improved from 0.33428 to 0.33419, saving model to C:/Users/islab/Desktop/jihyeon/전자제조시스템\\tmp_checkpoint.h5\n",
      "57472/57472 [==============================] - 286s 5ms/step - loss: 0.3348 - accuracy: 0.8157 - val_loss: 0.3342 - val_accuracy: 0.8165\n",
      "Epoch 8/200\n",
      "57464/57472 [============================>.] - ETA: 0s - loss: 0.3345 - accuracy: 0.8165\n",
      "Epoch 8: val_loss did not improve from 0.33419\n",
      "57472/57472 [==============================] - 287s 5ms/step - loss: 0.3345 - accuracy: 0.8165 - val_loss: 0.3350 - val_accuracy: 0.8162\n",
      "Epoch 9/200\n",
      "57463/57472 [============================>.] - ETA: 0s - loss: 0.3342 - accuracy: 0.8167\n",
      "Epoch 9: val_loss improved from 0.33419 to 0.33301, saving model to C:/Users/islab/Desktop/jihyeon/전자제조시스템\\tmp_checkpoint.h5\n",
      "57472/57472 [==============================] - 284s 5ms/step - loss: 0.3342 - accuracy: 0.8167 - val_loss: 0.3330 - val_accuracy: 0.8178\n",
      "Epoch 10/200\n",
      "57464/57472 [============================>.] - ETA: 0s - loss: 0.3342 - accuracy: 0.8166\n",
      "Epoch 10: val_loss did not improve from 0.33301\n",
      "57472/57472 [==============================] - 285s 5ms/step - loss: 0.3342 - accuracy: 0.8166 - val_loss: 0.3339 - val_accuracy: 0.8166\n",
      "Epoch 11/200\n",
      "57463/57472 [============================>.] - ETA: 0s - loss: 0.3338 - accuracy: 0.8167\n",
      "Epoch 11: val_loss did not improve from 0.33301\n",
      "57472/57472 [==============================] - 287s 5ms/step - loss: 0.3338 - accuracy: 0.8167 - val_loss: 0.3341 - val_accuracy: 0.8172\n",
      "Epoch 12/200\n",
      "57472/57472 [==============================] - ETA: 0s - loss: 0.3338 - accuracy: 0.8171\n",
      "Epoch 12: val_loss did not improve from 0.33301\n",
      "57472/57472 [==============================] - 285s 5ms/step - loss: 0.3338 - accuracy: 0.8171 - val_loss: 0.3340 - val_accuracy: 0.8168\n",
      "Epoch 13/200\n",
      "57466/57472 [============================>.] - ETA: 0s - loss: 0.3335 - accuracy: 0.8171\n",
      "Epoch 13: val_loss did not improve from 0.33301\n",
      "57472/57472 [==============================] - 286s 5ms/step - loss: 0.3335 - accuracy: 0.8171 - val_loss: 0.3331 - val_accuracy: 0.8176\n",
      "Epoch 14/200\n",
      "57467/57472 [============================>.] - ETA: 0s - loss: 0.3335 - accuracy: 0.8174\n",
      "Epoch 14: val_loss did not improve from 0.33301\n",
      "57472/57472 [==============================] - 285s 5ms/step - loss: 0.3335 - accuracy: 0.8174 - val_loss: 0.3336 - val_accuracy: 0.8174\n"
     ]
    }
   ],
   "source": [
    "history = model.fit(x_train, y_train, epochs = 200, batch_size = 10, validation_data = (x_valid, y_valid), callbacks = [early_stop, checkpoint])"
   ]
  },
  {
   "cell_type": "code",
   "execution_count": 357,
   "id": "4554b85e",
   "metadata": {},
   "outputs": [
    {
     "name": "stdout",
     "output_type": "stream",
     "text": [
      "7830/7830 [==============================] - 16s 2ms/step\n"
     ]
    }
   ],
   "source": [
    "model.load_weights(filename)\n",
    "\n",
    "pred = model.predict(test_feature)"
   ]
  },
  {
   "cell_type": "code",
   "execution_count": 358,
   "id": "15b5b4a3",
   "metadata": {},
   "outputs": [
    {
     "data": {
      "image/png": "[encoded data removed]",
      "text/plain": [
       "<Figure size 432x288 with 1 Axes>"
      ]
     },
     "metadata": {
      "needs_background": "light"
     },
     "output_type": "display_data"
    }
   ],
   "source": [
    "plt.plot(history.history[\"loss\"],label=\"train\")\n",
    "plt.plot(history.history[\"val_loss\"],label=\"validation\")\n",
    "plt.legend()\n",
    "plt.show()"
   ]
  },
  {
   "cell_type": "code",
   "execution_count": 359,
   "id": "31d4efa4",
   "metadata": {},
   "outputs": [],
   "source": [
    "pred_df = pd.DataFrame(pred, columns=['TAG'])\n",
    "\n",
    "pred_df['TAG'] = pred_df['TAG'].apply(lambda x: 1 if x>=0.5 else 0)"
   ]
  },
  {
   "cell_type": "code",
   "execution_count": 360,
   "id": "00479d1f",
   "metadata": {},
   "outputs": [
    {
     "data": {
      "text/plain": [
       "1    176328\n",
       "0     74222\n",
       "Name: TAG, dtype: int64"
      ]
     },
     "execution_count": 360,
     "metadata": {},
     "output_type": "execute_result"
    }
   ],
   "source": [
    "pred_df['TAG'].value_counts()"
   ]
  },
  {
   "cell_type": "code",
   "execution_count": 361,
   "id": "15d41777",
   "metadata": {},
   "outputs": [
    {
     "name": "stdout",
     "output_type": "stream",
     "text": [
      "[[  2161    779]\n",
      " [ 72061 175549]]\n"
     ]
    }
   ],
   "source": [
    "confusion = confusion_matrix(test_label, pred_df)\n",
    "print(confusion)"
   ]
  },
  {
   "cell_type": "code",
   "execution_count": 364,
   "id": "b2230958",
   "metadata": {},
   "outputs": [
    {
     "data": {
      "image/png": "[encoded data removed]",
      "text/plain": [
       "<Figure size 432x288 with 2 Axes>"
      ]
     },
     "metadata": {
      "needs_background": "light"
     },
     "output_type": "display_data"
    }
   ],
   "source": [
    "plot = sns.heatmap(confusion ,square=True, annot=True, fmt='d', cmap='terrain')\n",
    "class_lables=['0','1','2','3']\n",
    "plt.title(\"confusrion\", size = 12)\n",
    "plot.set_xlabel('예측 y값')\n",
    "plot.set_ylabel('실제 y값')\n",
    "# plt.savefig('80% 사후확률_min_{}_수정.png'.format(j), dpi=300, transparent=True, bbox_inches=\"tight\")\n",
    "plt.show()"
   ]
  },
  {
   "cell_type": "code",
   "execution_count": 362,
   "id": "963b9eb4",
   "metadata": {},
   "outputs": [
    {
     "name": "stdout",
     "output_type": "stream",
     "text": [
      "precision : 0.9956\n",
      "recall : 0.7090\n",
      "f1-score : 0.8282\n",
      "accuracy : 0.7093\n"
     ]
    }
   ],
   "source": [
    "p = precision_score(test_label, pred_df)\n",
    "print('precision : %0.4f' %p)\n",
    "r = recall_score(test_label, pred_df)\n",
    "print('recall : %0.4f' %r)\n",
    "f1 = f1_score(test_label, pred_df)\n",
    "print('f1-score : %0.4f' %f1)\n",
    "acc = accuracy_score(test_label, pred_df)\n",
    "print('accuracy : %0.4f' %acc)"
   ]
  },
  {
   "cell_type": "markdown",
   "id": "94da576c",
   "metadata": {},
   "source": [
    "# <font color = F21638> 딥러닝 F1"
   ]
  },
  {
   "cell_type": "markdown",
   "id": "22666ceb",
   "metadata": {},
   "source": [
    "###  <font color = F21638> MELT_WEIGHT < 10000 이하인 데이터 셋"
   ]
  },
  {
   "cell_type": "code",
   "execution_count": 276,
   "id": "7b939f14",
   "metadata": {},
   "outputs": [
    {
     "data": {
      "text/html": [
       "<div>\n",
       "<style scoped>\n",
       "    .dataframe tbody tr th:only-of-type {\n",
       "        vertical-align: middle;\n",
       "    }\n",
       "\n",
       "    .dataframe tbody tr th {\n",
       "        vertical-align: top;\n",
       "    }\n",
       "\n",
       "    .dataframe thead th {\n",
       "        text-align: right;\n",
       "    }\n",
       "</style>\n",
       "<table border=\"1\" class=\"dataframe\">\n",
       "  <thead>\n",
       "    <tr style=\"text-align: right;\">\n",
       "      <th></th>\n",
       "      <th>STD_DT</th>\n",
       "      <th>NUM</th>\n",
       "      <th>MELT_TEMP</th>\n",
       "      <th>MOTORSPEED</th>\n",
       "      <th>MELT_WEIGHT</th>\n",
       "      <th>INSP</th>\n",
       "      <th>TAG</th>\n",
       "    </tr>\n",
       "  </thead>\n",
       "  <tbody>\n",
       "    <tr>\n",
       "      <th>0</th>\n",
       "      <td>2020-03-04 0:00</td>\n",
       "      <td>0</td>\n",
       "      <td>489</td>\n",
       "      <td>116</td>\n",
       "      <td>631</td>\n",
       "      <td>3.19</td>\n",
       "      <td>1</td>\n",
       "    </tr>\n",
       "    <tr>\n",
       "      <th>1</th>\n",
       "      <td>2020-03-04 0:00</td>\n",
       "      <td>1</td>\n",
       "      <td>433</td>\n",
       "      <td>78</td>\n",
       "      <td>609</td>\n",
       "      <td>3.19</td>\n",
       "      <td>1</td>\n",
       "    </tr>\n",
       "    <tr>\n",
       "      <th>2</th>\n",
       "      <td>2020-03-04 0:00</td>\n",
       "      <td>2</td>\n",
       "      <td>464</td>\n",
       "      <td>154</td>\n",
       "      <td>608</td>\n",
       "      <td>3.19</td>\n",
       "      <td>1</td>\n",
       "    </tr>\n",
       "    <tr>\n",
       "      <th>3</th>\n",
       "      <td>2020-03-04 0:00</td>\n",
       "      <td>3</td>\n",
       "      <td>379</td>\n",
       "      <td>212</td>\n",
       "      <td>606</td>\n",
       "      <td>3.19</td>\n",
       "      <td>1</td>\n",
       "    </tr>\n",
       "    <tr>\n",
       "      <th>4</th>\n",
       "      <td>2020-03-04 0:00</td>\n",
       "      <td>4</td>\n",
       "      <td>798</td>\n",
       "      <td>1736</td>\n",
       "      <td>604</td>\n",
       "      <td>3.21</td>\n",
       "      <td>1</td>\n",
       "    </tr>\n",
       "    <tr>\n",
       "      <th>...</th>\n",
       "      <td>...</td>\n",
       "      <td>...</td>\n",
       "      <td>...</td>\n",
       "      <td>...</td>\n",
       "      <td>...</td>\n",
       "      <td>...</td>\n",
       "      <td>...</td>\n",
       "    </tr>\n",
       "    <tr>\n",
       "      <th>835195</th>\n",
       "      <td>2020-04-30 23:59</td>\n",
       "      <td>835195</td>\n",
       "      <td>755</td>\n",
       "      <td>1743</td>\n",
       "      <td>318</td>\n",
       "      <td>3.21</td>\n",
       "      <td>1</td>\n",
       "    </tr>\n",
       "    <tr>\n",
       "      <th>835196</th>\n",
       "      <td>2020-04-30 23:59</td>\n",
       "      <td>835196</td>\n",
       "      <td>385</td>\n",
       "      <td>206</td>\n",
       "      <td>317</td>\n",
       "      <td>3.19</td>\n",
       "      <td>1</td>\n",
       "    </tr>\n",
       "    <tr>\n",
       "      <th>835197</th>\n",
       "      <td>2020-04-30 23:59</td>\n",
       "      <td>835197</td>\n",
       "      <td>465</td>\n",
       "      <td>148</td>\n",
       "      <td>316</td>\n",
       "      <td>3.20</td>\n",
       "      <td>1</td>\n",
       "    </tr>\n",
       "    <tr>\n",
       "      <th>835198</th>\n",
       "      <td>2020-04-30 23:59</td>\n",
       "      <td>835198</td>\n",
       "      <td>467</td>\n",
       "      <td>0</td>\n",
       "      <td>314</td>\n",
       "      <td>3.19</td>\n",
       "      <td>1</td>\n",
       "    </tr>\n",
       "    <tr>\n",
       "      <th>835199</th>\n",
       "      <td>2020-04-30 23:59</td>\n",
       "      <td>835199</td>\n",
       "      <td>453</td>\n",
       "      <td>125</td>\n",
       "      <td>312</td>\n",
       "      <td>3.20</td>\n",
       "      <td>1</td>\n",
       "    </tr>\n",
       "  </tbody>\n",
       "</table>\n",
       "<p>835200 rows × 7 columns</p>\n",
       "</div>"
      ],
      "text/plain": [
       "                  STD_DT     NUM  MELT_TEMP  MOTORSPEED  MELT_WEIGHT  INSP  \\\n",
       "0        2020-03-04 0:00       0        489         116          631  3.19   \n",
       "1        2020-03-04 0:00       1        433          78          609  3.19   \n",
       "2        2020-03-04 0:00       2        464         154          608  3.19   \n",
       "3        2020-03-04 0:00       3        379         212          606  3.19   \n",
       "4        2020-03-04 0:00       4        798        1736          604  3.21   \n",
       "...                  ...     ...        ...         ...          ...   ...   \n",
       "835195  2020-04-30 23:59  835195        755        1743          318  3.21   \n",
       "835196  2020-04-30 23:59  835196        385         206          317  3.19   \n",
       "835197  2020-04-30 23:59  835197        465         148          316  3.20   \n",
       "835198  2020-04-30 23:59  835198        467           0          314  3.19   \n",
       "835199  2020-04-30 23:59  835199        453         125          312  3.20   \n",
       "\n",
       "        TAG  \n",
       "0         1  \n",
       "1         1  \n",
       "2         1  \n",
       "3         1  \n",
       "4         1  \n",
       "...     ...  \n",
       "835195    1  \n",
       "835196    1  \n",
       "835197    1  \n",
       "835198    1  \n",
       "835199    1  \n",
       "\n",
       "[835200 rows x 7 columns]"
      ]
     },
     "execution_count": 276,
     "metadata": {},
     "output_type": "execute_result"
    }
   ],
   "source": [
    "dataset.replace({'TAG': {'OK': 1, 'NG': 0}}, inplace=True)\n",
    "dataset"
   ]
  },
  {
   "cell_type": "code",
   "execution_count": 277,
   "id": "5476c693",
   "metadata": {},
   "outputs": [
    {
     "data": {
      "text/html": [
       "<div>\n",
       "<style scoped>\n",
       "    .dataframe tbody tr th:only-of-type {\n",
       "        vertical-align: middle;\n",
       "    }\n",
       "\n",
       "    .dataframe tbody tr th {\n",
       "        vertical-align: top;\n",
       "    }\n",
       "\n",
       "    .dataframe thead th {\n",
       "        text-align: right;\n",
       "    }\n",
       "</style>\n",
       "<table border=\"1\" class=\"dataframe\">\n",
       "  <thead>\n",
       "    <tr style=\"text-align: right;\">\n",
       "      <th></th>\n",
       "      <th>STD_DT</th>\n",
       "      <th>NUM</th>\n",
       "      <th>MELT_TEMP</th>\n",
       "      <th>MOTORSPEED</th>\n",
       "      <th>MELT_WEIGHT</th>\n",
       "      <th>INSP</th>\n",
       "      <th>TAG</th>\n",
       "    </tr>\n",
       "  </thead>\n",
       "  <tbody>\n",
       "    <tr>\n",
       "      <th>0</th>\n",
       "      <td>2020-03-04 0:00</td>\n",
       "      <td>0</td>\n",
       "      <td>489</td>\n",
       "      <td>116</td>\n",
       "      <td>631</td>\n",
       "      <td>3.19</td>\n",
       "      <td>1</td>\n",
       "    </tr>\n",
       "    <tr>\n",
       "      <th>1</th>\n",
       "      <td>2020-03-04 0:00</td>\n",
       "      <td>1</td>\n",
       "      <td>433</td>\n",
       "      <td>78</td>\n",
       "      <td>609</td>\n",
       "      <td>3.19</td>\n",
       "      <td>1</td>\n",
       "    </tr>\n",
       "    <tr>\n",
       "      <th>2</th>\n",
       "      <td>2020-03-04 0:00</td>\n",
       "      <td>2</td>\n",
       "      <td>464</td>\n",
       "      <td>154</td>\n",
       "      <td>608</td>\n",
       "      <td>3.19</td>\n",
       "      <td>1</td>\n",
       "    </tr>\n",
       "    <tr>\n",
       "      <th>3</th>\n",
       "      <td>2020-03-04 0:00</td>\n",
       "      <td>3</td>\n",
       "      <td>379</td>\n",
       "      <td>212</td>\n",
       "      <td>606</td>\n",
       "      <td>3.19</td>\n",
       "      <td>1</td>\n",
       "    </tr>\n",
       "    <tr>\n",
       "      <th>4</th>\n",
       "      <td>2020-03-04 0:00</td>\n",
       "      <td>4</td>\n",
       "      <td>798</td>\n",
       "      <td>1736</td>\n",
       "      <td>604</td>\n",
       "      <td>3.21</td>\n",
       "      <td>1</td>\n",
       "    </tr>\n",
       "    <tr>\n",
       "      <th>...</th>\n",
       "      <td>...</td>\n",
       "      <td>...</td>\n",
       "      <td>...</td>\n",
       "      <td>...</td>\n",
       "      <td>...</td>\n",
       "      <td>...</td>\n",
       "      <td>...</td>\n",
       "    </tr>\n",
       "    <tr>\n",
       "      <th>835195</th>\n",
       "      <td>2020-04-30 23:59</td>\n",
       "      <td>835195</td>\n",
       "      <td>755</td>\n",
       "      <td>1743</td>\n",
       "      <td>318</td>\n",
       "      <td>3.21</td>\n",
       "      <td>1</td>\n",
       "    </tr>\n",
       "    <tr>\n",
       "      <th>835196</th>\n",
       "      <td>2020-04-30 23:59</td>\n",
       "      <td>835196</td>\n",
       "      <td>385</td>\n",
       "      <td>206</td>\n",
       "      <td>317</td>\n",
       "      <td>3.19</td>\n",
       "      <td>1</td>\n",
       "    </tr>\n",
       "    <tr>\n",
       "      <th>835197</th>\n",
       "      <td>2020-04-30 23:59</td>\n",
       "      <td>835197</td>\n",
       "      <td>465</td>\n",
       "      <td>148</td>\n",
       "      <td>316</td>\n",
       "      <td>3.20</td>\n",
       "      <td>1</td>\n",
       "    </tr>\n",
       "    <tr>\n",
       "      <th>835198</th>\n",
       "      <td>2020-04-30 23:59</td>\n",
       "      <td>835198</td>\n",
       "      <td>467</td>\n",
       "      <td>0</td>\n",
       "      <td>314</td>\n",
       "      <td>3.19</td>\n",
       "      <td>1</td>\n",
       "    </tr>\n",
       "    <tr>\n",
       "      <th>835199</th>\n",
       "      <td>2020-04-30 23:59</td>\n",
       "      <td>835199</td>\n",
       "      <td>453</td>\n",
       "      <td>125</td>\n",
       "      <td>312</td>\n",
       "      <td>3.20</td>\n",
       "      <td>1</td>\n",
       "    </tr>\n",
       "  </tbody>\n",
       "</table>\n",
       "<p>834504 rows × 7 columns</p>\n",
       "</div>"
      ],
      "text/plain": [
       "                  STD_DT     NUM  MELT_TEMP  MOTORSPEED  MELT_WEIGHT  INSP  \\\n",
       "0        2020-03-04 0:00       0        489         116          631  3.19   \n",
       "1        2020-03-04 0:00       1        433          78          609  3.19   \n",
       "2        2020-03-04 0:00       2        464         154          608  3.19   \n",
       "3        2020-03-04 0:00       3        379         212          606  3.19   \n",
       "4        2020-03-04 0:00       4        798        1736          604  3.21   \n",
       "...                  ...     ...        ...         ...          ...   ...   \n",
       "835195  2020-04-30 23:59  835195        755        1743          318  3.21   \n",
       "835196  2020-04-30 23:59  835196        385         206          317  3.19   \n",
       "835197  2020-04-30 23:59  835197        465         148          316  3.20   \n",
       "835198  2020-04-30 23:59  835198        467           0          314  3.19   \n",
       "835199  2020-04-30 23:59  835199        453         125          312  3.20   \n",
       "\n",
       "        TAG  \n",
       "0         1  \n",
       "1         1  \n",
       "2         1  \n",
       "3         1  \n",
       "4         1  \n",
       "...     ...  \n",
       "835195    1  \n",
       "835196    1  \n",
       "835197    1  \n",
       "835198    1  \n",
       "835199    1  \n",
       "\n",
       "[834504 rows x 7 columns]"
      ]
     },
     "execution_count": 277,
     "metadata": {},
     "output_type": "execute_result"
    }
   ],
   "source": [
    "dataset_3 = dataset[dataset['MELT_WEIGHT'] < 10000]\n",
    "dataset_3"
   ]
  },
  {
   "cell_type": "code",
   "execution_count": 278,
   "id": "5029b7a1",
   "metadata": {},
   "outputs": [
    {
     "data": {
      "text/html": [
       "<div>\n",
       "<style scoped>\n",
       "    .dataframe tbody tr th:only-of-type {\n",
       "        vertical-align: middle;\n",
       "    }\n",
       "\n",
       "    .dataframe tbody tr th {\n",
       "        vertical-align: top;\n",
       "    }\n",
       "\n",
       "    .dataframe thead th {\n",
       "        text-align: right;\n",
       "    }\n",
       "</style>\n",
       "<table border=\"1\" class=\"dataframe\">\n",
       "  <thead>\n",
       "    <tr style=\"text-align: right;\">\n",
       "      <th></th>\n",
       "      <th>STD_DT</th>\n",
       "      <th>NUM</th>\n",
       "      <th>MELT_TEMP</th>\n",
       "      <th>MOTORSPEED</th>\n",
       "      <th>MELT_WEIGHT</th>\n",
       "      <th>INSP</th>\n",
       "      <th>TAG</th>\n",
       "    </tr>\n",
       "  </thead>\n",
       "  <tbody>\n",
       "    <tr>\n",
       "      <th>0</th>\n",
       "      <td>2020-03-04 0:00</td>\n",
       "      <td>0</td>\n",
       "      <td>489</td>\n",
       "      <td>116</td>\n",
       "      <td>631</td>\n",
       "      <td>3.19</td>\n",
       "      <td>1</td>\n",
       "    </tr>\n",
       "    <tr>\n",
       "      <th>1</th>\n",
       "      <td>2020-03-04 0:00</td>\n",
       "      <td>1</td>\n",
       "      <td>433</td>\n",
       "      <td>78</td>\n",
       "      <td>609</td>\n",
       "      <td>3.19</td>\n",
       "      <td>1</td>\n",
       "    </tr>\n",
       "    <tr>\n",
       "      <th>2</th>\n",
       "      <td>2020-03-04 0:00</td>\n",
       "      <td>2</td>\n",
       "      <td>464</td>\n",
       "      <td>154</td>\n",
       "      <td>608</td>\n",
       "      <td>3.19</td>\n",
       "      <td>1</td>\n",
       "    </tr>\n",
       "    <tr>\n",
       "      <th>3</th>\n",
       "      <td>2020-03-04 0:00</td>\n",
       "      <td>3</td>\n",
       "      <td>379</td>\n",
       "      <td>212</td>\n",
       "      <td>606</td>\n",
       "      <td>3.19</td>\n",
       "      <td>1</td>\n",
       "    </tr>\n",
       "    <tr>\n",
       "      <th>4</th>\n",
       "      <td>2020-03-04 0:00</td>\n",
       "      <td>4</td>\n",
       "      <td>798</td>\n",
       "      <td>1736</td>\n",
       "      <td>604</td>\n",
       "      <td>3.21</td>\n",
       "      <td>1</td>\n",
       "    </tr>\n",
       "    <tr>\n",
       "      <th>...</th>\n",
       "      <td>...</td>\n",
       "      <td>...</td>\n",
       "      <td>...</td>\n",
       "      <td>...</td>\n",
       "      <td>...</td>\n",
       "      <td>...</td>\n",
       "      <td>...</td>\n",
       "    </tr>\n",
       "    <tr>\n",
       "      <th>835195</th>\n",
       "      <td>2020-04-30 23:59</td>\n",
       "      <td>835195</td>\n",
       "      <td>755</td>\n",
       "      <td>1743</td>\n",
       "      <td>318</td>\n",
       "      <td>3.21</td>\n",
       "      <td>1</td>\n",
       "    </tr>\n",
       "    <tr>\n",
       "      <th>835196</th>\n",
       "      <td>2020-04-30 23:59</td>\n",
       "      <td>835196</td>\n",
       "      <td>385</td>\n",
       "      <td>206</td>\n",
       "      <td>317</td>\n",
       "      <td>3.19</td>\n",
       "      <td>1</td>\n",
       "    </tr>\n",
       "    <tr>\n",
       "      <th>835197</th>\n",
       "      <td>2020-04-30 23:59</td>\n",
       "      <td>835197</td>\n",
       "      <td>465</td>\n",
       "      <td>148</td>\n",
       "      <td>316</td>\n",
       "      <td>3.20</td>\n",
       "      <td>1</td>\n",
       "    </tr>\n",
       "    <tr>\n",
       "      <th>835198</th>\n",
       "      <td>2020-04-30 23:59</td>\n",
       "      <td>835198</td>\n",
       "      <td>467</td>\n",
       "      <td>0</td>\n",
       "      <td>314</td>\n",
       "      <td>3.19</td>\n",
       "      <td>1</td>\n",
       "    </tr>\n",
       "    <tr>\n",
       "      <th>835199</th>\n",
       "      <td>2020-04-30 23:59</td>\n",
       "      <td>835199</td>\n",
       "      <td>453</td>\n",
       "      <td>125</td>\n",
       "      <td>312</td>\n",
       "      <td>3.20</td>\n",
       "      <td>1</td>\n",
       "    </tr>\n",
       "  </tbody>\n",
       "</table>\n",
       "<p>834504 rows × 7 columns</p>\n",
       "</div>"
      ],
      "text/plain": [
       "                  STD_DT     NUM  MELT_TEMP  MOTORSPEED  MELT_WEIGHT  INSP  \\\n",
       "0        2020-03-04 0:00       0        489         116          631  3.19   \n",
       "1        2020-03-04 0:00       1        433          78          609  3.19   \n",
       "2        2020-03-04 0:00       2        464         154          608  3.19   \n",
       "3        2020-03-04 0:00       3        379         212          606  3.19   \n",
       "4        2020-03-04 0:00       4        798        1736          604  3.21   \n",
       "...                  ...     ...        ...         ...          ...   ...   \n",
       "835195  2020-04-30 23:59  835195        755        1743          318  3.21   \n",
       "835196  2020-04-30 23:59  835196        385         206          317  3.19   \n",
       "835197  2020-04-30 23:59  835197        465         148          316  3.20   \n",
       "835198  2020-04-30 23:59  835198        467           0          314  3.19   \n",
       "835199  2020-04-30 23:59  835199        453         125          312  3.20   \n",
       "\n",
       "        TAG  \n",
       "0         1  \n",
       "1         1  \n",
       "2         1  \n",
       "3         1  \n",
       "4         1  \n",
       "...     ...  \n",
       "835195    1  \n",
       "835196    1  \n",
       "835197    1  \n",
       "835198    1  \n",
       "835199    1  \n",
       "\n",
       "[834504 rows x 7 columns]"
      ]
     },
     "execution_count": 278,
     "metadata": {},
     "output_type": "execute_result"
    }
   ],
   "source": [
    "dataset_3 = dataset_3[dataset_3['MELT_WEIGHT'] < 10000]\n",
    "dataset_3"
   ]
  },
  {
   "cell_type": "markdown",
   "id": "0954338e",
   "metadata": {},
   "source": [
    "### <font color = F21638> MOTORSPEED, MELT_WEIGHT == 0"
   ]
  },
  {
   "cell_type": "code",
   "execution_count": 279,
   "id": "6a0bc62c",
   "metadata": {
    "scrolled": false
   },
   "outputs": [
    {
     "data": {
      "text/html": [
       "<div>\n",
       "<style scoped>\n",
       "    .dataframe tbody tr th:only-of-type {\n",
       "        vertical-align: middle;\n",
       "    }\n",
       "\n",
       "    .dataframe tbody tr th {\n",
       "        vertical-align: top;\n",
       "    }\n",
       "\n",
       "    .dataframe thead th {\n",
       "        text-align: right;\n",
       "    }\n",
       "</style>\n",
       "<table border=\"1\" class=\"dataframe\">\n",
       "  <thead>\n",
       "    <tr style=\"text-align: right;\">\n",
       "      <th></th>\n",
       "      <th>STD_DT</th>\n",
       "      <th>NUM</th>\n",
       "      <th>MELT_TEMP</th>\n",
       "      <th>MOTORSPEED</th>\n",
       "      <th>MELT_WEIGHT</th>\n",
       "      <th>INSP</th>\n",
       "      <th>TAG</th>\n",
       "    </tr>\n",
       "  </thead>\n",
       "  <tbody>\n",
       "    <tr>\n",
       "      <th>0</th>\n",
       "      <td>2020-03-04 0:00</td>\n",
       "      <td>0</td>\n",
       "      <td>489</td>\n",
       "      <td>116</td>\n",
       "      <td>631</td>\n",
       "      <td>3.19</td>\n",
       "      <td>1</td>\n",
       "    </tr>\n",
       "    <tr>\n",
       "      <th>1</th>\n",
       "      <td>2020-03-04 0:00</td>\n",
       "      <td>1</td>\n",
       "      <td>433</td>\n",
       "      <td>78</td>\n",
       "      <td>609</td>\n",
       "      <td>3.19</td>\n",
       "      <td>1</td>\n",
       "    </tr>\n",
       "    <tr>\n",
       "      <th>2</th>\n",
       "      <td>2020-03-04 0:00</td>\n",
       "      <td>2</td>\n",
       "      <td>464</td>\n",
       "      <td>154</td>\n",
       "      <td>608</td>\n",
       "      <td>3.19</td>\n",
       "      <td>1</td>\n",
       "    </tr>\n",
       "    <tr>\n",
       "      <th>3</th>\n",
       "      <td>2020-03-04 0:00</td>\n",
       "      <td>3</td>\n",
       "      <td>379</td>\n",
       "      <td>212</td>\n",
       "      <td>606</td>\n",
       "      <td>3.19</td>\n",
       "      <td>1</td>\n",
       "    </tr>\n",
       "    <tr>\n",
       "      <th>4</th>\n",
       "      <td>2020-03-04 0:00</td>\n",
       "      <td>4</td>\n",
       "      <td>798</td>\n",
       "      <td>1736</td>\n",
       "      <td>604</td>\n",
       "      <td>3.21</td>\n",
       "      <td>1</td>\n",
       "    </tr>\n",
       "    <tr>\n",
       "      <th>...</th>\n",
       "      <td>...</td>\n",
       "      <td>...</td>\n",
       "      <td>...</td>\n",
       "      <td>...</td>\n",
       "      <td>...</td>\n",
       "      <td>...</td>\n",
       "      <td>...</td>\n",
       "    </tr>\n",
       "    <tr>\n",
       "      <th>835194</th>\n",
       "      <td>2020-04-30 23:59</td>\n",
       "      <td>835194</td>\n",
       "      <td>749</td>\n",
       "      <td>1740</td>\n",
       "      <td>319</td>\n",
       "      <td>3.21</td>\n",
       "      <td>1</td>\n",
       "    </tr>\n",
       "    <tr>\n",
       "      <th>835195</th>\n",
       "      <td>2020-04-30 23:59</td>\n",
       "      <td>835195</td>\n",
       "      <td>755</td>\n",
       "      <td>1743</td>\n",
       "      <td>318</td>\n",
       "      <td>3.21</td>\n",
       "      <td>1</td>\n",
       "    </tr>\n",
       "    <tr>\n",
       "      <th>835196</th>\n",
       "      <td>2020-04-30 23:59</td>\n",
       "      <td>835196</td>\n",
       "      <td>385</td>\n",
       "      <td>206</td>\n",
       "      <td>317</td>\n",
       "      <td>3.19</td>\n",
       "      <td>1</td>\n",
       "    </tr>\n",
       "    <tr>\n",
       "      <th>835197</th>\n",
       "      <td>2020-04-30 23:59</td>\n",
       "      <td>835197</td>\n",
       "      <td>465</td>\n",
       "      <td>148</td>\n",
       "      <td>316</td>\n",
       "      <td>3.20</td>\n",
       "      <td>1</td>\n",
       "    </tr>\n",
       "    <tr>\n",
       "      <th>835199</th>\n",
       "      <td>2020-04-30 23:59</td>\n",
       "      <td>835199</td>\n",
       "      <td>453</td>\n",
       "      <td>125</td>\n",
       "      <td>312</td>\n",
       "      <td>3.20</td>\n",
       "      <td>1</td>\n",
       "    </tr>\n",
       "  </tbody>\n",
       "</table>\n",
       "<p>803729 rows × 7 columns</p>\n",
       "</div>"
      ],
      "text/plain": [
       "                  STD_DT     NUM  MELT_TEMP  MOTORSPEED  MELT_WEIGHT  INSP  \\\n",
       "0        2020-03-04 0:00       0        489         116          631  3.19   \n",
       "1        2020-03-04 0:00       1        433          78          609  3.19   \n",
       "2        2020-03-04 0:00       2        464         154          608  3.19   \n",
       "3        2020-03-04 0:00       3        379         212          606  3.19   \n",
       "4        2020-03-04 0:00       4        798        1736          604  3.21   \n",
       "...                  ...     ...        ...         ...          ...   ...   \n",
       "835194  2020-04-30 23:59  835194        749        1740          319  3.21   \n",
       "835195  2020-04-30 23:59  835195        755        1743          318  3.21   \n",
       "835196  2020-04-30 23:59  835196        385         206          317  3.19   \n",
       "835197  2020-04-30 23:59  835197        465         148          316  3.20   \n",
       "835199  2020-04-30 23:59  835199        453         125          312  3.20   \n",
       "\n",
       "        TAG  \n",
       "0         1  \n",
       "1         1  \n",
       "2         1  \n",
       "3         1  \n",
       "4         1  \n",
       "...     ...  \n",
       "835194    1  \n",
       "835195    1  \n",
       "835196    1  \n",
       "835197    1  \n",
       "835199    1  \n",
       "\n",
       "[803729 rows x 7 columns]"
      ]
     },
     "execution_count": 279,
     "metadata": {},
     "output_type": "execute_result"
    }
   ],
   "source": [
    "dataset_3 = dataset_3[dataset_3['MOTORSPEED'] != 0]\n",
    "dataset_3"
   ]
  },
  {
   "cell_type": "code",
   "execution_count": 280,
   "id": "40c33cab",
   "metadata": {},
   "outputs": [
    {
     "data": {
      "text/html": [
       "<div>\n",
       "<style scoped>\n",
       "    .dataframe tbody tr th:only-of-type {\n",
       "        vertical-align: middle;\n",
       "    }\n",
       "\n",
       "    .dataframe tbody tr th {\n",
       "        vertical-align: top;\n",
       "    }\n",
       "\n",
       "    .dataframe thead th {\n",
       "        text-align: right;\n",
       "    }\n",
       "</style>\n",
       "<table border=\"1\" class=\"dataframe\">\n",
       "  <thead>\n",
       "    <tr style=\"text-align: right;\">\n",
       "      <th></th>\n",
       "      <th>STD_DT</th>\n",
       "      <th>NUM</th>\n",
       "      <th>MELT_TEMP</th>\n",
       "      <th>MOTORSPEED</th>\n",
       "      <th>MELT_WEIGHT</th>\n",
       "      <th>INSP</th>\n",
       "      <th>TAG</th>\n",
       "    </tr>\n",
       "  </thead>\n",
       "  <tbody>\n",
       "    <tr>\n",
       "      <th>0</th>\n",
       "      <td>2020-03-04 0:00</td>\n",
       "      <td>0</td>\n",
       "      <td>489</td>\n",
       "      <td>116</td>\n",
       "      <td>631</td>\n",
       "      <td>3.19</td>\n",
       "      <td>1</td>\n",
       "    </tr>\n",
       "    <tr>\n",
       "      <th>1</th>\n",
       "      <td>2020-03-04 0:00</td>\n",
       "      <td>1</td>\n",
       "      <td>433</td>\n",
       "      <td>78</td>\n",
       "      <td>609</td>\n",
       "      <td>3.19</td>\n",
       "      <td>1</td>\n",
       "    </tr>\n",
       "    <tr>\n",
       "      <th>2</th>\n",
       "      <td>2020-03-04 0:00</td>\n",
       "      <td>2</td>\n",
       "      <td>464</td>\n",
       "      <td>154</td>\n",
       "      <td>608</td>\n",
       "      <td>3.19</td>\n",
       "      <td>1</td>\n",
       "    </tr>\n",
       "    <tr>\n",
       "      <th>3</th>\n",
       "      <td>2020-03-04 0:00</td>\n",
       "      <td>3</td>\n",
       "      <td>379</td>\n",
       "      <td>212</td>\n",
       "      <td>606</td>\n",
       "      <td>3.19</td>\n",
       "      <td>1</td>\n",
       "    </tr>\n",
       "    <tr>\n",
       "      <th>4</th>\n",
       "      <td>2020-03-04 0:00</td>\n",
       "      <td>4</td>\n",
       "      <td>798</td>\n",
       "      <td>1736</td>\n",
       "      <td>604</td>\n",
       "      <td>3.21</td>\n",
       "      <td>1</td>\n",
       "    </tr>\n",
       "    <tr>\n",
       "      <th>...</th>\n",
       "      <td>...</td>\n",
       "      <td>...</td>\n",
       "      <td>...</td>\n",
       "      <td>...</td>\n",
       "      <td>...</td>\n",
       "      <td>...</td>\n",
       "      <td>...</td>\n",
       "    </tr>\n",
       "    <tr>\n",
       "      <th>835194</th>\n",
       "      <td>2020-04-30 23:59</td>\n",
       "      <td>835194</td>\n",
       "      <td>749</td>\n",
       "      <td>1740</td>\n",
       "      <td>319</td>\n",
       "      <td>3.21</td>\n",
       "      <td>1</td>\n",
       "    </tr>\n",
       "    <tr>\n",
       "      <th>835195</th>\n",
       "      <td>2020-04-30 23:59</td>\n",
       "      <td>835195</td>\n",
       "      <td>755</td>\n",
       "      <td>1743</td>\n",
       "      <td>318</td>\n",
       "      <td>3.21</td>\n",
       "      <td>1</td>\n",
       "    </tr>\n",
       "    <tr>\n",
       "      <th>835196</th>\n",
       "      <td>2020-04-30 23:59</td>\n",
       "      <td>835196</td>\n",
       "      <td>385</td>\n",
       "      <td>206</td>\n",
       "      <td>317</td>\n",
       "      <td>3.19</td>\n",
       "      <td>1</td>\n",
       "    </tr>\n",
       "    <tr>\n",
       "      <th>835197</th>\n",
       "      <td>2020-04-30 23:59</td>\n",
       "      <td>835197</td>\n",
       "      <td>465</td>\n",
       "      <td>148</td>\n",
       "      <td>316</td>\n",
       "      <td>3.20</td>\n",
       "      <td>1</td>\n",
       "    </tr>\n",
       "    <tr>\n",
       "      <th>835199</th>\n",
       "      <td>2020-04-30 23:59</td>\n",
       "      <td>835199</td>\n",
       "      <td>453</td>\n",
       "      <td>125</td>\n",
       "      <td>312</td>\n",
       "      <td>3.20</td>\n",
       "      <td>1</td>\n",
       "    </tr>\n",
       "  </tbody>\n",
       "</table>\n",
       "<p>802353 rows × 7 columns</p>\n",
       "</div>"
      ],
      "text/plain": [
       "                  STD_DT     NUM  MELT_TEMP  MOTORSPEED  MELT_WEIGHT  INSP  \\\n",
       "0        2020-03-04 0:00       0        489         116          631  3.19   \n",
       "1        2020-03-04 0:00       1        433          78          609  3.19   \n",
       "2        2020-03-04 0:00       2        464         154          608  3.19   \n",
       "3        2020-03-04 0:00       3        379         212          606  3.19   \n",
       "4        2020-03-04 0:00       4        798        1736          604  3.21   \n",
       "...                  ...     ...        ...         ...          ...   ...   \n",
       "835194  2020-04-30 23:59  835194        749        1740          319  3.21   \n",
       "835195  2020-04-30 23:59  835195        755        1743          318  3.21   \n",
       "835196  2020-04-30 23:59  835196        385         206          317  3.19   \n",
       "835197  2020-04-30 23:59  835197        465         148          316  3.20   \n",
       "835199  2020-04-30 23:59  835199        453         125          312  3.20   \n",
       "\n",
       "        TAG  \n",
       "0         1  \n",
       "1         1  \n",
       "2         1  \n",
       "3         1  \n",
       "4         1  \n",
       "...     ...  \n",
       "835194    1  \n",
       "835195    1  \n",
       "835196    1  \n",
       "835197    1  \n",
       "835199    1  \n",
       "\n",
       "[802353 rows x 7 columns]"
      ]
     },
     "execution_count": 280,
     "metadata": {},
     "output_type": "execute_result"
    }
   ],
   "source": [
    "dataset_3 = dataset_3[dataset_3['MELT_WEIGHT'] != 0]\n",
    "dataset_3"
   ]
  },
  {
   "cell_type": "markdown",
   "id": "fa9c588a",
   "metadata": {},
   "source": [
    "### <font color = F21638> DL"
   ]
  },
  {
   "cell_type": "code",
   "execution_count": 281,
   "id": "70376fd5",
   "metadata": {},
   "outputs": [
    {
     "name": "stderr",
     "output_type": "stream",
     "text": [
      "C:\\Users\\islab\\AppData\\Local\\Temp\\ipykernel_16868\\1295738622.py:1: SettingWithCopyWarning: \n",
      "A value is trying to be set on a copy of a slice from a DataFrame.\n",
      "Try using .loc[row_indexer,col_indexer] = value instead\n",
      "\n",
      "See the caveats in the documentation: https://pandas.pydata.org/pandas-docs/stable/user_guide/indexing.html#returning-a-view-versus-a-copy\n",
      "  dataset_3['STD_DT'] = dataset_3['STD_DT'].apply(lambda x: pd.to_datetime(str(x), format = '%Y-%m-%d %H:%M:%S'))\n"
     ]
    }
   ],
   "source": [
    "dataset_3['STD_DT'] = dataset_3['STD_DT'].apply(lambda x: pd.to_datetime(str(x), format = '%Y-%m-%d %H:%M:%S'))"
   ]
  },
  {
   "cell_type": "code",
   "execution_count": 282,
   "id": "c41380fd",
   "metadata": {},
   "outputs": [
    {
     "data": {
      "text/html": [
       "<div>\n",
       "<style scoped>\n",
       "    .dataframe tbody tr th:only-of-type {\n",
       "        vertical-align: middle;\n",
       "    }\n",
       "\n",
       "    .dataframe tbody tr th {\n",
       "        vertical-align: top;\n",
       "    }\n",
       "\n",
       "    .dataframe thead th {\n",
       "        text-align: right;\n",
       "    }\n",
       "</style>\n",
       "<table border=\"1\" class=\"dataframe\">\n",
       "  <thead>\n",
       "    <tr style=\"text-align: right;\">\n",
       "      <th></th>\n",
       "      <th>NUM</th>\n",
       "      <th>MELT_TEMP</th>\n",
       "      <th>MOTORSPEED</th>\n",
       "      <th>MELT_WEIGHT</th>\n",
       "      <th>INSP</th>\n",
       "      <th>TAG</th>\n",
       "    </tr>\n",
       "    <tr>\n",
       "      <th>STD_DT</th>\n",
       "      <th></th>\n",
       "      <th></th>\n",
       "      <th></th>\n",
       "      <th></th>\n",
       "      <th></th>\n",
       "      <th></th>\n",
       "    </tr>\n",
       "  </thead>\n",
       "  <tbody>\n",
       "    <tr>\n",
       "      <th>2020-03-04 00:00:00</th>\n",
       "      <td>0</td>\n",
       "      <td>489</td>\n",
       "      <td>116</td>\n",
       "      <td>631</td>\n",
       "      <td>3.19</td>\n",
       "      <td>1</td>\n",
       "    </tr>\n",
       "    <tr>\n",
       "      <th>2020-03-04 00:00:00</th>\n",
       "      <td>1</td>\n",
       "      <td>433</td>\n",
       "      <td>78</td>\n",
       "      <td>609</td>\n",
       "      <td>3.19</td>\n",
       "      <td>1</td>\n",
       "    </tr>\n",
       "    <tr>\n",
       "      <th>2020-03-04 00:00:00</th>\n",
       "      <td>2</td>\n",
       "      <td>464</td>\n",
       "      <td>154</td>\n",
       "      <td>608</td>\n",
       "      <td>3.19</td>\n",
       "      <td>1</td>\n",
       "    </tr>\n",
       "    <tr>\n",
       "      <th>2020-03-04 00:00:00</th>\n",
       "      <td>3</td>\n",
       "      <td>379</td>\n",
       "      <td>212</td>\n",
       "      <td>606</td>\n",
       "      <td>3.19</td>\n",
       "      <td>1</td>\n",
       "    </tr>\n",
       "    <tr>\n",
       "      <th>2020-03-04 00:00:00</th>\n",
       "      <td>4</td>\n",
       "      <td>798</td>\n",
       "      <td>1736</td>\n",
       "      <td>604</td>\n",
       "      <td>3.21</td>\n",
       "      <td>1</td>\n",
       "    </tr>\n",
       "    <tr>\n",
       "      <th>...</th>\n",
       "      <td>...</td>\n",
       "      <td>...</td>\n",
       "      <td>...</td>\n",
       "      <td>...</td>\n",
       "      <td>...</td>\n",
       "      <td>...</td>\n",
       "    </tr>\n",
       "    <tr>\n",
       "      <th>2020-04-30 23:59:00</th>\n",
       "      <td>835194</td>\n",
       "      <td>749</td>\n",
       "      <td>1740</td>\n",
       "      <td>319</td>\n",
       "      <td>3.21</td>\n",
       "      <td>1</td>\n",
       "    </tr>\n",
       "    <tr>\n",
       "      <th>2020-04-30 23:59:00</th>\n",
       "      <td>835195</td>\n",
       "      <td>755</td>\n",
       "      <td>1743</td>\n",
       "      <td>318</td>\n",
       "      <td>3.21</td>\n",
       "      <td>1</td>\n",
       "    </tr>\n",
       "    <tr>\n",
       "      <th>2020-04-30 23:59:00</th>\n",
       "      <td>835196</td>\n",
       "      <td>385</td>\n",
       "      <td>206</td>\n",
       "      <td>317</td>\n",
       "      <td>3.19</td>\n",
       "      <td>1</td>\n",
       "    </tr>\n",
       "    <tr>\n",
       "      <th>2020-04-30 23:59:00</th>\n",
       "      <td>835197</td>\n",
       "      <td>465</td>\n",
       "      <td>148</td>\n",
       "      <td>316</td>\n",
       "      <td>3.20</td>\n",
       "      <td>1</td>\n",
       "    </tr>\n",
       "    <tr>\n",
       "      <th>2020-04-30 23:59:00</th>\n",
       "      <td>835199</td>\n",
       "      <td>453</td>\n",
       "      <td>125</td>\n",
       "      <td>312</td>\n",
       "      <td>3.20</td>\n",
       "      <td>1</td>\n",
       "    </tr>\n",
       "  </tbody>\n",
       "</table>\n",
       "<p>802353 rows × 6 columns</p>\n",
       "</div>"
      ],
      "text/plain": [
       "                        NUM  MELT_TEMP  MOTORSPEED  MELT_WEIGHT  INSP  TAG\n",
       "STD_DT                                                                    \n",
       "2020-03-04 00:00:00       0        489         116          631  3.19    1\n",
       "2020-03-04 00:00:00       1        433          78          609  3.19    1\n",
       "2020-03-04 00:00:00       2        464         154          608  3.19    1\n",
       "2020-03-04 00:00:00       3        379         212          606  3.19    1\n",
       "2020-03-04 00:00:00       4        798        1736          604  3.21    1\n",
       "...                     ...        ...         ...          ...   ...  ...\n",
       "2020-04-30 23:59:00  835194        749        1740          319  3.21    1\n",
       "2020-04-30 23:59:00  835195        755        1743          318  3.21    1\n",
       "2020-04-30 23:59:00  835196        385         206          317  3.19    1\n",
       "2020-04-30 23:59:00  835197        465         148          316  3.20    1\n",
       "2020-04-30 23:59:00  835199        453         125          312  3.20    1\n",
       "\n",
       "[802353 rows x 6 columns]"
      ]
     },
     "execution_count": 282,
     "metadata": {},
     "output_type": "execute_result"
    }
   ],
   "source": [
    "dataset_3 = dataset_3.set_index(['STD_DT'])\n",
    "dataset_3"
   ]
  },
  {
   "cell_type": "code",
   "execution_count": 384,
   "id": "ac2d8b7f",
   "metadata": {},
   "outputs": [],
   "source": [
    "split_date = int(dataset_3.shape[0]*0.7)"
   ]
  },
  {
   "cell_type": "code",
   "execution_count": 385,
   "id": "94d43ced",
   "metadata": {},
   "outputs": [],
   "source": [
    "train = dataset_3[:split_date]\n",
    "test = dataset_3[split_date:]"
   ]
  },
  {
   "cell_type": "code",
   "execution_count": 386,
   "id": "2873ccd8",
   "metadata": {},
   "outputs": [
    {
     "name": "stdout",
     "output_type": "stream",
     "text": [
      "(561647, 4)\n",
      "(240706, 4)\n"
     ]
    }
   ],
   "source": [
    "print(train.shape)\n",
    "print(test.shape)"
   ]
  },
  {
   "cell_type": "code",
   "execution_count": 387,
   "id": "2f22e409",
   "metadata": {},
   "outputs": [],
   "source": [
    "scaler = preprocessing.MinMaxScaler()\n",
    "\n",
    "train_sc = scaler.fit_transform(train)\n",
    "test_sc = scaler.transform(test)"
   ]
  },
  {
   "cell_type": "code",
   "execution_count": 388,
   "id": "1b18d776",
   "metadata": {},
   "outputs": [],
   "source": [
    "x_train_values = train_sc[:, :-1]\n",
    "y_train_values = train_sc[:,-1]"
   ]
  },
  {
   "cell_type": "code",
   "execution_count": 389,
   "id": "415107d1",
   "metadata": {},
   "outputs": [
    {
     "name": "stdout",
     "output_type": "stream",
     "text": [
      "SMOTE 적용 전 학습용 피처/레이블 데이터 세트 (561647, 3) (561647,)\n",
      "SMOTE 적용 후 학습용 피처/레이블 데이터 세트 (800488, 3) (800488,)\n",
      "SMOTE 적용 후 레이블 값 분포: \n",
      " 1.0    400244\n",
      "0.0    400244\n",
      "dtype: int64\n"
     ]
    }
   ],
   "source": [
    "smote = SMOTE(random_state = 1)\n",
    "\n",
    "X_train_over, y_train_over = smote.fit_resample(x_train_values, y_train_values)\n",
    "print('SMOTE 적용 전 학습용 피처/레이블 데이터 세트', x_train_values.shape, y_train_values.shape)\n",
    "print('SMOTE 적용 후 학습용 피처/레이블 데이터 세트', X_train_over.shape, y_train_over.shape)\n",
    "print('SMOTE 적용 후 레이블 값 분포: \\n', pd.Series(y_train_over).value_counts())"
   ]
  },
  {
   "cell_type": "code",
   "execution_count": 390,
   "id": "f72cbade",
   "metadata": {},
   "outputs": [
    {
     "data": {
      "text/plain": [
       "800488"
      ]
     },
     "execution_count": 390,
     "metadata": {},
     "output_type": "execute_result"
    }
   ],
   "source": [
    "len(X_train_over)"
   ]
  },
  {
   "cell_type": "code",
   "execution_count": 391,
   "id": "b85b8435",
   "metadata": {},
   "outputs": [],
   "source": [
    "X_train_over = pd.DataFrame(X_train_over, columns = ['MELT_TEMP', 'MOTORSPEED', 'MELT_WEIGHT'])\n",
    "y_train_over = pd.DataFrame(y_train_over, columns = ['TAG'])"
   ]
  },
  {
   "cell_type": "code",
   "execution_count": 392,
   "id": "07dd1c33",
   "metadata": {},
   "outputs": [
    {
     "data": {
      "text/html": [
       "<div>\n",
       "<style scoped>\n",
       "    .dataframe tbody tr th:only-of-type {\n",
       "        vertical-align: middle;\n",
       "    }\n",
       "\n",
       "    .dataframe tbody tr th {\n",
       "        vertical-align: top;\n",
       "    }\n",
       "\n",
       "    .dataframe thead th {\n",
       "        text-align: right;\n",
       "    }\n",
       "</style>\n",
       "<table border=\"1\" class=\"dataframe\">\n",
       "  <thead>\n",
       "    <tr style=\"text-align: right;\">\n",
       "      <th></th>\n",
       "      <th>MELT_TEMP</th>\n",
       "      <th>MOTORSPEED</th>\n",
       "      <th>MELT_WEIGHT</th>\n",
       "    </tr>\n",
       "  </thead>\n",
       "  <tbody>\n",
       "    <tr>\n",
       "      <th>0</th>\n",
       "      <td>0.345420</td>\n",
       "      <td>0.035429</td>\n",
       "      <td>0.063013</td>\n",
       "    </tr>\n",
       "    <tr>\n",
       "      <th>1</th>\n",
       "      <td>0.238550</td>\n",
       "      <td>0.013714</td>\n",
       "      <td>0.060812</td>\n",
       "    </tr>\n",
       "    <tr>\n",
       "      <th>2</th>\n",
       "      <td>0.297710</td>\n",
       "      <td>0.057143</td>\n",
       "      <td>0.060712</td>\n",
       "    </tr>\n",
       "    <tr>\n",
       "      <th>3</th>\n",
       "      <td>0.135496</td>\n",
       "      <td>0.090286</td>\n",
       "      <td>0.060512</td>\n",
       "    </tr>\n",
       "    <tr>\n",
       "      <th>4</th>\n",
       "      <td>0.935115</td>\n",
       "      <td>0.961143</td>\n",
       "      <td>0.060312</td>\n",
       "    </tr>\n",
       "    <tr>\n",
       "      <th>...</th>\n",
       "      <td>...</td>\n",
       "      <td>...</td>\n",
       "      <td>...</td>\n",
       "    </tr>\n",
       "    <tr>\n",
       "      <th>800483</th>\n",
       "      <td>0.209924</td>\n",
       "      <td>0.015831</td>\n",
       "      <td>0.065332</td>\n",
       "    </tr>\n",
       "    <tr>\n",
       "      <th>800484</th>\n",
       "      <td>0.137405</td>\n",
       "      <td>0.096267</td>\n",
       "      <td>0.029490</td>\n",
       "    </tr>\n",
       "    <tr>\n",
       "      <th>800485</th>\n",
       "      <td>0.150763</td>\n",
       "      <td>0.078768</td>\n",
       "      <td>0.028331</td>\n",
       "    </tr>\n",
       "    <tr>\n",
       "      <th>800486</th>\n",
       "      <td>0.154580</td>\n",
       "      <td>0.084453</td>\n",
       "      <td>0.062823</td>\n",
       "    </tr>\n",
       "    <tr>\n",
       "      <th>800487</th>\n",
       "      <td>0.381679</td>\n",
       "      <td>0.051885</td>\n",
       "      <td>0.065943</td>\n",
       "    </tr>\n",
       "  </tbody>\n",
       "</table>\n",
       "<p>800488 rows × 3 columns</p>\n",
       "</div>"
      ],
      "text/plain": [
       "        MELT_TEMP  MOTORSPEED  MELT_WEIGHT\n",
       "0        0.345420    0.035429     0.063013\n",
       "1        0.238550    0.013714     0.060812\n",
       "2        0.297710    0.057143     0.060712\n",
       "3        0.135496    0.090286     0.060512\n",
       "4        0.935115    0.961143     0.060312\n",
       "...           ...         ...          ...\n",
       "800483   0.209924    0.015831     0.065332\n",
       "800484   0.137405    0.096267     0.029490\n",
       "800485   0.150763    0.078768     0.028331\n",
       "800486   0.154580    0.084453     0.062823\n",
       "800487   0.381679    0.051885     0.065943\n",
       "\n",
       "[800488 rows x 3 columns]"
      ]
     },
     "execution_count": 392,
     "metadata": {},
     "output_type": "execute_result"
    }
   ],
   "source": [
    "X_train_over"
   ]
  },
  {
   "cell_type": "code",
   "execution_count": 393,
   "id": "4f9f59d4",
   "metadata": {},
   "outputs": [],
   "source": [
    "#train dataset\n",
    "train_feature, train_label = make_dataset(X_train_over, y_train_over, 10)"
   ]
  },
  {
   "cell_type": "code",
   "execution_count": 394,
   "id": "cff8deb1",
   "metadata": {},
   "outputs": [],
   "source": [
    "test_sc = pd.DataFrame(test_sc, columns = ['MELT_TEMP', 'MOTORSPEED', 'MELT_WEIGHT', 'TAG'])"
   ]
  },
  {
   "cell_type": "code",
   "execution_count": 395,
   "id": "6edbc7ec",
   "metadata": {},
   "outputs": [],
   "source": [
    "feature_cols = ['MELT_TEMP', 'MOTORSPEED', 'MELT_WEIGHT']\n",
    "label_cols = ['TAG']"
   ]
  },
  {
   "cell_type": "code",
   "execution_count": 396,
   "id": "a443f8c1",
   "metadata": {},
   "outputs": [
    {
     "data": {
      "text/plain": [
       "((240696, 10, 3), (240696, 1))"
      ]
     },
     "execution_count": 396,
     "metadata": {},
     "output_type": "execute_result"
    }
   ],
   "source": [
    "test_feature = test_sc[feature_cols]\n",
    "test_label = test_sc[label_cols]\n",
    "\n",
    "# test dataset (실제 예측 해볼 데이터)\n",
    "test_feature, test_label = make_dataset(test_feature, test_label, 10)\n",
    "test_feature.shape, test_label.shape"
   ]
  },
  {
   "cell_type": "code",
   "execution_count": 397,
   "id": "ed8ff467",
   "metadata": {},
   "outputs": [
    {
     "data": {
      "text/plain": [
       "((560334, 10, 3), (240144, 10, 3))"
      ]
     },
     "execution_count": 397,
     "metadata": {},
     "output_type": "execute_result"
    }
   ],
   "source": [
    "x_train, x_valid, y_train, y_valid = train_test_split(train_feature, train_label, test_size = 0.3)\n",
    "x_train.shape, x_valid.shape"
   ]
  },
  {
   "cell_type": "code",
   "execution_count": 465,
   "id": "d4538184",
   "metadata": {},
   "outputs": [],
   "source": [
    "model = Sequential()\n",
    "model.add(LSTM(50, \n",
    "               input_shape = (train_feature.shape[1], train_feature.shape[2]), activation = 'tanh', return_sequences = False))\n",
    "model.add(Dense(1, activation = 'sigmoid'))"
   ]
  },
  {
   "cell_type": "code",
   "execution_count": 466,
   "id": "0a8c815a",
   "metadata": {},
   "outputs": [],
   "source": [
    "path = \"C:/Users/islab/Desktop/jihyeon/전자제조시스템\"\n",
    "os.chdir(path)"
   ]
  },
  {
   "cell_type": "code",
   "execution_count": 467,
   "id": "a3ce70a0",
   "metadata": {},
   "outputs": [],
   "source": [
    "model_path = path"
   ]
  },
  {
   "cell_type": "code",
   "execution_count": 398,
   "id": "62a67a4f",
   "metadata": {},
   "outputs": [],
   "source": [
    "model = Sequential()\n",
    "model.add(LSTM(50, \n",
    "               input_shape = (train_feature.shape[1], train_feature.shape[2]), activation = 'tanh', return_sequences = False))\n",
    "model.add(Dense(1, activation = 'sigmoid'))"
   ]
  },
  {
   "cell_type": "code",
   "execution_count": 399,
   "id": "839ce158",
   "metadata": {},
   "outputs": [],
   "source": [
    "path = \"C:/Users/islab/Desktop/jihyeon/전자제조시스템\"\n",
    "os.chdir(path)"
   ]
  },
  {
   "cell_type": "code",
   "execution_count": 400,
   "id": "fb87ad04",
   "metadata": {},
   "outputs": [],
   "source": [
    "model_path = path"
   ]
  },
  {
   "cell_type": "code",
   "execution_count": 401,
   "id": "cb1ee08b",
   "metadata": {},
   "outputs": [],
   "source": [
    "model.compile(loss = 'binary_crossentropy', optimizer = 'adam', metrics = ['accuracy'])\n",
    "early_stop = EarlyStopping(monitor = 'val_loss', patience = 5)\n",
    "filename = os.path.join(model_path, 'tmp_checkpoint.h5')\n",
    "checkpoint = ModelCheckpoint(filename, monitor = 'val_loss', verbose = 1, save_best_only = True, mode = 'auto')"
   ]
  },
  {
   "cell_type": "code",
   "execution_count": 402,
   "id": "c377f4c3",
   "metadata": {
    "scrolled": true
   },
   "outputs": [
    {
     "name": "stdout",
     "output_type": "stream",
     "text": [
      "Epoch 1/200\n",
      "56034/56034 [==============================] - ETA: 0s - loss: 0.3576 - accuracy: 0.8054\n",
      "Epoch 1: val_loss improved from inf to 0.33983, saving model to C:/Users/islab/Desktop/jihyeon/전자제조시스템\\tmp_checkpoint.h5\n",
      "56034/56034 [==============================] - 314s 6ms/step - loss: 0.3576 - accuracy: 0.8054 - val_loss: 0.3398 - val_accuracy: 0.8103\n",
      "Epoch 2/200\n",
      "56027/56034 [============================>.] - ETA: 0s - loss: 0.3397 - accuracy: 0.8107\n",
      "Epoch 2: val_loss improved from 0.33983 to 0.33397, saving model to C:/Users/islab/Desktop/jihyeon/전자제조시스템\\tmp_checkpoint.h5\n",
      "56034/56034 [==============================] - 307s 5ms/step - loss: 0.3397 - accuracy: 0.8107 - val_loss: 0.3340 - val_accuracy: 0.8146\n",
      "Epoch 3/200\n",
      "56031/56034 [============================>.] - ETA: 0s - loss: 0.3354 - accuracy: 0.8137\n",
      "Epoch 3: val_loss improved from 0.33397 to 0.33208, saving model to C:/Users/islab/Desktop/jihyeon/전자제조시스템\\tmp_checkpoint.h5\n",
      "56034/56034 [==============================] - 308s 6ms/step - loss: 0.3354 - accuracy: 0.8137 - val_loss: 0.3321 - val_accuracy: 0.8161\n",
      "Epoch 4/200\n",
      "56029/56034 [============================>.] - ETA: 0s - loss: 0.3338 - accuracy: 0.8147\n",
      "Epoch 4: val_loss improved from 0.33208 to 0.33074, saving model to C:/Users/islab/Desktop/jihyeon/전자제조시스템\\tmp_checkpoint.h5\n",
      "56034/56034 [==============================] - 308s 5ms/step - loss: 0.3338 - accuracy: 0.8147 - val_loss: 0.3307 - val_accuracy: 0.8164\n",
      "Epoch 5/200\n",
      "56027/56034 [============================>.] - ETA: 0s - loss: 0.3330 - accuracy: 0.8155\n",
      "Epoch 5: val_loss did not improve from 0.33074\n",
      "56034/56034 [==============================] - 309s 6ms/step - loss: 0.3330 - accuracy: 0.8155 - val_loss: 0.3312 - val_accuracy: 0.8166\n",
      "Epoch 6/200\n",
      "56027/56034 [============================>.] - ETA: 0s - loss: 0.3325 - accuracy: 0.8160\n",
      "Epoch 6: val_loss improved from 0.33074 to 0.33064, saving model to C:/Users/islab/Desktop/jihyeon/전자제조시스템\\tmp_checkpoint.h5\n",
      "56034/56034 [==============================] - 309s 6ms/step - loss: 0.3325 - accuracy: 0.8160 - val_loss: 0.3306 - val_accuracy: 0.8166\n",
      "Epoch 7/200\n",
      "56030/56034 [============================>.] - ETA: 0s - loss: 0.3321 - accuracy: 0.8162\n",
      "Epoch 7: val_loss did not improve from 0.33064\n",
      "56034/56034 [==============================] - 308s 5ms/step - loss: 0.3321 - accuracy: 0.8162 - val_loss: 0.3316 - val_accuracy: 0.8157\n",
      "Epoch 8/200\n",
      "56034/56034 [==============================] - ETA: 0s - loss: 0.3318 - accuracy: 0.8163\n",
      "Epoch 8: val_loss did not improve from 0.33064\n",
      "56034/56034 [==============================] - 307s 5ms/step - loss: 0.3318 - accuracy: 0.8163 - val_loss: 0.3310 - val_accuracy: 0.8161\n",
      "Epoch 9/200\n",
      "56026/56034 [============================>.] - ETA: 0s - loss: 0.3315 - accuracy: 0.8164\n",
      "Epoch 9: val_loss improved from 0.33064 to 0.33064, saving model to C:/Users/islab/Desktop/jihyeon/전자제조시스템\\tmp_checkpoint.h5\n",
      "56034/56034 [==============================] - 308s 5ms/step - loss: 0.3315 - accuracy: 0.8164 - val_loss: 0.3306 - val_accuracy: 0.8168\n",
      "Epoch 10/200\n",
      "56032/56034 [============================>.] - ETA: 0s - loss: 0.3312 - accuracy: 0.8170\n",
      "Epoch 10: val_loss improved from 0.33064 to 0.32986, saving model to C:/Users/islab/Desktop/jihyeon/전자제조시스템\\tmp_checkpoint.h5\n",
      "56034/56034 [==============================] - 308s 5ms/step - loss: 0.3312 - accuracy: 0.8170 - val_loss: 0.3299 - val_accuracy: 0.8173\n",
      "Epoch 11/200\n",
      "56024/56034 [============================>.] - ETA: 0s - loss: 0.3310 - accuracy: 0.8171\n",
      "Epoch 11: val_loss improved from 0.32986 to 0.32952, saving model to C:/Users/islab/Desktop/jihyeon/전자제조시스템\\tmp_checkpoint.h5\n",
      "56034/56034 [==============================] - 309s 6ms/step - loss: 0.3310 - accuracy: 0.8171 - val_loss: 0.3295 - val_accuracy: 0.8171\n",
      "Epoch 12/200\n",
      "56031/56034 [============================>.] - ETA: 0s - loss: 0.3309 - accuracy: 0.8172\n",
      "Epoch 12: val_loss improved from 0.32952 to 0.32920, saving model to C:/Users/islab/Desktop/jihyeon/전자제조시스템\\tmp_checkpoint.h5\n",
      "56034/56034 [==============================] - 309s 6ms/step - loss: 0.3309 - accuracy: 0.8172 - val_loss: 0.3292 - val_accuracy: 0.8180\n",
      "Epoch 13/200\n",
      "56031/56034 [============================>.] - ETA: 0s - loss: 0.3306 - accuracy: 0.8174\n",
      "Epoch 13: val_loss did not improve from 0.32920\n",
      "56034/56034 [==============================] - 308s 5ms/step - loss: 0.3306 - accuracy: 0.8174 - val_loss: 0.3298 - val_accuracy: 0.8165\n",
      "Epoch 14/200\n",
      "56027/56034 [============================>.] - ETA: 0s - loss: 0.3305 - accuracy: 0.8176\n",
      "Epoch 14: val_loss did not improve from 0.32920\n",
      "56034/56034 [==============================] - 312s 6ms/step - loss: 0.3305 - accuracy: 0.8176 - val_loss: 0.3294 - val_accuracy: 0.8182\n",
      "Epoch 15/200\n",
      "56026/56034 [============================>.] - ETA: 0s - loss: 0.3304 - accuracy: 0.8176\n",
      "Epoch 15: val_loss improved from 0.32920 to 0.32905, saving model to C:/Users/islab/Desktop/jihyeon/전자제조시스템\\tmp_checkpoint.h5\n",
      "56034/56034 [==============================] - 309s 6ms/step - loss: 0.3304 - accuracy: 0.8176 - val_loss: 0.3291 - val_accuracy: 0.8175\n",
      "Epoch 16/200\n",
      "56034/56034 [==============================] - ETA: 0s - loss: 0.3302 - accuracy: 0.8178\n",
      "Epoch 16: val_loss did not improve from 0.32905\n",
      "56034/56034 [==============================] - 308s 5ms/step - loss: 0.3302 - accuracy: 0.8178 - val_loss: 0.3294 - val_accuracy: 0.8177\n",
      "Epoch 17/200\n",
      "56030/56034 [============================>.] - ETA: 0s - loss: 0.3301 - accuracy: 0.8178\n",
      "Epoch 17: val_loss improved from 0.32905 to 0.32868, saving model to C:/Users/islab/Desktop/jihyeon/전자제조시스템\\tmp_checkpoint.h5\n",
      "56034/56034 [==============================] - 310s 6ms/step - loss: 0.3301 - accuracy: 0.8178 - val_loss: 0.3287 - val_accuracy: 0.8178\n",
      "Epoch 18/200\n",
      "56026/56034 [============================>.] - ETA: 0s - loss: 0.3299 - accuracy: 0.8180\n",
      "Epoch 18: val_loss did not improve from 0.32868\n",
      "56034/56034 [==============================] - 307s 5ms/step - loss: 0.3299 - accuracy: 0.8179 - val_loss: 0.3301 - val_accuracy: 0.8171\n",
      "Epoch 19/200\n",
      "56028/56034 [============================>.] - ETA: 0s - loss: 0.3297 - accuracy: 0.8181\n",
      "Epoch 19: val_loss did not improve from 0.32868\n",
      "56034/56034 [==============================] - 307s 5ms/step - loss: 0.3297 - accuracy: 0.8181 - val_loss: 0.3289 - val_accuracy: 0.8181\n",
      "Epoch 20/200\n",
      "56032/56034 [============================>.] - ETA: 0s - loss: 0.3296 - accuracy: 0.8182\n",
      "Epoch 20: val_loss did not improve from 0.32868\n",
      "56034/56034 [==============================] - 307s 5ms/step - loss: 0.3296 - accuracy: 0.8182 - val_loss: 0.3291 - val_accuracy: 0.8175\n",
      "Epoch 21/200\n",
      "56025/56034 [============================>.] - ETA: 0s - loss: 0.3295 - accuracy: 0.8184\n",
      "Epoch 21: val_loss did not improve from 0.32868\n",
      "56034/56034 [==============================] - 308s 5ms/step - loss: 0.3295 - accuracy: 0.8184 - val_loss: 0.3292 - val_accuracy: 0.8176\n",
      "Epoch 22/200\n",
      "56034/56034 [==============================] - ETA: 0s - loss: 0.3294 - accuracy: 0.8183\n",
      "Epoch 22: val_loss did not improve from 0.32868\n",
      "56034/56034 [==============================] - 310s 6ms/step - loss: 0.3294 - accuracy: 0.8183 - val_loss: 0.3289 - val_accuracy: 0.8177\n"
     ]
    }
   ],
   "source": [
    "history = model.fit(x_train, y_train, epochs = 200, batch_size = 10, validation_data = (x_valid, y_valid), callbacks = [early_stop, checkpoint])"
   ]
  },
  {
   "cell_type": "code",
   "execution_count": 403,
   "id": "8c243097",
   "metadata": {},
   "outputs": [
    {
     "name": "stdout",
     "output_type": "stream",
     "text": [
      "7522/7522 [==============================] - 18s 2ms/step\n"
     ]
    }
   ],
   "source": [
    "model.load_weights(filename)\n",
    "\n",
    "pred = model.predict(test_feature)"
   ]
  },
  {
   "cell_type": "code",
   "execution_count": 404,
   "id": "cf00ff20",
   "metadata": {},
   "outputs": [
    {
     "data": {
      "image/png": "[encoded data removed]",
      "text/plain": [
       "<Figure size 432x288 with 1 Axes>"
      ]
     },
     "metadata": {
      "needs_background": "light"
     },
     "output_type": "display_data"
    }
   ],
   "source": [
    "plt.plot(history.history[\"loss\"],label=\"train\")\n",
    "plt.plot(history.history[\"val_loss\"],label=\"validation\")\n",
    "plt.legend()\n",
    "plt.show()"
   ]
  },
  {
   "cell_type": "code",
   "execution_count": 405,
   "id": "211809be",
   "metadata": {},
   "outputs": [],
   "source": [
    "pred_df = pd.DataFrame(pred, columns=['TAG'])\n",
    "\n",
    "pred_df['TAG'] = pred_df['TAG'].apply(lambda x: 1 if x>=0.5 else 0)"
   ]
  },
  {
   "cell_type": "code",
   "execution_count": 406,
   "id": "355190c5",
   "metadata": {},
   "outputs": [
    {
     "data": {
      "text/plain": [
       "1    199015\n",
       "0     41681\n",
       "Name: TAG, dtype: int64"
      ]
     },
     "execution_count": 406,
     "metadata": {},
     "output_type": "execute_result"
    }
   ],
   "source": [
    "pred_df['TAG'].value_counts()"
   ]
  },
  {
   "cell_type": "code",
   "execution_count": 407,
   "id": "4bd4908b",
   "metadata": {},
   "outputs": [
    {
     "name": "stdout",
     "output_type": "stream",
     "text": [
      "[[   272   2203]\n",
      " [ 41409 196812]]\n"
     ]
    }
   ],
   "source": [
    "confusion = confusion_matrix(test_label, pred_df)\n",
    "print(confusion)"
   ]
  },
  {
   "cell_type": "code",
   "execution_count": 408,
   "id": "4945b510",
   "metadata": {},
   "outputs": [
    {
     "data": {
      "image/png": "[encoded data removed]",
      "text/plain": [
       "<Figure size 432x288 with 2 Axes>"
      ]
     },
     "metadata": {
      "needs_background": "light"
     },
     "output_type": "display_data"
    }
   ],
   "source": [
    "plot = sns.heatmap(confusion ,square=True, annot=True, fmt='d', cmap='terrain')\n",
    "class_lables=['0','1','2','3']\n",
    "plt.title(\"confusrion\", size = 12)\n",
    "plot.set_xlabel('예측 y값')\n",
    "plot.set_ylabel('실제 y값')\n",
    "# plt.savefig('80% 사후확률_min_{}_수정.png'.format(j), dpi=300, transparent=True, bbox_inches=\"tight\")\n",
    "plt.show()"
   ]
  },
  {
   "cell_type": "code",
   "execution_count": 409,
   "id": "b8f75f36",
   "metadata": {},
   "outputs": [
    {
     "name": "stdout",
     "output_type": "stream",
     "text": [
      "precision : 0.9889\n",
      "recall : 0.8262\n",
      "f1-score : 0.9003\n",
      "accuracy : 0.8188\n"
     ]
    }
   ],
   "source": [
    "p = precision_score(test_label, pred_df)\n",
    "print('precision : %0.4f' %p)\n",
    "r = recall_score(test_label, pred_df)\n",
    "print('recall : %0.4f' %r)\n",
    "f1 = f1_score(test_label, pred_df)\n",
    "print('f1-score : %0.4f' %f1)\n",
    "acc = accuracy_score(test_label, pred_df)\n",
    "print('accuracy : %0.4f' %acc)"
   ]
  },
  {
   "cell_type": "markdown",
   "id": "0ea3f6eb",
   "metadata": {},
   "source": [
    "# <font color = F21638> GRU"
   ]
  },
  {
   "cell_type": "code",
   "execution_count": 410,
   "id": "3309be15",
   "metadata": {},
   "outputs": [],
   "source": [
    "from keras.layers import GRU\n",
    "model = Sequential()\n",
    "model.add(GRU(20, \n",
    "               input_shape = (train_feature.shape[1], train_feature.shape[2]), activation = 'tanh', return_sequences = False))\n",
    "model.add(Dense(1, activation = 'sigmoid'))"
   ]
  },
  {
   "cell_type": "code",
   "execution_count": 411,
   "id": "9f10a94f",
   "metadata": {},
   "outputs": [],
   "source": [
    "path = \"C:/Users/islab/Desktop/jihyeon/전자제조시스템\"\n",
    "os.chdir(path)"
   ]
  },
  {
   "cell_type": "code",
   "execution_count": 412,
   "id": "2e74c27a",
   "metadata": {},
   "outputs": [],
   "source": [
    "model_path = path"
   ]
  },
  {
   "cell_type": "code",
   "execution_count": 423,
   "id": "3a74ac8f",
   "metadata": {},
   "outputs": [],
   "source": [
    "model.compile(loss = 'binary_crossentropy', optimizer = 'adam', metrics = ['accuracy'])\n",
    "early_stop = EarlyStopping(monitor = 'val_loss', patience = 5)\n",
    "filename = os.path.join(model_path, 'tmp_checkpoint.h5')\n",
    "checkpoint = ModelCheckpoint(filename, monitor = 'val_loss', verbose = 1, save_best_only = True, mode = 'auto')"
   ]
  },
  {
   "cell_type": "code",
   "execution_count": 424,
   "id": "b04cc879",
   "metadata": {
    "scrolled": true
   },
   "outputs": [
    {
     "name": "stdout",
     "output_type": "stream",
     "text": [
      "Epoch 1/200\n",
      "56033/56034 [============================>.] - ETA: 0s - loss: 0.3558 - accuracy: 0.8059\n",
      "Epoch 1: val_loss improved from inf to 0.34138, saving model to C:/Users/islab/Desktop/jihyeon/전자제조시스템\\tmp_checkpoint.h5\n",
      "56034/56034 [==============================] - 203s 4ms/step - loss: 0.3558 - accuracy: 0.8059 - val_loss: 0.3414 - val_accuracy: 0.8102\n",
      "Epoch 2/200\n",
      "56031/56034 [============================>.] - ETA: 0s - loss: 0.3410 - accuracy: 0.8096\n",
      "Epoch 2: val_loss improved from 0.34138 to 0.33665, saving model to C:/Users/islab/Desktop/jihyeon/전자제조시스템\\tmp_checkpoint.h5\n",
      "56034/56034 [==============================] - 194s 3ms/step - loss: 0.3410 - accuracy: 0.8096 - val_loss: 0.3366 - val_accuracy: 0.8115\n",
      "Epoch 3/200\n",
      "56033/56034 [============================>.] - ETA: 0s - loss: 0.3386 - accuracy: 0.8103\n",
      "Epoch 3: val_loss did not improve from 0.33665\n",
      "56034/56034 [==============================] - 194s 3ms/step - loss: 0.3386 - accuracy: 0.8103 - val_loss: 0.3379 - val_accuracy: 0.8040\n",
      "Epoch 4/200\n",
      "56028/56034 [============================>.] - ETA: 0s - loss: 0.3372 - accuracy: 0.8104\n",
      "Epoch 4: val_loss improved from 0.33665 to 0.33645, saving model to C:/Users/islab/Desktop/jihyeon/전자제조시스템\\tmp_checkpoint.h5\n",
      "56034/56034 [==============================] - 193s 3ms/step - loss: 0.3372 - accuracy: 0.8104 - val_loss: 0.3364 - val_accuracy: 0.8097\n",
      "Epoch 5/200\n",
      "56019/56034 [============================>.] - ETA: 0s - loss: 0.3362 - accuracy: 0.8111\n",
      "Epoch 5: val_loss improved from 0.33645 to 0.33470, saving model to C:/Users/islab/Desktop/jihyeon/전자제조시스템\\tmp_checkpoint.h5\n",
      "56034/56034 [==============================] - 194s 3ms/step - loss: 0.3362 - accuracy: 0.8111 - val_loss: 0.3347 - val_accuracy: 0.8124\n",
      "Epoch 6/200\n",
      "56028/56034 [============================>.] - ETA: 0s - loss: 0.3355 - accuracy: 0.8114\n",
      "Epoch 6: val_loss improved from 0.33470 to 0.33377, saving model to C:/Users/islab/Desktop/jihyeon/전자제조시스템\\tmp_checkpoint.h5\n",
      "56034/56034 [==============================] - 194s 3ms/step - loss: 0.3355 - accuracy: 0.8114 - val_loss: 0.3338 - val_accuracy: 0.8134\n",
      "Epoch 7/200\n",
      "56022/56034 [============================>.] - ETA: 0s - loss: 0.3347 - accuracy: 0.8127\n",
      "Epoch 7: val_loss improved from 0.33377 to 0.33228, saving model to C:/Users/islab/Desktop/jihyeon/전자제조시스템\\tmp_checkpoint.h5\n",
      "56034/56034 [==============================] - 194s 3ms/step - loss: 0.3347 - accuracy: 0.8127 - val_loss: 0.3323 - val_accuracy: 0.8142\n",
      "Epoch 8/200\n",
      "56028/56034 [============================>.] - ETA: 0s - loss: 0.3344 - accuracy: 0.8134\n",
      "Epoch 8: val_loss did not improve from 0.33228\n",
      "56034/56034 [==============================] - 194s 3ms/step - loss: 0.3344 - accuracy: 0.8134 - val_loss: 0.3324 - val_accuracy: 0.8158\n",
      "Epoch 9/200\n",
      "56020/56034 [============================>.] - ETA: 0s - loss: 0.3336 - accuracy: 0.8142\n",
      "Epoch 9: val_loss improved from 0.33228 to 0.33121, saving model to C:/Users/islab/Desktop/jihyeon/전자제조시스템\\tmp_checkpoint.h5\n",
      "56034/56034 [==============================] - 196s 3ms/step - loss: 0.3336 - accuracy: 0.8142 - val_loss: 0.3312 - val_accuracy: 0.8155\n",
      "Epoch 10/200\n",
      "56026/56034 [============================>.] - ETA: 0s - loss: 0.3330 - accuracy: 0.8148\n",
      "Epoch 10: val_loss did not improve from 0.33121\n",
      "56034/56034 [==============================] - 197s 4ms/step - loss: 0.3330 - accuracy: 0.8148 - val_loss: 0.3320 - val_accuracy: 0.8151\n",
      "Epoch 11/200\n",
      "56023/56034 [============================>.] - ETA: 0s - loss: 0.3328 - accuracy: 0.8150\n",
      "Epoch 11: val_loss did not improve from 0.33121\n",
      "56034/56034 [==============================] - 197s 4ms/step - loss: 0.3328 - accuracy: 0.8150 - val_loss: 0.3312 - val_accuracy: 0.8138\n",
      "Epoch 12/200\n",
      "56025/56034 [============================>.] - ETA: 0s - loss: 0.3326 - accuracy: 0.8155\n",
      "Epoch 12: val_loss improved from 0.33121 to 0.33072, saving model to C:/Users/islab/Desktop/jihyeon/전자제조시스템\\tmp_checkpoint.h5\n",
      "56034/56034 [==============================] - 197s 4ms/step - loss: 0.3326 - accuracy: 0.8154 - val_loss: 0.3307 - val_accuracy: 0.8174\n",
      "Epoch 13/200\n",
      "56031/56034 [============================>.] - ETA: 0s - loss: 0.3322 - accuracy: 0.8152\n",
      "Epoch 13: val_loss did not improve from 0.33072\n",
      "56034/56034 [==============================] - 197s 4ms/step - loss: 0.3322 - accuracy: 0.8152 - val_loss: 0.3317 - val_accuracy: 0.8161\n",
      "Epoch 14/200\n",
      "56027/56034 [============================>.] - ETA: 0s - loss: 0.3320 - accuracy: 0.8155\n",
      "Epoch 14: val_loss improved from 0.33072 to 0.33040, saving model to C:/Users/islab/Desktop/jihyeon/전자제조시스템\\tmp_checkpoint.h5\n",
      "56034/56034 [==============================] - 196s 3ms/step - loss: 0.3320 - accuracy: 0.8155 - val_loss: 0.3304 - val_accuracy: 0.8168\n",
      "Epoch 15/200\n",
      "56030/56034 [============================>.] - ETA: 0s - loss: 0.3317 - accuracy: 0.8159\n",
      "Epoch 15: val_loss improved from 0.33040 to 0.33018, saving model to C:/Users/islab/Desktop/jihyeon/전자제조시스템\\tmp_checkpoint.h5\n",
      "56034/56034 [==============================] - 194s 3ms/step - loss: 0.3317 - accuracy: 0.8159 - val_loss: 0.3302 - val_accuracy: 0.8177\n",
      "Epoch 16/200\n",
      "56030/56034 [============================>.] - ETA: 0s - loss: 0.3316 - accuracy: 0.8165\n",
      "Epoch 16: val_loss improved from 0.33018 to 0.32944, saving model to C:/Users/islab/Desktop/jihyeon/전자제조시스템\\tmp_checkpoint.h5\n",
      "56034/56034 [==============================] - 194s 3ms/step - loss: 0.3316 - accuracy: 0.8165 - val_loss: 0.3294 - val_accuracy: 0.8177\n",
      "Epoch 17/200\n",
      "56027/56034 [============================>.] - ETA: 0s - loss: 0.3314 - accuracy: 0.8165\n",
      "Epoch 17: val_loss did not improve from 0.32944\n",
      "56034/56034 [==============================] - 195s 3ms/step - loss: 0.3314 - accuracy: 0.8165 - val_loss: 0.3300 - val_accuracy: 0.8163\n",
      "Epoch 18/200\n",
      "56019/56034 [============================>.] - ETA: 0s - loss: 0.3313 - accuracy: 0.8161\n",
      "Epoch 18: val_loss did not improve from 0.32944\n",
      "56034/56034 [==============================] - 194s 3ms/step - loss: 0.3313 - accuracy: 0.8161 - val_loss: 0.3295 - val_accuracy: 0.8151\n",
      "Epoch 19/200\n",
      "56034/56034 [==============================] - ETA: 0s - loss: 0.3312 - accuracy: 0.8164\n",
      "Epoch 19: val_loss did not improve from 0.32944\n",
      "56034/56034 [==============================] - 195s 3ms/step - loss: 0.3312 - accuracy: 0.8164 - val_loss: 0.3297 - val_accuracy: 0.8153\n",
      "Epoch 20/200\n",
      "56022/56034 [============================>.] - ETA: 0s - loss: 0.3310 - accuracy: 0.8167\n",
      "Epoch 20: val_loss did not improve from 0.32944\n",
      "56034/56034 [==============================] - 195s 3ms/step - loss: 0.3310 - accuracy: 0.8167 - val_loss: 0.3301 - val_accuracy: 0.8154\n",
      "Epoch 21/200\n",
      "56032/56034 [============================>.] - ETA: 0s - loss: 0.3310 - accuracy: 0.8166\n",
      "Epoch 21: val_loss did not improve from 0.32944\n",
      "56034/56034 [==============================] - 195s 3ms/step - loss: 0.3310 - accuracy: 0.8166 - val_loss: 0.3305 - val_accuracy: 0.8179\n"
     ]
    }
   ],
   "source": [
    "history = model.fit(x_train, y_train, epochs = 200, batch_size = 10, validation_data = (x_valid, y_valid), callbacks = [early_stop, checkpoint])"
   ]
  },
  {
   "cell_type": "code",
   "execution_count": 415,
   "id": "0009d133",
   "metadata": {},
   "outputs": [
    {
     "name": "stdout",
     "output_type": "stream",
     "text": [
      "7522/7522 [==============================] - 14s 2ms/step\n"
     ]
    }
   ],
   "source": [
    "model.load_weights(filename)\n",
    "\n",
    "pred = model.predict(test_feature)"
   ]
  },
  {
   "cell_type": "code",
   "execution_count": 416,
   "id": "02308d5a",
   "metadata": {},
   "outputs": [
    {
     "data": {
      "image/png": "[encoded data removed]",
      "text/plain": [
       "<Figure size 432x288 with 1 Axes>"
      ]
     },
     "metadata": {
      "needs_background": "light"
     },
     "output_type": "display_data"
    }
   ],
   "source": [
    "plt.plot(history.history[\"loss\"],label=\"train\")\n",
    "plt.plot(history.history[\"val_loss\"],label=\"validation\")\n",
    "plt.legend()\n",
    "plt.show()"
   ]
  },
  {
   "cell_type": "code",
   "execution_count": 417,
   "id": "d22d270c",
   "metadata": {},
   "outputs": [],
   "source": [
    "pred_df = pd.DataFrame(pred, columns=['TAG'])\n",
    "\n",
    "pred_df['TAG'] = pred_df['TAG'].apply(lambda x: 1 if x>=0.5 else 0)"
   ]
  },
  {
   "cell_type": "code",
   "execution_count": 418,
   "id": "7d882b25",
   "metadata": {},
   "outputs": [
    {
     "data": {
      "text/plain": [
       "1    197997\n",
       "0     42699\n",
       "Name: TAG, dtype: int64"
      ]
     },
     "execution_count": 418,
     "metadata": {},
     "output_type": "execute_result"
    }
   ],
   "source": [
    "pred_df['TAG'].value_counts()"
   ]
  },
  {
   "cell_type": "code",
   "execution_count": 419,
   "id": "6d5dfe86",
   "metadata": {},
   "outputs": [
    {
     "name": "stdout",
     "output_type": "stream",
     "text": [
      "[[   269   2206]\n",
      " [ 42430 195791]]\n"
     ]
    }
   ],
   "source": [
    "confusion = confusion_matrix(test_label, pred_df)\n",
    "print(confusion)"
   ]
  },
  {
   "cell_type": "code",
   "execution_count": 420,
   "id": "6abe8fc7",
   "metadata": {},
   "outputs": [
    {
     "data": {
      "image/png": "[encoded data removed]",
      "text/plain": [
       "<Figure size 432x288 with 2 Axes>"
      ]
     },
     "metadata": {
      "needs_background": "light"
     },
     "output_type": "display_data"
    }
   ],
   "source": [
    "plot = sns.heatmap(confusion ,square=True, annot=True, fmt='d', cmap='terrain')\n",
    "class_lables=['0','1','2','3']\n",
    "plt.title(\"confusrion\", size = 12)\n",
    "plot.set_xlabel('예측 y값')\n",
    "plot.set_ylabel('실제 y값')\n",
    "# plt.savefig('80% 사후확률_min_{}_수정.png'.format(j), dpi=300, transparent=True, bbox_inches=\"tight\")\n",
    "plt.show()"
   ]
  },
  {
   "cell_type": "code",
   "execution_count": 421,
   "id": "1d0bbf54",
   "metadata": {},
   "outputs": [
    {
     "name": "stdout",
     "output_type": "stream",
     "text": [
      "precision : 0.9889\n",
      "recall : 0.8219\n",
      "f1-score : 0.8977\n",
      "accuracy : 0.8146\n"
     ]
    }
   ],
   "source": [
    "p = precision_score(test_label, pred_df)\n",
    "print('precision : %0.4f' %p)\n",
    "r = recall_score(test_label, pred_df)\n",
    "print('recall : %0.4f' %r)\n",
    "f1 = f1_score(test_label, pred_df)\n",
    "print('f1-score : %0.4f' %f1)\n",
    "acc = accuracy_score(test_label, pred_df)\n",
    "print('accuracy : %0.4f' %acc)"
   ]
  },
  {
   "cell_type": "markdown",
   "id": "af978a86",
   "metadata": {},
   "source": [
    "# LSTM"
   ]
  },
  {
   "cell_type": "code",
   "execution_count": 502,
   "id": "b96552c3",
   "metadata": {},
   "outputs": [
    {
     "data": {
      "text/html": [
       "<div>\n",
       "<style scoped>\n",
       "    .dataframe tbody tr th:only-of-type {\n",
       "        vertical-align: middle;\n",
       "    }\n",
       "\n",
       "    .dataframe tbody tr th {\n",
       "        vertical-align: top;\n",
       "    }\n",
       "\n",
       "    .dataframe thead th {\n",
       "        text-align: right;\n",
       "    }\n",
       "</style>\n",
       "<table border=\"1\" class=\"dataframe\">\n",
       "  <thead>\n",
       "    <tr style=\"text-align: right;\">\n",
       "      <th></th>\n",
       "      <th>NUM</th>\n",
       "      <th>MELT_TEMP</th>\n",
       "      <th>MOTORSPEED</th>\n",
       "      <th>MELT_WEIGHT</th>\n",
       "      <th>INSP</th>\n",
       "      <th>TAG</th>\n",
       "    </tr>\n",
       "    <tr>\n",
       "      <th>STD_DT</th>\n",
       "      <th></th>\n",
       "      <th></th>\n",
       "      <th></th>\n",
       "      <th></th>\n",
       "      <th></th>\n",
       "      <th></th>\n",
       "    </tr>\n",
       "  </thead>\n",
       "  <tbody>\n",
       "    <tr>\n",
       "      <th>2020-03-04 00:00:00</th>\n",
       "      <td>0</td>\n",
       "      <td>489</td>\n",
       "      <td>116</td>\n",
       "      <td>631</td>\n",
       "      <td>3.19</td>\n",
       "      <td>1</td>\n",
       "    </tr>\n",
       "    <tr>\n",
       "      <th>2020-03-04 00:00:00</th>\n",
       "      <td>1</td>\n",
       "      <td>433</td>\n",
       "      <td>78</td>\n",
       "      <td>609</td>\n",
       "      <td>3.19</td>\n",
       "      <td>1</td>\n",
       "    </tr>\n",
       "    <tr>\n",
       "      <th>2020-03-04 00:00:00</th>\n",
       "      <td>2</td>\n",
       "      <td>464</td>\n",
       "      <td>154</td>\n",
       "      <td>608</td>\n",
       "      <td>3.19</td>\n",
       "      <td>1</td>\n",
       "    </tr>\n",
       "    <tr>\n",
       "      <th>2020-03-04 00:00:00</th>\n",
       "      <td>3</td>\n",
       "      <td>379</td>\n",
       "      <td>212</td>\n",
       "      <td>606</td>\n",
       "      <td>3.19</td>\n",
       "      <td>1</td>\n",
       "    </tr>\n",
       "    <tr>\n",
       "      <th>2020-03-04 00:00:00</th>\n",
       "      <td>4</td>\n",
       "      <td>798</td>\n",
       "      <td>1736</td>\n",
       "      <td>604</td>\n",
       "      <td>3.21</td>\n",
       "      <td>1</td>\n",
       "    </tr>\n",
       "    <tr>\n",
       "      <th>...</th>\n",
       "      <td>...</td>\n",
       "      <td>...</td>\n",
       "      <td>...</td>\n",
       "      <td>...</td>\n",
       "      <td>...</td>\n",
       "      <td>...</td>\n",
       "    </tr>\n",
       "    <tr>\n",
       "      <th>2020-04-30 23:59:00</th>\n",
       "      <td>835194</td>\n",
       "      <td>749</td>\n",
       "      <td>1740</td>\n",
       "      <td>319</td>\n",
       "      <td>3.21</td>\n",
       "      <td>1</td>\n",
       "    </tr>\n",
       "    <tr>\n",
       "      <th>2020-04-30 23:59:00</th>\n",
       "      <td>835195</td>\n",
       "      <td>755</td>\n",
       "      <td>1743</td>\n",
       "      <td>318</td>\n",
       "      <td>3.21</td>\n",
       "      <td>1</td>\n",
       "    </tr>\n",
       "    <tr>\n",
       "      <th>2020-04-30 23:59:00</th>\n",
       "      <td>835196</td>\n",
       "      <td>385</td>\n",
       "      <td>206</td>\n",
       "      <td>317</td>\n",
       "      <td>3.19</td>\n",
       "      <td>1</td>\n",
       "    </tr>\n",
       "    <tr>\n",
       "      <th>2020-04-30 23:59:00</th>\n",
       "      <td>835197</td>\n",
       "      <td>465</td>\n",
       "      <td>148</td>\n",
       "      <td>316</td>\n",
       "      <td>3.20</td>\n",
       "      <td>1</td>\n",
       "    </tr>\n",
       "    <tr>\n",
       "      <th>2020-04-30 23:59:00</th>\n",
       "      <td>835199</td>\n",
       "      <td>453</td>\n",
       "      <td>125</td>\n",
       "      <td>312</td>\n",
       "      <td>3.20</td>\n",
       "      <td>1</td>\n",
       "    </tr>\n",
       "  </tbody>\n",
       "</table>\n",
       "<p>802353 rows × 6 columns</p>\n",
       "</div>"
      ],
      "text/plain": [
       "                        NUM  MELT_TEMP  MOTORSPEED  MELT_WEIGHT  INSP  TAG\n",
       "STD_DT                                                                    \n",
       "2020-03-04 00:00:00       0        489         116          631  3.19    1\n",
       "2020-03-04 00:00:00       1        433          78          609  3.19    1\n",
       "2020-03-04 00:00:00       2        464         154          608  3.19    1\n",
       "2020-03-04 00:00:00       3        379         212          606  3.19    1\n",
       "2020-03-04 00:00:00       4        798        1736          604  3.21    1\n",
       "...                     ...        ...         ...          ...   ...  ...\n",
       "2020-04-30 23:59:00  835194        749        1740          319  3.21    1\n",
       "2020-04-30 23:59:00  835195        755        1743          318  3.21    1\n",
       "2020-04-30 23:59:00  835196        385         206          317  3.19    1\n",
       "2020-04-30 23:59:00  835197        465         148          316  3.20    1\n",
       "2020-04-30 23:59:00  835199        453         125          312  3.20    1\n",
       "\n",
       "[802353 rows x 6 columns]"
      ]
     },
     "execution_count": 502,
     "metadata": {},
     "output_type": "execute_result"
    }
   ],
   "source": [
    "dataset_3"
   ]
  },
  {
   "cell_type": "code",
   "execution_count": 512,
   "id": "89037b7c",
   "metadata": {},
   "outputs": [
    {
     "data": {
      "text/html": [
       "<div>\n",
       "<style scoped>\n",
       "    .dataframe tbody tr th:only-of-type {\n",
       "        vertical-align: middle;\n",
       "    }\n",
       "\n",
       "    .dataframe tbody tr th {\n",
       "        vertical-align: top;\n",
       "    }\n",
       "\n",
       "    .dataframe thead th {\n",
       "        text-align: right;\n",
       "    }\n",
       "</style>\n",
       "<table border=\"1\" class=\"dataframe\">\n",
       "  <thead>\n",
       "    <tr style=\"text-align: right;\">\n",
       "      <th></th>\n",
       "      <th>MELT_TEMP</th>\n",
       "      <th>MOTORSPEED</th>\n",
       "      <th>MELT_WEIGHT</th>\n",
       "      <th>TAG</th>\n",
       "    </tr>\n",
       "    <tr>\n",
       "      <th>STD_DT</th>\n",
       "      <th></th>\n",
       "      <th></th>\n",
       "      <th></th>\n",
       "      <th></th>\n",
       "    </tr>\n",
       "  </thead>\n",
       "  <tbody>\n",
       "    <tr>\n",
       "      <th>2020-03-04 00:00:00</th>\n",
       "      <td>489</td>\n",
       "      <td>116</td>\n",
       "      <td>631</td>\n",
       "      <td>1</td>\n",
       "    </tr>\n",
       "    <tr>\n",
       "      <th>2020-03-04 00:00:00</th>\n",
       "      <td>433</td>\n",
       "      <td>78</td>\n",
       "      <td>609</td>\n",
       "      <td>1</td>\n",
       "    </tr>\n",
       "    <tr>\n",
       "      <th>2020-03-04 00:00:00</th>\n",
       "      <td>464</td>\n",
       "      <td>154</td>\n",
       "      <td>608</td>\n",
       "      <td>1</td>\n",
       "    </tr>\n",
       "    <tr>\n",
       "      <th>2020-03-04 00:00:00</th>\n",
       "      <td>379</td>\n",
       "      <td>212</td>\n",
       "      <td>606</td>\n",
       "      <td>1</td>\n",
       "    </tr>\n",
       "    <tr>\n",
       "      <th>2020-03-04 00:00:00</th>\n",
       "      <td>798</td>\n",
       "      <td>1736</td>\n",
       "      <td>604</td>\n",
       "      <td>1</td>\n",
       "    </tr>\n",
       "    <tr>\n",
       "      <th>...</th>\n",
       "      <td>...</td>\n",
       "      <td>...</td>\n",
       "      <td>...</td>\n",
       "      <td>...</td>\n",
       "    </tr>\n",
       "    <tr>\n",
       "      <th>2020-04-30 23:59:00</th>\n",
       "      <td>749</td>\n",
       "      <td>1740</td>\n",
       "      <td>319</td>\n",
       "      <td>1</td>\n",
       "    </tr>\n",
       "    <tr>\n",
       "      <th>2020-04-30 23:59:00</th>\n",
       "      <td>755</td>\n",
       "      <td>1743</td>\n",
       "      <td>318</td>\n",
       "      <td>1</td>\n",
       "    </tr>\n",
       "    <tr>\n",
       "      <th>2020-04-30 23:59:00</th>\n",
       "      <td>385</td>\n",
       "      <td>206</td>\n",
       "      <td>317</td>\n",
       "      <td>1</td>\n",
       "    </tr>\n",
       "    <tr>\n",
       "      <th>2020-04-30 23:59:00</th>\n",
       "      <td>465</td>\n",
       "      <td>148</td>\n",
       "      <td>316</td>\n",
       "      <td>1</td>\n",
       "    </tr>\n",
       "    <tr>\n",
       "      <th>2020-04-30 23:59:00</th>\n",
       "      <td>453</td>\n",
       "      <td>125</td>\n",
       "      <td>312</td>\n",
       "      <td>1</td>\n",
       "    </tr>\n",
       "  </tbody>\n",
       "</table>\n",
       "<p>802353 rows × 4 columns</p>\n",
       "</div>"
      ],
      "text/plain": [
       "                     MELT_TEMP  MOTORSPEED  MELT_WEIGHT  TAG\n",
       "STD_DT                                                      \n",
       "2020-03-04 00:00:00        489         116          631    1\n",
       "2020-03-04 00:00:00        433          78          609    1\n",
       "2020-03-04 00:00:00        464         154          608    1\n",
       "2020-03-04 00:00:00        379         212          606    1\n",
       "2020-03-04 00:00:00        798        1736          604    1\n",
       "...                        ...         ...          ...  ...\n",
       "2020-04-30 23:59:00        749        1740          319    1\n",
       "2020-04-30 23:59:00        755        1743          318    1\n",
       "2020-04-30 23:59:00        385         206          317    1\n",
       "2020-04-30 23:59:00        465         148          316    1\n",
       "2020-04-30 23:59:00        453         125          312    1\n",
       "\n",
       "[802353 rows x 4 columns]"
      ]
     },
     "execution_count": 512,
     "metadata": {},
     "output_type": "execute_result"
    }
   ],
   "source": [
    "dataset_3 = dataset_3.drop(['NUM', 'INSP'], axis=1)\n",
    "dataset_3"
   ]
  },
  {
   "cell_type": "code",
   "execution_count": 513,
   "id": "75fbad91",
   "metadata": {},
   "outputs": [],
   "source": [
    "split_date = int(dataset_3.shape[0]*0.7)"
   ]
  },
  {
   "cell_type": "code",
   "execution_count": 514,
   "id": "27c37b85",
   "metadata": {},
   "outputs": [],
   "source": [
    "train = dataset_3[:split_date]\n",
    "test = dataset_3[split_date:]"
   ]
  },
  {
   "cell_type": "code",
   "execution_count": 515,
   "id": "4034caed",
   "metadata": {},
   "outputs": [
    {
     "name": "stdout",
     "output_type": "stream",
     "text": [
      "(561647, 4)\n",
      "(240706, 4)\n"
     ]
    }
   ],
   "source": [
    "print(train.shape)\n",
    "print(test.shape)"
   ]
  },
  {
   "cell_type": "code",
   "execution_count": 516,
   "id": "09e41161",
   "metadata": {},
   "outputs": [],
   "source": [
    "scaler = preprocessing.MinMaxScaler()\n",
    "\n",
    "train_sc = scaler.fit_transform(train)\n",
    "test_sc = scaler.transform(test)"
   ]
  },
  {
   "cell_type": "code",
   "execution_count": 517,
   "id": "45d27730",
   "metadata": {},
   "outputs": [],
   "source": [
    "x_train_values = train_sc[:, :-1]\n",
    "y_train_values = train_sc[:,-1]"
   ]
  },
  {
   "cell_type": "code",
   "execution_count": 518,
   "id": "3379606c",
   "metadata": {},
   "outputs": [
    {
     "name": "stdout",
     "output_type": "stream",
     "text": [
      "SMOTE 적용 전 학습용 피처/레이블 데이터 세트 (561647, 3) (561647,)\n",
      "SMOTE 적용 후 학습용 피처/레이블 데이터 세트 (800488, 3) (800488,)\n",
      "SMOTE 적용 후 레이블 값 분포: \n",
      " 1.0    400244\n",
      "0.0    400244\n",
      "dtype: int64\n"
     ]
    }
   ],
   "source": [
    "smote = SMOTE(random_state = 1)\n",
    "\n",
    "X_train_over, y_train_over = smote.fit_resample(x_train_values, y_train_values)\n",
    "print('SMOTE 적용 전 학습용 피처/레이블 데이터 세트', x_train_values.shape, y_train_values.shape)\n",
    "print('SMOTE 적용 후 학습용 피처/레이블 데이터 세트', X_train_over.shape, y_train_over.shape)\n",
    "print('SMOTE 적용 후 레이블 값 분포: \\n', pd.Series(y_train_over).value_counts())"
   ]
  },
  {
   "cell_type": "code",
   "execution_count": 519,
   "id": "af58bdc5",
   "metadata": {},
   "outputs": [
    {
     "data": {
      "text/plain": [
       "800488"
      ]
     },
     "execution_count": 519,
     "metadata": {},
     "output_type": "execute_result"
    }
   ],
   "source": [
    "len(X_train_over)"
   ]
  },
  {
   "cell_type": "code",
   "execution_count": 520,
   "id": "9f436918",
   "metadata": {},
   "outputs": [],
   "source": [
    "X_train_over = pd.DataFrame(X_train_over, columns = ['MELT_TEMP', 'MOTORSPEED', 'MELT_WEIGHT'])\n",
    "y_train_over = pd.DataFrame(y_train_over, columns = ['TAG'])"
   ]
  },
  {
   "cell_type": "code",
   "execution_count": 521,
   "id": "7670476e",
   "metadata": {},
   "outputs": [
    {
     "data": {
      "text/html": [
       "<div>\n",
       "<style scoped>\n",
       "    .dataframe tbody tr th:only-of-type {\n",
       "        vertical-align: middle;\n",
       "    }\n",
       "\n",
       "    .dataframe tbody tr th {\n",
       "        vertical-align: top;\n",
       "    }\n",
       "\n",
       "    .dataframe thead th {\n",
       "        text-align: right;\n",
       "    }\n",
       "</style>\n",
       "<table border=\"1\" class=\"dataframe\">\n",
       "  <thead>\n",
       "    <tr style=\"text-align: right;\">\n",
       "      <th></th>\n",
       "      <th>MELT_TEMP</th>\n",
       "      <th>MOTORSPEED</th>\n",
       "      <th>MELT_WEIGHT</th>\n",
       "    </tr>\n",
       "  </thead>\n",
       "  <tbody>\n",
       "    <tr>\n",
       "      <th>0</th>\n",
       "      <td>0.345420</td>\n",
       "      <td>0.035429</td>\n",
       "      <td>0.063013</td>\n",
       "    </tr>\n",
       "    <tr>\n",
       "      <th>1</th>\n",
       "      <td>0.238550</td>\n",
       "      <td>0.013714</td>\n",
       "      <td>0.060812</td>\n",
       "    </tr>\n",
       "    <tr>\n",
       "      <th>2</th>\n",
       "      <td>0.297710</td>\n",
       "      <td>0.057143</td>\n",
       "      <td>0.060712</td>\n",
       "    </tr>\n",
       "    <tr>\n",
       "      <th>3</th>\n",
       "      <td>0.135496</td>\n",
       "      <td>0.090286</td>\n",
       "      <td>0.060512</td>\n",
       "    </tr>\n",
       "    <tr>\n",
       "      <th>4</th>\n",
       "      <td>0.935115</td>\n",
       "      <td>0.961143</td>\n",
       "      <td>0.060312</td>\n",
       "    </tr>\n",
       "    <tr>\n",
       "      <th>...</th>\n",
       "      <td>...</td>\n",
       "      <td>...</td>\n",
       "      <td>...</td>\n",
       "    </tr>\n",
       "    <tr>\n",
       "      <th>800483</th>\n",
       "      <td>0.209924</td>\n",
       "      <td>0.015831</td>\n",
       "      <td>0.065332</td>\n",
       "    </tr>\n",
       "    <tr>\n",
       "      <th>800484</th>\n",
       "      <td>0.137405</td>\n",
       "      <td>0.096267</td>\n",
       "      <td>0.029490</td>\n",
       "    </tr>\n",
       "    <tr>\n",
       "      <th>800485</th>\n",
       "      <td>0.150763</td>\n",
       "      <td>0.078768</td>\n",
       "      <td>0.028331</td>\n",
       "    </tr>\n",
       "    <tr>\n",
       "      <th>800486</th>\n",
       "      <td>0.154580</td>\n",
       "      <td>0.084453</td>\n",
       "      <td>0.062823</td>\n",
       "    </tr>\n",
       "    <tr>\n",
       "      <th>800487</th>\n",
       "      <td>0.381679</td>\n",
       "      <td>0.051885</td>\n",
       "      <td>0.065943</td>\n",
       "    </tr>\n",
       "  </tbody>\n",
       "</table>\n",
       "<p>800488 rows × 3 columns</p>\n",
       "</div>"
      ],
      "text/plain": [
       "        MELT_TEMP  MOTORSPEED  MELT_WEIGHT\n",
       "0        0.345420    0.035429     0.063013\n",
       "1        0.238550    0.013714     0.060812\n",
       "2        0.297710    0.057143     0.060712\n",
       "3        0.135496    0.090286     0.060512\n",
       "4        0.935115    0.961143     0.060312\n",
       "...           ...         ...          ...\n",
       "800483   0.209924    0.015831     0.065332\n",
       "800484   0.137405    0.096267     0.029490\n",
       "800485   0.150763    0.078768     0.028331\n",
       "800486   0.154580    0.084453     0.062823\n",
       "800487   0.381679    0.051885     0.065943\n",
       "\n",
       "[800488 rows x 3 columns]"
      ]
     },
     "execution_count": 521,
     "metadata": {},
     "output_type": "execute_result"
    }
   ],
   "source": [
    "X_train_over"
   ]
  },
  {
   "cell_type": "code",
   "execution_count": 522,
   "id": "f4b563fc",
   "metadata": {},
   "outputs": [],
   "source": [
    "#train dataset\n",
    "train_feature, train_label = make_dataset(X_train_over, y_train_over, 10)"
   ]
  },
  {
   "cell_type": "code",
   "execution_count": 523,
   "id": "b36a0d2a",
   "metadata": {},
   "outputs": [],
   "source": [
    "test_sc = pd.DataFrame(test_sc, columns = ['MELT_TEMP', 'MOTORSPEED', 'MELT_WEIGHT', 'TAG'])"
   ]
  },
  {
   "cell_type": "code",
   "execution_count": 524,
   "id": "d8d3edc9",
   "metadata": {},
   "outputs": [],
   "source": [
    "feature_cols = ['MELT_TEMP', 'MOTORSPEED', 'MELT_WEIGHT']\n",
    "label_cols = ['TAG']"
   ]
  },
  {
   "cell_type": "code",
   "execution_count": 525,
   "id": "833083c7",
   "metadata": {},
   "outputs": [
    {
     "data": {
      "text/plain": [
       "((240696, 10, 3), (240696, 1))"
      ]
     },
     "execution_count": 525,
     "metadata": {},
     "output_type": "execute_result"
    }
   ],
   "source": [
    "test_feature = test_sc[feature_cols]\n",
    "test_label = test_sc[label_cols]\n",
    "\n",
    "# test dataset (실제 예측 해볼 데이터)\n",
    "test_feature, test_label = make_dataset(test_feature, test_label, 10)\n",
    "test_feature.shape, test_label.shape"
   ]
  },
  {
   "cell_type": "code",
   "execution_count": 526,
   "id": "1134e157",
   "metadata": {},
   "outputs": [
    {
     "data": {
      "text/plain": [
       "((560334, 10, 3), (240144, 10, 3))"
      ]
     },
     "execution_count": 526,
     "metadata": {},
     "output_type": "execute_result"
    }
   ],
   "source": [
    "x_train, x_valid, y_train, y_valid = train_test_split(train_feature, train_label, test_size = 0.3)\n",
    "x_train.shape, x_valid.shape"
   ]
  },
  {
   "cell_type": "code",
   "execution_count": 528,
   "id": "cd73156e",
   "metadata": {},
   "outputs": [],
   "source": [
    "path = \"C:/Users/islab/Desktop/jihyeon/전자제조시스템\"\n",
    "os.chdir(path)"
   ]
  },
  {
   "cell_type": "code",
   "execution_count": 529,
   "id": "5a16a626",
   "metadata": {},
   "outputs": [],
   "source": [
    "model_path = path"
   ]
  },
  {
   "cell_type": "code",
   "execution_count": 527,
   "id": "f4d360e2",
   "metadata": {},
   "outputs": [],
   "source": [
    "model = Sequential()\n",
    "model.add(LSTM(50, \n",
    "               input_shape = (train_feature.shape[1], train_feature.shape[2]), activation = 'tanh', return_sequences = False))\n",
    "model.add(Dense(1, activation = 'sigmoid'))"
   ]
  },
  {
   "cell_type": "code",
   "execution_count": 530,
   "id": "e49db816",
   "metadata": {},
   "outputs": [],
   "source": [
    "model.compile(loss = 'binary_crossentropy', optimizer = 'adam', metrics = ['accuracy'])\n",
    "early_stop = EarlyStopping(monitor = 'val_loss', patience = 5)\n",
    "filename = os.path.join(model_path, 'tmp_checkpoint.h5')\n",
    "checkpoint = ModelCheckpoint(filename, monitor = 'val_loss', verbose = 1, save_best_only = True, mode = 'auto')"
   ]
  },
  {
   "cell_type": "code",
   "execution_count": 531,
   "id": "d7f8e1c7",
   "metadata": {
    "scrolled": false
   },
   "outputs": [
    {
     "name": "stdout",
     "output_type": "stream",
     "text": [
      "Epoch 1/200\n",
      "18677/18678 [============================>.] - ETA: 0s - loss: 0.3653 - accuracy: 0.8040\n",
      "Epoch 1: val_loss improved from inf to 0.34720, saving model to C:/Users/islab/Desktop/jihyeon/전자제조시스템\\tmp_checkpoint.h5\n",
      "18678/18678 [==============================] - 191s 10ms/step - loss: 0.3653 - accuracy: 0.8040 - val_loss: 0.3472 - val_accuracy: 0.8099\n",
      "Epoch 2/200\n",
      "18677/18678 [============================>.] - ETA: 0s - loss: 0.3434 - accuracy: 0.8092\n",
      "Epoch 2: val_loss improved from 0.34720 to 0.34005, saving model to C:/Users/islab/Desktop/jihyeon/전자제조시스템\\tmp_checkpoint.h5\n",
      "18678/18678 [==============================] - 178s 10ms/step - loss: 0.3434 - accuracy: 0.8092 - val_loss: 0.3401 - val_accuracy: 0.8107\n",
      "Epoch 3/200\n",
      "18674/18678 [============================>.] - ETA: 0s - loss: 0.3392 - accuracy: 0.8100\n",
      "Epoch 3: val_loss improved from 0.34005 to 0.33956, saving model to C:/Users/islab/Desktop/jihyeon/전자제조시스템\\tmp_checkpoint.h5\n",
      "18678/18678 [==============================] - 162s 9ms/step - loss: 0.3392 - accuracy: 0.8100 - val_loss: 0.3396 - val_accuracy: 0.8089\n",
      "Epoch 4/200\n",
      "18677/18678 [============================>.] - ETA: 0s - loss: 0.3371 - accuracy: 0.8107\n",
      "Epoch 4: val_loss improved from 0.33956 to 0.33633, saving model to C:/Users/islab/Desktop/jihyeon/전자제조시스템\\tmp_checkpoint.h5\n",
      "18678/18678 [==============================] - 171s 9ms/step - loss: 0.3371 - accuracy: 0.8107 - val_loss: 0.3363 - val_accuracy: 0.8121\n",
      "Epoch 5/200\n",
      "18678/18678 [==============================] - ETA: 0s - loss: 0.3355 - accuracy: 0.8128\n",
      "Epoch 5: val_loss did not improve from 0.33633\n",
      "18678/18678 [==============================] - 172s 9ms/step - loss: 0.3355 - accuracy: 0.8128 - val_loss: 0.3366 - val_accuracy: 0.8127\n",
      "Epoch 6/200\n",
      "18675/18678 [============================>.] - ETA: 0s - loss: 0.3342 - accuracy: 0.8139\n",
      "Epoch 6: val_loss improved from 0.33633 to 0.33472, saving model to C:/Users/islab/Desktop/jihyeon/전자제조시스템\\tmp_checkpoint.h5\n",
      "18678/18678 [==============================] - 171s 9ms/step - loss: 0.3342 - accuracy: 0.8139 - val_loss: 0.3347 - val_accuracy: 0.8137\n",
      "Epoch 7/200\n",
      "18674/18678 [============================>.] - ETA: 0s - loss: 0.3334 - accuracy: 0.8151\n",
      "Epoch 7: val_loss improved from 0.33472 to 0.33292, saving model to C:/Users/islab/Desktop/jihyeon/전자제조시스템\\tmp_checkpoint.h5\n",
      "18678/18678 [==============================] - 171s 9ms/step - loss: 0.3334 - accuracy: 0.8151 - val_loss: 0.3329 - val_accuracy: 0.8158\n",
      "Epoch 8/200\n",
      "18677/18678 [============================>.] - ETA: 0s - loss: 0.3327 - accuracy: 0.8157\n",
      "Epoch 8: val_loss did not improve from 0.33292\n",
      "18678/18678 [==============================] - 169s 9ms/step - loss: 0.3327 - accuracy: 0.8157 - val_loss: 0.3332 - val_accuracy: 0.8156\n",
      "Epoch 9/200\n",
      "18674/18678 [============================>.] - ETA: 0s - loss: 0.3323 - accuracy: 0.8157\n",
      "Epoch 9: val_loss did not improve from 0.33292\n",
      "18678/18678 [==============================] - 169s 9ms/step - loss: 0.3323 - accuracy: 0.8157 - val_loss: 0.3331 - val_accuracy: 0.8146\n",
      "Epoch 10/200\n",
      "18676/18678 [============================>.] - ETA: 0s - loss: 0.3318 - accuracy: 0.8157\n",
      "Epoch 10: val_loss improved from 0.33292 to 0.33114, saving model to C:/Users/islab/Desktop/jihyeon/전자제조시스템\\tmp_checkpoint.h5\n",
      "18678/18678 [==============================] - 170s 9ms/step - loss: 0.3318 - accuracy: 0.8157 - val_loss: 0.3311 - val_accuracy: 0.8157\n",
      "Epoch 11/200\n",
      "18675/18678 [============================>.] - ETA: 0s - loss: 0.3315 - accuracy: 0.8159\n",
      "Epoch 11: val_loss did not improve from 0.33114\n",
      "18678/18678 [==============================] - 169s 9ms/step - loss: 0.3315 - accuracy: 0.8159 - val_loss: 0.3317 - val_accuracy: 0.8169\n",
      "Epoch 12/200\n",
      "18673/18678 [============================>.] - ETA: 0s - loss: 0.3313 - accuracy: 0.8164\n",
      "Epoch 12: val_loss did not improve from 0.33114\n",
      "18678/18678 [==============================] - 169s 9ms/step - loss: 0.3312 - accuracy: 0.8164 - val_loss: 0.3312 - val_accuracy: 0.8167\n",
      "Epoch 13/200\n",
      "18676/18678 [============================>.] - ETA: 0s - loss: 0.3310 - accuracy: 0.8167\n",
      "Epoch 13: val_loss improved from 0.33114 to 0.33052, saving model to C:/Users/islab/Desktop/jihyeon/전자제조시스템\\tmp_checkpoint.h5\n",
      "18678/18678 [==============================] - 168s 9ms/step - loss: 0.3310 - accuracy: 0.8167 - val_loss: 0.3305 - val_accuracy: 0.8169\n",
      "Epoch 14/200\n",
      "18676/18678 [============================>.] - ETA: 0s - loss: 0.3308 - accuracy: 0.8167\n",
      "Epoch 14: val_loss did not improve from 0.33052\n",
      "18678/18678 [==============================] - 170s 9ms/step - loss: 0.3308 - accuracy: 0.8167 - val_loss: 0.3307 - val_accuracy: 0.8172\n",
      "Epoch 15/200\n",
      "18674/18678 [============================>.] - ETA: 0s - loss: 0.3306 - accuracy: 0.8169\n",
      "Epoch 15: val_loss did not improve from 0.33052\n",
      "18678/18678 [==============================] - 193s 10ms/step - loss: 0.3306 - accuracy: 0.8169 - val_loss: 0.3306 - val_accuracy: 0.8161\n",
      "Epoch 16/200\n",
      "18675/18678 [============================>.] - ETA: 0s - loss: 0.3304 - accuracy: 0.8170\n",
      "Epoch 16: val_loss improved from 0.33052 to 0.33041, saving model to C:/Users/islab/Desktop/jihyeon/전자제조시스템\\tmp_checkpoint.h5\n",
      "18678/18678 [==============================] - 194s 10ms/step - loss: 0.3304 - accuracy: 0.8170 - val_loss: 0.3304 - val_accuracy: 0.8171\n",
      "Epoch 17/200\n",
      "18675/18678 [============================>.] - ETA: 0s - loss: 0.3302 - accuracy: 0.8170\n",
      "Epoch 17: val_loss improved from 0.33041 to 0.33006, saving model to C:/Users/islab/Desktop/jihyeon/전자제조시스템\\tmp_checkpoint.h5\n",
      "18678/18678 [==============================] - 194s 10ms/step - loss: 0.3302 - accuracy: 0.8169 - val_loss: 0.3301 - val_accuracy: 0.8174\n",
      "Epoch 18/200\n",
      "18674/18678 [============================>.] - ETA: 0s - loss: 0.3301 - accuracy: 0.8172\n",
      "Epoch 18: val_loss did not improve from 0.33006\n",
      "18678/18678 [==============================] - 212s 11ms/step - loss: 0.3301 - accuracy: 0.8172 - val_loss: 0.3303 - val_accuracy: 0.8179\n",
      "Epoch 19/200\n",
      "18673/18678 [============================>.] - ETA: 0s - loss: 0.3299 - accuracy: 0.8176\n",
      "Epoch 19: val_loss did not improve from 0.33006\n",
      "18678/18678 [==============================] - 212s 11ms/step - loss: 0.3299 - accuracy: 0.8176 - val_loss: 0.3302 - val_accuracy: 0.8177\n",
      "Epoch 20/200\n",
      "18673/18678 [============================>.] - ETA: 0s - loss: 0.3297 - accuracy: 0.8177\n",
      "Epoch 20: val_loss did not improve from 0.33006\n",
      "18678/18678 [==============================] - 213s 11ms/step - loss: 0.3297 - accuracy: 0.8177 - val_loss: 0.3303 - val_accuracy: 0.8159\n",
      "Epoch 21/200\n",
      "18673/18678 [============================>.] - ETA: 0s - loss: 0.3296 - accuracy: 0.8179\n",
      "Epoch 21: val_loss improved from 0.33006 to 0.32971, saving model to C:/Users/islab/Desktop/jihyeon/전자제조시스템\\tmp_checkpoint.h5\n",
      "18678/18678 [==============================] - 212s 11ms/step - loss: 0.3296 - accuracy: 0.8179 - val_loss: 0.3297 - val_accuracy: 0.8174\n",
      "Epoch 22/200\n",
      "18674/18678 [============================>.] - ETA: 0s - loss: 0.3296 - accuracy: 0.8180\n",
      "Epoch 22: val_loss did not improve from 0.32971\n",
      "18678/18678 [==============================] - 211s 11ms/step - loss: 0.3296 - accuracy: 0.8180 - val_loss: 0.3299 - val_accuracy: 0.8177\n",
      "Epoch 23/200\n",
      "18677/18678 [============================>.] - ETA: 0s - loss: 0.3294 - accuracy: 0.8180\n",
      "Epoch 23: val_loss did not improve from 0.32971\n",
      "18678/18678 [==============================] - 213s 11ms/step - loss: 0.3294 - accuracy: 0.8180 - val_loss: 0.3303 - val_accuracy: 0.8172\n",
      "Epoch 24/200\n",
      "18673/18678 [============================>.] - ETA: 0s - loss: 0.3293 - accuracy: 0.8177\n",
      "Epoch 24: val_loss improved from 0.32971 to 0.32952, saving model to C:/Users/islab/Desktop/jihyeon/전자제조시스템\\tmp_checkpoint.h5\n",
      "18678/18678 [==============================] - 211s 11ms/step - loss: 0.3293 - accuracy: 0.8177 - val_loss: 0.3295 - val_accuracy: 0.8178\n",
      "Epoch 25/200\n",
      "18674/18678 [============================>.] - ETA: 0s - loss: 0.3291 - accuracy: 0.8181\n",
      "Epoch 25: val_loss did not improve from 0.32952\n",
      "18678/18678 [==============================] - 211s 11ms/step - loss: 0.3291 - accuracy: 0.8181 - val_loss: 0.3297 - val_accuracy: 0.8176\n",
      "Epoch 26/200\n",
      "18678/18678 [==============================] - ETA: 0s - loss: 0.3291 - accuracy: 0.8183\n",
      "Epoch 26: val_loss did not improve from 0.32952\n",
      "18678/18678 [==============================] - 211s 11ms/step - loss: 0.3291 - accuracy: 0.8183 - val_loss: 0.3298 - val_accuracy: 0.8175\n",
      "Epoch 27/200\n",
      "18674/18678 [============================>.] - ETA: 0s - loss: 0.3290 - accuracy: 0.8184\n",
      "Epoch 27: val_loss improved from 0.32952 to 0.32951, saving model to C:/Users/islab/Desktop/jihyeon/전자제조시스템\\tmp_checkpoint.h5\n",
      "18678/18678 [==============================] - 210s 11ms/step - loss: 0.3290 - accuracy: 0.8184 - val_loss: 0.3295 - val_accuracy: 0.8180\n",
      "Epoch 28/200\n",
      "18677/18678 [============================>.] - ETA: 0s - loss: 0.3288 - accuracy: 0.8186\n",
      "Epoch 28: val_loss did not improve from 0.32951\n",
      "18678/18678 [==============================] - 212s 11ms/step - loss: 0.3288 - accuracy: 0.8186 - val_loss: 0.3304 - val_accuracy: 0.8169\n",
      "Epoch 29/200\n",
      "18675/18678 [============================>.] - ETA: 0s - loss: 0.3288 - accuracy: 0.8184\n",
      "Epoch 29: val_loss did not improve from 0.32951\n",
      "18678/18678 [==============================] - 210s 11ms/step - loss: 0.3288 - accuracy: 0.8184 - val_loss: 0.3303 - val_accuracy: 0.8176\n",
      "Epoch 30/200\n",
      "18678/18678 [==============================] - ETA: 0s - loss: 0.3287 - accuracy: 0.8186\n",
      "Epoch 30: val_loss improved from 0.32951 to 0.32946, saving model to C:/Users/islab/Desktop/jihyeon/전자제조시스템\\tmp_checkpoint.h5\n",
      "18678/18678 [==============================] - 212s 11ms/step - loss: 0.3287 - accuracy: 0.8186 - val_loss: 0.3295 - val_accuracy: 0.8184\n",
      "Epoch 31/200\n",
      "18673/18678 [============================>.] - ETA: 0s - loss: 0.3285 - accuracy: 0.8191\n",
      "Epoch 31: val_loss did not improve from 0.32946\n",
      "18678/18678 [==============================] - 213s 11ms/step - loss: 0.3285 - accuracy: 0.8191 - val_loss: 0.3300 - val_accuracy: 0.8170\n",
      "Epoch 32/200\n",
      "18678/18678 [==============================] - ETA: 0s - loss: 0.3284 - accuracy: 0.8184\n",
      "Epoch 32: val_loss did not improve from 0.32946\n",
      "18678/18678 [==============================] - 209s 11ms/step - loss: 0.3284 - accuracy: 0.8184 - val_loss: 0.3298 - val_accuracy: 0.8182\n",
      "Epoch 33/200\n",
      "18676/18678 [============================>.] - ETA: 0s - loss: 0.3283 - accuracy: 0.8188\n",
      "Epoch 33: val_loss did not improve from 0.32946\n",
      "18678/18678 [==============================] - 212s 11ms/step - loss: 0.3283 - accuracy: 0.8188 - val_loss: 0.3304 - val_accuracy: 0.8173\n",
      "Epoch 34/200\n",
      "18678/18678 [==============================] - ETA: 0s - loss: 0.3283 - accuracy: 0.8192\n",
      "Epoch 34: val_loss did not improve from 0.32946\n",
      "18678/18678 [==============================] - 211s 11ms/step - loss: 0.3283 - accuracy: 0.8192 - val_loss: 0.3299 - val_accuracy: 0.8180\n",
      "Epoch 35/200\n",
      "18676/18678 [============================>.] - ETA: 0s - loss: 0.3282 - accuracy: 0.8187\n",
      "Epoch 35: val_loss did not improve from 0.32946\n",
      "18678/18678 [==============================] - 212s 11ms/step - loss: 0.3282 - accuracy: 0.8188 - val_loss: 0.3306 - val_accuracy: 0.8171\n"
     ]
    }
   ],
   "source": [
    "history = model.fit(x_train, y_train, epochs = 200, batch_size = 30, validation_data = (x_valid, y_valid), callbacks = [early_stop, checkpoint])"
   ]
  },
  {
   "cell_type": "code",
   "execution_count": 532,
   "id": "0021738f",
   "metadata": {},
   "outputs": [
    {
     "name": "stdout",
     "output_type": "stream",
     "text": [
      "7522/7522 [==============================] - 31s 4ms/step\n"
     ]
    }
   ],
   "source": [
    "# model.load_weights(filename)\n",
    "\n",
    "pred = model.predict(test_feature)"
   ]
  },
  {
   "cell_type": "code",
   "execution_count": 534,
   "id": "eaedd8fc",
   "metadata": {},
   "outputs": [
    {
     "data": {
      "image/png": "[encoded data removed]",
      "text/plain": [
       "<Figure size 432x288 with 1 Axes>"
      ]
     },
     "metadata": {
      "needs_background": "light"
     },
     "output_type": "display_data"
    }
   ],
   "source": [
    "plt.plot(history.history[\"loss\"],label=\"train\")\n",
    "plt.plot(history.history[\"val_loss\"],label=\"validation\")\n",
    "plt.legend()\n",
    "plt.show()"
   ]
  },
  {
   "cell_type": "code",
   "execution_count": 535,
   "id": "0bdabcb4",
   "metadata": {},
   "outputs": [],
   "source": [
    "pred_df = pd.DataFrame(pred, columns=['TAG'])\n",
    "\n",
    "pred_df['TAG'] = pred_df['TAG'].apply(lambda x: 1 if x>=0.5 else 0)"
   ]
  },
  {
   "cell_type": "code",
   "execution_count": 536,
   "id": "46195703",
   "metadata": {},
   "outputs": [
    {
     "data": {
      "text/plain": [
       "1    210583\n",
       "0     30113\n",
       "Name: TAG, dtype: int64"
      ]
     },
     "execution_count": 536,
     "metadata": {},
     "output_type": "execute_result"
    }
   ],
   "source": [
    "pred_df['TAG'].value_counts()"
   ]
  },
  {
   "cell_type": "code",
   "execution_count": 537,
   "id": "9994f1bf",
   "metadata": {},
   "outputs": [
    {
     "name": "stdout",
     "output_type": "stream",
     "text": [
      "[[    98   2377]\n",
      " [ 30015 208206]]\n"
     ]
    }
   ],
   "source": [
    "confusion = confusion_matrix(test_label, pred_df)\n",
    "print(confusion)"
   ]
  },
  {
   "cell_type": "code",
   "execution_count": 538,
   "id": "8e356772",
   "metadata": {},
   "outputs": [
    {
     "data": {
      "image/png": "[encoded data removed]",
      "text/plain": [
       "<Figure size 432x288 with 2 Axes>"
      ]
     },
     "metadata": {
      "needs_background": "light"
     },
     "output_type": "display_data"
    }
   ],
   "source": [
    "plot = sns.heatmap(confusion ,square=True, annot=True, fmt='d', cmap='terrain')\n",
    "class_lables=['0','1','2','3']\n",
    "plt.title(\"confusrion\", size = 12)\n",
    "plot.set_xlabel('예측 y값')\n",
    "plot.set_ylabel('실제 y값')\n",
    "# plt.savefig('80% 사후확률_min_{}_수정.png'.format(j), dpi=300, transparent=True, bbox_inches=\"tight\")\n",
    "plt.show()"
   ]
  },
  {
   "cell_type": "code",
   "execution_count": 540,
   "id": "a2309bda",
   "metadata": {},
   "outputs": [
    {
     "name": "stdout",
     "output_type": "stream",
     "text": [
      "Model: \"sequential_23\"\n",
      "_________________________________________________________________\n",
      " Layer (type)                Output Shape              Param #   \n",
      "=================================================================\n",
      " lstm_24 (LSTM)              (None, 50)                10800     \n",
      "                                                                 \n",
      " dense_17 (Dense)            (None, 1)                 51        \n",
      "                                                                 \n",
      "=================================================================\n",
      "Total params: 10,851\n",
      "Trainable params: 10,851\n",
      "Non-trainable params: 0\n",
      "_________________________________________________________________\n"
     ]
    }
   ],
   "source": [
    "model.summary()"
   ]
  },
  {
   "cell_type": "code",
   "execution_count": 539,
   "id": "2db171b1",
   "metadata": {},
   "outputs": [
    {
     "name": "stdout",
     "output_type": "stream",
     "text": [
      "precision : 0.9887\n",
      "recall : 0.8740\n",
      "f1-score : 0.9278\n",
      "accuracy : 0.8654\n"
     ]
    }
   ],
   "source": [
    "p = precision_score(test_label, pred_df)\n",
    "print('precision : %0.4f' %p)\n",
    "r = recall_score(test_label, pred_df)\n",
    "print('recall : %0.4f' %r)\n",
    "f1 = f1_score(test_label, pred_df)\n",
    "print('f1-score : %0.4f' %f1)\n",
    "acc = accuracy_score(test_label, pred_df)\n",
    "print('accuracy : %0.4f' %acc)"
   ]
  },
  {
   "cell_type": "markdown",
   "id": "e7a91930",
   "metadata": {},
   "source": [
    "## <font color = F21638> TCN"
   ]
  },
  {
   "cell_type": "code",
   "execution_count": 455,
   "id": "1dce16bf",
   "metadata": {},
   "outputs": [],
   "source": [
    "from tcn import TCN, tcn_full_summary\n",
    "from keras.layers import Dropout\n",
    "model = Sequential()\n",
    "model.add(TCN(50, input_shape = (train_feature.shape[1], train_feature.shape[2]), return_sequences = True))\n",
    "model.add(Dropout(0.3))\n",
    "model.add(LSTM(50, return_sequences = False))\n",
    "model.add(Dense(1, activation = 'sigmoid'))"
   ]
  },
  {
   "cell_type": "code",
   "execution_count": 456,
   "id": "9073a702",
   "metadata": {},
   "outputs": [],
   "source": [
    "model.compile(loss = 'binary_crossentropy', optimizer = 'adam', metrics = ['accuracy'])\n",
    "early_stop = EarlyStopping(monitor = 'val_loss', patience = 5)\n",
    "filename = os.path.join(model_path, 'tmp_checkpoint.h5')\n",
    "checkpoint = ModelCheckpoint(filename, monitor = 'val_loss', verbose = 1, save_best_only = True, mode = 'auto')"
   ]
  },
  {
   "cell_type": "code",
   "execution_count": 457,
   "id": "fec5f902",
   "metadata": {
    "scrolled": false
   },
   "outputs": [
    {
     "name": "stdout",
     "output_type": "stream",
     "text": [
      "Epoch 1/200\n",
      "1121/1121 [==============================] - ETA: 0s - loss: 0.3526 - accuracy: 0.8055\n",
      "Epoch 1: val_loss improved from inf to 0.34105, saving model to C:/Users/islab/Desktop/jihyeon/전자제조시스템\\tmp_checkpoint.h5\n",
      "1121/1121 [==============================] - 1299s 1s/step - loss: 0.3526 - accuracy: 0.8055 - val_loss: 0.3411 - val_accuracy: 0.8014\n",
      "Epoch 2/200\n",
      "1121/1121 [==============================] - ETA: 0s - loss: 0.3383 - accuracy: 0.8108\n",
      "Epoch 2: val_loss improved from 0.34105 to 0.33390, saving model to C:/Users/islab/Desktop/jihyeon/전자제조시스템\\tmp_checkpoint.h5\n",
      "1121/1121 [==============================] - 1301s 1s/step - loss: 0.3383 - accuracy: 0.8108 - val_loss: 0.3339 - val_accuracy: 0.8124\n",
      "Epoch 3/200\n",
      "1121/1121 [==============================] - ETA: 0s - loss: 0.3361 - accuracy: 0.8123\n",
      "Epoch 3: val_loss improved from 0.33390 to 0.33338, saving model to C:/Users/islab/Desktop/jihyeon/전자제조시스템\\tmp_checkpoint.h5\n",
      "1121/1121 [==============================] - 1339s 1s/step - loss: 0.3361 - accuracy: 0.8123 - val_loss: 0.3334 - val_accuracy: 0.8142\n",
      "Epoch 4/200\n",
      "1121/1121 [==============================] - ETA: 0s - loss: 0.3349 - accuracy: 0.8131\n",
      "Epoch 4: val_loss improved from 0.33338 to 0.33279, saving model to C:/Users/islab/Desktop/jihyeon/전자제조시스템\\tmp_checkpoint.h5\n",
      "1121/1121 [==============================] - 1337s 1s/step - loss: 0.3349 - accuracy: 0.8131 - val_loss: 0.3328 - val_accuracy: 0.8121\n",
      "Epoch 5/200\n",
      "1121/1121 [==============================] - ETA: 0s - loss: 0.3335 - accuracy: 0.8147\n",
      "Epoch 5: val_loss improved from 0.33279 to 0.33177, saving model to C:/Users/islab/Desktop/jihyeon/전자제조시스템\\tmp_checkpoint.h5\n",
      "1121/1121 [==============================] - 1333s 1s/step - loss: 0.3335 - accuracy: 0.8147 - val_loss: 0.3318 - val_accuracy: 0.8156\n",
      "Epoch 6/200\n",
      "1121/1121 [==============================] - ETA: 0s - loss: 0.3326 - accuracy: 0.8162\n",
      "Epoch 6: val_loss improved from 0.33177 to 0.32976, saving model to C:/Users/islab/Desktop/jihyeon/전자제조시스템\\tmp_checkpoint.h5\n",
      "1121/1121 [==============================] - 1284s 1s/step - loss: 0.3326 - accuracy: 0.8162 - val_loss: 0.3298 - val_accuracy: 0.8178\n",
      "Epoch 7/200\n",
      "1121/1121 [==============================] - ETA: 0s - loss: 0.3316 - accuracy: 0.8167\n",
      "Epoch 7: val_loss did not improve from 0.32976\n",
      "1121/1121 [==============================] - 1282s 1s/step - loss: 0.3316 - accuracy: 0.8167 - val_loss: 0.3317 - val_accuracy: 0.8166\n",
      "Epoch 8/200\n",
      "1121/1121 [==============================] - ETA: 0s - loss: 0.3311 - accuracy: 0.8170\n",
      "Epoch 8: val_loss improved from 0.32976 to 0.32952, saving model to C:/Users/islab/Desktop/jihyeon/전자제조시스템\\tmp_checkpoint.h5\n",
      "1121/1121 [==============================] - 1272s 1s/step - loss: 0.3311 - accuracy: 0.8170 - val_loss: 0.3295 - val_accuracy: 0.8179\n",
      "Epoch 9/200\n",
      "1121/1121 [==============================] - ETA: 0s - loss: 0.3308 - accuracy: 0.8174\n",
      "Epoch 9: val_loss improved from 0.32952 to 0.32915, saving model to C:/Users/islab/Desktop/jihyeon/전자제조시스템\\tmp_checkpoint.h5\n",
      "1121/1121 [==============================] - 1145s 1s/step - loss: 0.3308 - accuracy: 0.8174 - val_loss: 0.3291 - val_accuracy: 0.8181\n",
      "Epoch 10/200\n",
      "1121/1121 [==============================] - ETA: 0s - loss: 0.3306 - accuracy: 0.8177\n",
      "Epoch 10: val_loss improved from 0.32915 to 0.32866, saving model to C:/Users/islab/Desktop/jihyeon/전자제조시스템\\tmp_checkpoint.h5\n",
      "1121/1121 [==============================] - 1172s 1s/step - loss: 0.3306 - accuracy: 0.8177 - val_loss: 0.3287 - val_accuracy: 0.8183\n",
      "Epoch 11/200\n",
      "1121/1121 [==============================] - ETA: 0s - loss: 0.3303 - accuracy: 0.8178\n",
      "Epoch 11: val_loss improved from 0.32866 to 0.32820, saving model to C:/Users/islab/Desktop/jihyeon/전자제조시스템\\tmp_checkpoint.h5\n",
      "1121/1121 [==============================] - 1141s 1s/step - loss: 0.3303 - accuracy: 0.8178 - val_loss: 0.3282 - val_accuracy: 0.8176\n",
      "Epoch 12/200\n",
      "1121/1121 [==============================] - ETA: 0s - loss: 0.3299 - accuracy: 0.8178\n",
      "Epoch 12: val_loss did not improve from 0.32820\n",
      "1121/1121 [==============================] - 1064s 949ms/step - loss: 0.3299 - accuracy: 0.8178 - val_loss: 0.3289 - val_accuracy: 0.8180\n",
      "Epoch 13/200\n",
      "1121/1121 [==============================] - ETA: 0s - loss: 0.3299 - accuracy: 0.8179\n",
      "Epoch 13: val_loss did not improve from 0.32820\n",
      "1121/1121 [==============================] - 1078s 962ms/step - loss: 0.3299 - accuracy: 0.8179 - val_loss: 0.3289 - val_accuracy: 0.8180\n",
      "Epoch 14/200\n",
      "1121/1121 [==============================] - ETA: 0s - loss: 0.3297 - accuracy: 0.8183\n",
      "Epoch 14: val_loss did not improve from 0.32820\n",
      "1121/1121 [==============================] - 1094s 976ms/step - loss: 0.3297 - accuracy: 0.8183 - val_loss: 0.3301 - val_accuracy: 0.8163\n",
      "Epoch 15/200\n",
      "1121/1121 [==============================] - ETA: 0s - loss: 0.3296 - accuracy: 0.8183\n",
      "Epoch 15: val_loss did not improve from 0.32820\n",
      "1121/1121 [==============================] - 1087s 970ms/step - loss: 0.3296 - accuracy: 0.8183 - val_loss: 0.3291 - val_accuracy: 0.8184\n",
      "Epoch 16/200\n",
      "1121/1121 [==============================] - ETA: 0s - loss: 0.3297 - accuracy: 0.8180\n",
      "Epoch 16: val_loss did not improve from 0.32820\n",
      "1121/1121 [==============================] - 1085s 968ms/step - loss: 0.3297 - accuracy: 0.8180 - val_loss: 0.3282 - val_accuracy: 0.8186\n"
     ]
    }
   ],
   "source": [
    "history = model.fit(x_train, y_train, epochs = 200, batch_size = 500,\n",
    "                    validation_data = (x_valid, y_valid), callbacks = [early_stop, checkpoint])"
   ]
  },
  {
   "cell_type": "code",
   "execution_count": 458,
   "id": "26d096eb",
   "metadata": {},
   "outputs": [
    {
     "name": "stdout",
     "output_type": "stream",
     "text": [
      "7522/7522 [==============================] - 114s 15ms/step\n"
     ]
    }
   ],
   "source": [
    "# model.load_weights(filename)\n",
    "\n",
    "pred = model.predict(test_feature)"
   ]
  },
  {
   "cell_type": "code",
   "execution_count": 459,
   "id": "f88d2cc9",
   "metadata": {},
   "outputs": [
    {
     "data": {
      "image/png": "[encoded data removed]",
      "text/plain": [
       "<Figure size 432x288 with 1 Axes>"
      ]
     },
     "metadata": {
      "needs_background": "light"
     },
     "output_type": "display_data"
    }
   ],
   "source": [
    "plt.plot(history.history[\"loss\"],label=\"train\")\n",
    "plt.plot(history.history[\"val_loss\"],label=\"validation\")\n",
    "plt.legend()\n",
    "plt.show()"
   ]
  },
  {
   "cell_type": "code",
   "execution_count": 460,
   "id": "dea51eb8",
   "metadata": {},
   "outputs": [],
   "source": [
    "pred_df = pd.DataFrame(pred, columns=['TAG'])\n",
    "\n",
    "pred_df['TAG'] = pred_df['TAG'].apply(lambda x: 1 if x>=0.5 else 0)"
   ]
  },
  {
   "cell_type": "code",
   "execution_count": 461,
   "id": "442fa753",
   "metadata": {},
   "outputs": [
    {
     "data": {
      "text/plain": [
       "1    202462\n",
       "0     38234\n",
       "Name: TAG, dtype: int64"
      ]
     },
     "execution_count": 461,
     "metadata": {},
     "output_type": "execute_result"
    }
   ],
   "source": [
    "pred_df['TAG'].value_counts()"
   ]
  },
  {
   "cell_type": "code",
   "execution_count": 462,
   "id": "5a6e1920",
   "metadata": {},
   "outputs": [
    {
     "name": "stdout",
     "output_type": "stream",
     "text": [
      "[[    87   2388]\n",
      " [ 38147 200074]]\n"
     ]
    }
   ],
   "source": [
    "confusion = confusion_matrix(test_label, pred_df)\n",
    "print(confusion)"
   ]
  },
  {
   "cell_type": "code",
   "execution_count": 463,
   "id": "61ae83e5",
   "metadata": {},
   "outputs": [
    {
     "data": {
      "image/png": "[encoded data removed]",
      "text/plain": [
       "<Figure size 432x288 with 2 Axes>"
      ]
     },
     "metadata": {
      "needs_background": "light"
     },
     "output_type": "display_data"
    }
   ],
   "source": [
    "plot = sns.heatmap(confusion ,square=True, annot=True, fmt='d', cmap='terrain')\n",
    "class_lables=['0','1','2','3']\n",
    "plt.title(\"confusrion\", size = 12)\n",
    "plot.set_xlabel('예측 y값')\n",
    "plot.set_ylabel('실제 y값')\n",
    "# plt.savefig('80% 사후확률_min_{}_수정.png'.format(j), dpi=300, transparent=True, bbox_inches=\"tight\")\n",
    "plt.show()"
   ]
  },
  {
   "cell_type": "code",
   "execution_count": 464,
   "id": "15844be3",
   "metadata": {},
   "outputs": [
    {
     "name": "stdout",
     "output_type": "stream",
     "text": [
      "precision : 0.9882\n",
      "recall : 0.8399\n",
      "f1-score : 0.9080\n",
      "accuracy : 0.8316\n"
     ]
    }
   ],
   "source": [
    "p = precision_score(test_label, pred_df)\n",
    "print('precision : %0.4f' %p)\n",
    "r = recall_score(test_label, pred_df)\n",
    "print('recall : %0.4f' %r)\n",
    "f1 = f1_score(test_label, pred_df)\n",
    "print('f1-score : %0.4f' %f1)\n",
    "acc = accuracy_score(test_label, pred_df)\n",
    "print('accuracy : %0.4f' %acc)"
   ]
  },
  {
   "cell_type": "markdown",
   "id": "6eddd803",
   "metadata": {},
   "source": [
    "# LSTM "
   ]
  },
  {
   "cell_type": "code",
   "execution_count": 544,
   "id": "d81bcf92",
   "metadata": {},
   "outputs": [],
   "source": [
    "from keras.layers import Dropout\n",
    "model = Sequential()\n",
    "model.add(LSTM(50, \n",
    "               input_shape = (train_feature.shape[1], train_feature.shape[2]), activation = 'tanh', return_sequences = True))\n",
    "model.add(Dropout(0.3))\n",
    "model.add(LSTM(50, return_sequences = True))\n",
    "model.add(Dropout(0.3))\n",
    "model.add(LSTM(50, return_sequences = False))\n",
    "model.add(Dense(1, activation = 'sigmoid'))"
   ]
  },
  {
   "cell_type": "code",
   "execution_count": 545,
   "id": "02de2ba7",
   "metadata": {},
   "outputs": [],
   "source": [
    "model.compile(loss = 'binary_crossentropy', optimizer = 'adam', metrics = ['accuracy'])\n",
    "early_stop = EarlyStopping(monitor = 'val_loss', patience = 5)\n",
    "filename = os.path.join(model_path, 'tmp_checkpoint.h5')\n",
    "checkpoint = ModelCheckpoint(filename, monitor = 'val_loss', verbose = 1, save_best_only = True, mode = 'auto')"
   ]
  },
  {
   "cell_type": "code",
   "execution_count": 546,
   "id": "b4860c5d",
   "metadata": {
    "scrolled": false
   },
   "outputs": [
    {
     "name": "stdout",
     "output_type": "stream",
     "text": [
      "Epoch 1/200\n",
      "18677/18678 [============================>.] - ETA: 0s - loss: 0.3646 - accuracy: 0.8037\n",
      "Epoch 1: val_loss improved from inf to 0.35417, saving model to C:/Users/islab/Desktop/jihyeon/전자제조시스템\\tmp_checkpoint.h5\n",
      "18678/18678 [==============================] - 788s 42ms/step - loss: 0.3646 - accuracy: 0.8037 - val_loss: 0.3542 - val_accuracy: 0.8096\n",
      "Epoch 2/200\n",
      "18677/18678 [============================>.] - ETA: 0s - loss: 0.3482 - accuracy: 0.8090\n",
      "Epoch 2: val_loss improved from 0.35417 to 0.34036, saving model to C:/Users/islab/Desktop/jihyeon/전자제조시스템\\tmp_checkpoint.h5\n",
      "18678/18678 [==============================] - 731s 39ms/step - loss: 0.3482 - accuracy: 0.8090 - val_loss: 0.3404 - val_accuracy: 0.8096\n",
      "Epoch 3/200\n",
      "18677/18678 [============================>.] - ETA: 0s - loss: 0.3388 - accuracy: 0.8111\n",
      "Epoch 3: val_loss improved from 0.34036 to 0.33657, saving model to C:/Users/islab/Desktop/jihyeon/전자제조시스템\\tmp_checkpoint.h5\n",
      "18678/18678 [==============================] - 750s 40ms/step - loss: 0.3388 - accuracy: 0.8111 - val_loss: 0.3366 - val_accuracy: 0.8151\n",
      "Epoch 4/200\n",
      "18677/18678 [============================>.] - ETA: 0s - loss: 0.3359 - accuracy: 0.8132\n",
      "Epoch 4: val_loss improved from 0.33657 to 0.33293, saving model to C:/Users/islab/Desktop/jihyeon/전자제조시스템\\tmp_checkpoint.h5\n",
      "18678/18678 [==============================] - 749s 40ms/step - loss: 0.3359 - accuracy: 0.8132 - val_loss: 0.3329 - val_accuracy: 0.8162\n",
      "Epoch 5/200\n",
      "18677/18678 [============================>.] - ETA: 0s - loss: 0.3334 - accuracy: 0.8154\n",
      "Epoch 5: val_loss improved from 0.33293 to 0.33163, saving model to C:/Users/islab/Desktop/jihyeon/전자제조시스템\\tmp_checkpoint.h5\n",
      "18678/18678 [==============================] - 747s 40ms/step - loss: 0.3334 - accuracy: 0.8154 - val_loss: 0.3316 - val_accuracy: 0.8164\n",
      "Epoch 6/200\n",
      "18677/18678 [============================>.] - ETA: 0s - loss: 0.3323 - accuracy: 0.8161\n",
      "Epoch 6: val_loss improved from 0.33163 to 0.33118, saving model to C:/Users/islab/Desktop/jihyeon/전자제조시스템\\tmp_checkpoint.h5\n",
      "18678/18678 [==============================] - 674s 36ms/step - loss: 0.3323 - accuracy: 0.8161 - val_loss: 0.3312 - val_accuracy: 0.8175\n",
      "Epoch 7/200\n",
      "18677/18678 [============================>.] - ETA: 0s - loss: 0.3314 - accuracy: 0.8168\n",
      "Epoch 7: val_loss improved from 0.33118 to 0.33012, saving model to C:/Users/islab/Desktop/jihyeon/전자제조시스템\\tmp_checkpoint.h5\n",
      "18678/18678 [==============================] - 647s 35ms/step - loss: 0.3314 - accuracy: 0.8168 - val_loss: 0.3301 - val_accuracy: 0.8181\n",
      "Epoch 8/200\n",
      "18677/18678 [============================>.] - ETA: 0s - loss: 0.3310 - accuracy: 0.8169\n",
      "Epoch 8: val_loss did not improve from 0.33012\n",
      "18678/18678 [==============================] - 643s 34ms/step - loss: 0.3310 - accuracy: 0.8169 - val_loss: 0.3303 - val_accuracy: 0.8175\n",
      "Epoch 9/200\n",
      "18677/18678 [============================>.] - ETA: 0s - loss: 0.3308 - accuracy: 0.8171\n",
      "Epoch 9: val_loss improved from 0.33012 to 0.32952, saving model to C:/Users/islab/Desktop/jihyeon/전자제조시스템\\tmp_checkpoint.h5\n",
      "18678/18678 [==============================] - 644s 35ms/step - loss: 0.3308 - accuracy: 0.8171 - val_loss: 0.3295 - val_accuracy: 0.8186\n",
      "Epoch 10/200\n",
      "18677/18678 [============================>.] - ETA: 0s - loss: 0.3304 - accuracy: 0.8173\n",
      "Epoch 10: val_loss improved from 0.32952 to 0.32912, saving model to C:/Users/islab/Desktop/jihyeon/전자제조시스템\\tmp_checkpoint.h5\n",
      "18678/18678 [==============================] - 643s 34ms/step - loss: 0.3304 - accuracy: 0.8173 - val_loss: 0.3291 - val_accuracy: 0.8184\n",
      "Epoch 11/200\n",
      "18677/18678 [============================>.] - ETA: 0s - loss: 0.3301 - accuracy: 0.8176\n",
      "Epoch 11: val_loss did not improve from 0.32912\n",
      "18678/18678 [==============================] - 614s 33ms/step - loss: 0.3301 - accuracy: 0.8176 - val_loss: 0.3294 - val_accuracy: 0.8182\n",
      "Epoch 12/200\n",
      "18677/18678 [============================>.] - ETA: 0s - loss: 0.3301 - accuracy: 0.8176\n",
      "Epoch 12: val_loss did not improve from 0.32912\n",
      "18678/18678 [==============================] - 576s 31ms/step - loss: 0.3301 - accuracy: 0.8175 - val_loss: 0.3292 - val_accuracy: 0.8190\n",
      "Epoch 13/200\n",
      "18677/18678 [============================>.] - ETA: 0s - loss: 0.3299 - accuracy: 0.8179\n",
      "Epoch 13: val_loss did not improve from 0.32912\n",
      "18678/18678 [==============================] - 584s 31ms/step - loss: 0.3299 - accuracy: 0.8179 - val_loss: 0.3313 - val_accuracy: 0.8174\n",
      "Epoch 14/200\n",
      "18677/18678 [============================>.] - ETA: 0s - loss: 0.3296 - accuracy: 0.8180\n",
      "Epoch 14: val_loss did not improve from 0.32912\n",
      "18678/18678 [==============================] - 578s 31ms/step - loss: 0.3296 - accuracy: 0.8180 - val_loss: 0.3305 - val_accuracy: 0.8173\n",
      "Epoch 15/200\n",
      "18677/18678 [============================>.] - ETA: 0s - loss: 0.3295 - accuracy: 0.8182\n",
      "Epoch 15: val_loss did not improve from 0.32912\n",
      "18678/18678 [==============================] - 579s 31ms/step - loss: 0.3295 - accuracy: 0.8182 - val_loss: 0.3293 - val_accuracy: 0.8178\n"
     ]
    }
   ],
   "source": [
    "history = model.fit(x_train, y_train, epochs = 200, batch_size = 30,\n",
    "                    validation_data = (x_valid, y_valid), callbacks = [early_stop, checkpoint])"
   ]
  },
  {
   "cell_type": "code",
   "execution_count": 547,
   "id": "57bad764",
   "metadata": {},
   "outputs": [
    {
     "name": "stdout",
     "output_type": "stream",
     "text": [
      "7522/7522 [==============================] - 65s 9ms/step\n"
     ]
    }
   ],
   "source": [
    "# model.load_weights(filename)\n",
    "\n",
    "pred = model.predict(test_feature)"
   ]
  },
  {
   "cell_type": "code",
   "execution_count": 548,
   "id": "33d32d4c",
   "metadata": {},
   "outputs": [
    {
     "data": {
      "image/png": "[encoded data removed]",
      "text/plain": [
       "<Figure size 432x288 with 1 Axes>"
      ]
     },
     "metadata": {
      "needs_background": "light"
     },
     "output_type": "display_data"
    }
   ],
   "source": [
    "plt.plot(history.history[\"loss\"],label=\"train\")\n",
    "plt.plot(history.history[\"val_loss\"],label=\"validation\")\n",
    "plt.legend()\n",
    "plt.show()"
   ]
  },
  {
   "cell_type": "code",
   "execution_count": 549,
   "id": "0c95816b",
   "metadata": {},
   "outputs": [],
   "source": [
    "pred_df = pd.DataFrame(pred, columns=['TAG'])\n",
    "\n",
    "pred_df['TAG'] = pred_df['TAG'].apply(lambda x: 1 if x>=0.5 else 0)"
   ]
  },
  {
   "cell_type": "code",
   "execution_count": 550,
   "id": "22d4039e",
   "metadata": {},
   "outputs": [
    {
     "data": {
      "text/plain": [
       "1    209346\n",
       "0     31350\n",
       "Name: TAG, dtype: int64"
      ]
     },
     "execution_count": 550,
     "metadata": {},
     "output_type": "execute_result"
    }
   ],
   "source": [
    "pred_df['TAG'].value_counts()"
   ]
  },
  {
   "cell_type": "code",
   "execution_count": 551,
   "id": "7e612303",
   "metadata": {},
   "outputs": [
    {
     "name": "stdout",
     "output_type": "stream",
     "text": [
      "[[    49   2426]\n",
      " [ 31301 206920]]\n"
     ]
    }
   ],
   "source": [
    "confusion = confusion_matrix(test_label, pred_df)\n",
    "print(confusion)"
   ]
  },
  {
   "cell_type": "code",
   "execution_count": 552,
   "id": "e4043ce2",
   "metadata": {},
   "outputs": [
    {
     "data": {
      "image/png": "[encoded data removed]",
      "text/plain": [
       "<Figure size 432x288 with 2 Axes>"
      ]
     },
     "metadata": {
      "needs_background": "light"
     },
     "output_type": "display_data"
    }
   ],
   "source": [
    "plot = sns.heatmap(confusion ,square=True, annot=True, fmt='d', cmap='terrain')\n",
    "class_lables=['0','1','2','3']\n",
    "plt.title(\"confusrion\", size = 12)\n",
    "plot.set_xlabel('예측 y값')\n",
    "plot.set_ylabel('실제 y값')\n",
    "# plt.savefig('80% 사후확률_min_{}_수정.png'.format(j), dpi=300, transparent=True, bbox_inches=\"tight\")\n",
    "plt.show()"
   ]
  },
  {
   "cell_type": "code",
   "execution_count": 553,
   "id": "07650c92",
   "metadata": {},
   "outputs": [
    {
     "name": "stdout",
     "output_type": "stream",
     "text": [
      "precision : 0.9884\n",
      "recall : 0.8686\n",
      "f1-score : 0.9246\n",
      "accuracy : 0.8599\n"
     ]
    }
   ],
   "source": [
    "p = precision_score(test_label, pred_df)\n",
    "print('precision : %0.4f' %p)\n",
    "r = recall_score(test_label, pred_df)\n",
    "print('recall : %0.4f' %r)\n",
    "f1 = f1_score(test_label, pred_df)\n",
    "print('f1-score : %0.4f' %f1)\n",
    "acc = accuracy_score(test_label, pred_df)\n",
    "print('accuracy : %0.4f' %acc)"
   ]
  },
  {
   "cell_type": "code",
   "execution_count": null,
   "id": "3cddec94",
   "metadata": {},
   "outputs": [],
   "source": []
  }
 ],
 "metadata": {
  "kernelspec": {
   "display_name": "Python 3 (ipykernel)",
   "language": "python",
   "name": "python3"
  },
  "language_info": {
   "codemirror_mode": {
    "name": "ipython",
    "version": 3
   },
   "file_extension": ".py",
   "mimetype": "text/x-python",
   "name": "python",
   "nbconvert_exporter": "python",
   "pygments_lexer": "ipython3",
   "version": "3.9.12"
  }
 },
 "nbformat": 4,
 "nbformat_minor": 5
}
