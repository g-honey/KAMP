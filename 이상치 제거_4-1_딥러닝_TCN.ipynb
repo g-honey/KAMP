{
 "cells": [
  {
   "cell_type": "code",
   "execution_count": 1,
   "id": "34ee757b",
   "metadata": {},
   "outputs": [],
   "source": [
    "import numpy as np \n",
    "import pandas as pd\n",
    "# 시각화 package\n",
    "import matplotlib.pyplot as plt\n",
    "import seaborn as sns\n",
    "import graphviz\n",
    "from sklearn.tree import export_graphviz\n",
    "\n",
    "import matplotlib.font_manager as font_manager\n",
    "from matplotlib import rc\n",
    "   \n",
    "# 한글폰트작업\n",
    "# window의 폰트 위치 -> C:/Windows/Fonts/NGULIM.TTF\n",
    "font_name = font_manager.FontProperties(fname=\"C:/Windows/Fonts/NGULIM.TTF\").get_name()\n",
    "rc('font', family=font_name)\n",
    "plt.rcParams['axes.unicode_minus'] = False"
   ]
  },
  {
   "cell_type": "markdown",
   "id": "3913fcfd",
   "metadata": {},
   "source": [
    "# <font color = 4247D6> Data Set"
   ]
  },
  {
   "cell_type": "code",
   "execution_count": 2,
   "id": "19525fd7",
   "metadata": {},
   "outputs": [
    {
     "data": {
      "text/html": [
       "<div>\n",
       "<style scoped>\n",
       "    .dataframe tbody tr th:only-of-type {\n",
       "        vertical-align: middle;\n",
       "    }\n",
       "\n",
       "    .dataframe tbody tr th {\n",
       "        vertical-align: top;\n",
       "    }\n",
       "\n",
       "    .dataframe thead th {\n",
       "        text-align: right;\n",
       "    }\n",
       "</style>\n",
       "<table border=\"1\" class=\"dataframe\">\n",
       "  <thead>\n",
       "    <tr style=\"text-align: right;\">\n",
       "      <th></th>\n",
       "      <th>STD_DT</th>\n",
       "      <th>MELT_TEMP</th>\n",
       "      <th>MOTORSPEED</th>\n",
       "      <th>MELT_WEIGHT</th>\n",
       "      <th>TAG</th>\n",
       "    </tr>\n",
       "  </thead>\n",
       "  <tbody>\n",
       "    <tr>\n",
       "      <th>0</th>\n",
       "      <td>2020-03-04 0:00</td>\n",
       "      <td>489</td>\n",
       "      <td>116</td>\n",
       "      <td>631</td>\n",
       "      <td>OK</td>\n",
       "    </tr>\n",
       "    <tr>\n",
       "      <th>1</th>\n",
       "      <td>2020-03-04 0:00</td>\n",
       "      <td>433</td>\n",
       "      <td>78</td>\n",
       "      <td>609</td>\n",
       "      <td>OK</td>\n",
       "    </tr>\n",
       "    <tr>\n",
       "      <th>2</th>\n",
       "      <td>2020-03-04 0:00</td>\n",
       "      <td>464</td>\n",
       "      <td>154</td>\n",
       "      <td>608</td>\n",
       "      <td>OK</td>\n",
       "    </tr>\n",
       "    <tr>\n",
       "      <th>3</th>\n",
       "      <td>2020-03-04 0:00</td>\n",
       "      <td>379</td>\n",
       "      <td>212</td>\n",
       "      <td>606</td>\n",
       "      <td>OK</td>\n",
       "    </tr>\n",
       "    <tr>\n",
       "      <th>4</th>\n",
       "      <td>2020-03-04 0:00</td>\n",
       "      <td>798</td>\n",
       "      <td>1736</td>\n",
       "      <td>604</td>\n",
       "      <td>OK</td>\n",
       "    </tr>\n",
       "    <tr>\n",
       "      <th>...</th>\n",
       "      <td>...</td>\n",
       "      <td>...</td>\n",
       "      <td>...</td>\n",
       "      <td>...</td>\n",
       "      <td>...</td>\n",
       "    </tr>\n",
       "    <tr>\n",
       "      <th>835195</th>\n",
       "      <td>2020-04-30 23:59</td>\n",
       "      <td>755</td>\n",
       "      <td>1743</td>\n",
       "      <td>318</td>\n",
       "      <td>OK</td>\n",
       "    </tr>\n",
       "    <tr>\n",
       "      <th>835196</th>\n",
       "      <td>2020-04-30 23:59</td>\n",
       "      <td>385</td>\n",
       "      <td>206</td>\n",
       "      <td>317</td>\n",
       "      <td>OK</td>\n",
       "    </tr>\n",
       "    <tr>\n",
       "      <th>835197</th>\n",
       "      <td>2020-04-30 23:59</td>\n",
       "      <td>465</td>\n",
       "      <td>148</td>\n",
       "      <td>316</td>\n",
       "      <td>OK</td>\n",
       "    </tr>\n",
       "    <tr>\n",
       "      <th>835198</th>\n",
       "      <td>2020-04-30 23:59</td>\n",
       "      <td>467</td>\n",
       "      <td>0</td>\n",
       "      <td>314</td>\n",
       "      <td>OK</td>\n",
       "    </tr>\n",
       "    <tr>\n",
       "      <th>835199</th>\n",
       "      <td>2020-04-30 23:59</td>\n",
       "      <td>453</td>\n",
       "      <td>125</td>\n",
       "      <td>312</td>\n",
       "      <td>OK</td>\n",
       "    </tr>\n",
       "  </tbody>\n",
       "</table>\n",
       "<p>835200 rows × 5 columns</p>\n",
       "</div>"
      ],
      "text/plain": [
       "                  STD_DT  MELT_TEMP  MOTORSPEED  MELT_WEIGHT TAG\n",
       "0        2020-03-04 0:00        489         116          631  OK\n",
       "1        2020-03-04 0:00        433          78          609  OK\n",
       "2        2020-03-04 0:00        464         154          608  OK\n",
       "3        2020-03-04 0:00        379         212          606  OK\n",
       "4        2020-03-04 0:00        798        1736          604  OK\n",
       "...                  ...        ...         ...          ...  ..\n",
       "835195  2020-04-30 23:59        755        1743          318  OK\n",
       "835196  2020-04-30 23:59        385         206          317  OK\n",
       "835197  2020-04-30 23:59        465         148          316  OK\n",
       "835198  2020-04-30 23:59        467           0          314  OK\n",
       "835199  2020-04-30 23:59        453         125          312  OK\n",
       "\n",
       "[835200 rows x 5 columns]"
      ]
     },
     "execution_count": 2,
     "metadata": {},
     "output_type": "execute_result"
    }
   ],
   "source": [
    "df = pd.read_csv('이상치_제거_.csv')\n",
    "df"
   ]
  },
  {
   "cell_type": "code",
   "execution_count": 3,
   "id": "4702ae7d",
   "metadata": {},
   "outputs": [
    {
     "data": {
      "text/html": [
       "<div>\n",
       "<style scoped>\n",
       "    .dataframe tbody tr th:only-of-type {\n",
       "        vertical-align: middle;\n",
       "    }\n",
       "\n",
       "    .dataframe tbody tr th {\n",
       "        vertical-align: top;\n",
       "    }\n",
       "\n",
       "    .dataframe thead th {\n",
       "        text-align: right;\n",
       "    }\n",
       "</style>\n",
       "<table border=\"1\" class=\"dataframe\">\n",
       "  <thead>\n",
       "    <tr style=\"text-align: right;\">\n",
       "      <th></th>\n",
       "      <th>STD_DT</th>\n",
       "      <th>MELT_TEMP</th>\n",
       "      <th>MOTORSPEED</th>\n",
       "      <th>MELT_WEIGHT</th>\n",
       "      <th>TAG</th>\n",
       "    </tr>\n",
       "  </thead>\n",
       "  <tbody>\n",
       "    <tr>\n",
       "      <th>0</th>\n",
       "      <td>2020-03-04 0:00</td>\n",
       "      <td>489</td>\n",
       "      <td>116</td>\n",
       "      <td>631</td>\n",
       "      <td>1</td>\n",
       "    </tr>\n",
       "    <tr>\n",
       "      <th>1</th>\n",
       "      <td>2020-03-04 0:00</td>\n",
       "      <td>433</td>\n",
       "      <td>78</td>\n",
       "      <td>609</td>\n",
       "      <td>1</td>\n",
       "    </tr>\n",
       "    <tr>\n",
       "      <th>2</th>\n",
       "      <td>2020-03-04 0:00</td>\n",
       "      <td>464</td>\n",
       "      <td>154</td>\n",
       "      <td>608</td>\n",
       "      <td>1</td>\n",
       "    </tr>\n",
       "    <tr>\n",
       "      <th>3</th>\n",
       "      <td>2020-03-04 0:00</td>\n",
       "      <td>379</td>\n",
       "      <td>212</td>\n",
       "      <td>606</td>\n",
       "      <td>1</td>\n",
       "    </tr>\n",
       "    <tr>\n",
       "      <th>4</th>\n",
       "      <td>2020-03-04 0:00</td>\n",
       "      <td>798</td>\n",
       "      <td>1736</td>\n",
       "      <td>604</td>\n",
       "      <td>1</td>\n",
       "    </tr>\n",
       "    <tr>\n",
       "      <th>...</th>\n",
       "      <td>...</td>\n",
       "      <td>...</td>\n",
       "      <td>...</td>\n",
       "      <td>...</td>\n",
       "      <td>...</td>\n",
       "    </tr>\n",
       "    <tr>\n",
       "      <th>835195</th>\n",
       "      <td>2020-04-30 23:59</td>\n",
       "      <td>755</td>\n",
       "      <td>1743</td>\n",
       "      <td>318</td>\n",
       "      <td>1</td>\n",
       "    </tr>\n",
       "    <tr>\n",
       "      <th>835196</th>\n",
       "      <td>2020-04-30 23:59</td>\n",
       "      <td>385</td>\n",
       "      <td>206</td>\n",
       "      <td>317</td>\n",
       "      <td>1</td>\n",
       "    </tr>\n",
       "    <tr>\n",
       "      <th>835197</th>\n",
       "      <td>2020-04-30 23:59</td>\n",
       "      <td>465</td>\n",
       "      <td>148</td>\n",
       "      <td>316</td>\n",
       "      <td>1</td>\n",
       "    </tr>\n",
       "    <tr>\n",
       "      <th>835198</th>\n",
       "      <td>2020-04-30 23:59</td>\n",
       "      <td>467</td>\n",
       "      <td>0</td>\n",
       "      <td>314</td>\n",
       "      <td>1</td>\n",
       "    </tr>\n",
       "    <tr>\n",
       "      <th>835199</th>\n",
       "      <td>2020-04-30 23:59</td>\n",
       "      <td>453</td>\n",
       "      <td>125</td>\n",
       "      <td>312</td>\n",
       "      <td>1</td>\n",
       "    </tr>\n",
       "  </tbody>\n",
       "</table>\n",
       "<p>835200 rows × 5 columns</p>\n",
       "</div>"
      ],
      "text/plain": [
       "                  STD_DT  MELT_TEMP  MOTORSPEED  MELT_WEIGHT  TAG\n",
       "0        2020-03-04 0:00        489         116          631    1\n",
       "1        2020-03-04 0:00        433          78          609    1\n",
       "2        2020-03-04 0:00        464         154          608    1\n",
       "3        2020-03-04 0:00        379         212          606    1\n",
       "4        2020-03-04 0:00        798        1736          604    1\n",
       "...                  ...        ...         ...          ...  ...\n",
       "835195  2020-04-30 23:59        755        1743          318    1\n",
       "835196  2020-04-30 23:59        385         206          317    1\n",
       "835197  2020-04-30 23:59        465         148          316    1\n",
       "835198  2020-04-30 23:59        467           0          314    1\n",
       "835199  2020-04-30 23:59        453         125          312    1\n",
       "\n",
       "[835200 rows x 5 columns]"
      ]
     },
     "execution_count": 3,
     "metadata": {},
     "output_type": "execute_result"
    }
   ],
   "source": [
    "df.replace({'TAG': {'OK': 1, 'NG': 0}}, inplace=True)\n",
    "df"
   ]
  },
  {
   "cell_type": "code",
   "execution_count": 4,
   "id": "302b9ac9",
   "metadata": {},
   "outputs": [],
   "source": [
    "from datetime import datetime\n",
    "from sklearn import preprocessing\n",
    "from sklearn.model_selection import train_test_split\n",
    "from sklearn.metrics import *\n",
    "from imblearn.over_sampling import SMOTE"
   ]
  },
  {
   "cell_type": "code",
   "execution_count": 5,
   "id": "cff542a7",
   "metadata": {},
   "outputs": [],
   "source": [
    "from keras.models import Sequential\n",
    "from keras.layers import Dense, LSTM\n",
    "from tcn import TCN, tcn_full_summary\n",
    "from keras.layers import Dropout\n",
    "from keras.preprocessing import sequence\n",
    "from keras.utils import np_utils\n",
    "from keras.callbacks import EarlyStopping, ModelCheckpoint"
   ]
  },
  {
   "cell_type": "code",
   "execution_count": 6,
   "id": "fbdde739",
   "metadata": {},
   "outputs": [],
   "source": [
    "df['STD_DT'] = df['STD_DT'].apply(lambda x: pd.to_datetime(str(x), format = '%Y-%m-%d %H:%M:%S'))"
   ]
  },
  {
   "cell_type": "code",
   "execution_count": 7,
   "id": "bb181523",
   "metadata": {},
   "outputs": [
    {
     "data": {
      "text/html": [
       "<div>\n",
       "<style scoped>\n",
       "    .dataframe tbody tr th:only-of-type {\n",
       "        vertical-align: middle;\n",
       "    }\n",
       "\n",
       "    .dataframe tbody tr th {\n",
       "        vertical-align: top;\n",
       "    }\n",
       "\n",
       "    .dataframe thead th {\n",
       "        text-align: right;\n",
       "    }\n",
       "</style>\n",
       "<table border=\"1\" class=\"dataframe\">\n",
       "  <thead>\n",
       "    <tr style=\"text-align: right;\">\n",
       "      <th></th>\n",
       "      <th>MELT_TEMP</th>\n",
       "      <th>MOTORSPEED</th>\n",
       "      <th>MELT_WEIGHT</th>\n",
       "      <th>TAG</th>\n",
       "    </tr>\n",
       "    <tr>\n",
       "      <th>STD_DT</th>\n",
       "      <th></th>\n",
       "      <th></th>\n",
       "      <th></th>\n",
       "      <th></th>\n",
       "    </tr>\n",
       "  </thead>\n",
       "  <tbody>\n",
       "    <tr>\n",
       "      <th>2020-03-04 00:00:00</th>\n",
       "      <td>489</td>\n",
       "      <td>116</td>\n",
       "      <td>631</td>\n",
       "      <td>1</td>\n",
       "    </tr>\n",
       "    <tr>\n",
       "      <th>2020-03-04 00:00:00</th>\n",
       "      <td>433</td>\n",
       "      <td>78</td>\n",
       "      <td>609</td>\n",
       "      <td>1</td>\n",
       "    </tr>\n",
       "    <tr>\n",
       "      <th>2020-03-04 00:00:00</th>\n",
       "      <td>464</td>\n",
       "      <td>154</td>\n",
       "      <td>608</td>\n",
       "      <td>1</td>\n",
       "    </tr>\n",
       "    <tr>\n",
       "      <th>2020-03-04 00:00:00</th>\n",
       "      <td>379</td>\n",
       "      <td>212</td>\n",
       "      <td>606</td>\n",
       "      <td>1</td>\n",
       "    </tr>\n",
       "    <tr>\n",
       "      <th>2020-03-04 00:00:00</th>\n",
       "      <td>798</td>\n",
       "      <td>1736</td>\n",
       "      <td>604</td>\n",
       "      <td>1</td>\n",
       "    </tr>\n",
       "    <tr>\n",
       "      <th>...</th>\n",
       "      <td>...</td>\n",
       "      <td>...</td>\n",
       "      <td>...</td>\n",
       "      <td>...</td>\n",
       "    </tr>\n",
       "    <tr>\n",
       "      <th>2020-04-30 23:59:00</th>\n",
       "      <td>755</td>\n",
       "      <td>1743</td>\n",
       "      <td>318</td>\n",
       "      <td>1</td>\n",
       "    </tr>\n",
       "    <tr>\n",
       "      <th>2020-04-30 23:59:00</th>\n",
       "      <td>385</td>\n",
       "      <td>206</td>\n",
       "      <td>317</td>\n",
       "      <td>1</td>\n",
       "    </tr>\n",
       "    <tr>\n",
       "      <th>2020-04-30 23:59:00</th>\n",
       "      <td>465</td>\n",
       "      <td>148</td>\n",
       "      <td>316</td>\n",
       "      <td>1</td>\n",
       "    </tr>\n",
       "    <tr>\n",
       "      <th>2020-04-30 23:59:00</th>\n",
       "      <td>467</td>\n",
       "      <td>0</td>\n",
       "      <td>314</td>\n",
       "      <td>1</td>\n",
       "    </tr>\n",
       "    <tr>\n",
       "      <th>2020-04-30 23:59:00</th>\n",
       "      <td>453</td>\n",
       "      <td>125</td>\n",
       "      <td>312</td>\n",
       "      <td>1</td>\n",
       "    </tr>\n",
       "  </tbody>\n",
       "</table>\n",
       "<p>835200 rows × 4 columns</p>\n",
       "</div>"
      ],
      "text/plain": [
       "                     MELT_TEMP  MOTORSPEED  MELT_WEIGHT  TAG\n",
       "STD_DT                                                      \n",
       "2020-03-04 00:00:00        489         116          631    1\n",
       "2020-03-04 00:00:00        433          78          609    1\n",
       "2020-03-04 00:00:00        464         154          608    1\n",
       "2020-03-04 00:00:00        379         212          606    1\n",
       "2020-03-04 00:00:00        798        1736          604    1\n",
       "...                        ...         ...          ...  ...\n",
       "2020-04-30 23:59:00        755        1743          318    1\n",
       "2020-04-30 23:59:00        385         206          317    1\n",
       "2020-04-30 23:59:00        465         148          316    1\n",
       "2020-04-30 23:59:00        467           0          314    1\n",
       "2020-04-30 23:59:00        453         125          312    1\n",
       "\n",
       "[835200 rows x 4 columns]"
      ]
     },
     "execution_count": 7,
     "metadata": {},
     "output_type": "execute_result"
    }
   ],
   "source": [
    "df = df.set_index(['STD_DT'])\n",
    "df"
   ]
  },
  {
   "cell_type": "code",
   "execution_count": 8,
   "id": "7fad853a",
   "metadata": {},
   "outputs": [
    {
     "data": {
      "text/html": [
       "<div>\n",
       "<style scoped>\n",
       "    .dataframe tbody tr th:only-of-type {\n",
       "        vertical-align: middle;\n",
       "    }\n",
       "\n",
       "    .dataframe tbody tr th {\n",
       "        vertical-align: top;\n",
       "    }\n",
       "\n",
       "    .dataframe thead th {\n",
       "        text-align: right;\n",
       "    }\n",
       "</style>\n",
       "<table border=\"1\" class=\"dataframe\">\n",
       "  <thead>\n",
       "    <tr style=\"text-align: right;\">\n",
       "      <th></th>\n",
       "      <th>MELT_TEMP</th>\n",
       "      <th>MOTORSPEED</th>\n",
       "      <th>MELT_WEIGHT</th>\n",
       "      <th>TAG</th>\n",
       "    </tr>\n",
       "    <tr>\n",
       "      <th>STD_DT</th>\n",
       "      <th></th>\n",
       "      <th></th>\n",
       "      <th></th>\n",
       "      <th></th>\n",
       "    </tr>\n",
       "  </thead>\n",
       "  <tbody>\n",
       "    <tr>\n",
       "      <th>2020-03-04 00:00:00</th>\n",
       "      <td>489</td>\n",
       "      <td>116</td>\n",
       "      <td>631</td>\n",
       "      <td>1</td>\n",
       "    </tr>\n",
       "    <tr>\n",
       "      <th>2020-03-04 00:00:00</th>\n",
       "      <td>433</td>\n",
       "      <td>78</td>\n",
       "      <td>609</td>\n",
       "      <td>1</td>\n",
       "    </tr>\n",
       "    <tr>\n",
       "      <th>2020-03-04 00:00:00</th>\n",
       "      <td>464</td>\n",
       "      <td>154</td>\n",
       "      <td>608</td>\n",
       "      <td>1</td>\n",
       "    </tr>\n",
       "    <tr>\n",
       "      <th>2020-03-04 00:00:00</th>\n",
       "      <td>379</td>\n",
       "      <td>212</td>\n",
       "      <td>606</td>\n",
       "      <td>1</td>\n",
       "    </tr>\n",
       "    <tr>\n",
       "      <th>2020-03-04 00:00:00</th>\n",
       "      <td>798</td>\n",
       "      <td>1736</td>\n",
       "      <td>604</td>\n",
       "      <td>1</td>\n",
       "    </tr>\n",
       "    <tr>\n",
       "      <th>...</th>\n",
       "      <td>...</td>\n",
       "      <td>...</td>\n",
       "      <td>...</td>\n",
       "      <td>...</td>\n",
       "    </tr>\n",
       "    <tr>\n",
       "      <th>2020-04-30 23:59:00</th>\n",
       "      <td>755</td>\n",
       "      <td>1743</td>\n",
       "      <td>318</td>\n",
       "      <td>1</td>\n",
       "    </tr>\n",
       "    <tr>\n",
       "      <th>2020-04-30 23:59:00</th>\n",
       "      <td>385</td>\n",
       "      <td>206</td>\n",
       "      <td>317</td>\n",
       "      <td>1</td>\n",
       "    </tr>\n",
       "    <tr>\n",
       "      <th>2020-04-30 23:59:00</th>\n",
       "      <td>465</td>\n",
       "      <td>148</td>\n",
       "      <td>316</td>\n",
       "      <td>1</td>\n",
       "    </tr>\n",
       "    <tr>\n",
       "      <th>2020-04-30 23:59:00</th>\n",
       "      <td>467</td>\n",
       "      <td>0</td>\n",
       "      <td>314</td>\n",
       "      <td>1</td>\n",
       "    </tr>\n",
       "    <tr>\n",
       "      <th>2020-04-30 23:59:00</th>\n",
       "      <td>453</td>\n",
       "      <td>125</td>\n",
       "      <td>312</td>\n",
       "      <td>1</td>\n",
       "    </tr>\n",
       "  </tbody>\n",
       "</table>\n",
       "<p>835200 rows × 4 columns</p>\n",
       "</div>"
      ],
      "text/plain": [
       "                     MELT_TEMP  MOTORSPEED  MELT_WEIGHT  TAG\n",
       "STD_DT                                                      \n",
       "2020-03-04 00:00:00        489         116          631    1\n",
       "2020-03-04 00:00:00        433          78          609    1\n",
       "2020-03-04 00:00:00        464         154          608    1\n",
       "2020-03-04 00:00:00        379         212          606    1\n",
       "2020-03-04 00:00:00        798        1736          604    1\n",
       "...                        ...         ...          ...  ...\n",
       "2020-04-30 23:59:00        755        1743          318    1\n",
       "2020-04-30 23:59:00        385         206          317    1\n",
       "2020-04-30 23:59:00        465         148          316    1\n",
       "2020-04-30 23:59:00        467           0          314    1\n",
       "2020-04-30 23:59:00        453         125          312    1\n",
       "\n",
       "[835200 rows x 4 columns]"
      ]
     },
     "execution_count": 8,
     "metadata": {},
     "output_type": "execute_result"
    }
   ],
   "source": [
    "# df.replace({'TAG': {'OK': 1, 'NG': 0}}, inplace=True)\n",
    "df1 = df[['MELT_TEMP', 'MOTORSPEED', 'MELT_WEIGHT', 'TAG']]\n",
    "df1"
   ]
  },
  {
   "cell_type": "code",
   "execution_count": 9,
   "id": "f426ea0e",
   "metadata": {},
   "outputs": [
    {
     "name": "stdout",
     "output_type": "stream",
     "text": [
      "(584640, 4)\n",
      "(250560, 4)\n"
     ]
    }
   ],
   "source": [
    "split_date = int(df1.shape[0]*0.7)\n",
    "train = df1[:split_date]\n",
    "test = df1[split_date:]\n",
    "print(train.shape)\n",
    "print(test.shape)"
   ]
  },
  {
   "cell_type": "code",
   "execution_count": 10,
   "id": "ec8c4a2c",
   "metadata": {},
   "outputs": [],
   "source": [
    "scaler = preprocessing.MinMaxScaler()\n",
    "\n",
    "train_sc = scaler.fit_transform(train)\n",
    "test_sc = scaler.transform(test)\n",
    "\n",
    "x_train_values = train_sc[:, :-1]\n",
    "y_train_values = train_sc[:,-1]"
   ]
  },
  {
   "cell_type": "code",
   "execution_count": 11,
   "id": "6404350f",
   "metadata": {},
   "outputs": [
    {
     "name": "stdout",
     "output_type": "stream",
     "text": [
      "SMOTE 적용 전 학습용 피처/레이블 데이터 세트 (584640, 3) (584640,)\n",
      "SMOTE 적용 후 학습용 피처/레이블 데이터 세트 (821032, 3) (821032,)\n",
      "SMOTE 적용 후 레이블 값 분포: \n",
      " 1.0    410516\n",
      "0.0    410516\n",
      "dtype: int64\n"
     ]
    }
   ],
   "source": [
    "smote = SMOTE(random_state = 0)\n",
    "\n",
    "X_train_over, y_train_over = smote.fit_resample(x_train_values, y_train_values)\n",
    "print('SMOTE 적용 전 학습용 피처/레이블 데이터 세트', x_train_values.shape, y_train_values.shape)\n",
    "print('SMOTE 적용 후 학습용 피처/레이블 데이터 세트', X_train_over.shape, y_train_over.shape)\n",
    "print('SMOTE 적용 후 레이블 값 분포: \\n', pd.Series(y_train_over).value_counts())"
   ]
  },
  {
   "cell_type": "code",
   "execution_count": 12,
   "id": "f0bef479",
   "metadata": {},
   "outputs": [],
   "source": [
    "def make_dataset(data, label, window_size):\n",
    "    feature_list = []\n",
    "    label_list = []\n",
    "    for i in range(len(data) - window_size):\n",
    "        feature_list.append(np.array(data.iloc[i:i+window_size]))\n",
    "        label_list.append(np.array(label.iloc[i+window_size]))\n",
    "    return np.array(feature_list), np.array(label_list)"
   ]
  },
  {
   "cell_type": "code",
   "execution_count": 13,
   "id": "1691e3a0",
   "metadata": {},
   "outputs": [],
   "source": [
    "X_train_over = pd.DataFrame(X_train_over, columns = ['MELT_TEMP', 'MOTORSPEED', 'MELT_WEIGHT'])\n",
    "y_train_over = pd.DataFrame(y_train_over, columns = ['TAG'])"
   ]
  },
  {
   "cell_type": "code",
   "execution_count": 14,
   "id": "7dbf71ab",
   "metadata": {},
   "outputs": [],
   "source": [
    "#train dataset\n",
    "train_feature, train_label = make_dataset(X_train_over, y_train_over, 10)"
   ]
  },
  {
   "cell_type": "code",
   "execution_count": 15,
   "id": "f9347425",
   "metadata": {},
   "outputs": [],
   "source": [
    "test_sc = pd.DataFrame(test_sc, columns = ['MELT_TEMP', 'MOTORSPEED', 'MELT_WEIGHT','TAG'])"
   ]
  },
  {
   "cell_type": "code",
   "execution_count": 16,
   "id": "becd58c4",
   "metadata": {},
   "outputs": [],
   "source": [
    "feature_cols = ['MELT_TEMP', 'MOTORSPEED', 'MELT_WEIGHT']\n",
    "label_cols = ['TAG']"
   ]
  },
  {
   "cell_type": "code",
   "execution_count": 17,
   "id": "72a3adb0",
   "metadata": {},
   "outputs": [
    {
     "data": {
      "text/plain": [
       "((250550, 10, 3), (250550, 1))"
      ]
     },
     "execution_count": 17,
     "metadata": {},
     "output_type": "execute_result"
    }
   ],
   "source": [
    "test_feature = test_sc[feature_cols]\n",
    "test_label = test_sc[label_cols]\n",
    "\n",
    "# test dataset (실제 예측 해볼 데이터)\n",
    "test_feature, test_label = make_dataset(test_feature, test_label, 10)\n",
    "test_feature.shape, test_label.shape"
   ]
  },
  {
   "cell_type": "code",
   "execution_count": 18,
   "id": "ffc4c8e2",
   "metadata": {},
   "outputs": [
    {
     "data": {
      "text/plain": [
       "((574715, 10, 3), (246307, 10, 3))"
      ]
     },
     "execution_count": 18,
     "metadata": {},
     "output_type": "execute_result"
    }
   ],
   "source": [
    "x_train, x_valid, y_train, y_valid = train_test_split(train_feature, train_label, test_size = 0.3, random_state=1)\n",
    "x_train.shape, x_valid.shape"
   ]
  },
  {
   "cell_type": "code",
   "execution_count": 19,
   "id": "0c645442",
   "metadata": {},
   "outputs": [],
   "source": [
    "import os\n",
    "path = \"C:/Users/islab/Desktop/jihyeon/전자제조시스템\"\n",
    "os.chdir(path)"
   ]
  },
  {
   "cell_type": "code",
   "execution_count": 20,
   "id": "4eaaaab2",
   "metadata": {},
   "outputs": [],
   "source": [
    "model_path = path"
   ]
  },
  {
   "cell_type": "code",
   "execution_count": 32,
   "id": "991ecd4a",
   "metadata": {},
   "outputs": [],
   "source": [
    "from keras.layers import GRU\n",
    "model = Sequential()\n",
    "model.add(GRU(50, \n",
    "               input_shape = (train_feature.shape[1], train_feature.shape[2]), return_sequences = True))\n",
    "model.add(Dropout(0.3))\n",
    "model.add(TCN(20, return_sequences = False))\n",
    "model.add(Dense(1, activation = 'sigmoid'))"
   ]
  },
  {
   "cell_type": "code",
   "execution_count": 33,
   "id": "b7ffc2d2",
   "metadata": {},
   "outputs": [
    {
     "name": "stdout",
     "output_type": "stream",
     "text": [
      "Model: \"sequential_2\"\n",
      "_________________________________________________________________\n",
      " Layer (type)                Output Shape              Param #   \n",
      "=================================================================\n",
      " gru (GRU)                   (None, 10, 50)            8250      \n",
      "                                                                 \n",
      " dropout_6 (Dropout)         (None, 10, 50)            0         \n",
      "                                                                 \n",
      " tcn_3 (TCN)                 (None, 20)                17460     \n",
      "                                                                 \n",
      " dense_2 (Dense)             (None, 1)                 21        \n",
      "                                                                 \n",
      "=================================================================\n",
      "Total params: 25,731\n",
      "Trainable params: 25,731\n",
      "Non-trainable params: 0\n",
      "_________________________________________________________________\n"
     ]
    }
   ],
   "source": [
    "model.summary()"
   ]
  },
  {
   "cell_type": "code",
   "execution_count": 34,
   "id": "08f29221",
   "metadata": {},
   "outputs": [],
   "source": [
    "model.compile(loss = 'binary_crossentropy', optimizer = 'adam', metrics = ['accuracy'])\n",
    "early_stop = EarlyStopping(monitor = 'val_loss', patience = 5)\n",
    "filename = os.path.join(model_path, 'tmp_checkpoint.h5')\n",
    "checkpoint = ModelCheckpoint(filename, monitor = 'val_loss', verbose = 1, save_best_only = True, mode = 'auto')"
   ]
  },
  {
   "cell_type": "code",
   "execution_count": 35,
   "id": "5e4816bf",
   "metadata": {
    "scrolled": false
   },
   "outputs": [
    {
     "name": "stdout",
     "output_type": "stream",
     "text": [
      "Epoch 1/200\n",
      "57465/57472 [============================>.] - ETA: 0s - loss: 0.3436 - accuracy: 0.8093\n",
      "Epoch 1: val_loss improved from inf to 0.33613, saving model to C:/Users/islab/Desktop/jihyeon/전자제조시스템\\tmp_checkpoint.h5\n",
      "57472/57472 [==============================] - 388s 7ms/step - loss: 0.3436 - accuracy: 0.8093 - val_loss: 0.3361 - val_accuracy: 0.8155\n",
      "Epoch 2/200\n",
      "57468/57472 [============================>.] - ETA: 0s - loss: 0.3384 - accuracy: 0.8128\n",
      "Epoch 2: val_loss did not improve from 0.33613\n",
      "57472/57472 [==============================] - 409s 7ms/step - loss: 0.3384 - accuracy: 0.8128 - val_loss: 0.3382 - val_accuracy: 0.8132\n",
      "Epoch 3/200\n",
      "57471/57472 [============================>.] - ETA: 0s - loss: 0.3374 - accuracy: 0.8137\n",
      "Epoch 3: val_loss improved from 0.33613 to 0.33444, saving model to C:/Users/islab/Desktop/jihyeon/전자제조시스템\\tmp_checkpoint.h5\n",
      "57472/57472 [==============================] - 418s 7ms/step - loss: 0.3374 - accuracy: 0.8137 - val_loss: 0.3344 - val_accuracy: 0.8163\n",
      "Epoch 4/200\n",
      "57468/57472 [============================>.] - ETA: 0s - loss: 0.3375 - accuracy: 0.8139\n",
      "Epoch 4: val_loss did not improve from 0.33444\n",
      "57472/57472 [==============================] - 413s 7ms/step - loss: 0.3375 - accuracy: 0.8139 - val_loss: 0.3380 - val_accuracy: 0.8148\n",
      "Epoch 5/200\n",
      "57465/57472 [============================>.] - ETA: 0s - loss: 0.3372 - accuracy: 0.8141\n",
      "Epoch 5: val_loss improved from 0.33444 to 0.33425, saving model to C:/Users/islab/Desktop/jihyeon/전자제조시스템\\tmp_checkpoint.h5\n",
      "57472/57472 [==============================] - 411s 7ms/step - loss: 0.3372 - accuracy: 0.8141 - val_loss: 0.3342 - val_accuracy: 0.8155\n",
      "Epoch 6/200\n",
      "57465/57472 [============================>.] - ETA: 0s - loss: 0.3366 - accuracy: 0.8148\n",
      "Epoch 6: val_loss improved from 0.33425 to 0.33377, saving model to C:/Users/islab/Desktop/jihyeon/전자제조시스템\\tmp_checkpoint.h5\n",
      "57472/57472 [==============================] - 413s 7ms/step - loss: 0.3366 - accuracy: 0.8149 - val_loss: 0.3338 - val_accuracy: 0.8178\n",
      "Epoch 7/200\n",
      "57469/57472 [============================>.] - ETA: 0s - loss: 0.3367 - accuracy: 0.8148\n",
      "Epoch 7: val_loss did not improve from 0.33377\n",
      "57472/57472 [==============================] - 414s 7ms/step - loss: 0.3367 - accuracy: 0.8148 - val_loss: 0.3339 - val_accuracy: 0.8161\n",
      "Epoch 8/200\n",
      "57466/57472 [============================>.] - ETA: 0s - loss: 0.3367 - accuracy: 0.8149\n",
      "Epoch 8: val_loss did not improve from 0.33377\n",
      "57472/57472 [==============================] - 415s 7ms/step - loss: 0.3367 - accuracy: 0.8149 - val_loss: 0.3341 - val_accuracy: 0.8161\n",
      "Epoch 9/200\n",
      "57469/57472 [============================>.] - ETA: 0s - loss: 0.3363 - accuracy: 0.8146\n",
      "Epoch 9: val_loss did not improve from 0.33377\n",
      "57472/57472 [==============================] - 417s 7ms/step - loss: 0.3363 - accuracy: 0.8146 - val_loss: 0.3348 - val_accuracy: 0.8169\n",
      "Epoch 10/200\n",
      "57465/57472 [============================>.] - ETA: 0s - loss: 0.3368 - accuracy: 0.8149\n",
      "Epoch 10: val_loss did not improve from 0.33377\n",
      "57472/57472 [==============================] - 415s 7ms/step - loss: 0.3368 - accuracy: 0.8149 - val_loss: 0.3351 - val_accuracy: 0.8165\n",
      "Epoch 11/200\n",
      "57464/57472 [============================>.] - ETA: 0s - loss: 0.3362 - accuracy: 0.8147\n",
      "Epoch 11: val_loss did not improve from 0.33377\n",
      "57472/57472 [==============================] - 383s 7ms/step - loss: 0.3362 - accuracy: 0.8147 - val_loss: 0.3339 - val_accuracy: 0.8172\n"
     ]
    }
   ],
   "source": [
    "history = model.fit(x_train, y_train, epochs = 200, batch_size = 10, validation_data = (x_valid, y_valid), callbacks = [early_stop, checkpoint])"
   ]
  },
  {
   "cell_type": "code",
   "execution_count": 36,
   "id": "da48da41",
   "metadata": {},
   "outputs": [
    {
     "name": "stdout",
     "output_type": "stream",
     "text": [
      "7830/7830 [==============================] - 28s 3ms/step\n"
     ]
    }
   ],
   "source": [
    "pred = model.predict(test_feature)"
   ]
  },
  {
   "cell_type": "code",
   "execution_count": 37,
   "id": "0ade0f32",
   "metadata": {},
   "outputs": [
    {
     "data": {
      "image/png": "[encoded data removed]",
      "text/plain": [
       "<Figure size 432x288 with 1 Axes>"
      ]
     },
     "metadata": {
      "needs_background": "light"
     },
     "output_type": "display_data"
    }
   ],
   "source": [
    "plt.plot(history.history[\"loss\"],label=\"train\")\n",
    "plt.plot(history.history[\"val_loss\"],label=\"validation\")\n",
    "plt.legend()\n",
    "plt.show()"
   ]
  },
  {
   "cell_type": "code",
   "execution_count": 38,
   "id": "1bfe36ac",
   "metadata": {},
   "outputs": [],
   "source": [
    "pred_df = pd.DataFrame(pred, columns=['TAG'])\n",
    "\n",
    "pred_df['TAG'] = pred_df['TAG'].apply(lambda x: 1 if x>=0.5 else 0)"
   ]
  },
  {
   "cell_type": "code",
   "execution_count": 39,
   "id": "fd832243",
   "metadata": {},
   "outputs": [
    {
     "name": "stdout",
     "output_type": "stream",
     "text": [
      "[[  2170    770]\n",
      " [ 69254 178356]]\n"
     ]
    }
   ],
   "source": [
    "confusion = confusion_matrix(test_label, pred_df)\n",
    "print(confusion)"
   ]
  },
  {
   "cell_type": "code",
   "execution_count": 40,
   "id": "11ea85f4",
   "metadata": {},
   "outputs": [
    {
     "data": {
      "image/png": "[encoded data removed]",
      "text/plain": [
       "<Figure size 432x288 with 2 Axes>"
      ]
     },
     "metadata": {
      "needs_background": "light"
     },
     "output_type": "display_data"
    }
   ],
   "source": [
    "plot = sns.heatmap(confusion ,square=True, annot=True, fmt='d', cmap='terrain')\n",
    "class_lables=['0','1','2','3']\n",
    "plt.title(\"confusrion\", size = 12)\n",
    "plot.set_xlabel('예측 y값')\n",
    "plot.set_ylabel('실제 y값')\n",
    "# plt.savefig('80% 사후확률_min_{}_수정.png'.format(j), dpi=300, transparent=True, bbox_inches=\"tight\")\n",
    "plt.show()"
   ]
  },
  {
   "cell_type": "code",
   "execution_count": 41,
   "id": "0220f2ba",
   "metadata": {},
   "outputs": [
    {
     "name": "stdout",
     "output_type": "stream",
     "text": [
      "precision : 0.99570\n",
      "recall : 0.72031\n",
      "f1-score : 0.83591\n",
      "accuracy : 0.72052\n"
     ]
    }
   ],
   "source": [
    "p = precision_score(test_label, pred_df)\n",
    "print('precision : %0.5f' %p)\n",
    "r = recall_score(test_label, pred_df)\n",
    "print('recall : %0.5f' %r)\n",
    "f1 = f1_score(test_label, pred_df)\n",
    "print('f1-score : %0.5f' %f1)\n",
    "acc = accuracy_score(test_label, pred_df)\n",
    "print('accuracy : %0.5f' %acc)"
   ]
  },
  {
   "cell_type": "markdown",
   "id": "06b09ae1",
   "metadata": {},
   "source": [
    "# <font color = 4247D6> GRU, activation = tanh"
   ]
  },
  {
   "cell_type": "code",
   "execution_count": 42,
   "id": "ce100ecd",
   "metadata": {},
   "outputs": [],
   "source": [
    "from keras.layers import GRU\n",
    "model = Sequential()\n",
    "model.add(GRU(50, \n",
    "               input_shape = (train_feature.shape[1], train_feature.shape[2]), activation = 'tanh', return_sequences = True))\n",
    "model.add(Dropout(0.3))\n",
    "model.add(TCN(20, return_sequences = False))\n",
    "model.add(Dense(1, activation = 'sigmoid'))"
   ]
  },
  {
   "cell_type": "code",
   "execution_count": 43,
   "id": "dba9cf20",
   "metadata": {},
   "outputs": [],
   "source": [
    "model.compile(loss = 'binary_crossentropy', optimizer = 'adam', metrics = ['accuracy'])\n",
    "early_stop = EarlyStopping(monitor = 'val_loss', patience = 5)\n",
    "filename = os.path.join(model_path, 'tmp_checkpoint.h5')\n",
    "checkpoint = ModelCheckpoint(filename, monitor = 'val_loss', verbose = 1, save_best_only = True, mode = 'auto')"
   ]
  },
  {
   "cell_type": "code",
   "execution_count": 44,
   "id": "886a9519",
   "metadata": {
    "scrolled": false
   },
   "outputs": [
    {
     "name": "stdout",
     "output_type": "stream",
     "text": [
      "Epoch 1/200\n",
      "57469/57472 [============================>.] - ETA: 0s - loss: 0.3430 - accuracy: 0.8099\n",
      "Epoch 1: val_loss improved from inf to 0.34114, saving model to C:/Users/islab/Desktop/jihyeon/전자제조시스템\\tmp_checkpoint.h5\n",
      "57472/57472 [==============================] - 430s 7ms/step - loss: 0.3430 - accuracy: 0.8099 - val_loss: 0.3411 - val_accuracy: 0.8108\n",
      "Epoch 2/200\n",
      "57472/57472 [==============================] - ETA: 0s - loss: 0.3379 - accuracy: 0.8124\n",
      "Epoch 2: val_loss improved from 0.34114 to 0.33528, saving model to C:/Users/islab/Desktop/jihyeon/전자제조시스템\\tmp_checkpoint.h5\n",
      "57472/57472 [==============================] - 469s 8ms/step - loss: 0.3379 - accuracy: 0.8124 - val_loss: 0.3353 - val_accuracy: 0.8154\n",
      "Epoch 3/200\n",
      "57471/57472 [============================>.] - ETA: 0s - loss: 0.3372 - accuracy: 0.8141\n",
      "Epoch 3: val_loss improved from 0.33528 to 0.33410, saving model to C:/Users/islab/Desktop/jihyeon/전자제조시스템\\tmp_checkpoint.h5\n",
      "57472/57472 [==============================] - 469s 8ms/step - loss: 0.3372 - accuracy: 0.8141 - val_loss: 0.3341 - val_accuracy: 0.8156\n",
      "Epoch 4/200\n",
      "57472/57472 [==============================] - ETA: 0s - loss: 0.3369 - accuracy: 0.8143\n",
      "Epoch 4: val_loss did not improve from 0.33410\n",
      "57472/57472 [==============================] - 472s 8ms/step - loss: 0.3369 - accuracy: 0.8143 - val_loss: 0.3344 - val_accuracy: 0.8173\n",
      "Epoch 5/200\n",
      "57466/57472 [============================>.] - ETA: 0s - loss: 0.3370 - accuracy: 0.8146\n",
      "Epoch 5: val_loss did not improve from 0.33410\n",
      "57472/57472 [==============================] - 470s 8ms/step - loss: 0.3370 - accuracy: 0.8146 - val_loss: 0.3359 - val_accuracy: 0.8162\n",
      "Epoch 6/200\n",
      "57472/57472 [==============================] - ETA: 0s - loss: 0.3364 - accuracy: 0.8146\n",
      "Epoch 6: val_loss did not improve from 0.33410\n",
      "57472/57472 [==============================] - 471s 8ms/step - loss: 0.3364 - accuracy: 0.8146 - val_loss: 0.3377 - val_accuracy: 0.8152\n",
      "Epoch 7/200\n",
      "57470/57472 [============================>.] - ETA: 0s - loss: 0.3365 - accuracy: 0.8144\n",
      "Epoch 7: val_loss improved from 0.33410 to 0.33405, saving model to C:/Users/islab/Desktop/jihyeon/전자제조시스템\\tmp_checkpoint.h5\n",
      "57472/57472 [==============================] - 473s 8ms/step - loss: 0.3365 - accuracy: 0.8144 - val_loss: 0.3341 - val_accuracy: 0.8159\n",
      "Epoch 8/200\n",
      "57468/57472 [============================>.] - ETA: 0s - loss: 0.3363 - accuracy: 0.8146\n",
      "Epoch 8: val_loss did not improve from 0.33405\n",
      "57472/57472 [==============================] - 474s 8ms/step - loss: 0.3363 - accuracy: 0.8146 - val_loss: 0.3343 - val_accuracy: 0.8155\n",
      "Epoch 9/200\n",
      "57472/57472 [==============================] - ETA: 0s - loss: 0.3363 - accuracy: 0.8146\n",
      "Epoch 9: val_loss did not improve from 0.33405\n",
      "57472/57472 [==============================] - 470s 8ms/step - loss: 0.3363 - accuracy: 0.8146 - val_loss: 0.3351 - val_accuracy: 0.8169\n",
      "Epoch 10/200\n",
      "57466/57472 [============================>.] - ETA: 0s - loss: 0.3360 - accuracy: 0.8151\n",
      "Epoch 10: val_loss improved from 0.33405 to 0.33386, saving model to C:/Users/islab/Desktop/jihyeon/전자제조시스템\\tmp_checkpoint.h5\n",
      "57472/57472 [==============================] - 470s 8ms/step - loss: 0.3360 - accuracy: 0.8151 - val_loss: 0.3339 - val_accuracy: 0.8120\n",
      "Epoch 11/200\n",
      "57467/57472 [============================>.] - ETA: 0s - loss: 0.3360 - accuracy: 0.8150\n",
      "Epoch 11: val_loss improved from 0.33386 to 0.33386, saving model to C:/Users/islab/Desktop/jihyeon/전자제조시스템\\tmp_checkpoint.h5\n",
      "57472/57472 [==============================] - 469s 8ms/step - loss: 0.3360 - accuracy: 0.8150 - val_loss: 0.3339 - val_accuracy: 0.8171\n",
      "Epoch 12/200\n",
      "57470/57472 [============================>.] - ETA: 0s - loss: 0.3360 - accuracy: 0.8152\n",
      "Epoch 12: val_loss did not improve from 0.33386\n",
      "57472/57472 [==============================] - 469s 8ms/step - loss: 0.3360 - accuracy: 0.8152 - val_loss: 0.3341 - val_accuracy: 0.8146\n",
      "Epoch 13/200\n",
      "57470/57472 [============================>.] - ETA: 0s - loss: 0.3361 - accuracy: 0.8150\n",
      "Epoch 13: val_loss did not improve from 0.33386\n",
      "57472/57472 [==============================] - 467s 8ms/step - loss: 0.3361 - accuracy: 0.8149 - val_loss: 0.3348 - val_accuracy: 0.8144\n",
      "Epoch 14/200\n",
      "57467/57472 [============================>.] - ETA: 0s - loss: 0.3364 - accuracy: 0.8149\n",
      "Epoch 14: val_loss did not improve from 0.33386\n",
      "57472/57472 [==============================] - 466s 8ms/step - loss: 0.3364 - accuracy: 0.8149 - val_loss: 0.3344 - val_accuracy: 0.8154\n",
      "Epoch 15/200\n",
      "57467/57472 [============================>.] - ETA: 0s - loss: 0.3359 - accuracy: 0.8145\n",
      "Epoch 15: val_loss improved from 0.33386 to 0.33355, saving model to C:/Users/islab/Desktop/jihyeon/전자제조시스템\\tmp_checkpoint.h5\n",
      "57472/57472 [==============================] - 464s 8ms/step - loss: 0.3359 - accuracy: 0.8145 - val_loss: 0.3335 - val_accuracy: 0.8161\n",
      "Epoch 16/200\n",
      "57468/57472 [============================>.] - ETA: 0s - loss: 0.3366 - accuracy: 0.8145\n",
      "Epoch 16: val_loss did not improve from 0.33355\n",
      "57472/57472 [==============================] - 440s 8ms/step - loss: 0.3366 - accuracy: 0.8145 - val_loss: 0.3340 - val_accuracy: 0.8158\n",
      "Epoch 17/200\n",
      "57466/57472 [============================>.] - ETA: 0s - loss: 0.3359 - accuracy: 0.8147\n",
      "Epoch 17: val_loss did not improve from 0.33355\n",
      "57472/57472 [==============================] - 400s 7ms/step - loss: 0.3359 - accuracy: 0.8147 - val_loss: 0.3337 - val_accuracy: 0.8143\n",
      "Epoch 18/200\n",
      "57465/57472 [============================>.] - ETA: 0s - loss: 0.3360 - accuracy: 0.8148\n",
      "Epoch 18: val_loss did not improve from 0.33355\n",
      "57472/57472 [==============================] - 401s 7ms/step - loss: 0.3360 - accuracy: 0.8148 - val_loss: 0.3369 - val_accuracy: 0.8146\n",
      "Epoch 19/200\n",
      "57465/57472 [============================>.] - ETA: 0s - loss: 0.3358 - accuracy: 0.8149\n",
      "Epoch 19: val_loss improved from 0.33355 to 0.33338, saving model to C:/Users/islab/Desktop/jihyeon/전자제조시스템\\tmp_checkpoint.h5\n",
      "57472/57472 [==============================] - 399s 7ms/step - loss: 0.3358 - accuracy: 0.8150 - val_loss: 0.3334 - val_accuracy: 0.8163\n",
      "Epoch 20/200\n",
      "57464/57472 [============================>.] - ETA: 0s - loss: 0.3359 - accuracy: 0.8151\n",
      "Epoch 20: val_loss did not improve from 0.33338\n",
      "57472/57472 [==============================] - 397s 7ms/step - loss: 0.3359 - accuracy: 0.8152 - val_loss: 0.3340 - val_accuracy: 0.8156\n",
      "Epoch 21/200\n",
      "57466/57472 [============================>.] - ETA: 0s - loss: 0.3360 - accuracy: 0.8150\n",
      "Epoch 21: val_loss did not improve from 0.33338\n",
      "57472/57472 [==============================] - 399s 7ms/step - loss: 0.3360 - accuracy: 0.8150 - val_loss: 0.3366 - val_accuracy: 0.8142\n",
      "Epoch 22/200\n",
      "57471/57472 [============================>.] - ETA: 0s - loss: 0.3358 - accuracy: 0.8151\n",
      "Epoch 22: val_loss did not improve from 0.33338\n",
      "57472/57472 [==============================] - 399s 7ms/step - loss: 0.3358 - accuracy: 0.8151 - val_loss: 0.3346 - val_accuracy: 0.8167\n",
      "Epoch 23/200\n",
      "57471/57472 [============================>.] - ETA: 0s - loss: 0.3356 - accuracy: 0.8154\n",
      "Epoch 23: val_loss did not improve from 0.33338\n",
      "57472/57472 [==============================] - 399s 7ms/step - loss: 0.3356 - accuracy: 0.8154 - val_loss: 0.3365 - val_accuracy: 0.8131\n",
      "Epoch 24/200\n",
      "57471/57472 [============================>.] - ETA: 0s - loss: 0.3361 - accuracy: 0.8147\n",
      "Epoch 24: val_loss did not improve from 0.33338\n",
      "57472/57472 [==============================] - 399s 7ms/step - loss: 0.3361 - accuracy: 0.8147 - val_loss: 0.3336 - val_accuracy: 0.8163\n"
     ]
    }
   ],
   "source": [
    "history = model.fit(x_train, y_train, epochs = 200, batch_size = 10, validation_data = (x_valid, y_valid), callbacks = [early_stop, checkpoint])"
   ]
  },
  {
   "cell_type": "code",
   "execution_count": 45,
   "id": "6dc826bf",
   "metadata": {},
   "outputs": [
    {
     "name": "stdout",
     "output_type": "stream",
     "text": [
      "7830/7830 [==============================] - 26s 3ms/step\n"
     ]
    }
   ],
   "source": [
    "pred = model.predict(test_feature)"
   ]
  },
  {
   "cell_type": "code",
   "execution_count": 46,
   "id": "a4279800",
   "metadata": {},
   "outputs": [
    {
     "data": {
      "image/png": "[encoded data removed]",
      "text/plain": [
       "<Figure size 432x288 with 1 Axes>"
      ]
     },
     "metadata": {
      "needs_background": "light"
     },
     "output_type": "display_data"
    }
   ],
   "source": [
    "plt.plot(history.history[\"loss\"],label=\"train\")\n",
    "plt.plot(history.history[\"val_loss\"],label=\"validation\")\n",
    "plt.legend()\n",
    "plt.show()"
   ]
  },
  {
   "cell_type": "code",
   "execution_count": 47,
   "id": "786e5f9b",
   "metadata": {},
   "outputs": [],
   "source": [
    "pred_df = pd.DataFrame(pred, columns=['TAG'])\n",
    "\n",
    "pred_df['TAG'] = pred_df['TAG'].apply(lambda x: 1 if x>=0.5 else 0)"
   ]
  },
  {
   "cell_type": "code",
   "execution_count": 48,
   "id": "f9867162",
   "metadata": {},
   "outputs": [
    {
     "name": "stdout",
     "output_type": "stream",
     "text": [
      "[[  2182    758]\n",
      " [ 69834 177776]]\n"
     ]
    }
   ],
   "source": [
    "confusion = confusion_matrix(test_label, pred_df)\n",
    "print(confusion)"
   ]
  },
  {
   "cell_type": "code",
   "execution_count": 49,
   "id": "e60436d2",
   "metadata": {},
   "outputs": [
    {
     "data": {
      "image/png": "[encoded data removed]",
      "text/plain": [
       "<Figure size 432x288 with 2 Axes>"
      ]
     },
     "metadata": {
      "needs_background": "light"
     },
     "output_type": "display_data"
    }
   ],
   "source": [
    "plot = sns.heatmap(confusion ,square=True, annot=True, fmt='d', cmap='terrain')\n",
    "class_lables=['0','1','2','3']\n",
    "plt.title(\"confusrion\", size = 12)\n",
    "plot.set_xlabel('예측 y값')\n",
    "plot.set_ylabel('실제 y값')\n",
    "# plt.savefig('80% 사후확률_min_{}_수정.png'.format(j), dpi=300, transparent=True, bbox_inches=\"tight\")\n",
    "plt.show()"
   ]
  },
  {
   "cell_type": "code",
   "execution_count": 50,
   "id": "81b882bd",
   "metadata": {},
   "outputs": [
    {
     "name": "stdout",
     "output_type": "stream",
     "text": [
      "precision : 0.99575\n",
      "recall : 0.71797\n",
      "f1-score : 0.83435\n",
      "accuracy : 0.71825\n"
     ]
    }
   ],
   "source": [
    "p = precision_score(test_label, pred_df)\n",
    "print('precision : %0.5f' %p)\n",
    "r = recall_score(test_label, pred_df)\n",
    "print('recall : %0.5f' %r)\n",
    "f1 = f1_score(test_label, pred_df)\n",
    "print('f1-score : %0.5f' %f1)\n",
    "acc = accuracy_score(test_label, pred_df)\n",
    "print('accuracy : %0.5f' %acc)"
   ]
  },
  {
   "cell_type": "markdown",
   "id": "2e5783f6",
   "metadata": {},
   "source": [
    "# <font color = 4247D6> GRU"
   ]
  },
  {
   "cell_type": "code",
   "execution_count": 51,
   "id": "04df5e64",
   "metadata": {},
   "outputs": [],
   "source": [
    "from keras.layers import GRU\n",
    "model = Sequential()\n",
    "model.add(GRU(50, \n",
    "               input_shape = (train_feature.shape[1], train_feature.shape[2]), return_sequences = True))\n",
    "model.add(Dropout(0.3))\n",
    "model.add(GRU(30, return_sequences = True))\n",
    "model.add(Dropout(0.3))\n",
    "model.add(TCN(25, return_sequences = False))\n",
    "model.add(Dense(1, activation = 'sigmoid'))"
   ]
  },
  {
   "cell_type": "code",
   "execution_count": 53,
   "id": "db7a1cae",
   "metadata": {},
   "outputs": [],
   "source": [
    "model.compile(loss = 'binary_crossentropy', optimizer = 'adam', metrics = ['accuracy'])\n",
    "early_stop = EarlyStopping(monitor = 'val_loss', patience = 5)\n",
    "filename = os.path.join(model_path, 'tmp_checkpoint.h5')\n",
    "checkpoint = ModelCheckpoint(filename, monitor = 'val_loss', verbose = 1, save_best_only = True, mode = 'auto')"
   ]
  },
  {
   "cell_type": "code",
   "execution_count": 55,
   "id": "fa3ee9ff",
   "metadata": {
    "scrolled": false
   },
   "outputs": [
    {
     "name": "stdout",
     "output_type": "stream",
     "text": [
      "Epoch 1/200\n",
      "57472/57472 [==============================] - ETA: 0s - loss: 0.3439 - accuracy: 0.8088\n",
      "Epoch 1: val_loss improved from inf to 0.33524, saving model to C:/Users/islab/Desktop/jihyeon/전자제조시스템\\tmp_checkpoint.h5\n",
      "57472/57472 [==============================] - 640s 11ms/step - loss: 0.3439 - accuracy: 0.8088 - val_loss: 0.3352 - val_accuracy: 0.8159\n",
      "Epoch 2/200\n",
      "57471/57472 [============================>.] - ETA: 0s - loss: 0.3395 - accuracy: 0.8127\n",
      "Epoch 2: val_loss did not improve from 0.33524\n",
      "57472/57472 [==============================] - 665s 12ms/step - loss: 0.3395 - accuracy: 0.8127 - val_loss: 0.3394 - val_accuracy: 0.8163\n",
      "Epoch 3/200\n",
      "57470/57472 [============================>.] - ETA: 0s - loss: 0.3379 - accuracy: 0.8133\n",
      "Epoch 3: val_loss did not improve from 0.33524\n",
      "57472/57472 [==============================] - 669s 12ms/step - loss: 0.3379 - accuracy: 0.8133 - val_loss: 0.3361 - val_accuracy: 0.8143\n",
      "Epoch 4/200\n",
      "57470/57472 [============================>.] - ETA: 0s - loss: 0.3372 - accuracy: 0.8145\n",
      "Epoch 4: val_loss improved from 0.33524 to 0.33521, saving model to C:/Users/islab/Desktop/jihyeon/전자제조시스템\\tmp_checkpoint.h5\n",
      "57472/57472 [==============================] - 672s 12ms/step - loss: 0.3372 - accuracy: 0.8145 - val_loss: 0.3352 - val_accuracy: 0.8165\n",
      "Epoch 5/200\n",
      "57471/57472 [============================>.] - ETA: 0s - loss: 0.3372 - accuracy: 0.8141\n",
      "Epoch 5: val_loss did not improve from 0.33521\n",
      "57472/57472 [==============================] - 672s 12ms/step - loss: 0.3372 - accuracy: 0.8141 - val_loss: 0.3379 - val_accuracy: 0.8137\n",
      "Epoch 6/200\n",
      "57470/57472 [============================>.] - ETA: 0s - loss: 0.3368 - accuracy: 0.8142\n",
      "Epoch 6: val_loss improved from 0.33521 to 0.33477, saving model to C:/Users/islab/Desktop/jihyeon/전자제조시스템\\tmp_checkpoint.h5\n",
      "57472/57472 [==============================] - 608s 11ms/step - loss: 0.3368 - accuracy: 0.8142 - val_loss: 0.3348 - val_accuracy: 0.8155\n",
      "Epoch 7/200\n",
      "57471/57472 [============================>.] - ETA: 0s - loss: 0.3370 - accuracy: 0.8147\n",
      "Epoch 7: val_loss did not improve from 0.33477\n",
      "57472/57472 [==============================] - 591s 10ms/step - loss: 0.3370 - accuracy: 0.8147 - val_loss: 0.3349 - val_accuracy: 0.8170\n",
      "Epoch 8/200\n",
      "57468/57472 [============================>.] - ETA: 0s - loss: 0.3365 - accuracy: 0.8149\n",
      "Epoch 8: val_loss improved from 0.33477 to 0.33397, saving model to C:/Users/islab/Desktop/jihyeon/전자제조시스템\\tmp_checkpoint.h5\n",
      "57472/57472 [==============================] - 592s 10ms/step - loss: 0.3365 - accuracy: 0.8149 - val_loss: 0.3340 - val_accuracy: 0.8164\n",
      "Epoch 9/200\n",
      "57471/57472 [============================>.] - ETA: 0s - loss: 0.3365 - accuracy: 0.8150\n",
      "Epoch 9: val_loss did not improve from 0.33397\n",
      "57472/57472 [==============================] - 595s 10ms/step - loss: 0.3365 - accuracy: 0.8150 - val_loss: 0.3343 - val_accuracy: 0.8168\n",
      "Epoch 10/200\n",
      "57468/57472 [============================>.] - ETA: 0s - loss: 0.3369 - accuracy: 0.8147\n",
      "Epoch 10: val_loss did not improve from 0.33397\n",
      "57472/57472 [==============================] - 595s 10ms/step - loss: 0.3369 - accuracy: 0.8147 - val_loss: 0.3352 - val_accuracy: 0.8166\n",
      "Epoch 11/200\n",
      "57468/57472 [============================>.] - ETA: 0s - loss: 0.3370 - accuracy: 0.8148\n",
      "Epoch 11: val_loss did not improve from 0.33397\n",
      "57472/57472 [==============================] - 596s 10ms/step - loss: 0.3370 - accuracy: 0.8148 - val_loss: 0.3364 - val_accuracy: 0.8159\n",
      "Epoch 12/200\n",
      "57471/57472 [============================>.] - ETA: 0s - loss: 0.3367 - accuracy: 0.8150\n",
      "Epoch 12: val_loss did not improve from 0.33397\n",
      "57472/57472 [==============================] - 595s 10ms/step - loss: 0.3367 - accuracy: 0.8150 - val_loss: 0.3350 - val_accuracy: 0.8165\n",
      "Epoch 13/200\n",
      "57470/57472 [============================>.] - ETA: 0s - loss: 0.3366 - accuracy: 0.8148\n",
      "Epoch 13: val_loss did not improve from 0.33397\n",
      "57472/57472 [==============================] - 582s 10ms/step - loss: 0.3366 - accuracy: 0.8148 - val_loss: 0.3341 - val_accuracy: 0.8176\n"
     ]
    }
   ],
   "source": [
    "history = model.fit(x_train, y_train, epochs = 200, batch_size = 10, validation_data = (x_valid, y_valid), callbacks = [early_stop, checkpoint])"
   ]
  },
  {
   "cell_type": "code",
   "execution_count": 56,
   "id": "59d9d2ab",
   "metadata": {},
   "outputs": [
    {
     "name": "stdout",
     "output_type": "stream",
     "text": [
      "7830/7830 [==============================] - 35s 4ms/step\n"
     ]
    }
   ],
   "source": [
    "pred = model.predict(test_feature)"
   ]
  },
  {
   "cell_type": "code",
   "execution_count": 57,
   "id": "4d0d63f1",
   "metadata": {},
   "outputs": [
    {
     "data": {
      "image/png": "[encoded data removed]",
      "text/plain": [
       "<Figure size 432x288 with 1 Axes>"
      ]
     },
     "metadata": {
      "needs_background": "light"
     },
     "output_type": "display_data"
    }
   ],
   "source": [
    "plt.plot(history.history[\"loss\"],label=\"train\")\n",
    "plt.plot(history.history[\"val_loss\"],label=\"validation\")\n",
    "plt.legend()\n",
    "plt.show()"
   ]
  },
  {
   "cell_type": "code",
   "execution_count": 58,
   "id": "3707da9a",
   "metadata": {},
   "outputs": [],
   "source": [
    "pred_df = pd.DataFrame(pred, columns=['TAG'])\n",
    "\n",
    "pred_df['TAG'] = pred_df['TAG'].apply(lambda x: 1 if x>=0.5 else 0)"
   ]
  },
  {
   "cell_type": "code",
   "execution_count": 59,
   "id": "d9a04370",
   "metadata": {},
   "outputs": [
    {
     "name": "stdout",
     "output_type": "stream",
     "text": [
      "[[  2164    776]\n",
      " [ 67604 180006]]\n"
     ]
    }
   ],
   "source": [
    "confusion = confusion_matrix(test_label, pred_df)\n",
    "print(confusion)"
   ]
  },
  {
   "cell_type": "code",
   "execution_count": 60,
   "id": "f51d99b7",
   "metadata": {},
   "outputs": [
    {
     "data": {
      "image/png": "[encoded data removed]",
      "text/plain": [
       "<Figure size 432x288 with 2 Axes>"
      ]
     },
     "metadata": {
      "needs_background": "light"
     },
     "output_type": "display_data"
    }
   ],
   "source": [
    "plot = sns.heatmap(confusion ,square=True, annot=True, fmt='d', cmap='terrain')\n",
    "class_lables=['0','1','2','3']\n",
    "plt.title(\"confusrion\", size = 12)\n",
    "plot.set_xlabel('예측 y값')\n",
    "plot.set_ylabel('실제 y값')\n",
    "# plt.savefig('80% 사후확률_min_{}_수정.png'.format(j), dpi=300, transparent=True, bbox_inches=\"tight\")\n",
    "plt.show()"
   ]
  },
  {
   "cell_type": "code",
   "execution_count": 61,
   "id": "ea1cff82",
   "metadata": {},
   "outputs": [
    {
     "name": "stdout",
     "output_type": "stream",
     "text": [
      "precision : 0.99571\n",
      "recall : 0.72697\n",
      "f1-score : 0.84038\n",
      "accuracy : 0.72708\n"
     ]
    }
   ],
   "source": [
    "p = precision_score(test_label, pred_df)\n",
    "print('precision : %0.5f' %p)\n",
    "r = recall_score(test_label, pred_df)\n",
    "print('recall : %0.5f' %r)\n",
    "f1 = f1_score(test_label, pred_df)\n",
    "print('f1-score : %0.5f' %f1)\n",
    "acc = accuracy_score(test_label, pred_df)\n",
    "print('accuracy : %0.5f' %acc)"
   ]
  },
  {
   "cell_type": "code",
   "execution_count": 62,
   "id": "9dc05c05",
   "metadata": {},
   "outputs": [
    {
     "data": {
      "text/html": [
       "<div>\n",
       "<style scoped>\n",
       "    .dataframe tbody tr th:only-of-type {\n",
       "        vertical-align: middle;\n",
       "    }\n",
       "\n",
       "    .dataframe tbody tr th {\n",
       "        vertical-align: top;\n",
       "    }\n",
       "\n",
       "    .dataframe thead th {\n",
       "        text-align: right;\n",
       "    }\n",
       "</style>\n",
       "<table border=\"1\" class=\"dataframe\">\n",
       "  <thead>\n",
       "    <tr style=\"text-align: right;\">\n",
       "      <th></th>\n",
       "      <th>MELT_TEMP</th>\n",
       "      <th>MOTORSPEED</th>\n",
       "      <th>MELT_WEIGHT</th>\n",
       "      <th>TAG</th>\n",
       "    </tr>\n",
       "    <tr>\n",
       "      <th>STD_DT</th>\n",
       "      <th></th>\n",
       "      <th></th>\n",
       "      <th></th>\n",
       "      <th></th>\n",
       "    </tr>\n",
       "  </thead>\n",
       "  <tbody>\n",
       "    <tr>\n",
       "      <th>2020-03-04 00:00:00</th>\n",
       "      <td>489</td>\n",
       "      <td>116</td>\n",
       "      <td>631</td>\n",
       "      <td>1</td>\n",
       "    </tr>\n",
       "    <tr>\n",
       "      <th>2020-03-04 00:00:00</th>\n",
       "      <td>433</td>\n",
       "      <td>78</td>\n",
       "      <td>609</td>\n",
       "      <td>1</td>\n",
       "    </tr>\n",
       "    <tr>\n",
       "      <th>2020-03-04 00:00:00</th>\n",
       "      <td>464</td>\n",
       "      <td>154</td>\n",
       "      <td>608</td>\n",
       "      <td>1</td>\n",
       "    </tr>\n",
       "    <tr>\n",
       "      <th>2020-03-04 00:00:00</th>\n",
       "      <td>379</td>\n",
       "      <td>212</td>\n",
       "      <td>606</td>\n",
       "      <td>1</td>\n",
       "    </tr>\n",
       "    <tr>\n",
       "      <th>2020-03-04 00:00:00</th>\n",
       "      <td>798</td>\n",
       "      <td>1736</td>\n",
       "      <td>604</td>\n",
       "      <td>1</td>\n",
       "    </tr>\n",
       "    <tr>\n",
       "      <th>...</th>\n",
       "      <td>...</td>\n",
       "      <td>...</td>\n",
       "      <td>...</td>\n",
       "      <td>...</td>\n",
       "    </tr>\n",
       "    <tr>\n",
       "      <th>2020-04-30 23:59:00</th>\n",
       "      <td>755</td>\n",
       "      <td>1743</td>\n",
       "      <td>318</td>\n",
       "      <td>1</td>\n",
       "    </tr>\n",
       "    <tr>\n",
       "      <th>2020-04-30 23:59:00</th>\n",
       "      <td>385</td>\n",
       "      <td>206</td>\n",
       "      <td>317</td>\n",
       "      <td>1</td>\n",
       "    </tr>\n",
       "    <tr>\n",
       "      <th>2020-04-30 23:59:00</th>\n",
       "      <td>465</td>\n",
       "      <td>148</td>\n",
       "      <td>316</td>\n",
       "      <td>1</td>\n",
       "    </tr>\n",
       "    <tr>\n",
       "      <th>2020-04-30 23:59:00</th>\n",
       "      <td>467</td>\n",
       "      <td>0</td>\n",
       "      <td>314</td>\n",
       "      <td>1</td>\n",
       "    </tr>\n",
       "    <tr>\n",
       "      <th>2020-04-30 23:59:00</th>\n",
       "      <td>453</td>\n",
       "      <td>125</td>\n",
       "      <td>312</td>\n",
       "      <td>1</td>\n",
       "    </tr>\n",
       "  </tbody>\n",
       "</table>\n",
       "<p>835200 rows × 4 columns</p>\n",
       "</div>"
      ],
      "text/plain": [
       "                     MELT_TEMP  MOTORSPEED  MELT_WEIGHT  TAG\n",
       "STD_DT                                                      \n",
       "2020-03-04 00:00:00        489         116          631    1\n",
       "2020-03-04 00:00:00        433          78          609    1\n",
       "2020-03-04 00:00:00        464         154          608    1\n",
       "2020-03-04 00:00:00        379         212          606    1\n",
       "2020-03-04 00:00:00        798        1736          604    1\n",
       "...                        ...         ...          ...  ...\n",
       "2020-04-30 23:59:00        755        1743          318    1\n",
       "2020-04-30 23:59:00        385         206          317    1\n",
       "2020-04-30 23:59:00        465         148          316    1\n",
       "2020-04-30 23:59:00        467           0          314    1\n",
       "2020-04-30 23:59:00        453         125          312    1\n",
       "\n",
       "[835200 rows x 4 columns]"
      ]
     },
     "execution_count": 62,
     "metadata": {},
     "output_type": "execute_result"
    }
   ],
   "source": [
    "df"
   ]
  },
  {
   "cell_type": "code",
   "execution_count": 68,
   "id": "290b5fdc",
   "metadata": {},
   "outputs": [
    {
     "data": {
      "text/html": [
       "<div>\n",
       "<style scoped>\n",
       "    .dataframe tbody tr th:only-of-type {\n",
       "        vertical-align: middle;\n",
       "    }\n",
       "\n",
       "    .dataframe tbody tr th {\n",
       "        vertical-align: top;\n",
       "    }\n",
       "\n",
       "    .dataframe thead th {\n",
       "        text-align: right;\n",
       "    }\n",
       "</style>\n",
       "<table border=\"1\" class=\"dataframe\">\n",
       "  <thead>\n",
       "    <tr style=\"text-align: right;\">\n",
       "      <th></th>\n",
       "      <th>MELT_TEMP</th>\n",
       "      <th>MOTORSPEED</th>\n",
       "      <th>MELT_WEIGHT</th>\n",
       "      <th>TAG</th>\n",
       "    </tr>\n",
       "    <tr>\n",
       "      <th>STD_DT</th>\n",
       "      <th></th>\n",
       "      <th></th>\n",
       "      <th></th>\n",
       "      <th></th>\n",
       "    </tr>\n",
       "  </thead>\n",
       "  <tbody>\n",
       "    <tr>\n",
       "      <th>2020-04-13 14:24:00</th>\n",
       "      <td>428</td>\n",
       "      <td>77</td>\n",
       "      <td>102</td>\n",
       "      <td>0</td>\n",
       "    </tr>\n",
       "    <tr>\n",
       "      <th>2020-04-13 14:24:00</th>\n",
       "      <td>450</td>\n",
       "      <td>168</td>\n",
       "      <td>101</td>\n",
       "      <td>0</td>\n",
       "    </tr>\n",
       "    <tr>\n",
       "      <th>2020-04-13 14:24:00</th>\n",
       "      <td>447</td>\n",
       "      <td>71</td>\n",
       "      <td>91</td>\n",
       "      <td>0</td>\n",
       "    </tr>\n",
       "    <tr>\n",
       "      <th>2020-04-13 14:25:00</th>\n",
       "      <td>457</td>\n",
       "      <td>109</td>\n",
       "      <td>88</td>\n",
       "      <td>0</td>\n",
       "    </tr>\n",
       "    <tr>\n",
       "      <th>2020-04-13 14:25:00</th>\n",
       "      <td>459</td>\n",
       "      <td>73</td>\n",
       "      <td>87</td>\n",
       "      <td>0</td>\n",
       "    </tr>\n",
       "    <tr>\n",
       "      <th>...</th>\n",
       "      <td>...</td>\n",
       "      <td>...</td>\n",
       "      <td>...</td>\n",
       "      <td>...</td>\n",
       "    </tr>\n",
       "    <tr>\n",
       "      <th>2020-04-14 13:30:00</th>\n",
       "      <td>454</td>\n",
       "      <td>178</td>\n",
       "      <td>344</td>\n",
       "      <td>0</td>\n",
       "    </tr>\n",
       "    <tr>\n",
       "      <th>2020-04-14 13:35:00</th>\n",
       "      <td>458</td>\n",
       "      <td>73</td>\n",
       "      <td>269</td>\n",
       "      <td>0</td>\n",
       "    </tr>\n",
       "    <tr>\n",
       "      <th>2020-04-14 13:36:00</th>\n",
       "      <td>452</td>\n",
       "      <td>156</td>\n",
       "      <td>236</td>\n",
       "      <td>0</td>\n",
       "    </tr>\n",
       "    <tr>\n",
       "      <th>2020-04-14 13:39:00</th>\n",
       "      <td>455</td>\n",
       "      <td>160</td>\n",
       "      <td>177</td>\n",
       "      <td>0</td>\n",
       "    </tr>\n",
       "    <tr>\n",
       "      <th>2020-04-14 13:39:00</th>\n",
       "      <td>457</td>\n",
       "      <td>82</td>\n",
       "      <td>176</td>\n",
       "      <td>0</td>\n",
       "    </tr>\n",
       "  </tbody>\n",
       "</table>\n",
       "<p>2943 rows × 4 columns</p>\n",
       "</div>"
      ],
      "text/plain": [
       "                     MELT_TEMP  MOTORSPEED  MELT_WEIGHT  TAG\n",
       "STD_DT                                                      \n",
       "2020-04-13 14:24:00        428          77          102    0\n",
       "2020-04-13 14:24:00        450         168          101    0\n",
       "2020-04-13 14:24:00        447          71           91    0\n",
       "2020-04-13 14:25:00        457         109           88    0\n",
       "2020-04-13 14:25:00        459          73           87    0\n",
       "...                        ...         ...          ...  ...\n",
       "2020-04-14 13:30:00        454         178          344    0\n",
       "2020-04-14 13:35:00        458          73          269    0\n",
       "2020-04-14 13:36:00        452         156          236    0\n",
       "2020-04-14 13:39:00        455         160          177    0\n",
       "2020-04-14 13:39:00        457          82          176    0\n",
       "\n",
       "[2943 rows x 4 columns]"
      ]
     },
     "execution_count": 68,
     "metadata": {},
     "output_type": "execute_result"
    }
   ],
   "source": [
    "# test_1[test_1['TAG'] == 0]"
   ]
  },
  {
   "cell_type": "code",
   "execution_count": 66,
   "id": "1083540d",
   "metadata": {},
   "outputs": [],
   "source": [
    "split_date = int(df1.shape[0]*0.7)\n",
    "# train = df1[:split_date]\n",
    "test_1 = df1[split_date:]"
   ]
  },
  {
   "cell_type": "code",
   "execution_count": 70,
   "id": "fd9dde5f",
   "metadata": {},
   "outputs": [],
   "source": [
    "from keras.layers import GRU\n",
    "model = Sequential()\n",
    "model.add(GRU(50, \n",
    "               input_shape = (train_feature.shape[1], train_feature.shape[2]), activation = 'tanh', return_sequences = True))\n",
    "model.add(Dropout(0.3))\n",
    "model.add(TCN(20, return_sequences = False))\n",
    "model.add(Dense(1, activation = 'sigmoid'))"
   ]
  },
  {
   "cell_type": "code",
   "execution_count": null,
   "id": "95beb0e0",
   "metadata": {},
   "outputs": [],
   "source": []
  }
 ],
 "metadata": {
  "kernelspec": {
   "display_name": "Python 3 (ipykernel)",
   "language": "python",
   "name": "python3"
  },
  "language_info": {
   "codemirror_mode": {
    "name": "ipython",
    "version": 3
   },
   "file_extension": ".py",
   "mimetype": "text/x-python",
   "name": "python",
   "nbconvert_exporter": "python",
   "pygments_lexer": "ipython3",
   "version": "3.9.12"
  }
 },
 "nbformat": 4,
 "nbformat_minor": 5
}
