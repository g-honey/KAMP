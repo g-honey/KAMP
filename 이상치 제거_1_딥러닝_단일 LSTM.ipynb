{
 "cells": [
  {
   "cell_type": "code",
   "execution_count": 1,
   "id": "ead8bb17",
   "metadata": {},
   "outputs": [],
   "source": [
    "import numpy as np \n",
    "import pandas as pd\n",
    "# 시각화 package\n",
    "import matplotlib.pyplot as plt\n",
    "import seaborn as sns\n",
    "import graphviz\n",
    "from sklearn.tree import export_graphviz\n",
    "\n",
    "import matplotlib.font_manager as font_manager\n",
    "from matplotlib import rc\n",
    "   \n",
    "# 한글폰트작업\n",
    "# window의 폰트 위치 -> C:/Windows/Fonts/NGULIM.TTF\n",
    "font_name = font_manager.FontProperties(fname=\"C:/Windows/Fonts/NGULIM.TTF\").get_name()\n",
    "rc('font', family=font_name)\n",
    "plt.rcParams['axes.unicode_minus'] = False"
   ]
  },
  {
   "cell_type": "markdown",
   "id": "a40e7841",
   "metadata": {},
   "source": [
    "# <font color = 4247D6> Data Set"
   ]
  },
  {
   "cell_type": "code",
   "execution_count": 2,
   "id": "086123df",
   "metadata": {},
   "outputs": [
    {
     "data": {
      "text/html": [
       "<div>\n",
       "<style scoped>\n",
       "    .dataframe tbody tr th:only-of-type {\n",
       "        vertical-align: middle;\n",
       "    }\n",
       "\n",
       "    .dataframe tbody tr th {\n",
       "        vertical-align: top;\n",
       "    }\n",
       "\n",
       "    .dataframe thead th {\n",
       "        text-align: right;\n",
       "    }\n",
       "</style>\n",
       "<table border=\"1\" class=\"dataframe\">\n",
       "  <thead>\n",
       "    <tr style=\"text-align: right;\">\n",
       "      <th></th>\n",
       "      <th>STD_DT</th>\n",
       "      <th>MELT_TEMP</th>\n",
       "      <th>MOTORSPEED</th>\n",
       "      <th>MELT_WEIGHT</th>\n",
       "      <th>TAG</th>\n",
       "    </tr>\n",
       "  </thead>\n",
       "  <tbody>\n",
       "    <tr>\n",
       "      <th>0</th>\n",
       "      <td>2020-03-04 0:00</td>\n",
       "      <td>489</td>\n",
       "      <td>116</td>\n",
       "      <td>631</td>\n",
       "      <td>OK</td>\n",
       "    </tr>\n",
       "    <tr>\n",
       "      <th>1</th>\n",
       "      <td>2020-03-04 0:00</td>\n",
       "      <td>433</td>\n",
       "      <td>78</td>\n",
       "      <td>609</td>\n",
       "      <td>OK</td>\n",
       "    </tr>\n",
       "    <tr>\n",
       "      <th>2</th>\n",
       "      <td>2020-03-04 0:00</td>\n",
       "      <td>464</td>\n",
       "      <td>154</td>\n",
       "      <td>608</td>\n",
       "      <td>OK</td>\n",
       "    </tr>\n",
       "    <tr>\n",
       "      <th>3</th>\n",
       "      <td>2020-03-04 0:00</td>\n",
       "      <td>379</td>\n",
       "      <td>212</td>\n",
       "      <td>606</td>\n",
       "      <td>OK</td>\n",
       "    </tr>\n",
       "    <tr>\n",
       "      <th>4</th>\n",
       "      <td>2020-03-04 0:00</td>\n",
       "      <td>798</td>\n",
       "      <td>1736</td>\n",
       "      <td>604</td>\n",
       "      <td>OK</td>\n",
       "    </tr>\n",
       "    <tr>\n",
       "      <th>...</th>\n",
       "      <td>...</td>\n",
       "      <td>...</td>\n",
       "      <td>...</td>\n",
       "      <td>...</td>\n",
       "      <td>...</td>\n",
       "    </tr>\n",
       "    <tr>\n",
       "      <th>835195</th>\n",
       "      <td>2020-04-30 23:59</td>\n",
       "      <td>755</td>\n",
       "      <td>1743</td>\n",
       "      <td>318</td>\n",
       "      <td>OK</td>\n",
       "    </tr>\n",
       "    <tr>\n",
       "      <th>835196</th>\n",
       "      <td>2020-04-30 23:59</td>\n",
       "      <td>385</td>\n",
       "      <td>206</td>\n",
       "      <td>317</td>\n",
       "      <td>OK</td>\n",
       "    </tr>\n",
       "    <tr>\n",
       "      <th>835197</th>\n",
       "      <td>2020-04-30 23:59</td>\n",
       "      <td>465</td>\n",
       "      <td>148</td>\n",
       "      <td>316</td>\n",
       "      <td>OK</td>\n",
       "    </tr>\n",
       "    <tr>\n",
       "      <th>835198</th>\n",
       "      <td>2020-04-30 23:59</td>\n",
       "      <td>467</td>\n",
       "      <td>0</td>\n",
       "      <td>314</td>\n",
       "      <td>OK</td>\n",
       "    </tr>\n",
       "    <tr>\n",
       "      <th>835199</th>\n",
       "      <td>2020-04-30 23:59</td>\n",
       "      <td>453</td>\n",
       "      <td>125</td>\n",
       "      <td>312</td>\n",
       "      <td>OK</td>\n",
       "    </tr>\n",
       "  </tbody>\n",
       "</table>\n",
       "<p>835200 rows × 5 columns</p>\n",
       "</div>"
      ],
      "text/plain": [
       "                  STD_DT  MELT_TEMP  MOTORSPEED  MELT_WEIGHT TAG\n",
       "0        2020-03-04 0:00        489         116          631  OK\n",
       "1        2020-03-04 0:00        433          78          609  OK\n",
       "2        2020-03-04 0:00        464         154          608  OK\n",
       "3        2020-03-04 0:00        379         212          606  OK\n",
       "4        2020-03-04 0:00        798        1736          604  OK\n",
       "...                  ...        ...         ...          ...  ..\n",
       "835195  2020-04-30 23:59        755        1743          318  OK\n",
       "835196  2020-04-30 23:59        385         206          317  OK\n",
       "835197  2020-04-30 23:59        465         148          316  OK\n",
       "835198  2020-04-30 23:59        467           0          314  OK\n",
       "835199  2020-04-30 23:59        453         125          312  OK\n",
       "\n",
       "[835200 rows x 5 columns]"
      ]
     },
     "execution_count": 2,
     "metadata": {},
     "output_type": "execute_result"
    }
   ],
   "source": [
    "df = pd.read_csv('이상치_제거_.csv')\n",
    "df"
   ]
  },
  {
   "cell_type": "code",
   "execution_count": 3,
   "id": "006f8ef9",
   "metadata": {},
   "outputs": [
    {
     "data": {
      "text/html": [
       "<div>\n",
       "<style scoped>\n",
       "    .dataframe tbody tr th:only-of-type {\n",
       "        vertical-align: middle;\n",
       "    }\n",
       "\n",
       "    .dataframe tbody tr th {\n",
       "        vertical-align: top;\n",
       "    }\n",
       "\n",
       "    .dataframe thead th {\n",
       "        text-align: right;\n",
       "    }\n",
       "</style>\n",
       "<table border=\"1\" class=\"dataframe\">\n",
       "  <thead>\n",
       "    <tr style=\"text-align: right;\">\n",
       "      <th></th>\n",
       "      <th>STD_DT</th>\n",
       "      <th>MELT_TEMP</th>\n",
       "      <th>MOTORSPEED</th>\n",
       "      <th>MELT_WEIGHT</th>\n",
       "      <th>TAG</th>\n",
       "    </tr>\n",
       "  </thead>\n",
       "  <tbody>\n",
       "    <tr>\n",
       "      <th>0</th>\n",
       "      <td>2020-03-04 0:00</td>\n",
       "      <td>489</td>\n",
       "      <td>116</td>\n",
       "      <td>631</td>\n",
       "      <td>1</td>\n",
       "    </tr>\n",
       "    <tr>\n",
       "      <th>1</th>\n",
       "      <td>2020-03-04 0:00</td>\n",
       "      <td>433</td>\n",
       "      <td>78</td>\n",
       "      <td>609</td>\n",
       "      <td>1</td>\n",
       "    </tr>\n",
       "    <tr>\n",
       "      <th>2</th>\n",
       "      <td>2020-03-04 0:00</td>\n",
       "      <td>464</td>\n",
       "      <td>154</td>\n",
       "      <td>608</td>\n",
       "      <td>1</td>\n",
       "    </tr>\n",
       "    <tr>\n",
       "      <th>3</th>\n",
       "      <td>2020-03-04 0:00</td>\n",
       "      <td>379</td>\n",
       "      <td>212</td>\n",
       "      <td>606</td>\n",
       "      <td>1</td>\n",
       "    </tr>\n",
       "    <tr>\n",
       "      <th>4</th>\n",
       "      <td>2020-03-04 0:00</td>\n",
       "      <td>798</td>\n",
       "      <td>1736</td>\n",
       "      <td>604</td>\n",
       "      <td>1</td>\n",
       "    </tr>\n",
       "    <tr>\n",
       "      <th>...</th>\n",
       "      <td>...</td>\n",
       "      <td>...</td>\n",
       "      <td>...</td>\n",
       "      <td>...</td>\n",
       "      <td>...</td>\n",
       "    </tr>\n",
       "    <tr>\n",
       "      <th>835195</th>\n",
       "      <td>2020-04-30 23:59</td>\n",
       "      <td>755</td>\n",
       "      <td>1743</td>\n",
       "      <td>318</td>\n",
       "      <td>1</td>\n",
       "    </tr>\n",
       "    <tr>\n",
       "      <th>835196</th>\n",
       "      <td>2020-04-30 23:59</td>\n",
       "      <td>385</td>\n",
       "      <td>206</td>\n",
       "      <td>317</td>\n",
       "      <td>1</td>\n",
       "    </tr>\n",
       "    <tr>\n",
       "      <th>835197</th>\n",
       "      <td>2020-04-30 23:59</td>\n",
       "      <td>465</td>\n",
       "      <td>148</td>\n",
       "      <td>316</td>\n",
       "      <td>1</td>\n",
       "    </tr>\n",
       "    <tr>\n",
       "      <th>835198</th>\n",
       "      <td>2020-04-30 23:59</td>\n",
       "      <td>467</td>\n",
       "      <td>0</td>\n",
       "      <td>314</td>\n",
       "      <td>1</td>\n",
       "    </tr>\n",
       "    <tr>\n",
       "      <th>835199</th>\n",
       "      <td>2020-04-30 23:59</td>\n",
       "      <td>453</td>\n",
       "      <td>125</td>\n",
       "      <td>312</td>\n",
       "      <td>1</td>\n",
       "    </tr>\n",
       "  </tbody>\n",
       "</table>\n",
       "<p>835200 rows × 5 columns</p>\n",
       "</div>"
      ],
      "text/plain": [
       "                  STD_DT  MELT_TEMP  MOTORSPEED  MELT_WEIGHT  TAG\n",
       "0        2020-03-04 0:00        489         116          631    1\n",
       "1        2020-03-04 0:00        433          78          609    1\n",
       "2        2020-03-04 0:00        464         154          608    1\n",
       "3        2020-03-04 0:00        379         212          606    1\n",
       "4        2020-03-04 0:00        798        1736          604    1\n",
       "...                  ...        ...         ...          ...  ...\n",
       "835195  2020-04-30 23:59        755        1743          318    1\n",
       "835196  2020-04-30 23:59        385         206          317    1\n",
       "835197  2020-04-30 23:59        465         148          316    1\n",
       "835198  2020-04-30 23:59        467           0          314    1\n",
       "835199  2020-04-30 23:59        453         125          312    1\n",
       "\n",
       "[835200 rows x 5 columns]"
      ]
     },
     "execution_count": 3,
     "metadata": {},
     "output_type": "execute_result"
    }
   ],
   "source": [
    "df.replace({'TAG': {'OK': 1, 'NG': 0}}, inplace=True)\n",
    "df"
   ]
  },
  {
   "cell_type": "code",
   "execution_count": 4,
   "id": "86cc1fa8",
   "metadata": {},
   "outputs": [],
   "source": [
    "from datetime import datetime\n",
    "from sklearn import preprocessing\n",
    "from sklearn.model_selection import train_test_split\n",
    "from sklearn.metrics import *\n",
    "from imblearn.over_sampling import SMOTE"
   ]
  },
  {
   "cell_type": "code",
   "execution_count": 6,
   "id": "f11c27f8",
   "metadata": {},
   "outputs": [],
   "source": [
    "from keras.models import Sequential\n",
    "from keras.layers import Dense, LSTM\n",
    "from tcn import TCN, tcn_full_summary\n",
    "from keras.layers import Dropout\n",
    "from keras.preprocessing import sequence\n",
    "from keras.utils import np_utils\n",
    "from keras.callbacks import EarlyStopping, ModelCheckpoint"
   ]
  },
  {
   "cell_type": "code",
   "execution_count": 7,
   "id": "0df98799",
   "metadata": {},
   "outputs": [],
   "source": [
    "df['STD_DT'] = df['STD_DT'].apply(lambda x: pd.to_datetime(str(x), format = '%Y-%m-%d %H:%M:%S'))"
   ]
  },
  {
   "cell_type": "code",
   "execution_count": 8,
   "id": "9e83bcdf",
   "metadata": {},
   "outputs": [
    {
     "data": {
      "text/html": [
       "<div>\n",
       "<style scoped>\n",
       "    .dataframe tbody tr th:only-of-type {\n",
       "        vertical-align: middle;\n",
       "    }\n",
       "\n",
       "    .dataframe tbody tr th {\n",
       "        vertical-align: top;\n",
       "    }\n",
       "\n",
       "    .dataframe thead th {\n",
       "        text-align: right;\n",
       "    }\n",
       "</style>\n",
       "<table border=\"1\" class=\"dataframe\">\n",
       "  <thead>\n",
       "    <tr style=\"text-align: right;\">\n",
       "      <th></th>\n",
       "      <th>MELT_TEMP</th>\n",
       "      <th>MOTORSPEED</th>\n",
       "      <th>MELT_WEIGHT</th>\n",
       "      <th>TAG</th>\n",
       "    </tr>\n",
       "    <tr>\n",
       "      <th>STD_DT</th>\n",
       "      <th></th>\n",
       "      <th></th>\n",
       "      <th></th>\n",
       "      <th></th>\n",
       "    </tr>\n",
       "  </thead>\n",
       "  <tbody>\n",
       "    <tr>\n",
       "      <th>2020-03-04 00:00:00</th>\n",
       "      <td>489</td>\n",
       "      <td>116</td>\n",
       "      <td>631</td>\n",
       "      <td>1</td>\n",
       "    </tr>\n",
       "    <tr>\n",
       "      <th>2020-03-04 00:00:00</th>\n",
       "      <td>433</td>\n",
       "      <td>78</td>\n",
       "      <td>609</td>\n",
       "      <td>1</td>\n",
       "    </tr>\n",
       "    <tr>\n",
       "      <th>2020-03-04 00:00:00</th>\n",
       "      <td>464</td>\n",
       "      <td>154</td>\n",
       "      <td>608</td>\n",
       "      <td>1</td>\n",
       "    </tr>\n",
       "    <tr>\n",
       "      <th>2020-03-04 00:00:00</th>\n",
       "      <td>379</td>\n",
       "      <td>212</td>\n",
       "      <td>606</td>\n",
       "      <td>1</td>\n",
       "    </tr>\n",
       "    <tr>\n",
       "      <th>2020-03-04 00:00:00</th>\n",
       "      <td>798</td>\n",
       "      <td>1736</td>\n",
       "      <td>604</td>\n",
       "      <td>1</td>\n",
       "    </tr>\n",
       "    <tr>\n",
       "      <th>...</th>\n",
       "      <td>...</td>\n",
       "      <td>...</td>\n",
       "      <td>...</td>\n",
       "      <td>...</td>\n",
       "    </tr>\n",
       "    <tr>\n",
       "      <th>2020-04-30 23:59:00</th>\n",
       "      <td>755</td>\n",
       "      <td>1743</td>\n",
       "      <td>318</td>\n",
       "      <td>1</td>\n",
       "    </tr>\n",
       "    <tr>\n",
       "      <th>2020-04-30 23:59:00</th>\n",
       "      <td>385</td>\n",
       "      <td>206</td>\n",
       "      <td>317</td>\n",
       "      <td>1</td>\n",
       "    </tr>\n",
       "    <tr>\n",
       "      <th>2020-04-30 23:59:00</th>\n",
       "      <td>465</td>\n",
       "      <td>148</td>\n",
       "      <td>316</td>\n",
       "      <td>1</td>\n",
       "    </tr>\n",
       "    <tr>\n",
       "      <th>2020-04-30 23:59:00</th>\n",
       "      <td>467</td>\n",
       "      <td>0</td>\n",
       "      <td>314</td>\n",
       "      <td>1</td>\n",
       "    </tr>\n",
       "    <tr>\n",
       "      <th>2020-04-30 23:59:00</th>\n",
       "      <td>453</td>\n",
       "      <td>125</td>\n",
       "      <td>312</td>\n",
       "      <td>1</td>\n",
       "    </tr>\n",
       "  </tbody>\n",
       "</table>\n",
       "<p>835200 rows × 4 columns</p>\n",
       "</div>"
      ],
      "text/plain": [
       "                     MELT_TEMP  MOTORSPEED  MELT_WEIGHT  TAG\n",
       "STD_DT                                                      \n",
       "2020-03-04 00:00:00        489         116          631    1\n",
       "2020-03-04 00:00:00        433          78          609    1\n",
       "2020-03-04 00:00:00        464         154          608    1\n",
       "2020-03-04 00:00:00        379         212          606    1\n",
       "2020-03-04 00:00:00        798        1736          604    1\n",
       "...                        ...         ...          ...  ...\n",
       "2020-04-30 23:59:00        755        1743          318    1\n",
       "2020-04-30 23:59:00        385         206          317    1\n",
       "2020-04-30 23:59:00        465         148          316    1\n",
       "2020-04-30 23:59:00        467           0          314    1\n",
       "2020-04-30 23:59:00        453         125          312    1\n",
       "\n",
       "[835200 rows x 4 columns]"
      ]
     },
     "execution_count": 8,
     "metadata": {},
     "output_type": "execute_result"
    }
   ],
   "source": [
    "df = df.set_index(['STD_DT'])\n",
    "df"
   ]
  },
  {
   "cell_type": "code",
   "execution_count": 9,
   "id": "ce82dfe5",
   "metadata": {},
   "outputs": [
    {
     "data": {
      "text/html": [
       "<div>\n",
       "<style scoped>\n",
       "    .dataframe tbody tr th:only-of-type {\n",
       "        vertical-align: middle;\n",
       "    }\n",
       "\n",
       "    .dataframe tbody tr th {\n",
       "        vertical-align: top;\n",
       "    }\n",
       "\n",
       "    .dataframe thead th {\n",
       "        text-align: right;\n",
       "    }\n",
       "</style>\n",
       "<table border=\"1\" class=\"dataframe\">\n",
       "  <thead>\n",
       "    <tr style=\"text-align: right;\">\n",
       "      <th></th>\n",
       "      <th>MELT_TEMP</th>\n",
       "      <th>MOTORSPEED</th>\n",
       "      <th>MELT_WEIGHT</th>\n",
       "      <th>TAG</th>\n",
       "    </tr>\n",
       "    <tr>\n",
       "      <th>STD_DT</th>\n",
       "      <th></th>\n",
       "      <th></th>\n",
       "      <th></th>\n",
       "      <th></th>\n",
       "    </tr>\n",
       "  </thead>\n",
       "  <tbody>\n",
       "    <tr>\n",
       "      <th>2020-03-04 00:00:00</th>\n",
       "      <td>489</td>\n",
       "      <td>116</td>\n",
       "      <td>631</td>\n",
       "      <td>1</td>\n",
       "    </tr>\n",
       "    <tr>\n",
       "      <th>2020-03-04 00:00:00</th>\n",
       "      <td>433</td>\n",
       "      <td>78</td>\n",
       "      <td>609</td>\n",
       "      <td>1</td>\n",
       "    </tr>\n",
       "    <tr>\n",
       "      <th>2020-03-04 00:00:00</th>\n",
       "      <td>464</td>\n",
       "      <td>154</td>\n",
       "      <td>608</td>\n",
       "      <td>1</td>\n",
       "    </tr>\n",
       "    <tr>\n",
       "      <th>2020-03-04 00:00:00</th>\n",
       "      <td>379</td>\n",
       "      <td>212</td>\n",
       "      <td>606</td>\n",
       "      <td>1</td>\n",
       "    </tr>\n",
       "    <tr>\n",
       "      <th>2020-03-04 00:00:00</th>\n",
       "      <td>798</td>\n",
       "      <td>1736</td>\n",
       "      <td>604</td>\n",
       "      <td>1</td>\n",
       "    </tr>\n",
       "    <tr>\n",
       "      <th>...</th>\n",
       "      <td>...</td>\n",
       "      <td>...</td>\n",
       "      <td>...</td>\n",
       "      <td>...</td>\n",
       "    </tr>\n",
       "    <tr>\n",
       "      <th>2020-04-30 23:59:00</th>\n",
       "      <td>755</td>\n",
       "      <td>1743</td>\n",
       "      <td>318</td>\n",
       "      <td>1</td>\n",
       "    </tr>\n",
       "    <tr>\n",
       "      <th>2020-04-30 23:59:00</th>\n",
       "      <td>385</td>\n",
       "      <td>206</td>\n",
       "      <td>317</td>\n",
       "      <td>1</td>\n",
       "    </tr>\n",
       "    <tr>\n",
       "      <th>2020-04-30 23:59:00</th>\n",
       "      <td>465</td>\n",
       "      <td>148</td>\n",
       "      <td>316</td>\n",
       "      <td>1</td>\n",
       "    </tr>\n",
       "    <tr>\n",
       "      <th>2020-04-30 23:59:00</th>\n",
       "      <td>467</td>\n",
       "      <td>0</td>\n",
       "      <td>314</td>\n",
       "      <td>1</td>\n",
       "    </tr>\n",
       "    <tr>\n",
       "      <th>2020-04-30 23:59:00</th>\n",
       "      <td>453</td>\n",
       "      <td>125</td>\n",
       "      <td>312</td>\n",
       "      <td>1</td>\n",
       "    </tr>\n",
       "  </tbody>\n",
       "</table>\n",
       "<p>835200 rows × 4 columns</p>\n",
       "</div>"
      ],
      "text/plain": [
       "                     MELT_TEMP  MOTORSPEED  MELT_WEIGHT  TAG\n",
       "STD_DT                                                      \n",
       "2020-03-04 00:00:00        489         116          631    1\n",
       "2020-03-04 00:00:00        433          78          609    1\n",
       "2020-03-04 00:00:00        464         154          608    1\n",
       "2020-03-04 00:00:00        379         212          606    1\n",
       "2020-03-04 00:00:00        798        1736          604    1\n",
       "...                        ...         ...          ...  ...\n",
       "2020-04-30 23:59:00        755        1743          318    1\n",
       "2020-04-30 23:59:00        385         206          317    1\n",
       "2020-04-30 23:59:00        465         148          316    1\n",
       "2020-04-30 23:59:00        467           0          314    1\n",
       "2020-04-30 23:59:00        453         125          312    1\n",
       "\n",
       "[835200 rows x 4 columns]"
      ]
     },
     "execution_count": 9,
     "metadata": {},
     "output_type": "execute_result"
    }
   ],
   "source": [
    "# df.replace({'TAG': {'OK': 1, 'NG': 0}}, inplace=True)\n",
    "df1 = df[['MELT_TEMP', 'MOTORSPEED', 'MELT_WEIGHT', 'TAG']]\n",
    "df1"
   ]
  },
  {
   "cell_type": "code",
   "execution_count": 10,
   "id": "2987cf3f",
   "metadata": {},
   "outputs": [
    {
     "name": "stdout",
     "output_type": "stream",
     "text": [
      "(584640, 4)\n",
      "(250560, 4)\n"
     ]
    }
   ],
   "source": [
    "split_date = int(df1.shape[0]*0.7)\n",
    "train = df1[:split_date]\n",
    "test = df1[split_date:]\n",
    "print(train.shape)\n",
    "print(test.shape)"
   ]
  },
  {
   "cell_type": "code",
   "execution_count": 11,
   "id": "95545fa1",
   "metadata": {},
   "outputs": [],
   "source": [
    "scaler = preprocessing.MinMaxScaler()\n",
    "\n",
    "train_sc = scaler.fit_transform(train)\n",
    "test_sc = scaler.transform(test)\n",
    "\n",
    "x_train_values = train_sc[:, :-1]\n",
    "y_train_values = train_sc[:,-1]"
   ]
  },
  {
   "cell_type": "code",
   "execution_count": 12,
   "id": "8f5a1ae6",
   "metadata": {},
   "outputs": [
    {
     "name": "stdout",
     "output_type": "stream",
     "text": [
      "SMOTE 적용 전 학습용 피처/레이블 데이터 세트 (584640, 3) (584640,)\n",
      "SMOTE 적용 후 학습용 피처/레이블 데이터 세트 (821032, 3) (821032,)\n",
      "SMOTE 적용 후 레이블 값 분포: \n",
      " 1.0    410516\n",
      "0.0    410516\n",
      "dtype: int64\n"
     ]
    }
   ],
   "source": [
    "smote = SMOTE(random_state = 0)\n",
    "\n",
    "X_train_over, y_train_over = smote.fit_resample(x_train_values, y_train_values)\n",
    "print('SMOTE 적용 전 학습용 피처/레이블 데이터 세트', x_train_values.shape, y_train_values.shape)\n",
    "print('SMOTE 적용 후 학습용 피처/레이블 데이터 세트', X_train_over.shape, y_train_over.shape)\n",
    "print('SMOTE 적용 후 레이블 값 분포: \\n', pd.Series(y_train_over).value_counts())"
   ]
  },
  {
   "cell_type": "code",
   "execution_count": 13,
   "id": "5e785c4c",
   "metadata": {},
   "outputs": [],
   "source": [
    "def make_dataset(data, label, window_size):\n",
    "    feature_list = []\n",
    "    label_list = []\n",
    "    for i in range(len(data) - window_size):\n",
    "        feature_list.append(np.array(data.iloc[i:i+window_size]))\n",
    "        label_list.append(np.array(label.iloc[i+window_size]))\n",
    "    return np.array(feature_list), np.array(label_list)"
   ]
  },
  {
   "cell_type": "code",
   "execution_count": 14,
   "id": "55fbd3b3",
   "metadata": {},
   "outputs": [],
   "source": [
    "X_train_over = pd.DataFrame(X_train_over, columns = ['MELT_TEMP', 'MOTORSPEED', 'MELT_WEIGHT'])\n",
    "y_train_over = pd.DataFrame(y_train_over, columns = ['TAG'])"
   ]
  },
  {
   "cell_type": "code",
   "execution_count": 15,
   "id": "f10f58c0",
   "metadata": {},
   "outputs": [],
   "source": [
    "#train dataset\n",
    "train_feature, train_label = make_dataset(X_train_over, y_train_over, 10)"
   ]
  },
  {
   "cell_type": "code",
   "execution_count": 16,
   "id": "2b850432",
   "metadata": {},
   "outputs": [],
   "source": [
    "test_sc = pd.DataFrame(test_sc, columns = ['MELT_TEMP', 'MOTORSPEED', 'MELT_WEIGHT','TAG'])"
   ]
  },
  {
   "cell_type": "code",
   "execution_count": 17,
   "id": "0cf8981c",
   "metadata": {},
   "outputs": [],
   "source": [
    "feature_cols = ['MELT_TEMP', 'MOTORSPEED', 'MELT_WEIGHT']\n",
    "label_cols = ['TAG']"
   ]
  },
  {
   "cell_type": "code",
   "execution_count": 18,
   "id": "cc758eb3",
   "metadata": {},
   "outputs": [
    {
     "data": {
      "text/plain": [
       "((250550, 10, 3), (250550, 1))"
      ]
     },
     "execution_count": 18,
     "metadata": {},
     "output_type": "execute_result"
    }
   ],
   "source": [
    "test_feature = test_sc[feature_cols]\n",
    "test_label = test_sc[label_cols]\n",
    "\n",
    "# test dataset (실제 예측 해볼 데이터)\n",
    "test_feature, test_label = make_dataset(test_feature, test_label, 10)\n",
    "test_feature.shape, test_label.shape"
   ]
  },
  {
   "cell_type": "code",
   "execution_count": 19,
   "id": "115a4ebc",
   "metadata": {},
   "outputs": [
    {
     "data": {
      "text/plain": [
       "((574715, 10, 3), (246307, 10, 3))"
      ]
     },
     "execution_count": 19,
     "metadata": {},
     "output_type": "execute_result"
    }
   ],
   "source": [
    "x_train, x_valid, y_train, y_valid = train_test_split(train_feature, train_label, test_size = 0.3, random_state=1)\n",
    "x_train.shape, x_valid.shape"
   ]
  },
  {
   "cell_type": "code",
   "execution_count": 20,
   "id": "cf981a4f",
   "metadata": {},
   "outputs": [],
   "source": [
    "import os\n",
    "path = \"C:/Users/islab/Desktop/jihyeon/전자제조시스템\"\n",
    "os.chdir(path)"
   ]
  },
  {
   "cell_type": "code",
   "execution_count": 21,
   "id": "88067dcd",
   "metadata": {},
   "outputs": [],
   "source": [
    "model_path = path"
   ]
  },
  {
   "cell_type": "code",
   "execution_count": 22,
   "id": "bd0dd682",
   "metadata": {},
   "outputs": [],
   "source": [
    "model = Sequential()\n",
    "model.add(LSTM(50, \n",
    "               input_shape = (train_feature.shape[1], train_feature.shape[2]), activation = 'tanh', return_sequences = False))\n",
    "model.add(Dense(1, activation = 'sigmoid'))"
   ]
  },
  {
   "cell_type": "code",
   "execution_count": 23,
   "id": "a90abd39",
   "metadata": {},
   "outputs": [],
   "source": [
    "model.compile(loss = 'binary_crossentropy', optimizer = 'adam', metrics = ['accuracy'])\n",
    "early_stop = EarlyStopping(monitor = 'val_loss', patience = 5)\n",
    "filename = os.path.join(model_path, 'tmp_checkpoint.h5')\n",
    "checkpoint = ModelCheckpoint(filename, monitor = 'val_loss', verbose = 1, save_best_only = True, mode = 'auto')"
   ]
  },
  {
   "cell_type": "code",
   "execution_count": 24,
   "id": "a02a2a48",
   "metadata": {},
   "outputs": [
    {
     "name": "stdout",
     "output_type": "stream",
     "text": [
      "Epoch 1/200\n",
      "57472/57472 [==============================] - ETA: 0s - loss: 0.3480 - accuracy: 0.8076\n",
      "Epoch 1: val_loss improved from inf to 0.33662, saving model to C:/Users/islab/Desktop/jihyeon/전자제조시스템\\tmp_checkpoint.h5\n",
      "57472/57472 [==============================] - 160s 3ms/step - loss: 0.3480 - accuracy: 0.8076 - val_loss: 0.3366 - val_accuracy: 0.8154\n",
      "Epoch 2/200\n",
      "57459/57472 [============================>.] - ETA: 0s - loss: 0.3370 - accuracy: 0.8138\n",
      "Epoch 2: val_loss improved from 0.33662 to 0.33651, saving model to C:/Users/islab/Desktop/jihyeon/전자제조시스템\\tmp_checkpoint.h5\n",
      "57472/57472 [==============================] - 158s 3ms/step - loss: 0.3370 - accuracy: 0.8138 - val_loss: 0.3365 - val_accuracy: 0.8155\n",
      "Epoch 3/200\n",
      "57453/57472 [============================>.] - ETA: 0s - loss: 0.3362 - accuracy: 0.8149\n",
      "Epoch 3: val_loss improved from 0.33651 to 0.33600, saving model to C:/Users/islab/Desktop/jihyeon/전자제조시스템\\tmp_checkpoint.h5\n",
      "57472/57472 [==============================] - 159s 3ms/step - loss: 0.3363 - accuracy: 0.8149 - val_loss: 0.3360 - val_accuracy: 0.8147\n",
      "Epoch 4/200\n",
      "57470/57472 [============================>.] - ETA: 0s - loss: 0.3359 - accuracy: 0.8152\n",
      "Epoch 4: val_loss did not improve from 0.33600\n",
      "57472/57472 [==============================] - 171s 3ms/step - loss: 0.3359 - accuracy: 0.8152 - val_loss: 0.3389 - val_accuracy: 0.8138\n",
      "Epoch 5/200\n",
      "57462/57472 [============================>.] - ETA: 0s - loss: 0.3357 - accuracy: 0.8153\n",
      "Epoch 5: val_loss did not improve from 0.33600\n",
      "57472/57472 [==============================] - 187s 3ms/step - loss: 0.3357 - accuracy: 0.8153 - val_loss: 0.3360 - val_accuracy: 0.8160\n",
      "Epoch 6/200\n",
      "57464/57472 [============================>.] - ETA: 0s - loss: 0.3353 - accuracy: 0.8156\n",
      "Epoch 6: val_loss improved from 0.33600 to 0.33578, saving model to C:/Users/islab/Desktop/jihyeon/전자제조시스템\\tmp_checkpoint.h5\n",
      "57472/57472 [==============================] - 199s 3ms/step - loss: 0.3353 - accuracy: 0.8156 - val_loss: 0.3358 - val_accuracy: 0.8154\n",
      "Epoch 7/200\n",
      "57458/57472 [============================>.] - ETA: 0s - loss: 0.3352 - accuracy: 0.8156\n",
      "Epoch 7: val_loss did not improve from 0.33578\n",
      "57472/57472 [==============================] - 222s 4ms/step - loss: 0.3352 - accuracy: 0.8156 - val_loss: 0.3361 - val_accuracy: 0.8154\n",
      "Epoch 8/200\n",
      "57467/57472 [============================>.] - ETA: 0s - loss: 0.3351 - accuracy: 0.8159\n",
      "Epoch 8: val_loss improved from 0.33578 to 0.33529, saving model to C:/Users/islab/Desktop/jihyeon/전자제조시스템\\tmp_checkpoint.h5\n",
      "57472/57472 [==============================] - 214s 4ms/step - loss: 0.3351 - accuracy: 0.8159 - val_loss: 0.3353 - val_accuracy: 0.8162\n",
      "Epoch 9/200\n",
      "57463/57472 [============================>.] - ETA: 0s - loss: 0.3351 - accuracy: 0.8156\n",
      "Epoch 9: val_loss improved from 0.33529 to 0.33450, saving model to C:/Users/islab/Desktop/jihyeon/전자제조시스템\\tmp_checkpoint.h5\n",
      "57472/57472 [==============================] - 210s 4ms/step - loss: 0.3351 - accuracy: 0.8156 - val_loss: 0.3345 - val_accuracy: 0.8159\n",
      "Epoch 10/200\n",
      "57462/57472 [============================>.] - ETA: 0s - loss: 0.3349 - accuracy: 0.8159\n",
      "Epoch 10: val_loss did not improve from 0.33450\n",
      "57472/57472 [==============================] - 214s 4ms/step - loss: 0.3349 - accuracy: 0.8159 - val_loss: 0.3346 - val_accuracy: 0.8159\n",
      "Epoch 11/200\n",
      "57471/57472 [============================>.] - ETA: 0s - loss: 0.3349 - accuracy: 0.8160\n",
      "Epoch 11: val_loss did not improve from 0.33450\n",
      "57472/57472 [==============================] - 211s 4ms/step - loss: 0.3349 - accuracy: 0.8160 - val_loss: 0.3353 - val_accuracy: 0.8161\n",
      "Epoch 12/200\n",
      "57460/57472 [============================>.] - ETA: 0s - loss: 0.3351 - accuracy: 0.8160\n",
      "Epoch 12: val_loss improved from 0.33450 to 0.33443, saving model to C:/Users/islab/Desktop/jihyeon/전자제조시스템\\tmp_checkpoint.h5\n",
      "57472/57472 [==============================] - 224s 4ms/step - loss: 0.3351 - accuracy: 0.8160 - val_loss: 0.3344 - val_accuracy: 0.8158\n",
      "Epoch 13/200\n",
      "57461/57472 [============================>.] - ETA: 0s - loss: 0.3349 - accuracy: 0.8160\n",
      "Epoch 13: val_loss improved from 0.33443 to 0.33424, saving model to C:/Users/islab/Desktop/jihyeon/전자제조시스템\\tmp_checkpoint.h5\n",
      "57472/57472 [==============================] - 209s 4ms/step - loss: 0.3349 - accuracy: 0.8160 - val_loss: 0.3342 - val_accuracy: 0.8143\n",
      "Epoch 14/200\n",
      "57472/57472 [==============================] - ETA: 0s - loss: 0.3348 - accuracy: 0.8157\n",
      "Epoch 14: val_loss did not improve from 0.33424\n",
      "57472/57472 [==============================] - 210s 4ms/step - loss: 0.3348 - accuracy: 0.8157 - val_loss: 0.3346 - val_accuracy: 0.8168\n",
      "Epoch 15/200\n",
      "57456/57472 [============================>.] - ETA: 0s - loss: 0.3347 - accuracy: 0.8159\n",
      "Epoch 15: val_loss did not improve from 0.33424\n",
      "57472/57472 [==============================] - 208s 4ms/step - loss: 0.3347 - accuracy: 0.8159 - val_loss: 0.3349 - val_accuracy: 0.8152\n",
      "Epoch 16/200\n",
      "57456/57472 [============================>.] - ETA: 0s - loss: 0.3347 - accuracy: 0.8159\n",
      "Epoch 16: val_loss did not improve from 0.33424\n",
      "57472/57472 [==============================] - 204s 4ms/step - loss: 0.3347 - accuracy: 0.8159 - val_loss: 0.3346 - val_accuracy: 0.8159\n",
      "Epoch 17/200\n",
      "57468/57472 [============================>.] - ETA: 0s - loss: 0.3346 - accuracy: 0.8160\n",
      "Epoch 17: val_loss improved from 0.33424 to 0.33408, saving model to C:/Users/islab/Desktop/jihyeon/전자제조시스템\\tmp_checkpoint.h5\n",
      "57472/57472 [==============================] - 208s 4ms/step - loss: 0.3346 - accuracy: 0.8160 - val_loss: 0.3341 - val_accuracy: 0.8168\n",
      "Epoch 18/200\n",
      "57461/57472 [============================>.] - ETA: 0s - loss: 0.3345 - accuracy: 0.8162\n",
      "Epoch 18: val_loss did not improve from 0.33408\n",
      "57472/57472 [==============================] - 199s 3ms/step - loss: 0.3345 - accuracy: 0.8162 - val_loss: 0.3343 - val_accuracy: 0.8162\n",
      "Epoch 19/200\n",
      "57454/57472 [============================>.] - ETA: 0s - loss: 0.3343 - accuracy: 0.8163\n",
      "Epoch 19: val_loss did not improve from 0.33408\n",
      "57472/57472 [==============================] - 181s 3ms/step - loss: 0.3344 - accuracy: 0.8163 - val_loss: 0.3342 - val_accuracy: 0.8162\n",
      "Epoch 20/200\n",
      "57472/57472 [==============================] - ETA: 0s - loss: 0.3344 - accuracy: 0.8162\n",
      "Epoch 20: val_loss did not improve from 0.33408\n",
      "57472/57472 [==============================] - 181s 3ms/step - loss: 0.3344 - accuracy: 0.8162 - val_loss: 0.3346 - val_accuracy: 0.8154\n",
      "Epoch 21/200\n",
      "57472/57472 [==============================] - ETA: 0s - loss: 0.3343 - accuracy: 0.8161\n",
      "Epoch 21: val_loss did not improve from 0.33408\n",
      "57472/57472 [==============================] - 178s 3ms/step - loss: 0.3343 - accuracy: 0.8161 - val_loss: 0.3348 - val_accuracy: 0.8156\n",
      "Epoch 22/200\n",
      "57457/57472 [============================>.] - ETA: 0s - loss: 0.3343 - accuracy: 0.8163\n",
      "Epoch 22: val_loss did not improve from 0.33408\n",
      "57472/57472 [==============================] - 201s 3ms/step - loss: 0.3343 - accuracy: 0.8163 - val_loss: 0.3341 - val_accuracy: 0.8154\n"
     ]
    }
   ],
   "source": [
    "history = model.fit(x_train, y_train, epochs = 200, batch_size = 10, validation_data = (x_valid, y_valid), callbacks = [early_stop, checkpoint])"
   ]
  },
  {
   "cell_type": "code",
   "execution_count": 25,
   "id": "2ac18cae",
   "metadata": {},
   "outputs": [
    {
     "name": "stdout",
     "output_type": "stream",
     "text": [
      "7830/7830 [==============================] - 12s 2ms/step\n"
     ]
    }
   ],
   "source": [
    "pred = model.predict(test_feature)"
   ]
  },
  {
   "cell_type": "code",
   "execution_count": 26,
   "id": "d32001f6",
   "metadata": {},
   "outputs": [
    {
     "data": {
      "image/png": "[encoded data removed]",
      "text/plain": [
       "<Figure size 432x288 with 1 Axes>"
      ]
     },
     "metadata": {
      "needs_background": "light"
     },
     "output_type": "display_data"
    }
   ],
   "source": [
    "plt.plot(history.history[\"loss\"],label=\"train\")\n",
    "plt.plot(history.history[\"val_loss\"],label=\"validation\")\n",
    "plt.legend()\n",
    "plt.show()"
   ]
  },
  {
   "cell_type": "code",
   "execution_count": 27,
   "id": "ded760ee",
   "metadata": {},
   "outputs": [],
   "source": [
    "pred_df = pd.DataFrame(pred, columns=['TAG'])\n",
    "\n",
    "pred_df['TAG'] = pred_df['TAG'].apply(lambda x: 1 if x>=0.5 else 0)"
   ]
  },
  {
   "cell_type": "code",
   "execution_count": 28,
   "id": "f7bc8473",
   "metadata": {},
   "outputs": [
    {
     "name": "stdout",
     "output_type": "stream",
     "text": [
      "[[  1628   1312]\n",
      " [ 58230 189380]]\n"
     ]
    }
   ],
   "source": [
    "confusion = confusion_matrix(test_label, pred_df)\n",
    "print(confusion)"
   ]
  },
  {
   "cell_type": "code",
   "execution_count": 29,
   "id": "03a35f54",
   "metadata": {},
   "outputs": [
    {
     "data": {
      "image/png": "[encoded data removed]",
      "text/plain": [
       "<Figure size 432x288 with 2 Axes>"
      ]
     },
     "metadata": {
      "needs_background": "light"
     },
     "output_type": "display_data"
    }
   ],
   "source": [
    "plot = sns.heatmap(confusion ,square=True, annot=True, fmt='d', cmap='terrain')\n",
    "class_lables=['0','1','2','3']\n",
    "plt.title(\"confusrion\", size = 12)\n",
    "plot.set_xlabel('예측 y값')\n",
    "plot.set_ylabel('실제 y값')\n",
    "# plt.savefig('80% 사후확률_min_{}_수정.png'.format(j), dpi=300, transparent=True, bbox_inches=\"tight\")\n",
    "plt.show()"
   ]
  },
  {
   "cell_type": "code",
   "execution_count": 31,
   "id": "9d9db53e",
   "metadata": {},
   "outputs": [
    {
     "name": "stdout",
     "output_type": "stream",
     "text": [
      "precision : 0.99312\n",
      "recall : 0.76483\n",
      "f1-score : 0.86415\n",
      "accuracy : 0.76235\n"
     ]
    }
   ],
   "source": [
    "p = precision_score(test_label, pred_df)\n",
    "print('precision : %0.5f' %p)\n",
    "r = recall_score(test_label, pred_df)\n",
    "print('recall : %0.5f' %r)\n",
    "f1 = f1_score(test_label, pred_df)\n",
    "print('f1-score : %0.5f' %f1)\n",
    "acc = accuracy_score(test_label, pred_df)\n",
    "print('accuracy : %0.5f' %acc)"
   ]
  },
  {
   "cell_type": "code",
   "execution_count": null,
   "id": "b8aee4fe",
   "metadata": {},
   "outputs": [],
   "source": []
  }
 ],
 "metadata": {
  "kernelspec": {
   "display_name": "Python 3 (ipykernel)",
   "language": "python",
   "name": "python3"
  },
  "language_info": {
   "codemirror_mode": {
    "name": "ipython",
    "version": 3
   },
   "file_extension": ".py",
   "mimetype": "text/x-python",
   "name": "python",
   "nbconvert_exporter": "python",
   "pygments_lexer": "ipython3",
   "version": "3.9.12"
  }
 },
 "nbformat": 4,
 "nbformat_minor": 5
}
