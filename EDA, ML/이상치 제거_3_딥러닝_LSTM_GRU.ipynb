{
 "cells": [
  {
   "cell_type": "code",
   "execution_count": 1,
   "id": "34ee757b",
   "metadata": {},
   "outputs": [],
   "source": [
    "import numpy as np \n",
    "import pandas as pd\n",
    "# 시각화 package\n",
    "import matplotlib.pyplot as plt\n",
    "import seaborn as sns\n",
    "import graphviz\n",
    "from sklearn.tree import export_graphviz\n",
    "\n",
    "import matplotlib.font_manager as font_manager\n",
    "from matplotlib import rc\n",
    "   \n",
    "# 한글폰트작업\n",
    "# window의 폰트 위치 -> C:/Windows/Fonts/NGULIM.TTF\n",
    "font_name = font_manager.FontProperties(fname=\"C:/Windows/Fonts/NGULIM.TTF\").get_name()\n",
    "rc('font', family=font_name)\n",
    "plt.rcParams['axes.unicode_minus'] = False"
   ]
  },
  {
   "cell_type": "markdown",
   "id": "3913fcfd",
   "metadata": {},
   "source": [
    "# <font color = 4247D6> Data Set"
   ]
  },
  {
   "cell_type": "code",
   "execution_count": 2,
   "id": "19525fd7",
   "metadata": {},
   "outputs": [
    {
     "data": {
      "text/html": [
       "<div>\n",
       "<style scoped>\n",
       "    .dataframe tbody tr th:only-of-type {\n",
       "        vertical-align: middle;\n",
       "    }\n",
       "\n",
       "    .dataframe tbody tr th {\n",
       "        vertical-align: top;\n",
       "    }\n",
       "\n",
       "    .dataframe thead th {\n",
       "        text-align: right;\n",
       "    }\n",
       "</style>\n",
       "<table border=\"1\" class=\"dataframe\">\n",
       "  <thead>\n",
       "    <tr style=\"text-align: right;\">\n",
       "      <th></th>\n",
       "      <th>STD_DT</th>\n",
       "      <th>MELT_TEMP</th>\n",
       "      <th>MOTORSPEED</th>\n",
       "      <th>MELT_WEIGHT</th>\n",
       "      <th>TAG</th>\n",
       "    </tr>\n",
       "  </thead>\n",
       "  <tbody>\n",
       "    <tr>\n",
       "      <th>0</th>\n",
       "      <td>2020-03-04 0:00</td>\n",
       "      <td>489</td>\n",
       "      <td>116</td>\n",
       "      <td>631</td>\n",
       "      <td>OK</td>\n",
       "    </tr>\n",
       "    <tr>\n",
       "      <th>1</th>\n",
       "      <td>2020-03-04 0:00</td>\n",
       "      <td>433</td>\n",
       "      <td>78</td>\n",
       "      <td>609</td>\n",
       "      <td>OK</td>\n",
       "    </tr>\n",
       "    <tr>\n",
       "      <th>2</th>\n",
       "      <td>2020-03-04 0:00</td>\n",
       "      <td>464</td>\n",
       "      <td>154</td>\n",
       "      <td>608</td>\n",
       "      <td>OK</td>\n",
       "    </tr>\n",
       "    <tr>\n",
       "      <th>3</th>\n",
       "      <td>2020-03-04 0:00</td>\n",
       "      <td>379</td>\n",
       "      <td>212</td>\n",
       "      <td>606</td>\n",
       "      <td>OK</td>\n",
       "    </tr>\n",
       "    <tr>\n",
       "      <th>4</th>\n",
       "      <td>2020-03-04 0:00</td>\n",
       "      <td>798</td>\n",
       "      <td>1736</td>\n",
       "      <td>604</td>\n",
       "      <td>OK</td>\n",
       "    </tr>\n",
       "    <tr>\n",
       "      <th>...</th>\n",
       "      <td>...</td>\n",
       "      <td>...</td>\n",
       "      <td>...</td>\n",
       "      <td>...</td>\n",
       "      <td>...</td>\n",
       "    </tr>\n",
       "    <tr>\n",
       "      <th>835195</th>\n",
       "      <td>2020-04-30 23:59</td>\n",
       "      <td>755</td>\n",
       "      <td>1743</td>\n",
       "      <td>318</td>\n",
       "      <td>OK</td>\n",
       "    </tr>\n",
       "    <tr>\n",
       "      <th>835196</th>\n",
       "      <td>2020-04-30 23:59</td>\n",
       "      <td>385</td>\n",
       "      <td>206</td>\n",
       "      <td>317</td>\n",
       "      <td>OK</td>\n",
       "    </tr>\n",
       "    <tr>\n",
       "      <th>835197</th>\n",
       "      <td>2020-04-30 23:59</td>\n",
       "      <td>465</td>\n",
       "      <td>148</td>\n",
       "      <td>316</td>\n",
       "      <td>OK</td>\n",
       "    </tr>\n",
       "    <tr>\n",
       "      <th>835198</th>\n",
       "      <td>2020-04-30 23:59</td>\n",
       "      <td>467</td>\n",
       "      <td>0</td>\n",
       "      <td>314</td>\n",
       "      <td>OK</td>\n",
       "    </tr>\n",
       "    <tr>\n",
       "      <th>835199</th>\n",
       "      <td>2020-04-30 23:59</td>\n",
       "      <td>453</td>\n",
       "      <td>125</td>\n",
       "      <td>312</td>\n",
       "      <td>OK</td>\n",
       "    </tr>\n",
       "  </tbody>\n",
       "</table>\n",
       "<p>835200 rows × 5 columns</p>\n",
       "</div>"
      ],
      "text/plain": [
       "                  STD_DT  MELT_TEMP  MOTORSPEED  MELT_WEIGHT TAG\n",
       "0        2020-03-04 0:00        489         116          631  OK\n",
       "1        2020-03-04 0:00        433          78          609  OK\n",
       "2        2020-03-04 0:00        464         154          608  OK\n",
       "3        2020-03-04 0:00        379         212          606  OK\n",
       "4        2020-03-04 0:00        798        1736          604  OK\n",
       "...                  ...        ...         ...          ...  ..\n",
       "835195  2020-04-30 23:59        755        1743          318  OK\n",
       "835196  2020-04-30 23:59        385         206          317  OK\n",
       "835197  2020-04-30 23:59        465         148          316  OK\n",
       "835198  2020-04-30 23:59        467           0          314  OK\n",
       "835199  2020-04-30 23:59        453         125          312  OK\n",
       "\n",
       "[835200 rows x 5 columns]"
      ]
     },
     "execution_count": 2,
     "metadata": {},
     "output_type": "execute_result"
    }
   ],
   "source": [
    "df = pd.read_csv('이상치_제거_.csv')\n",
    "df"
   ]
  },
  {
   "cell_type": "code",
   "execution_count": 3,
   "id": "4702ae7d",
   "metadata": {},
   "outputs": [
    {
     "data": {
      "text/html": [
       "<div>\n",
       "<style scoped>\n",
       "    .dataframe tbody tr th:only-of-type {\n",
       "        vertical-align: middle;\n",
       "    }\n",
       "\n",
       "    .dataframe tbody tr th {\n",
       "        vertical-align: top;\n",
       "    }\n",
       "\n",
       "    .dataframe thead th {\n",
       "        text-align: right;\n",
       "    }\n",
       "</style>\n",
       "<table border=\"1\" class=\"dataframe\">\n",
       "  <thead>\n",
       "    <tr style=\"text-align: right;\">\n",
       "      <th></th>\n",
       "      <th>STD_DT</th>\n",
       "      <th>MELT_TEMP</th>\n",
       "      <th>MOTORSPEED</th>\n",
       "      <th>MELT_WEIGHT</th>\n",
       "      <th>TAG</th>\n",
       "    </tr>\n",
       "  </thead>\n",
       "  <tbody>\n",
       "    <tr>\n",
       "      <th>0</th>\n",
       "      <td>2020-03-04 0:00</td>\n",
       "      <td>489</td>\n",
       "      <td>116</td>\n",
       "      <td>631</td>\n",
       "      <td>1</td>\n",
       "    </tr>\n",
       "    <tr>\n",
       "      <th>1</th>\n",
       "      <td>2020-03-04 0:00</td>\n",
       "      <td>433</td>\n",
       "      <td>78</td>\n",
       "      <td>609</td>\n",
       "      <td>1</td>\n",
       "    </tr>\n",
       "    <tr>\n",
       "      <th>2</th>\n",
       "      <td>2020-03-04 0:00</td>\n",
       "      <td>464</td>\n",
       "      <td>154</td>\n",
       "      <td>608</td>\n",
       "      <td>1</td>\n",
       "    </tr>\n",
       "    <tr>\n",
       "      <th>3</th>\n",
       "      <td>2020-03-04 0:00</td>\n",
       "      <td>379</td>\n",
       "      <td>212</td>\n",
       "      <td>606</td>\n",
       "      <td>1</td>\n",
       "    </tr>\n",
       "    <tr>\n",
       "      <th>4</th>\n",
       "      <td>2020-03-04 0:00</td>\n",
       "      <td>798</td>\n",
       "      <td>1736</td>\n",
       "      <td>604</td>\n",
       "      <td>1</td>\n",
       "    </tr>\n",
       "    <tr>\n",
       "      <th>...</th>\n",
       "      <td>...</td>\n",
       "      <td>...</td>\n",
       "      <td>...</td>\n",
       "      <td>...</td>\n",
       "      <td>...</td>\n",
       "    </tr>\n",
       "    <tr>\n",
       "      <th>835195</th>\n",
       "      <td>2020-04-30 23:59</td>\n",
       "      <td>755</td>\n",
       "      <td>1743</td>\n",
       "      <td>318</td>\n",
       "      <td>1</td>\n",
       "    </tr>\n",
       "    <tr>\n",
       "      <th>835196</th>\n",
       "      <td>2020-04-30 23:59</td>\n",
       "      <td>385</td>\n",
       "      <td>206</td>\n",
       "      <td>317</td>\n",
       "      <td>1</td>\n",
       "    </tr>\n",
       "    <tr>\n",
       "      <th>835197</th>\n",
       "      <td>2020-04-30 23:59</td>\n",
       "      <td>465</td>\n",
       "      <td>148</td>\n",
       "      <td>316</td>\n",
       "      <td>1</td>\n",
       "    </tr>\n",
       "    <tr>\n",
       "      <th>835198</th>\n",
       "      <td>2020-04-30 23:59</td>\n",
       "      <td>467</td>\n",
       "      <td>0</td>\n",
       "      <td>314</td>\n",
       "      <td>1</td>\n",
       "    </tr>\n",
       "    <tr>\n",
       "      <th>835199</th>\n",
       "      <td>2020-04-30 23:59</td>\n",
       "      <td>453</td>\n",
       "      <td>125</td>\n",
       "      <td>312</td>\n",
       "      <td>1</td>\n",
       "    </tr>\n",
       "  </tbody>\n",
       "</table>\n",
       "<p>835200 rows × 5 columns</p>\n",
       "</div>"
      ],
      "text/plain": [
       "                  STD_DT  MELT_TEMP  MOTORSPEED  MELT_WEIGHT  TAG\n",
       "0        2020-03-04 0:00        489         116          631    1\n",
       "1        2020-03-04 0:00        433          78          609    1\n",
       "2        2020-03-04 0:00        464         154          608    1\n",
       "3        2020-03-04 0:00        379         212          606    1\n",
       "4        2020-03-04 0:00        798        1736          604    1\n",
       "...                  ...        ...         ...          ...  ...\n",
       "835195  2020-04-30 23:59        755        1743          318    1\n",
       "835196  2020-04-30 23:59        385         206          317    1\n",
       "835197  2020-04-30 23:59        465         148          316    1\n",
       "835198  2020-04-30 23:59        467           0          314    1\n",
       "835199  2020-04-30 23:59        453         125          312    1\n",
       "\n",
       "[835200 rows x 5 columns]"
      ]
     },
     "execution_count": 3,
     "metadata": {},
     "output_type": "execute_result"
    }
   ],
   "source": [
    "df.replace({'TAG': {'OK': 1, 'NG': 0}}, inplace=True)\n",
    "df"
   ]
  },
  {
   "cell_type": "code",
   "execution_count": 4,
   "id": "302b9ac9",
   "metadata": {},
   "outputs": [],
   "source": [
    "from datetime import datetime\n",
    "from sklearn import preprocessing\n",
    "from sklearn.model_selection import train_test_split\n",
    "from sklearn.metrics import *\n",
    "from imblearn.over_sampling import SMOTE"
   ]
  },
  {
   "cell_type": "code",
   "execution_count": 5,
   "id": "cff542a7",
   "metadata": {},
   "outputs": [],
   "source": [
    "from keras.models import Sequential\n",
    "from keras.layers import Dense, LSTM\n",
    "from tcn import TCN, tcn_full_summary\n",
    "from keras.layers import Dropout\n",
    "from keras.preprocessing import sequence\n",
    "from keras.utils import np_utils\n",
    "from keras.callbacks import EarlyStopping, ModelCheckpoint"
   ]
  },
  {
   "cell_type": "code",
   "execution_count": 6,
   "id": "fbdde739",
   "metadata": {},
   "outputs": [],
   "source": [
    "df['STD_DT'] = df['STD_DT'].apply(lambda x: pd.to_datetime(str(x), format = '%Y-%m-%d %H:%M:%S'))"
   ]
  },
  {
   "cell_type": "code",
   "execution_count": 7,
   "id": "bb181523",
   "metadata": {},
   "outputs": [
    {
     "data": {
      "text/html": [
       "<div>\n",
       "<style scoped>\n",
       "    .dataframe tbody tr th:only-of-type {\n",
       "        vertical-align: middle;\n",
       "    }\n",
       "\n",
       "    .dataframe tbody tr th {\n",
       "        vertical-align: top;\n",
       "    }\n",
       "\n",
       "    .dataframe thead th {\n",
       "        text-align: right;\n",
       "    }\n",
       "</style>\n",
       "<table border=\"1\" class=\"dataframe\">\n",
       "  <thead>\n",
       "    <tr style=\"text-align: right;\">\n",
       "      <th></th>\n",
       "      <th>MELT_TEMP</th>\n",
       "      <th>MOTORSPEED</th>\n",
       "      <th>MELT_WEIGHT</th>\n",
       "      <th>TAG</th>\n",
       "    </tr>\n",
       "    <tr>\n",
       "      <th>STD_DT</th>\n",
       "      <th></th>\n",
       "      <th></th>\n",
       "      <th></th>\n",
       "      <th></th>\n",
       "    </tr>\n",
       "  </thead>\n",
       "  <tbody>\n",
       "    <tr>\n",
       "      <th>2020-03-04 00:00:00</th>\n",
       "      <td>489</td>\n",
       "      <td>116</td>\n",
       "      <td>631</td>\n",
       "      <td>1</td>\n",
       "    </tr>\n",
       "    <tr>\n",
       "      <th>2020-03-04 00:00:00</th>\n",
       "      <td>433</td>\n",
       "      <td>78</td>\n",
       "      <td>609</td>\n",
       "      <td>1</td>\n",
       "    </tr>\n",
       "    <tr>\n",
       "      <th>2020-03-04 00:00:00</th>\n",
       "      <td>464</td>\n",
       "      <td>154</td>\n",
       "      <td>608</td>\n",
       "      <td>1</td>\n",
       "    </tr>\n",
       "    <tr>\n",
       "      <th>2020-03-04 00:00:00</th>\n",
       "      <td>379</td>\n",
       "      <td>212</td>\n",
       "      <td>606</td>\n",
       "      <td>1</td>\n",
       "    </tr>\n",
       "    <tr>\n",
       "      <th>2020-03-04 00:00:00</th>\n",
       "      <td>798</td>\n",
       "      <td>1736</td>\n",
       "      <td>604</td>\n",
       "      <td>1</td>\n",
       "    </tr>\n",
       "    <tr>\n",
       "      <th>...</th>\n",
       "      <td>...</td>\n",
       "      <td>...</td>\n",
       "      <td>...</td>\n",
       "      <td>...</td>\n",
       "    </tr>\n",
       "    <tr>\n",
       "      <th>2020-04-30 23:59:00</th>\n",
       "      <td>755</td>\n",
       "      <td>1743</td>\n",
       "      <td>318</td>\n",
       "      <td>1</td>\n",
       "    </tr>\n",
       "    <tr>\n",
       "      <th>2020-04-30 23:59:00</th>\n",
       "      <td>385</td>\n",
       "      <td>206</td>\n",
       "      <td>317</td>\n",
       "      <td>1</td>\n",
       "    </tr>\n",
       "    <tr>\n",
       "      <th>2020-04-30 23:59:00</th>\n",
       "      <td>465</td>\n",
       "      <td>148</td>\n",
       "      <td>316</td>\n",
       "      <td>1</td>\n",
       "    </tr>\n",
       "    <tr>\n",
       "      <th>2020-04-30 23:59:00</th>\n",
       "      <td>467</td>\n",
       "      <td>0</td>\n",
       "      <td>314</td>\n",
       "      <td>1</td>\n",
       "    </tr>\n",
       "    <tr>\n",
       "      <th>2020-04-30 23:59:00</th>\n",
       "      <td>453</td>\n",
       "      <td>125</td>\n",
       "      <td>312</td>\n",
       "      <td>1</td>\n",
       "    </tr>\n",
       "  </tbody>\n",
       "</table>\n",
       "<p>835200 rows × 4 columns</p>\n",
       "</div>"
      ],
      "text/plain": [
       "                     MELT_TEMP  MOTORSPEED  MELT_WEIGHT  TAG\n",
       "STD_DT                                                      \n",
       "2020-03-04 00:00:00        489         116          631    1\n",
       "2020-03-04 00:00:00        433          78          609    1\n",
       "2020-03-04 00:00:00        464         154          608    1\n",
       "2020-03-04 00:00:00        379         212          606    1\n",
       "2020-03-04 00:00:00        798        1736          604    1\n",
       "...                        ...         ...          ...  ...\n",
       "2020-04-30 23:59:00        755        1743          318    1\n",
       "2020-04-30 23:59:00        385         206          317    1\n",
       "2020-04-30 23:59:00        465         148          316    1\n",
       "2020-04-30 23:59:00        467           0          314    1\n",
       "2020-04-30 23:59:00        453         125          312    1\n",
       "\n",
       "[835200 rows x 4 columns]"
      ]
     },
     "execution_count": 7,
     "metadata": {},
     "output_type": "execute_result"
    }
   ],
   "source": [
    "df = df.set_index(['STD_DT'])\n",
    "df"
   ]
  },
  {
   "cell_type": "code",
   "execution_count": 8,
   "id": "7fad853a",
   "metadata": {},
   "outputs": [
    {
     "data": {
      "text/html": [
       "<div>\n",
       "<style scoped>\n",
       "    .dataframe tbody tr th:only-of-type {\n",
       "        vertical-align: middle;\n",
       "    }\n",
       "\n",
       "    .dataframe tbody tr th {\n",
       "        vertical-align: top;\n",
       "    }\n",
       "\n",
       "    .dataframe thead th {\n",
       "        text-align: right;\n",
       "    }\n",
       "</style>\n",
       "<table border=\"1\" class=\"dataframe\">\n",
       "  <thead>\n",
       "    <tr style=\"text-align: right;\">\n",
       "      <th></th>\n",
       "      <th>MELT_TEMP</th>\n",
       "      <th>MOTORSPEED</th>\n",
       "      <th>MELT_WEIGHT</th>\n",
       "      <th>TAG</th>\n",
       "    </tr>\n",
       "    <tr>\n",
       "      <th>STD_DT</th>\n",
       "      <th></th>\n",
       "      <th></th>\n",
       "      <th></th>\n",
       "      <th></th>\n",
       "    </tr>\n",
       "  </thead>\n",
       "  <tbody>\n",
       "    <tr>\n",
       "      <th>2020-03-04 00:00:00</th>\n",
       "      <td>489</td>\n",
       "      <td>116</td>\n",
       "      <td>631</td>\n",
       "      <td>1</td>\n",
       "    </tr>\n",
       "    <tr>\n",
       "      <th>2020-03-04 00:00:00</th>\n",
       "      <td>433</td>\n",
       "      <td>78</td>\n",
       "      <td>609</td>\n",
       "      <td>1</td>\n",
       "    </tr>\n",
       "    <tr>\n",
       "      <th>2020-03-04 00:00:00</th>\n",
       "      <td>464</td>\n",
       "      <td>154</td>\n",
       "      <td>608</td>\n",
       "      <td>1</td>\n",
       "    </tr>\n",
       "    <tr>\n",
       "      <th>2020-03-04 00:00:00</th>\n",
       "      <td>379</td>\n",
       "      <td>212</td>\n",
       "      <td>606</td>\n",
       "      <td>1</td>\n",
       "    </tr>\n",
       "    <tr>\n",
       "      <th>2020-03-04 00:00:00</th>\n",
       "      <td>798</td>\n",
       "      <td>1736</td>\n",
       "      <td>604</td>\n",
       "      <td>1</td>\n",
       "    </tr>\n",
       "    <tr>\n",
       "      <th>...</th>\n",
       "      <td>...</td>\n",
       "      <td>...</td>\n",
       "      <td>...</td>\n",
       "      <td>...</td>\n",
       "    </tr>\n",
       "    <tr>\n",
       "      <th>2020-04-30 23:59:00</th>\n",
       "      <td>755</td>\n",
       "      <td>1743</td>\n",
       "      <td>318</td>\n",
       "      <td>1</td>\n",
       "    </tr>\n",
       "    <tr>\n",
       "      <th>2020-04-30 23:59:00</th>\n",
       "      <td>385</td>\n",
       "      <td>206</td>\n",
       "      <td>317</td>\n",
       "      <td>1</td>\n",
       "    </tr>\n",
       "    <tr>\n",
       "      <th>2020-04-30 23:59:00</th>\n",
       "      <td>465</td>\n",
       "      <td>148</td>\n",
       "      <td>316</td>\n",
       "      <td>1</td>\n",
       "    </tr>\n",
       "    <tr>\n",
       "      <th>2020-04-30 23:59:00</th>\n",
       "      <td>467</td>\n",
       "      <td>0</td>\n",
       "      <td>314</td>\n",
       "      <td>1</td>\n",
       "    </tr>\n",
       "    <tr>\n",
       "      <th>2020-04-30 23:59:00</th>\n",
       "      <td>453</td>\n",
       "      <td>125</td>\n",
       "      <td>312</td>\n",
       "      <td>1</td>\n",
       "    </tr>\n",
       "  </tbody>\n",
       "</table>\n",
       "<p>835200 rows × 4 columns</p>\n",
       "</div>"
      ],
      "text/plain": [
       "                     MELT_TEMP  MOTORSPEED  MELT_WEIGHT  TAG\n",
       "STD_DT                                                      \n",
       "2020-03-04 00:00:00        489         116          631    1\n",
       "2020-03-04 00:00:00        433          78          609    1\n",
       "2020-03-04 00:00:00        464         154          608    1\n",
       "2020-03-04 00:00:00        379         212          606    1\n",
       "2020-03-04 00:00:00        798        1736          604    1\n",
       "...                        ...         ...          ...  ...\n",
       "2020-04-30 23:59:00        755        1743          318    1\n",
       "2020-04-30 23:59:00        385         206          317    1\n",
       "2020-04-30 23:59:00        465         148          316    1\n",
       "2020-04-30 23:59:00        467           0          314    1\n",
       "2020-04-30 23:59:00        453         125          312    1\n",
       "\n",
       "[835200 rows x 4 columns]"
      ]
     },
     "execution_count": 8,
     "metadata": {},
     "output_type": "execute_result"
    }
   ],
   "source": [
    "# df.replace({'TAG': {'OK': 1, 'NG': 0}}, inplace=True)\n",
    "df1 = df[['MELT_TEMP', 'MOTORSPEED', 'MELT_WEIGHT', 'TAG']]\n",
    "df1"
   ]
  },
  {
   "cell_type": "code",
   "execution_count": 9,
   "id": "f426ea0e",
   "metadata": {},
   "outputs": [
    {
     "name": "stdout",
     "output_type": "stream",
     "text": [
      "(584640, 4)\n",
      "(250560, 4)\n"
     ]
    }
   ],
   "source": [
    "split_date = int(df1.shape[0]*0.7)\n",
    "train = df1[:split_date]\n",
    "test = df1[split_date:]\n",
    "print(train.shape)\n",
    "print(test.shape)"
   ]
  },
  {
   "cell_type": "code",
   "execution_count": 10,
   "id": "ec8c4a2c",
   "metadata": {},
   "outputs": [],
   "source": [
    "scaler = preprocessing.MinMaxScaler()\n",
    "\n",
    "train_sc = scaler.fit_transform(train)\n",
    "test_sc = scaler.transform(test)\n",
    "\n",
    "x_train_values = train_sc[:, :-1]\n",
    "y_train_values = train_sc[:,-1]"
   ]
  },
  {
   "cell_type": "code",
   "execution_count": 11,
   "id": "6404350f",
   "metadata": {},
   "outputs": [
    {
     "name": "stdout",
     "output_type": "stream",
     "text": [
      "SMOTE 적용 전 학습용 피처/레이블 데이터 세트 (584640, 3) (584640,)\n",
      "SMOTE 적용 후 학습용 피처/레이블 데이터 세트 (821032, 3) (821032,)\n",
      "SMOTE 적용 후 레이블 값 분포: \n",
      " 1.0    410516\n",
      "0.0    410516\n",
      "dtype: int64\n"
     ]
    }
   ],
   "source": [
    "smote = SMOTE(random_state = 0)\n",
    "\n",
    "X_train_over, y_train_over = smote.fit_resample(x_train_values, y_train_values)\n",
    "print('SMOTE 적용 전 학습용 피처/레이블 데이터 세트', x_train_values.shape, y_train_values.shape)\n",
    "print('SMOTE 적용 후 학습용 피처/레이블 데이터 세트', X_train_over.shape, y_train_over.shape)\n",
    "print('SMOTE 적용 후 레이블 값 분포: \\n', pd.Series(y_train_over).value_counts())"
   ]
  },
  {
   "cell_type": "code",
   "execution_count": 12,
   "id": "f0bef479",
   "metadata": {},
   "outputs": [],
   "source": [
    "def make_dataset(data, label, window_size):\n",
    "    feature_list = []\n",
    "    label_list = []\n",
    "    for i in range(len(data) - window_size):\n",
    "        feature_list.append(np.array(data.iloc[i:i+window_size]))\n",
    "        label_list.append(np.array(label.iloc[i+window_size]))\n",
    "    return np.array(feature_list), np.array(label_list)"
   ]
  },
  {
   "cell_type": "code",
   "execution_count": 13,
   "id": "1691e3a0",
   "metadata": {},
   "outputs": [],
   "source": [
    "X_train_over = pd.DataFrame(X_train_over, columns = ['MELT_TEMP', 'MOTORSPEED', 'MELT_WEIGHT'])\n",
    "y_train_over = pd.DataFrame(y_train_over, columns = ['TAG'])"
   ]
  },
  {
   "cell_type": "code",
   "execution_count": 14,
   "id": "7dbf71ab",
   "metadata": {},
   "outputs": [],
   "source": [
    "#train dataset\n",
    "train_feature, train_label = make_dataset(X_train_over, y_train_over, 10)"
   ]
  },
  {
   "cell_type": "code",
   "execution_count": 15,
   "id": "f9347425",
   "metadata": {},
   "outputs": [],
   "source": [
    "test_sc = pd.DataFrame(test_sc, columns = ['MELT_TEMP', 'MOTORSPEED', 'MELT_WEIGHT','TAG'])"
   ]
  },
  {
   "cell_type": "code",
   "execution_count": 16,
   "id": "becd58c4",
   "metadata": {},
   "outputs": [],
   "source": [
    "feature_cols = ['MELT_TEMP', 'MOTORSPEED', 'MELT_WEIGHT']\n",
    "label_cols = ['TAG']"
   ]
  },
  {
   "cell_type": "code",
   "execution_count": 17,
   "id": "72a3adb0",
   "metadata": {},
   "outputs": [
    {
     "data": {
      "text/plain": [
       "((250550, 10, 3), (250550, 1))"
      ]
     },
     "execution_count": 17,
     "metadata": {},
     "output_type": "execute_result"
    }
   ],
   "source": [
    "test_feature = test_sc[feature_cols]\n",
    "test_label = test_sc[label_cols]\n",
    "\n",
    "# test dataset (실제 예측 해볼 데이터)\n",
    "test_feature, test_label = make_dataset(test_feature, test_label, 10)\n",
    "test_feature.shape, test_label.shape"
   ]
  },
  {
   "cell_type": "code",
   "execution_count": 18,
   "id": "ffc4c8e2",
   "metadata": {},
   "outputs": [
    {
     "data": {
      "text/plain": [
       "((574715, 10, 3), (246307, 10, 3))"
      ]
     },
     "execution_count": 18,
     "metadata": {},
     "output_type": "execute_result"
    }
   ],
   "source": [
    "x_train, x_valid, y_train, y_valid = train_test_split(train_feature, train_label, test_size = 0.3)\n",
    "x_train.shape, x_valid.shape"
   ]
  },
  {
   "cell_type": "code",
   "execution_count": 19,
   "id": "0c645442",
   "metadata": {},
   "outputs": [],
   "source": [
    "import os\n",
    "path = \"C:/Users/islab/Desktop/jihyeon/전자제조시스템\"\n",
    "os.chdir(path)"
   ]
  },
  {
   "cell_type": "code",
   "execution_count": 20,
   "id": "4eaaaab2",
   "metadata": {},
   "outputs": [],
   "source": [
    "model_path = path"
   ]
  },
  {
   "cell_type": "code",
   "execution_count": 22,
   "id": "991ecd4a",
   "metadata": {},
   "outputs": [],
   "source": [
    "from keras.layers import GRU\n",
    "model = Sequential()\n",
    "model.add(LSTM(50, \n",
    "               input_shape = (train_feature.shape[1], train_feature.shape[2]), activation = 'tanh', return_sequences = True))\n",
    "model.add(Dropout(0.3))\n",
    "model.add(GRU(50, return_sequences = False))\n",
    "model.add(Dense(1, activation = 'sigmoid'))"
   ]
  },
  {
   "cell_type": "code",
   "execution_count": 31,
   "id": "08f29221",
   "metadata": {},
   "outputs": [],
   "source": [
    "model.compile(loss = 'binary_crossentropy', optimizer = 'adam', metrics = ['accuracy'])\n",
    "early_stop = EarlyStopping(monitor = 'val_loss', patience = 10)\n",
    "filename = os.path.join(model_path, 'tmp_checkpoint.h5')\n",
    "checkpoint = ModelCheckpoint(filename, monitor = 'val_loss', verbose = 1, save_best_only = True, mode = 'auto')"
   ]
  },
  {
   "cell_type": "code",
   "execution_count": 32,
   "id": "5e4816bf",
   "metadata": {},
   "outputs": [
    {
     "name": "stdout",
     "output_type": "stream",
     "text": [
      "Epoch 1/200\n",
      "57472/57472 [==============================] - ETA: 0s - loss: 0.3366 - accuracy: 0.8139\n",
      "Epoch 1: val_loss improved from inf to 0.33346, saving model to C:/Users/islab/Desktop/jihyeon/전자제조시스템\\tmp_checkpoint.h5\n",
      "57472/57472 [==============================] - 350s 6ms/step - loss: 0.3366 - accuracy: 0.8139 - val_loss: 0.3335 - val_accuracy: 0.8162\n",
      "Epoch 2/200\n",
      "57466/57472 [============================>.] - ETA: 0s - loss: 0.3363 - accuracy: 0.8140\n",
      "Epoch 2: val_loss did not improve from 0.33346\n",
      "57472/57472 [==============================] - 300s 5ms/step - loss: 0.3363 - accuracy: 0.8140 - val_loss: 0.3339 - val_accuracy: 0.8171\n",
      "Epoch 3/200\n",
      "57465/57472 [============================>.] - ETA: 0s - loss: 0.3387 - accuracy: 0.8119\n",
      "Epoch 3: val_loss did not improve from 0.33346\n",
      "57472/57472 [==============================] - 290s 5ms/step - loss: 0.3387 - accuracy: 0.8119 - val_loss: 0.3373 - val_accuracy: 0.8141\n",
      "Epoch 4/200\n",
      "57462/57472 [============================>.] - ETA: 0s - loss: 0.3387 - accuracy: 0.8117\n",
      "Epoch 4: val_loss did not improve from 0.33346\n",
      "57472/57472 [==============================] - 289s 5ms/step - loss: 0.3387 - accuracy: 0.8117 - val_loss: 0.3423 - val_accuracy: 0.8037\n",
      "Epoch 5/200\n",
      "57463/57472 [============================>.] - ETA: 0s - loss: 0.3373 - accuracy: 0.8127\n",
      "Epoch 5: val_loss did not improve from 0.33346\n",
      "57472/57472 [==============================] - 288s 5ms/step - loss: 0.3373 - accuracy: 0.8127 - val_loss: 0.3354 - val_accuracy: 0.8169\n",
      "Epoch 6/200\n",
      "57464/57472 [============================>.] - ETA: 0s - loss: 0.3374 - accuracy: 0.8130\n",
      "Epoch 6: val_loss did not improve from 0.33346\n",
      "57472/57472 [==============================] - 329s 6ms/step - loss: 0.3374 - accuracy: 0.8130 - val_loss: 0.3370 - val_accuracy: 0.8114\n",
      "Epoch 7/200\n",
      "57468/57472 [============================>.] - ETA: 0s - loss: 0.3373 - accuracy: 0.8133\n",
      "Epoch 7: val_loss did not improve from 0.33346\n",
      "57472/57472 [==============================] - 330s 6ms/step - loss: 0.3373 - accuracy: 0.8133 - val_loss: 0.3354 - val_accuracy: 0.8157\n",
      "Epoch 8/200\n",
      "57468/57472 [============================>.] - ETA: 0s - loss: 0.3367 - accuracy: 0.8133\n",
      "Epoch 8: val_loss did not improve from 0.33346\n",
      "57472/57472 [==============================] - 331s 6ms/step - loss: 0.3367 - accuracy: 0.8133 - val_loss: 0.3339 - val_accuracy: 0.8143\n",
      "Epoch 9/200\n",
      "57465/57472 [============================>.] - ETA: 0s - loss: 0.3367 - accuracy: 0.8133\n",
      "Epoch 9: val_loss did not improve from 0.33346\n",
      "57472/57472 [==============================] - 337s 6ms/step - loss: 0.3367 - accuracy: 0.8133 - val_loss: 0.3341 - val_accuracy: 0.8161\n",
      "Epoch 10/200\n",
      "57471/57472 [============================>.] - ETA: 0s - loss: 0.3368 - accuracy: 0.8135\n",
      "Epoch 10: val_loss did not improve from 0.33346\n",
      "57472/57472 [==============================] - 365s 6ms/step - loss: 0.3368 - accuracy: 0.8135 - val_loss: 0.3360 - val_accuracy: 0.8166\n",
      "Epoch 11/200\n",
      "57467/57472 [============================>.] - ETA: 0s - loss: 0.3364 - accuracy: 0.8138\n",
      "Epoch 11: val_loss did not improve from 0.33346\n",
      "57472/57472 [==============================] - 371s 6ms/step - loss: 0.3364 - accuracy: 0.8138 - val_loss: 0.3344 - val_accuracy: 0.8135\n"
     ]
    }
   ],
   "source": [
    "history = model.fit(x_train, y_train, epochs = 200, batch_size = 10, validation_data = (x_valid, y_valid), callbacks = [early_stop, checkpoint])"
   ]
  },
  {
   "cell_type": "code",
   "execution_count": 33,
   "id": "da48da41",
   "metadata": {},
   "outputs": [
    {
     "name": "stdout",
     "output_type": "stream",
     "text": [
      "7830/7830 [==============================] - 18s 2ms/step\n"
     ]
    }
   ],
   "source": [
    "pred = model.predict(test_feature)"
   ]
  },
  {
   "cell_type": "code",
   "execution_count": 34,
   "id": "0ade0f32",
   "metadata": {},
   "outputs": [
    {
     "data": {
      "image/png": "[encoded data removed]",
      "text/plain": [
       "<Figure size 432x288 with 1 Axes>"
      ]
     },
     "metadata": {
      "needs_background": "light"
     },
     "output_type": "display_data"
    }
   ],
   "source": [
    "plt.plot(history.history[\"loss\"],label=\"train\")\n",
    "plt.plot(history.history[\"val_loss\"],label=\"validation\")\n",
    "plt.legend()\n",
    "plt.show()"
   ]
  },
  {
   "cell_type": "code",
   "execution_count": 35,
   "id": "1bfe36ac",
   "metadata": {},
   "outputs": [],
   "source": [
    "pred_df = pd.DataFrame(pred, columns=['TAG'])\n",
    "\n",
    "pred_df['TAG'] = pred_df['TAG'].apply(lambda x: 1 if x>=0.5 else 0)"
   ]
  },
  {
   "cell_type": "code",
   "execution_count": 36,
   "id": "fd832243",
   "metadata": {},
   "outputs": [
    {
     "name": "stdout",
     "output_type": "stream",
     "text": [
      "[[  1259   1681]\n",
      " [ 51999 195611]]\n"
     ]
    }
   ],
   "source": [
    "confusion = confusion_matrix(test_label, pred_df)\n",
    "print(confusion)"
   ]
  },
  {
   "cell_type": "code",
   "execution_count": 37,
   "id": "11ea85f4",
   "metadata": {},
   "outputs": [
    {
     "data": {
      "image/png": "[encoded data removed]",
      "text/plain": [
       "<Figure size 432x288 with 2 Axes>"
      ]
     },
     "metadata": {
      "needs_background": "light"
     },
     "output_type": "display_data"
    }
   ],
   "source": [
    "plot = sns.heatmap(confusion ,square=True, annot=True, fmt='d', cmap='terrain')\n",
    "class_lables=['0','1','2','3']\n",
    "plt.title(\"confusrion\", size = 12)\n",
    "plot.set_xlabel('예측 y값')\n",
    "plot.set_ylabel('실제 y값')\n",
    "# plt.savefig('80% 사후확률_min_{}_수정.png'.format(j), dpi=300, transparent=True, bbox_inches=\"tight\")\n",
    "plt.show()"
   ]
  },
  {
   "cell_type": "code",
   "execution_count": 38,
   "id": "0220f2ba",
   "metadata": {},
   "outputs": [
    {
     "name": "stdout",
     "output_type": "stream",
     "text": [
      "precision : 0.99148\n",
      "recall : 0.79000\n",
      "f1-score : 0.87934\n",
      "accuracy : 0.78575\n"
     ]
    }
   ],
   "source": [
    "p = precision_score(test_label, pred_df)\n",
    "print('precision : %0.5f' %p)\n",
    "r = recall_score(test_label, pred_df)\n",
    "print('recall : %0.5f' %r)\n",
    "f1 = f1_score(test_label, pred_df)\n",
    "print('f1-score : %0.5f' %f1)\n",
    "acc = accuracy_score(test_label, pred_df)\n",
    "print('accuracy : %0.5f' %acc)"
   ]
  },
  {
   "cell_type": "code",
   "execution_count": null,
   "id": "9b2bd3d3",
   "metadata": {},
   "outputs": [],
   "source": []
  }
 ],
 "metadata": {
  "kernelspec": {
   "display_name": "Python 3 (ipykernel)",
   "language": "python",
   "name": "python3"
  },
  "language_info": {
   "codemirror_mode": {
    "name": "ipython",
    "version": 3
   },
   "file_extension": ".py",
   "mimetype": "text/x-python",
   "name": "python",
   "nbconvert_exporter": "python",
   "pygments_lexer": "ipython3",
   "version": "3.9.12"
  }
 },
 "nbformat": 4,
 "nbformat_minor": 5
}
